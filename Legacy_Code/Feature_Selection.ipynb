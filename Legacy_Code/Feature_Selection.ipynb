{
 "cells": [
  {
   "cell_type": "code",
   "execution_count": 1,
   "metadata": {
    "ExecuteTime": {
     "end_time": "2020-06-06T05:32:19.985094Z",
     "start_time": "2020-06-06T05:32:19.329184Z"
    }
   },
   "outputs": [],
   "source": [
    "import pandas as pd\n",
    "import numpy as np\n",
    "import matplotlib.pyplot as plt\n",
    "import seaborn as sns\n",
    "from sklearn.model_selection import train_test_split\n",
    "from sklearn.preprocessing import LabelEncoder, OneHotEncoder"
   ]
  },
  {
   "cell_type": "code",
   "execution_count": 127,
   "metadata": {
    "ExecuteTime": {
     "end_time": "2020-06-06T06:16:41.863883Z",
     "start_time": "2020-06-06T06:16:41.828431Z"
    }
   },
   "outputs": [],
   "source": [
    "df = pd.read_csv('data/train.csv')"
   ]
  },
  {
   "cell_type": "code",
   "execution_count": 128,
   "metadata": {
    "ExecuteTime": {
     "end_time": "2020-06-06T06:16:42.430614Z",
     "start_time": "2020-06-06T06:16:42.411943Z"
    }
   },
   "outputs": [
    {
     "data": {
      "text/html": [
       "<div>\n",
       "<style scoped>\n",
       "    .dataframe tbody tr th:only-of-type {\n",
       "        vertical-align: middle;\n",
       "    }\n",
       "\n",
       "    .dataframe tbody tr th {\n",
       "        vertical-align: top;\n",
       "    }\n",
       "\n",
       "    .dataframe thead th {\n",
       "        text-align: right;\n",
       "    }\n",
       "</style>\n",
       "<table border=\"1\" class=\"dataframe\">\n",
       "  <thead>\n",
       "    <tr style=\"text-align: right;\">\n",
       "      <th></th>\n",
       "      <th>Id</th>\n",
       "      <th>Age</th>\n",
       "      <th>Attrition</th>\n",
       "      <th>BusinessTravel</th>\n",
       "      <th>Department</th>\n",
       "      <th>DistanceFromHome</th>\n",
       "      <th>Education</th>\n",
       "      <th>EducationField</th>\n",
       "      <th>EmployeeNumber</th>\n",
       "      <th>EnvironmentSatisfaction</th>\n",
       "      <th>...</th>\n",
       "      <th>PerformanceRating</th>\n",
       "      <th>StockOptionLevel</th>\n",
       "      <th>TotalWorkingYears</th>\n",
       "      <th>TrainingTimesLastYear</th>\n",
       "      <th>YearsAtCompany</th>\n",
       "      <th>YearsInCurrentRole</th>\n",
       "      <th>YearsSinceLastPromotion</th>\n",
       "      <th>YearsWithCurrManager</th>\n",
       "      <th>CommunicationSkill</th>\n",
       "      <th>Behaviour</th>\n",
       "    </tr>\n",
       "  </thead>\n",
       "  <tbody>\n",
       "    <tr>\n",
       "      <th>0</th>\n",
       "      <td>1</td>\n",
       "      <td>30</td>\n",
       "      <td>0</td>\n",
       "      <td>Non-Travel</td>\n",
       "      <td>Research &amp; Development</td>\n",
       "      <td>2</td>\n",
       "      <td>3</td>\n",
       "      <td>Medical</td>\n",
       "      <td>571</td>\n",
       "      <td>3</td>\n",
       "      <td>...</td>\n",
       "      <td>3</td>\n",
       "      <td>0</td>\n",
       "      <td>12</td>\n",
       "      <td>2</td>\n",
       "      <td>11</td>\n",
       "      <td>7</td>\n",
       "      <td>6</td>\n",
       "      <td>7</td>\n",
       "      <td>4</td>\n",
       "      <td>1</td>\n",
       "    </tr>\n",
       "    <tr>\n",
       "      <th>1</th>\n",
       "      <td>2</td>\n",
       "      <td>36</td>\n",
       "      <td>0</td>\n",
       "      <td>Travel_Rarely</td>\n",
       "      <td>Research &amp; Development</td>\n",
       "      <td>12</td>\n",
       "      <td>4</td>\n",
       "      <td>Life Sciences</td>\n",
       "      <td>1614</td>\n",
       "      <td>3</td>\n",
       "      <td>...</td>\n",
       "      <td>3</td>\n",
       "      <td>2</td>\n",
       "      <td>7</td>\n",
       "      <td>2</td>\n",
       "      <td>3</td>\n",
       "      <td>2</td>\n",
       "      <td>1</td>\n",
       "      <td>1</td>\n",
       "      <td>2</td>\n",
       "      <td>1</td>\n",
       "    </tr>\n",
       "    <tr>\n",
       "      <th>2</th>\n",
       "      <td>3</td>\n",
       "      <td>55</td>\n",
       "      <td>1</td>\n",
       "      <td>Travel_Rarely</td>\n",
       "      <td>Sales</td>\n",
       "      <td>2</td>\n",
       "      <td>1</td>\n",
       "      <td>Medical</td>\n",
       "      <td>842</td>\n",
       "      <td>3</td>\n",
       "      <td>...</td>\n",
       "      <td>3</td>\n",
       "      <td>0</td>\n",
       "      <td>12</td>\n",
       "      <td>3</td>\n",
       "      <td>9</td>\n",
       "      <td>7</td>\n",
       "      <td>7</td>\n",
       "      <td>3</td>\n",
       "      <td>5</td>\n",
       "      <td>1</td>\n",
       "    </tr>\n",
       "    <tr>\n",
       "      <th>3</th>\n",
       "      <td>4</td>\n",
       "      <td>39</td>\n",
       "      <td>0</td>\n",
       "      <td>Travel_Rarely</td>\n",
       "      <td>Research &amp; Development</td>\n",
       "      <td>24</td>\n",
       "      <td>1</td>\n",
       "      <td>Life Sciences</td>\n",
       "      <td>2014</td>\n",
       "      <td>1</td>\n",
       "      <td>...</td>\n",
       "      <td>3</td>\n",
       "      <td>0</td>\n",
       "      <td>18</td>\n",
       "      <td>2</td>\n",
       "      <td>7</td>\n",
       "      <td>7</td>\n",
       "      <td>1</td>\n",
       "      <td>7</td>\n",
       "      <td>4</td>\n",
       "      <td>1</td>\n",
       "    </tr>\n",
       "    <tr>\n",
       "      <th>4</th>\n",
       "      <td>5</td>\n",
       "      <td>37</td>\n",
       "      <td>0</td>\n",
       "      <td>Travel_Rarely</td>\n",
       "      <td>Research &amp; Development</td>\n",
       "      <td>3</td>\n",
       "      <td>3</td>\n",
       "      <td>Other</td>\n",
       "      <td>689</td>\n",
       "      <td>3</td>\n",
       "      <td>...</td>\n",
       "      <td>3</td>\n",
       "      <td>1</td>\n",
       "      <td>10</td>\n",
       "      <td>2</td>\n",
       "      <td>10</td>\n",
       "      <td>7</td>\n",
       "      <td>7</td>\n",
       "      <td>8</td>\n",
       "      <td>1</td>\n",
       "      <td>1</td>\n",
       "    </tr>\n",
       "  </tbody>\n",
       "</table>\n",
       "<p>5 rows × 29 columns</p>\n",
       "</div>"
      ],
      "text/plain": [
       "   Id  Age  Attrition BusinessTravel              Department  \\\n",
       "0   1   30          0     Non-Travel  Research & Development   \n",
       "1   2   36          0  Travel_Rarely  Research & Development   \n",
       "2   3   55          1  Travel_Rarely                   Sales   \n",
       "3   4   39          0  Travel_Rarely  Research & Development   \n",
       "4   5   37          0  Travel_Rarely  Research & Development   \n",
       "\n",
       "   DistanceFromHome  Education EducationField  EmployeeNumber  \\\n",
       "0                 2          3        Medical             571   \n",
       "1                12          4  Life Sciences            1614   \n",
       "2                 2          1        Medical             842   \n",
       "3                24          1  Life Sciences            2014   \n",
       "4                 3          3          Other             689   \n",
       "\n",
       "   EnvironmentSatisfaction  ... PerformanceRating  StockOptionLevel  \\\n",
       "0                        3  ...                 3                 0   \n",
       "1                        3  ...                 3                 2   \n",
       "2                        3  ...                 3                 0   \n",
       "3                        1  ...                 3                 0   \n",
       "4                        3  ...                 3                 1   \n",
       "\n",
       "  TotalWorkingYears  TrainingTimesLastYear YearsAtCompany  YearsInCurrentRole  \\\n",
       "0                12                      2             11                   7   \n",
       "1                 7                      2              3                   2   \n",
       "2                12                      3              9                   7   \n",
       "3                18                      2              7                   7   \n",
       "4                10                      2             10                   7   \n",
       "\n",
       "   YearsSinceLastPromotion YearsWithCurrManager  CommunicationSkill  Behaviour  \n",
       "0                        6                    7                   4          1  \n",
       "1                        1                    1                   2          1  \n",
       "2                        7                    3                   5          1  \n",
       "3                        1                    7                   4          1  \n",
       "4                        7                    8                   1          1  \n",
       "\n",
       "[5 rows x 29 columns]"
      ]
     },
     "execution_count": 128,
     "metadata": {},
     "output_type": "execute_result"
    }
   ],
   "source": [
    "df.head()"
   ]
  },
  {
   "cell_type": "code",
   "execution_count": 129,
   "metadata": {
    "ExecuteTime": {
     "end_time": "2020-06-06T06:16:43.159115Z",
     "start_time": "2020-06-06T06:16:43.145723Z"
    }
   },
   "outputs": [
    {
     "data": {
      "text/plain": [
       "(1628, 29)"
      ]
     },
     "execution_count": 129,
     "metadata": {},
     "output_type": "execute_result"
    }
   ],
   "source": [
    "df.shape"
   ]
  },
  {
   "cell_type": "markdown",
   "metadata": {},
   "source": [
    "### Without Feature Engineering"
   ]
  },
  {
   "cell_type": "code",
   "execution_count": 5,
   "metadata": {
    "ExecuteTime": {
     "end_time": "2020-05-31T05:35:17.979783Z",
     "start_time": "2020-05-31T05:35:17.973549Z"
    }
   },
   "outputs": [],
   "source": [
    "cols_to_drop = ['Id','Behaviour','Gender','MaritalStatus','Education', 'Department','PerformanceRating']"
   ]
  },
  {
   "cell_type": "markdown",
   "metadata": {},
   "source": [
    "### With Feature Engineering"
   ]
  },
  {
   "cell_type": "code",
   "execution_count": 130,
   "metadata": {
    "ExecuteTime": {
     "end_time": "2020-06-06T06:16:46.144519Z",
     "start_time": "2020-06-06T06:16:46.116580Z"
    }
   },
   "outputs": [
    {
     "data": {
      "text/plain": [
       "21"
      ]
     },
     "execution_count": 130,
     "metadata": {},
     "output_type": "execute_result"
    }
   ],
   "source": [
    "df['YearsToCompanies'] = pd.cut((df.TotalWorkingYears / (df.NumCompaniesWorked+1)),[-1,2,4,6,8,np.inf], labels=[1,2,3,4,5]).astype('int64')\n",
    "df['PropCurrMgrCompYears'] = df.YearsWithCurrManager / (df.YearsAtCompany+1)\n",
    "df['PropAgeCompYears'] = pd.qcut((df.YearsAtCompany) / (df.Age+1), 5, duplicates='drop', labels=[1,2,3,4,5]).astype('int64')\n",
    "df['PropTrainCompYears'] = pd.qcut(df.TrainingTimesLastYear / (df.YearsAtCompany+1),4, labels=[1,2,3,4]).astype('int64')\n",
    "df['PropCurrRoleCompYears'] = df.YearsInCurrentRole / (df.YearsAtCompany+1)\n",
    "\n",
    "cols_to_drop = ['Id',\n",
    "                'Behaviour', \n",
    "                'Gender',\n",
    "                'MaritalStatus', \n",
    "                'Education', \n",
    "                'PerformanceRating',\n",
    "                'Department',\n",
    "                'MonthlyIncome',\n",
    "                'YearsAtCompany',\n",
    "                'TrainingTimesLastYear', \n",
    "                'YearsInCurrentRole', \n",
    "                'YearsSinceLastPromotion', \n",
    "                'YearsWithCurrManager']\n",
    "df_cleaned = df.drop(cols_to_drop, axis=1)\n",
    "len(df_cleaned.columns)"
   ]
  },
  {
   "cell_type": "code",
   "execution_count": 131,
   "metadata": {
    "ExecuteTime": {
     "end_time": "2020-06-06T06:16:51.714338Z",
     "start_time": "2020-06-06T06:16:51.684671Z"
    }
   },
   "outputs": [
    {
     "data": {
      "text/html": [
       "<div>\n",
       "<style scoped>\n",
       "    .dataframe tbody tr th:only-of-type {\n",
       "        vertical-align: middle;\n",
       "    }\n",
       "\n",
       "    .dataframe tbody tr th {\n",
       "        vertical-align: top;\n",
       "    }\n",
       "\n",
       "    .dataframe thead th {\n",
       "        text-align: right;\n",
       "    }\n",
       "</style>\n",
       "<table border=\"1\" class=\"dataframe\">\n",
       "  <thead>\n",
       "    <tr style=\"text-align: right;\">\n",
       "      <th></th>\n",
       "      <th>Age</th>\n",
       "      <th>Attrition</th>\n",
       "      <th>BusinessTravel</th>\n",
       "      <th>DistanceFromHome</th>\n",
       "      <th>EducationField</th>\n",
       "      <th>EmployeeNumber</th>\n",
       "      <th>EnvironmentSatisfaction</th>\n",
       "      <th>JobInvolvement</th>\n",
       "      <th>JobRole</th>\n",
       "      <th>JobSatisfaction</th>\n",
       "      <th>...</th>\n",
       "      <th>OverTime</th>\n",
       "      <th>PercentSalaryHike</th>\n",
       "      <th>StockOptionLevel</th>\n",
       "      <th>TotalWorkingYears</th>\n",
       "      <th>CommunicationSkill</th>\n",
       "      <th>YearsToCompanies</th>\n",
       "      <th>PropCurrMgrCompYears</th>\n",
       "      <th>PropAgeCompYears</th>\n",
       "      <th>PropTrainCompYears</th>\n",
       "      <th>PropCurrRoleCompYears</th>\n",
       "    </tr>\n",
       "  </thead>\n",
       "  <tbody>\n",
       "    <tr>\n",
       "      <th>0</th>\n",
       "      <td>30</td>\n",
       "      <td>0</td>\n",
       "      <td>Non-Travel</td>\n",
       "      <td>2</td>\n",
       "      <td>Medical</td>\n",
       "      <td>571</td>\n",
       "      <td>3</td>\n",
       "      <td>3</td>\n",
       "      <td>Laboratory Technician</td>\n",
       "      <td>4</td>\n",
       "      <td>...</td>\n",
       "      <td>No</td>\n",
       "      <td>14</td>\n",
       "      <td>0</td>\n",
       "      <td>12</td>\n",
       "      <td>4</td>\n",
       "      <td>5</td>\n",
       "      <td>0.583333</td>\n",
       "      <td>5</td>\n",
       "      <td>1</td>\n",
       "      <td>0.583333</td>\n",
       "    </tr>\n",
       "    <tr>\n",
       "      <th>1</th>\n",
       "      <td>36</td>\n",
       "      <td>0</td>\n",
       "      <td>Travel_Rarely</td>\n",
       "      <td>12</td>\n",
       "      <td>Life Sciences</td>\n",
       "      <td>1614</td>\n",
       "      <td>3</td>\n",
       "      <td>3</td>\n",
       "      <td>Manufacturing Director</td>\n",
       "      <td>3</td>\n",
       "      <td>...</td>\n",
       "      <td>Yes</td>\n",
       "      <td>12</td>\n",
       "      <td>2</td>\n",
       "      <td>7</td>\n",
       "      <td>2</td>\n",
       "      <td>1</td>\n",
       "      <td>0.250000</td>\n",
       "      <td>2</td>\n",
       "      <td>2</td>\n",
       "      <td>0.500000</td>\n",
       "    </tr>\n",
       "    <tr>\n",
       "      <th>2</th>\n",
       "      <td>55</td>\n",
       "      <td>1</td>\n",
       "      <td>Travel_Rarely</td>\n",
       "      <td>2</td>\n",
       "      <td>Medical</td>\n",
       "      <td>842</td>\n",
       "      <td>3</td>\n",
       "      <td>3</td>\n",
       "      <td>Sales Executive</td>\n",
       "      <td>4</td>\n",
       "      <td>...</td>\n",
       "      <td>No</td>\n",
       "      <td>16</td>\n",
       "      <td>0</td>\n",
       "      <td>12</td>\n",
       "      <td>5</td>\n",
       "      <td>2</td>\n",
       "      <td>0.300000</td>\n",
       "      <td>4</td>\n",
       "      <td>2</td>\n",
       "      <td>0.700000</td>\n",
       "    </tr>\n",
       "    <tr>\n",
       "      <th>3</th>\n",
       "      <td>39</td>\n",
       "      <td>0</td>\n",
       "      <td>Travel_Rarely</td>\n",
       "      <td>24</td>\n",
       "      <td>Life Sciences</td>\n",
       "      <td>2014</td>\n",
       "      <td>1</td>\n",
       "      <td>3</td>\n",
       "      <td>Research Scientist</td>\n",
       "      <td>4</td>\n",
       "      <td>...</td>\n",
       "      <td>No</td>\n",
       "      <td>13</td>\n",
       "      <td>0</td>\n",
       "      <td>18</td>\n",
       "      <td>4</td>\n",
       "      <td>2</td>\n",
       "      <td>0.875000</td>\n",
       "      <td>4</td>\n",
       "      <td>1</td>\n",
       "      <td>0.875000</td>\n",
       "    </tr>\n",
       "    <tr>\n",
       "      <th>4</th>\n",
       "      <td>37</td>\n",
       "      <td>0</td>\n",
       "      <td>Travel_Rarely</td>\n",
       "      <td>3</td>\n",
       "      <td>Other</td>\n",
       "      <td>689</td>\n",
       "      <td>3</td>\n",
       "      <td>3</td>\n",
       "      <td>Manufacturing Director</td>\n",
       "      <td>3</td>\n",
       "      <td>...</td>\n",
       "      <td>No</td>\n",
       "      <td>15</td>\n",
       "      <td>1</td>\n",
       "      <td>10</td>\n",
       "      <td>1</td>\n",
       "      <td>3</td>\n",
       "      <td>0.727273</td>\n",
       "      <td>4</td>\n",
       "      <td>1</td>\n",
       "      <td>0.636364</td>\n",
       "    </tr>\n",
       "  </tbody>\n",
       "</table>\n",
       "<p>5 rows × 21 columns</p>\n",
       "</div>"
      ],
      "text/plain": [
       "   Age  Attrition BusinessTravel  DistanceFromHome EducationField  \\\n",
       "0   30          0     Non-Travel                 2        Medical   \n",
       "1   36          0  Travel_Rarely                12  Life Sciences   \n",
       "2   55          1  Travel_Rarely                 2        Medical   \n",
       "3   39          0  Travel_Rarely                24  Life Sciences   \n",
       "4   37          0  Travel_Rarely                 3          Other   \n",
       "\n",
       "   EmployeeNumber  EnvironmentSatisfaction  JobInvolvement  \\\n",
       "0             571                        3               3   \n",
       "1            1614                        3               3   \n",
       "2             842                        3               3   \n",
       "3            2014                        1               3   \n",
       "4             689                        3               3   \n",
       "\n",
       "                  JobRole  JobSatisfaction  ...  OverTime PercentSalaryHike  \\\n",
       "0   Laboratory Technician                4  ...        No                14   \n",
       "1  Manufacturing Director                3  ...       Yes                12   \n",
       "2         Sales Executive                4  ...        No                16   \n",
       "3      Research Scientist                4  ...        No                13   \n",
       "4  Manufacturing Director                3  ...        No                15   \n",
       "\n",
       "   StockOptionLevel  TotalWorkingYears  CommunicationSkill  YearsToCompanies  \\\n",
       "0                 0                 12                   4                 5   \n",
       "1                 2                  7                   2                 1   \n",
       "2                 0                 12                   5                 2   \n",
       "3                 0                 18                   4                 2   \n",
       "4                 1                 10                   1                 3   \n",
       "\n",
       "   PropCurrMgrCompYears  PropAgeCompYears  PropTrainCompYears  \\\n",
       "0              0.583333                 5                   1   \n",
       "1              0.250000                 2                   2   \n",
       "2              0.300000                 4                   2   \n",
       "3              0.875000                 4                   1   \n",
       "4              0.727273                 4                   1   \n",
       "\n",
       "   PropCurrRoleCompYears  \n",
       "0               0.583333  \n",
       "1               0.500000  \n",
       "2               0.700000  \n",
       "3               0.875000  \n",
       "4               0.636364  \n",
       "\n",
       "[5 rows x 21 columns]"
      ]
     },
     "execution_count": 131,
     "metadata": {},
     "output_type": "execute_result"
    }
   ],
   "source": [
    "df_reduced = df.drop(cols_to_drop, axis=1)\n",
    "df_reduced.drop_duplicates(inplace=True)\n",
    "df_reduced.head()"
   ]
  },
  {
   "cell_type": "code",
   "execution_count": 132,
   "metadata": {
    "ExecuteTime": {
     "end_time": "2020-06-06T06:16:53.741022Z",
     "start_time": "2020-06-06T06:16:53.731454Z"
    }
   },
   "outputs": [
    {
     "data": {
      "text/plain": [
       "Index(['Age', 'Attrition', 'BusinessTravel', 'DistanceFromHome',\n",
       "       'EducationField', 'EmployeeNumber', 'EnvironmentSatisfaction',\n",
       "       'JobInvolvement', 'JobRole', 'JobSatisfaction', 'NumCompaniesWorked',\n",
       "       'OverTime', 'PercentSalaryHike', 'StockOptionLevel',\n",
       "       'TotalWorkingYears', 'CommunicationSkill', 'YearsToCompanies',\n",
       "       'PropCurrMgrCompYears', 'PropAgeCompYears', 'PropTrainCompYears',\n",
       "       'PropCurrRoleCompYears'],\n",
       "      dtype='object')"
      ]
     },
     "execution_count": 132,
     "metadata": {},
     "output_type": "execute_result"
    }
   ],
   "source": [
    "df_reduced.columns"
   ]
  },
  {
   "cell_type": "code",
   "execution_count": 133,
   "metadata": {
    "ExecuteTime": {
     "end_time": "2020-06-06T06:16:55.726287Z",
     "start_time": "2020-06-06T06:16:55.717977Z"
    }
   },
   "outputs": [
    {
     "data": {
      "text/plain": [
       "['BusinessTravel', 'EducationField', 'JobRole', 'OverTime']"
      ]
     },
     "execution_count": 133,
     "metadata": {},
     "output_type": "execute_result"
    }
   ],
   "source": [
    "obj_cols = df_reduced.select_dtypes(include=['object']).columns.tolist()\n",
    "obj_cols"
   ]
  },
  {
   "cell_type": "code",
   "execution_count": 134,
   "metadata": {
    "ExecuteTime": {
     "end_time": "2020-06-06T06:16:56.248854Z",
     "start_time": "2020-06-06T06:16:56.242077Z"
    }
   },
   "outputs": [],
   "source": [
    "y = df_reduced.loc[:,['Attrition']].values.ravel()\n",
    "df_train = df_reduced.drop(['Attrition'],axis=1)"
   ]
  },
  {
   "cell_type": "code",
   "execution_count": 135,
   "metadata": {
    "ExecuteTime": {
     "end_time": "2020-06-06T06:16:56.847461Z",
     "start_time": "2020-06-06T06:16:56.819669Z"
    }
   },
   "outputs": [
    {
     "data": {
      "text/html": [
       "<div>\n",
       "<style scoped>\n",
       "    .dataframe tbody tr th:only-of-type {\n",
       "        vertical-align: middle;\n",
       "    }\n",
       "\n",
       "    .dataframe tbody tr th {\n",
       "        vertical-align: top;\n",
       "    }\n",
       "\n",
       "    .dataframe thead th {\n",
       "        text-align: right;\n",
       "    }\n",
       "</style>\n",
       "<table border=\"1\" class=\"dataframe\">\n",
       "  <thead>\n",
       "    <tr style=\"text-align: right;\">\n",
       "      <th></th>\n",
       "      <th>Age</th>\n",
       "      <th>DistanceFromHome</th>\n",
       "      <th>EmployeeNumber</th>\n",
       "      <th>EnvironmentSatisfaction</th>\n",
       "      <th>JobInvolvement</th>\n",
       "      <th>JobSatisfaction</th>\n",
       "      <th>NumCompaniesWorked</th>\n",
       "      <th>PercentSalaryHike</th>\n",
       "      <th>StockOptionLevel</th>\n",
       "      <th>TotalWorkingYears</th>\n",
       "      <th>...</th>\n",
       "      <th>EducationField_Technical Degree</th>\n",
       "      <th>JobRole_Human Resources</th>\n",
       "      <th>JobRole_Laboratory Technician</th>\n",
       "      <th>JobRole_Manager</th>\n",
       "      <th>JobRole_Manufacturing Director</th>\n",
       "      <th>JobRole_Research Director</th>\n",
       "      <th>JobRole_Research Scientist</th>\n",
       "      <th>JobRole_Sales Executive</th>\n",
       "      <th>JobRole_Sales Representative</th>\n",
       "      <th>OverTime_Yes</th>\n",
       "    </tr>\n",
       "  </thead>\n",
       "  <tbody>\n",
       "    <tr>\n",
       "      <th>0</th>\n",
       "      <td>30</td>\n",
       "      <td>2</td>\n",
       "      <td>571</td>\n",
       "      <td>3</td>\n",
       "      <td>3</td>\n",
       "      <td>4</td>\n",
       "      <td>0</td>\n",
       "      <td>14</td>\n",
       "      <td>0</td>\n",
       "      <td>12</td>\n",
       "      <td>...</td>\n",
       "      <td>0</td>\n",
       "      <td>0</td>\n",
       "      <td>1</td>\n",
       "      <td>0</td>\n",
       "      <td>0</td>\n",
       "      <td>0</td>\n",
       "      <td>0</td>\n",
       "      <td>0</td>\n",
       "      <td>0</td>\n",
       "      <td>0</td>\n",
       "    </tr>\n",
       "    <tr>\n",
       "      <th>1</th>\n",
       "      <td>36</td>\n",
       "      <td>12</td>\n",
       "      <td>1614</td>\n",
       "      <td>3</td>\n",
       "      <td>3</td>\n",
       "      <td>3</td>\n",
       "      <td>9</td>\n",
       "      <td>12</td>\n",
       "      <td>2</td>\n",
       "      <td>7</td>\n",
       "      <td>...</td>\n",
       "      <td>0</td>\n",
       "      <td>0</td>\n",
       "      <td>0</td>\n",
       "      <td>0</td>\n",
       "      <td>1</td>\n",
       "      <td>0</td>\n",
       "      <td>0</td>\n",
       "      <td>0</td>\n",
       "      <td>0</td>\n",
       "      <td>1</td>\n",
       "    </tr>\n",
       "    <tr>\n",
       "      <th>2</th>\n",
       "      <td>55</td>\n",
       "      <td>2</td>\n",
       "      <td>842</td>\n",
       "      <td>3</td>\n",
       "      <td>3</td>\n",
       "      <td>4</td>\n",
       "      <td>4</td>\n",
       "      <td>16</td>\n",
       "      <td>0</td>\n",
       "      <td>12</td>\n",
       "      <td>...</td>\n",
       "      <td>0</td>\n",
       "      <td>0</td>\n",
       "      <td>0</td>\n",
       "      <td>0</td>\n",
       "      <td>0</td>\n",
       "      <td>0</td>\n",
       "      <td>0</td>\n",
       "      <td>1</td>\n",
       "      <td>0</td>\n",
       "      <td>0</td>\n",
       "    </tr>\n",
       "    <tr>\n",
       "      <th>3</th>\n",
       "      <td>39</td>\n",
       "      <td>24</td>\n",
       "      <td>2014</td>\n",
       "      <td>1</td>\n",
       "      <td>3</td>\n",
       "      <td>4</td>\n",
       "      <td>7</td>\n",
       "      <td>13</td>\n",
       "      <td>0</td>\n",
       "      <td>18</td>\n",
       "      <td>...</td>\n",
       "      <td>0</td>\n",
       "      <td>0</td>\n",
       "      <td>0</td>\n",
       "      <td>0</td>\n",
       "      <td>0</td>\n",
       "      <td>0</td>\n",
       "      <td>1</td>\n",
       "      <td>0</td>\n",
       "      <td>0</td>\n",
       "      <td>0</td>\n",
       "    </tr>\n",
       "    <tr>\n",
       "      <th>4</th>\n",
       "      <td>37</td>\n",
       "      <td>3</td>\n",
       "      <td>689</td>\n",
       "      <td>3</td>\n",
       "      <td>3</td>\n",
       "      <td>3</td>\n",
       "      <td>1</td>\n",
       "      <td>15</td>\n",
       "      <td>1</td>\n",
       "      <td>10</td>\n",
       "      <td>...</td>\n",
       "      <td>0</td>\n",
       "      <td>0</td>\n",
       "      <td>0</td>\n",
       "      <td>0</td>\n",
       "      <td>1</td>\n",
       "      <td>0</td>\n",
       "      <td>0</td>\n",
       "      <td>0</td>\n",
       "      <td>0</td>\n",
       "      <td>0</td>\n",
       "    </tr>\n",
       "    <tr>\n",
       "      <th>...</th>\n",
       "      <td>...</td>\n",
       "      <td>...</td>\n",
       "      <td>...</td>\n",
       "      <td>...</td>\n",
       "      <td>...</td>\n",
       "      <td>...</td>\n",
       "      <td>...</td>\n",
       "      <td>...</td>\n",
       "      <td>...</td>\n",
       "      <td>...</td>\n",
       "      <td>...</td>\n",
       "      <td>...</td>\n",
       "      <td>...</td>\n",
       "      <td>...</td>\n",
       "      <td>...</td>\n",
       "      <td>...</td>\n",
       "      <td>...</td>\n",
       "      <td>...</td>\n",
       "      <td>...</td>\n",
       "      <td>...</td>\n",
       "      <td>...</td>\n",
       "    </tr>\n",
       "    <tr>\n",
       "      <th>995</th>\n",
       "      <td>36</td>\n",
       "      <td>10</td>\n",
       "      <td>592</td>\n",
       "      <td>2</td>\n",
       "      <td>3</td>\n",
       "      <td>4</td>\n",
       "      <td>1</td>\n",
       "      <td>14</td>\n",
       "      <td>0</td>\n",
       "      <td>10</td>\n",
       "      <td>...</td>\n",
       "      <td>0</td>\n",
       "      <td>0</td>\n",
       "      <td>0</td>\n",
       "      <td>0</td>\n",
       "      <td>0</td>\n",
       "      <td>0</td>\n",
       "      <td>0</td>\n",
       "      <td>1</td>\n",
       "      <td>0</td>\n",
       "      <td>0</td>\n",
       "    </tr>\n",
       "    <tr>\n",
       "      <th>996</th>\n",
       "      <td>40</td>\n",
       "      <td>16</td>\n",
       "      <td>1641</td>\n",
       "      <td>3</td>\n",
       "      <td>3</td>\n",
       "      <td>4</td>\n",
       "      <td>6</td>\n",
       "      <td>15</td>\n",
       "      <td>0</td>\n",
       "      <td>18</td>\n",
       "      <td>...</td>\n",
       "      <td>0</td>\n",
       "      <td>0</td>\n",
       "      <td>0</td>\n",
       "      <td>0</td>\n",
       "      <td>1</td>\n",
       "      <td>0</td>\n",
       "      <td>0</td>\n",
       "      <td>0</td>\n",
       "      <td>0</td>\n",
       "      <td>1</td>\n",
       "    </tr>\n",
       "    <tr>\n",
       "      <th>997</th>\n",
       "      <td>46</td>\n",
       "      <td>9</td>\n",
       "      <td>118</td>\n",
       "      <td>3</td>\n",
       "      <td>2</td>\n",
       "      <td>4</td>\n",
       "      <td>1</td>\n",
       "      <td>16</td>\n",
       "      <td>0</td>\n",
       "      <td>9</td>\n",
       "      <td>...</td>\n",
       "      <td>0</td>\n",
       "      <td>0</td>\n",
       "      <td>0</td>\n",
       "      <td>0</td>\n",
       "      <td>0</td>\n",
       "      <td>0</td>\n",
       "      <td>0</td>\n",
       "      <td>1</td>\n",
       "      <td>0</td>\n",
       "      <td>0</td>\n",
       "    </tr>\n",
       "    <tr>\n",
       "      <th>998</th>\n",
       "      <td>30</td>\n",
       "      <td>2</td>\n",
       "      <td>833</td>\n",
       "      <td>3</td>\n",
       "      <td>2</td>\n",
       "      <td>4</td>\n",
       "      <td>5</td>\n",
       "      <td>24</td>\n",
       "      <td>0</td>\n",
       "      <td>12</td>\n",
       "      <td>...</td>\n",
       "      <td>0</td>\n",
       "      <td>0</td>\n",
       "      <td>0</td>\n",
       "      <td>0</td>\n",
       "      <td>1</td>\n",
       "      <td>0</td>\n",
       "      <td>0</td>\n",
       "      <td>0</td>\n",
       "      <td>0</td>\n",
       "      <td>1</td>\n",
       "    </tr>\n",
       "    <tr>\n",
       "      <th>999</th>\n",
       "      <td>53</td>\n",
       "      <td>2</td>\n",
       "      <td>1050</td>\n",
       "      <td>3</td>\n",
       "      <td>2</td>\n",
       "      <td>2</td>\n",
       "      <td>2</td>\n",
       "      <td>12</td>\n",
       "      <td>1</td>\n",
       "      <td>30</td>\n",
       "      <td>...</td>\n",
       "      <td>0</td>\n",
       "      <td>0</td>\n",
       "      <td>0</td>\n",
       "      <td>0</td>\n",
       "      <td>0</td>\n",
       "      <td>0</td>\n",
       "      <td>0</td>\n",
       "      <td>1</td>\n",
       "      <td>0</td>\n",
       "      <td>0</td>\n",
       "    </tr>\n",
       "  </tbody>\n",
       "</table>\n",
       "<p>1000 rows × 32 columns</p>\n",
       "</div>"
      ],
      "text/plain": [
       "     Age  DistanceFromHome  EmployeeNumber  EnvironmentSatisfaction  \\\n",
       "0     30                 2             571                        3   \n",
       "1     36                12            1614                        3   \n",
       "2     55                 2             842                        3   \n",
       "3     39                24            2014                        1   \n",
       "4     37                 3             689                        3   \n",
       "..   ...               ...             ...                      ...   \n",
       "995   36                10             592                        2   \n",
       "996   40                16            1641                        3   \n",
       "997   46                 9             118                        3   \n",
       "998   30                 2             833                        3   \n",
       "999   53                 2            1050                        3   \n",
       "\n",
       "     JobInvolvement  JobSatisfaction  NumCompaniesWorked  PercentSalaryHike  \\\n",
       "0                 3                4                   0                 14   \n",
       "1                 3                3                   9                 12   \n",
       "2                 3                4                   4                 16   \n",
       "3                 3                4                   7                 13   \n",
       "4                 3                3                   1                 15   \n",
       "..              ...              ...                 ...                ...   \n",
       "995               3                4                   1                 14   \n",
       "996               3                4                   6                 15   \n",
       "997               2                4                   1                 16   \n",
       "998               2                4                   5                 24   \n",
       "999               2                2                   2                 12   \n",
       "\n",
       "     StockOptionLevel  TotalWorkingYears  ...  \\\n",
       "0                   0                 12  ...   \n",
       "1                   2                  7  ...   \n",
       "2                   0                 12  ...   \n",
       "3                   0                 18  ...   \n",
       "4                   1                 10  ...   \n",
       "..                ...                ...  ...   \n",
       "995                 0                 10  ...   \n",
       "996                 0                 18  ...   \n",
       "997                 0                  9  ...   \n",
       "998                 0                 12  ...   \n",
       "999                 1                 30  ...   \n",
       "\n",
       "     EducationField_Technical Degree  JobRole_Human Resources  \\\n",
       "0                                  0                        0   \n",
       "1                                  0                        0   \n",
       "2                                  0                        0   \n",
       "3                                  0                        0   \n",
       "4                                  0                        0   \n",
       "..                               ...                      ...   \n",
       "995                                0                        0   \n",
       "996                                0                        0   \n",
       "997                                0                        0   \n",
       "998                                0                        0   \n",
       "999                                0                        0   \n",
       "\n",
       "     JobRole_Laboratory Technician  JobRole_Manager  \\\n",
       "0                                1                0   \n",
       "1                                0                0   \n",
       "2                                0                0   \n",
       "3                                0                0   \n",
       "4                                0                0   \n",
       "..                             ...              ...   \n",
       "995                              0                0   \n",
       "996                              0                0   \n",
       "997                              0                0   \n",
       "998                              0                0   \n",
       "999                              0                0   \n",
       "\n",
       "     JobRole_Manufacturing Director  JobRole_Research Director  \\\n",
       "0                                 0                          0   \n",
       "1                                 1                          0   \n",
       "2                                 0                          0   \n",
       "3                                 0                          0   \n",
       "4                                 1                          0   \n",
       "..                              ...                        ...   \n",
       "995                               0                          0   \n",
       "996                               1                          0   \n",
       "997                               0                          0   \n",
       "998                               1                          0   \n",
       "999                               0                          0   \n",
       "\n",
       "     JobRole_Research Scientist  JobRole_Sales Executive  \\\n",
       "0                             0                        0   \n",
       "1                             0                        0   \n",
       "2                             0                        1   \n",
       "3                             1                        0   \n",
       "4                             0                        0   \n",
       "..                          ...                      ...   \n",
       "995                           0                        1   \n",
       "996                           0                        0   \n",
       "997                           0                        1   \n",
       "998                           0                        0   \n",
       "999                           0                        1   \n",
       "\n",
       "     JobRole_Sales Representative  OverTime_Yes  \n",
       "0                               0             0  \n",
       "1                               0             1  \n",
       "2                               0             0  \n",
       "3                               0             0  \n",
       "4                               0             0  \n",
       "..                            ...           ...  \n",
       "995                             0             0  \n",
       "996                             0             1  \n",
       "997                             0             0  \n",
       "998                             0             1  \n",
       "999                             0             0  \n",
       "\n",
       "[1000 rows x 32 columns]"
      ]
     },
     "execution_count": 135,
     "metadata": {},
     "output_type": "execute_result"
    }
   ],
   "source": [
    "df_onehot = pd.get_dummies(df_train, drop_first=True, columns=obj_cols)\n",
    "df_onehot"
   ]
  },
  {
   "cell_type": "code",
   "execution_count": 136,
   "metadata": {
    "ExecuteTime": {
     "end_time": "2020-06-06T06:16:58.326175Z",
     "start_time": "2020-06-06T06:16:58.316378Z"
    }
   },
   "outputs": [],
   "source": [
    "from sklearn.preprocessing import StandardScaler\n",
    "sc = StandardScaler()\n",
    "df_train_onehot_scaled = sc.fit_transform(df_onehot)"
   ]
  },
  {
   "cell_type": "code",
   "execution_count": 137,
   "metadata": {
    "ExecuteTime": {
     "end_time": "2020-06-06T06:16:59.059917Z",
     "start_time": "2020-06-06T06:16:59.055152Z"
    }
   },
   "outputs": [],
   "source": [
    "X = df_train_onehot_scaled"
   ]
  },
  {
   "cell_type": "code",
   "execution_count": 138,
   "metadata": {
    "ExecuteTime": {
     "end_time": "2020-06-06T06:16:59.480379Z",
     "start_time": "2020-06-06T06:16:59.474694Z"
    }
   },
   "outputs": [],
   "source": [
    "X_train,X_test,y_train,y_test = train_test_split(X,y,test_size=0.3)"
   ]
  },
  {
   "cell_type": "code",
   "execution_count": 139,
   "metadata": {
    "ExecuteTime": {
     "end_time": "2020-06-06T06:16:59.900229Z",
     "start_time": "2020-06-06T06:16:59.895584Z"
    }
   },
   "outputs": [],
   "source": [
    "from sklearn.feature_selection import RFE\n",
    "from sklearn.feature_selection import SelectFromModel"
   ]
  },
  {
   "cell_type": "markdown",
   "metadata": {},
   "source": [
    "### Select From Model Function"
   ]
  },
  {
   "cell_type": "code",
   "execution_count": 140,
   "metadata": {
    "ExecuteTime": {
     "end_time": "2020-06-06T06:17:02.137358Z",
     "start_time": "2020-06-06T06:17:02.129897Z"
    }
   },
   "outputs": [],
   "source": [
    "def get_support_from_model(model_class, max_features, X_train, y_train):\n",
    "    sel = SelectFromModel(model_class, max_features=max_features)\n",
    "    sel.fit(X_train, y_train)\n",
    "    return sel.get_support()"
   ]
  },
  {
   "cell_type": "code",
   "execution_count": 141,
   "metadata": {
    "ExecuteTime": {
     "end_time": "2020-06-06T06:17:03.394992Z",
     "start_time": "2020-06-06T06:17:03.389699Z"
    }
   },
   "outputs": [],
   "source": [
    "def get_support_from_rfe(model_class, max_features, X_train, y_train):\n",
    "    rfe = RFE(model_class, max_features)\n",
    "    rfe.fit(X_train, y_train)\n",
    "    return rfe.get_support()"
   ]
  },
  {
   "cell_type": "code",
   "execution_count": 142,
   "metadata": {
    "ExecuteTime": {
     "end_time": "2020-06-06T06:17:03.788785Z",
     "start_time": "2020-06-06T06:17:03.780945Z"
    }
   },
   "outputs": [],
   "source": [
    "from sklearn.ensemble import RandomForestClassifier, AdaBoostClassifier\n",
    "from sklearn.linear_model import LinearRegression, SGDClassifier\n",
    "from sklearn.svm import SVC"
   ]
  },
  {
   "cell_type": "markdown",
   "metadata": {},
   "source": [
    "**Select From Model**"
   ]
  },
  {
   "cell_type": "code",
   "execution_count": 144,
   "metadata": {
    "ExecuteTime": {
     "end_time": "2020-06-06T06:17:18.367005Z",
     "start_time": "2020-06-06T06:17:18.185707Z"
    }
   },
   "outputs": [
    {
     "data": {
      "text/plain": [
       "{'Age',\n",
       " 'CommunicationSkill',\n",
       " 'DistanceFromHome',\n",
       " 'EmployeeNumber',\n",
       " 'EnvironmentSatisfaction',\n",
       " 'JobInvolvement',\n",
       " 'JobSatisfaction',\n",
       " 'NumCompaniesWorked',\n",
       " 'OverTime_Yes',\n",
       " 'PercentSalaryHike',\n",
       " 'PropAgeCompYears',\n",
       " 'PropCurrMgrCompYears',\n",
       " 'PropCurrRoleCompYears',\n",
       " 'StockOptionLevel',\n",
       " 'TotalWorkingYears'}"
      ]
     },
     "execution_count": 144,
     "metadata": {},
     "output_type": "execute_result"
    }
   ],
   "source": [
    "set_m_A = set(df_onehot.columns[get_support_from_model(RandomForestClassifier(n_estimators=100), 20, X_train, y_train)])\n",
    "set_m_A"
   ]
  },
  {
   "cell_type": "code",
   "execution_count": 145,
   "metadata": {
    "ExecuteTime": {
     "end_time": "2020-06-06T06:17:18.915826Z",
     "start_time": "2020-06-06T06:17:18.744625Z"
    }
   },
   "outputs": [
    {
     "data": {
      "text/plain": [
       "{'Age',\n",
       " 'EmployeeNumber',\n",
       " 'OverTime_Yes',\n",
       " 'PercentSalaryHike',\n",
       " 'PropCurrMgrCompYears',\n",
       " 'PropCurrRoleCompYears',\n",
       " 'TotalWorkingYears'}"
      ]
     },
     "execution_count": 145,
     "metadata": {},
     "output_type": "execute_result"
    }
   ],
   "source": [
    "set_m_B = set(df_onehot.columns[get_support_from_model(AdaBoostClassifier(n_estimators=100), 20, X_train, y_train)])\n",
    "set_m_B"
   ]
  },
  {
   "cell_type": "code",
   "execution_count": 146,
   "metadata": {
    "ExecuteTime": {
     "end_time": "2020-06-06T06:17:19.149660Z",
     "start_time": "2020-06-06T06:17:19.143747Z"
    }
   },
   "outputs": [
    {
     "data": {
      "text/plain": [
       "{'Age',\n",
       " 'EmployeeNumber',\n",
       " 'OverTime_Yes',\n",
       " 'PercentSalaryHike',\n",
       " 'PropCurrMgrCompYears',\n",
       " 'PropCurrRoleCompYears',\n",
       " 'TotalWorkingYears'}"
      ]
     },
     "execution_count": 146,
     "metadata": {},
     "output_type": "execute_result"
    }
   ],
   "source": [
    "set_m_A.intersection(set_m_B)"
   ]
  },
  {
   "cell_type": "code",
   "execution_count": 147,
   "metadata": {
    "ExecuteTime": {
     "end_time": "2020-06-06T06:17:19.607150Z",
     "start_time": "2020-06-06T06:17:19.602949Z"
    }
   },
   "outputs": [],
   "source": [
    "model_set = set_m_A.intersection(set_m_B)"
   ]
  },
  {
   "cell_type": "markdown",
   "metadata": {},
   "source": [
    "**Select From RFE**"
   ]
  },
  {
   "cell_type": "code",
   "execution_count": 148,
   "metadata": {
    "ExecuteTime": {
     "end_time": "2020-06-06T06:17:22.410318Z",
     "start_time": "2020-06-06T06:17:20.369709Z"
    }
   },
   "outputs": [
    {
     "data": {
      "text/plain": [
       "{'Age',\n",
       " 'BusinessTravel_Travel_Frequently',\n",
       " 'CommunicationSkill',\n",
       " 'DistanceFromHome',\n",
       " 'EducationField_Life Sciences',\n",
       " 'EducationField_Marketing',\n",
       " 'EmployeeNumber',\n",
       " 'EnvironmentSatisfaction',\n",
       " 'JobInvolvement',\n",
       " 'JobSatisfaction',\n",
       " 'NumCompaniesWorked',\n",
       " 'OverTime_Yes',\n",
       " 'PercentSalaryHike',\n",
       " 'PropAgeCompYears',\n",
       " 'PropCurrMgrCompYears',\n",
       " 'PropCurrRoleCompYears',\n",
       " 'PropTrainCompYears',\n",
       " 'StockOptionLevel',\n",
       " 'TotalWorkingYears',\n",
       " 'YearsToCompanies'}"
      ]
     },
     "execution_count": 148,
     "metadata": {},
     "output_type": "execute_result"
    }
   ],
   "source": [
    "set_r_A = set(df_onehot.columns[get_support_from_rfe(RandomForestClassifier(n_estimators=100), 20, X_train, y_train)])\n",
    "set_r_A"
   ]
  },
  {
   "cell_type": "code",
   "execution_count": 149,
   "metadata": {
    "ExecuteTime": {
     "end_time": "2020-06-06T06:17:24.536190Z",
     "start_time": "2020-06-06T06:17:22.562389Z"
    }
   },
   "outputs": [
    {
     "data": {
      "text/plain": [
       "{'Age',\n",
       " 'BusinessTravel_Travel_Frequently',\n",
       " 'DistanceFromHome',\n",
       " 'EducationField_Technical Degree',\n",
       " 'EmployeeNumber',\n",
       " 'EnvironmentSatisfaction',\n",
       " 'JobInvolvement',\n",
       " 'JobRole_Laboratory Technician',\n",
       " 'JobRole_Sales Executive',\n",
       " 'JobRole_Sales Representative',\n",
       " 'JobSatisfaction',\n",
       " 'NumCompaniesWorked',\n",
       " 'OverTime_Yes',\n",
       " 'PercentSalaryHike',\n",
       " 'PropAgeCompYears',\n",
       " 'PropCurrMgrCompYears',\n",
       " 'PropCurrRoleCompYears',\n",
       " 'PropTrainCompYears',\n",
       " 'StockOptionLevel',\n",
       " 'TotalWorkingYears'}"
      ]
     },
     "execution_count": 149,
     "metadata": {},
     "output_type": "execute_result"
    }
   ],
   "source": [
    "set_r_B = set(df_onehot.columns[get_support_from_rfe(AdaBoostClassifier(n_estimators=100), 20, X_train, y_train)])\n",
    "set_r_B"
   ]
  },
  {
   "cell_type": "code",
   "execution_count": 150,
   "metadata": {
    "ExecuteTime": {
     "end_time": "2020-06-06T06:17:26.259710Z",
     "start_time": "2020-06-06T06:17:26.228810Z"
    }
   },
   "outputs": [
    {
     "data": {
      "text/plain": [
       "{'Age',\n",
       " 'BusinessTravel_Travel_Frequently',\n",
       " 'BusinessTravel_Travel_Rarely',\n",
       " 'CommunicationSkill',\n",
       " 'DistanceFromHome',\n",
       " 'EducationField_Life Sciences',\n",
       " 'EducationField_Other',\n",
       " 'EducationField_Technical Degree',\n",
       " 'EnvironmentSatisfaction',\n",
       " 'JobInvolvement',\n",
       " 'JobRole_Laboratory Technician',\n",
       " 'JobRole_Sales Executive',\n",
       " 'JobRole_Sales Representative',\n",
       " 'JobSatisfaction',\n",
       " 'OverTime_Yes',\n",
       " 'PropAgeCompYears',\n",
       " 'PropCurrMgrCompYears',\n",
       " 'PropTrainCompYears',\n",
       " 'StockOptionLevel',\n",
       " 'YearsToCompanies'}"
      ]
     },
     "execution_count": 150,
     "metadata": {},
     "output_type": "execute_result"
    }
   ],
   "source": [
    "set_r_C = set(df_onehot.columns[get_support_from_rfe(LinearRegression(), 20, X_train, y_train)])\n",
    "set_r_C"
   ]
  },
  {
   "cell_type": "code",
   "execution_count": 151,
   "metadata": {
    "ExecuteTime": {
     "end_time": "2020-06-06T06:17:30.505077Z",
     "start_time": "2020-06-06T06:17:30.436583Z"
    }
   },
   "outputs": [
    {
     "data": {
      "text/plain": [
       "{'Age',\n",
       " 'BusinessTravel_Travel_Frequently',\n",
       " 'CommunicationSkill',\n",
       " 'EducationField_Other',\n",
       " 'EducationField_Technical Degree',\n",
       " 'EmployeeNumber',\n",
       " 'EnvironmentSatisfaction',\n",
       " 'JobRole_Laboratory Technician',\n",
       " 'JobRole_Manager',\n",
       " 'JobRole_Manufacturing Director',\n",
       " 'JobRole_Research Director',\n",
       " 'JobRole_Research Scientist',\n",
       " 'JobSatisfaction',\n",
       " 'NumCompaniesWorked',\n",
       " 'OverTime_Yes',\n",
       " 'PropAgeCompYears',\n",
       " 'PropCurrMgrCompYears',\n",
       " 'PropCurrRoleCompYears',\n",
       " 'PropTrainCompYears',\n",
       " 'StockOptionLevel'}"
      ]
     },
     "execution_count": 151,
     "metadata": {},
     "output_type": "execute_result"
    }
   ],
   "source": [
    "set_r_D = set(df_onehot.columns[get_support_from_rfe(SGDClassifier(), 20, X_train, y_train)])\n",
    "set_r_D"
   ]
  },
  {
   "cell_type": "code",
   "execution_count": 152,
   "metadata": {
    "ExecuteTime": {
     "end_time": "2020-06-06T06:17:32.491515Z",
     "start_time": "2020-06-06T06:17:32.483536Z"
    }
   },
   "outputs": [
    {
     "data": {
      "text/plain": [
       "{'Age',\n",
       " 'BusinessTravel_Travel_Frequently',\n",
       " 'EnvironmentSatisfaction',\n",
       " 'JobSatisfaction',\n",
       " 'OverTime_Yes',\n",
       " 'PropAgeCompYears',\n",
       " 'PropCurrMgrCompYears',\n",
       " 'PropTrainCompYears',\n",
       " 'StockOptionLevel'}"
      ]
     },
     "execution_count": 152,
     "metadata": {},
     "output_type": "execute_result"
    }
   ],
   "source": [
    "set_r_A.intersection(set_r_B).intersection(set_r_C).intersection(set_r_D)"
   ]
  },
  {
   "cell_type": "code",
   "execution_count": 153,
   "metadata": {
    "ExecuteTime": {
     "end_time": "2020-06-06T06:17:33.083896Z",
     "start_time": "2020-06-06T06:17:33.079315Z"
    }
   },
   "outputs": [],
   "source": [
    "rfe_set = set_r_A.intersection(set_r_B).intersection(set_r_C).intersection(set_r_D)"
   ]
  },
  {
   "cell_type": "code",
   "execution_count": 154,
   "metadata": {
    "ExecuteTime": {
     "end_time": "2020-06-06T06:17:33.617017Z",
     "start_time": "2020-06-06T06:17:33.606918Z"
    }
   },
   "outputs": [
    {
     "data": {
      "text/plain": [
       "{'Age', 'OverTime_Yes', 'PropCurrMgrCompYears'}"
      ]
     },
     "execution_count": 154,
     "metadata": {},
     "output_type": "execute_result"
    }
   ],
   "source": [
    "model_set.intersection(rfe_set)"
   ]
  },
  {
   "cell_type": "code",
   "execution_count": 155,
   "metadata": {
    "ExecuteTime": {
     "end_time": "2020-06-06T06:17:37.703817Z",
     "start_time": "2020-06-06T06:17:37.697408Z"
    }
   },
   "outputs": [],
   "source": [
    "master_set = set_m_A.union(set_m_B).union(set_r_A).union(set_r_B).union(set_r_C).union(set_r_D)"
   ]
  },
  {
   "cell_type": "code",
   "execution_count": 156,
   "metadata": {
    "ExecuteTime": {
     "end_time": "2020-06-06T06:17:40.540375Z",
     "start_time": "2020-06-06T06:17:40.532202Z"
    }
   },
   "outputs": [
    {
     "data": {
      "text/plain": [
       "{'Age',\n",
       " 'BusinessTravel_Travel_Frequently',\n",
       " 'BusinessTravel_Travel_Rarely',\n",
       " 'CommunicationSkill',\n",
       " 'DistanceFromHome',\n",
       " 'EducationField_Life Sciences',\n",
       " 'EducationField_Marketing',\n",
       " 'EducationField_Other',\n",
       " 'EducationField_Technical Degree',\n",
       " 'EmployeeNumber',\n",
       " 'EnvironmentSatisfaction',\n",
       " 'JobInvolvement',\n",
       " 'JobRole_Laboratory Technician',\n",
       " 'JobRole_Manager',\n",
       " 'JobRole_Manufacturing Director',\n",
       " 'JobRole_Research Director',\n",
       " 'JobRole_Research Scientist',\n",
       " 'JobRole_Sales Executive',\n",
       " 'JobRole_Sales Representative',\n",
       " 'JobSatisfaction',\n",
       " 'NumCompaniesWorked',\n",
       " 'OverTime_Yes',\n",
       " 'PercentSalaryHike',\n",
       " 'PropAgeCompYears',\n",
       " 'PropCurrMgrCompYears',\n",
       " 'PropCurrRoleCompYears',\n",
       " 'PropTrainCompYears',\n",
       " 'StockOptionLevel',\n",
       " 'TotalWorkingYears',\n",
       " 'YearsToCompanies'}"
      ]
     },
     "execution_count": 156,
     "metadata": {},
     "output_type": "execute_result"
    }
   ],
   "source": [
    "master_set"
   ]
  },
  {
   "cell_type": "code",
   "execution_count": 157,
   "metadata": {
    "ExecuteTime": {
     "end_time": "2020-06-06T06:17:57.363616Z",
     "start_time": "2020-06-06T06:17:57.354963Z"
    }
   },
   "outputs": [
    {
     "data": {
      "text/plain": [
       "{'EducationField_Medical', 'JobRole_Human Resources'}"
      ]
     },
     "execution_count": 157,
     "metadata": {},
     "output_type": "execute_result"
    }
   ],
   "source": [
    "set(df_onehot.columns).difference(master_set)"
   ]
  },
  {
   "cell_type": "code",
   "execution_count": 158,
   "metadata": {
    "ExecuteTime": {
     "end_time": "2020-06-06T06:18:04.668334Z",
     "start_time": "2020-06-06T06:18:04.546298Z"
    }
   },
   "outputs": [
    {
     "data": {
      "text/plain": [
       "<matplotlib.axes._subplots.AxesSubplot at 0x12406e990>"
      ]
     },
     "execution_count": 158,
     "metadata": {},
     "output_type": "execute_result"
    },
    {
     "data": {
      "image/png": "[encoded data removed]",
      "text/plain": [
       "<Figure size 432x288 with 1 Axes>"
      ]
     },
     "metadata": {
      "needs_background": "light"
     },
     "output_type": "display_data"
    }
   ],
   "source": [
    "sns.countplot(df_reduced.Attrition)"
   ]
  },
  {
   "cell_type": "markdown",
   "metadata": {},
   "source": [
    "**Dropping Duplicates lead to HUGE imbalance!**"
   ]
  },
  {
   "cell_type": "code",
   "execution_count": null,
   "metadata": {},
   "outputs": [],
   "source": []
  }
 ],
 "metadata": {
  "kernelspec": {
   "display_name": "Python 3",
   "language": "python",
   "name": "python3"
  },
  "language_info": {
   "codemirror_mode": {
    "name": "ipython",
    "version": 3
   },
   "file_extension": ".py",
   "mimetype": "text/x-python",
   "name": "python",
   "nbconvert_exporter": "python",
   "pygments_lexer": "ipython3",
   "version": "3.7.7"
  },
  "varInspector": {
   "cols": {
    "lenName": 16,
    "lenType": 16,
    "lenVar": 40
   },
   "kernels_config": {
    "python": {
     "delete_cmd_postfix": "",
     "delete_cmd_prefix": "del ",
     "library": "var_list.py",
     "varRefreshCmd": "print(var_dic_list())"
    },
    "r": {
     "delete_cmd_postfix": ") ",
     "delete_cmd_prefix": "rm(",
     "library": "var_list.r",
     "varRefreshCmd": "cat(var_dic_list()) "
    }
   },
   "types_to_exclude": [
    "module",
    "function",
    "builtin_function_or_method",
    "instance",
    "_Feature"
   ],
   "window_display": false
  }
 },
 "nbformat": 4,
 "nbformat_minor": 4
}
