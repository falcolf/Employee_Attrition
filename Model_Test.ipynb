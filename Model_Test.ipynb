{
 "cells": [
  {
   "cell_type": "code",
   "execution_count": 3,
   "metadata": {
    "ExecuteTime": {
     "end_time": "2020-06-17T16:53:02.721041Z",
     "start_time": "2020-06-17T16:53:02.053198Z"
    }
   },
   "outputs": [],
   "source": [
    "import pandas as pd\n",
    "import numpy as np\n",
    "import matplotlib.pyplot as plt\n",
    "import seaborn as sns\n",
    "%matplotlib inline\n",
    "import json\n",
    "import pickle"
   ]
  },
  {
   "cell_type": "code",
   "execution_count": 4,
   "metadata": {
    "ExecuteTime": {
     "end_time": "2020-06-17T16:53:03.351674Z",
     "start_time": "2020-06-17T16:53:03.330752Z"
    }
   },
   "outputs": [
    {
     "data": {
      "text/plain": [
       "(470, 28)"
      ]
     },
     "execution_count": 4,
     "metadata": {},
     "output_type": "execute_result"
    }
   ],
   "source": [
    "df = pd.read_csv('data/test.csv')\n",
    "df.shape"
   ]
  },
  {
   "cell_type": "code",
   "execution_count": 5,
   "metadata": {
    "ExecuteTime": {
     "end_time": "2020-06-17T16:53:03.653063Z",
     "start_time": "2020-06-17T16:53:03.643752Z"
    }
   },
   "outputs": [
    {
     "data": {
      "text/plain": [
       "Index(['Id', 'Age', 'BusinessTravel', 'Department', 'DistanceFromHome',\n",
       "       'Education', 'EducationField', 'EmployeeNumber',\n",
       "       'EnvironmentSatisfaction', 'Gender', 'JobInvolvement', 'JobRole',\n",
       "       'JobSatisfaction', 'MaritalStatus', 'MonthlyIncome',\n",
       "       'NumCompaniesWorked', 'OverTime', 'PercentSalaryHike',\n",
       "       'PerformanceRating', 'StockOptionLevel', 'TotalWorkingYears',\n",
       "       'TrainingTimesLastYear', 'YearsAtCompany', 'YearsInCurrentRole',\n",
       "       'YearsSinceLastPromotion', 'YearsWithCurrManager', 'CommunicationSkill',\n",
       "       'Behaviour'],\n",
       "      dtype='object')"
      ]
     },
     "execution_count": 5,
     "metadata": {},
     "output_type": "execute_result"
    }
   ],
   "source": [
    "df.columns"
   ]
  },
  {
   "cell_type": "markdown",
   "metadata": {},
   "source": [
    "### Feature Engineering"
   ]
  },
  {
   "cell_type": "code",
   "execution_count": 6,
   "metadata": {
    "ExecuteTime": {
     "end_time": "2020-06-17T16:53:04.448071Z",
     "start_time": "2020-06-17T16:53:04.438208Z"
    }
   },
   "outputs": [],
   "source": [
    "def extract_feature(df_input):\n",
    "    df = df_input.copy()\n",
    "    df['PropWkngYrsToCompanies'] = pd.cut((df.TotalWorkingYears / (df.NumCompaniesWorked+1)),[-1,2,4,6,8,np.inf], labels=[1,2,3,4,5]).astype('int64')\n",
    "    df['PropCurrMgrCompYears'] = df.YearsWithCurrManager / (df.YearsAtCompany+1)\n",
    "    df['PropCurrRoleCompYears'] = df.YearsInCurrentRole / (df.YearsAtCompany+1)\n",
    "    #df['AgeCut'] = pd.cut(df.Age,bins = [0,25,35,50,np.inf], labels= [1,2,3,4]).astype('int64')\n",
    "    df['Stocks'] = df.StockOptionLevel.apply(lambda x: 0 if x == 0 else 1)\n",
    "    cols_to_drop = [\n",
    "                'Id',\n",
    "                'Behaviour', \n",
    "                'Gender',\n",
    "                'Education',\n",
    "                'Department',\n",
    "                'StockOptionLevel',\n",
    "                #'Age',\n",
    "                'PerformanceRating',\n",
    "                'TrainingTimesLastYear', \n",
    "                'YearsInCurrentRole', \n",
    "                'YearsSinceLastPromotion', \n",
    "                'YearsWithCurrManager',\n",
    "                'NumCompaniesWorked',\n",
    "                'TotalWorkingYears',\n",
    "                'PercentSalaryHike',\n",
    "                'MaritalStatus',\n",
    "                'EducationField',\n",
    "                'YearsAtCompany'\n",
    "                ]\n",
    "    df.drop(cols_to_drop, inplace = True, axis = 1)\n",
    "    print('Columns Dropped : {}'.format(cols_to_drop))\n",
    "    print('Columns in DataFrame: {}'.format(df.columns.to_list()))\n",
    "    return df"
   ]
  },
  {
   "cell_type": "code",
   "execution_count": 7,
   "metadata": {
    "ExecuteTime": {
     "end_time": "2020-06-17T16:53:05.227123Z",
     "start_time": "2020-06-17T16:53:05.205305Z"
    }
   },
   "outputs": [
    {
     "name": "stdout",
     "output_type": "stream",
     "text": [
      "Columns Dropped : ['Id', 'Behaviour', 'Gender', 'Education', 'Department', 'StockOptionLevel', 'PerformanceRating', 'TrainingTimesLastYear', 'YearsInCurrentRole', 'YearsSinceLastPromotion', 'YearsWithCurrManager', 'NumCompaniesWorked', 'TotalWorkingYears', 'PercentSalaryHike', 'MaritalStatus', 'EducationField', 'YearsAtCompany']\n",
      "Columns in DataFrame: ['Age', 'BusinessTravel', 'DistanceFromHome', 'EmployeeNumber', 'EnvironmentSatisfaction', 'JobInvolvement', 'JobRole', 'JobSatisfaction', 'MonthlyIncome', 'OverTime', 'CommunicationSkill', 'PropWkngYrsToCompanies', 'PropCurrMgrCompYears', 'PropCurrRoleCompYears', 'Stocks']\n"
     ]
    }
   ],
   "source": [
    "df_cleaned = extract_feature(df)"
   ]
  },
  {
   "cell_type": "markdown",
   "metadata": {},
   "source": [
    "### Preprocessing and Model Building Init"
   ]
  },
  {
   "cell_type": "code",
   "execution_count": 8,
   "metadata": {
    "ExecuteTime": {
     "end_time": "2020-06-17T16:53:06.192052Z",
     "start_time": "2020-06-17T16:53:06.177610Z"
    }
   },
   "outputs": [
    {
     "data": {
      "text/plain": [
       "(470, 15)"
      ]
     },
     "execution_count": 8,
     "metadata": {},
     "output_type": "execute_result"
    }
   ],
   "source": [
    "df_cleaned.drop_duplicates(inplace=True)\n",
    "df_cleaned.shape"
   ]
  },
  {
   "cell_type": "code",
   "execution_count": 9,
   "metadata": {
    "ExecuteTime": {
     "end_time": "2020-06-17T16:53:06.557367Z",
     "start_time": "2020-06-17T16:53:06.553294Z"
    }
   },
   "outputs": [],
   "source": [
    "df_X = df_cleaned.copy()"
   ]
  },
  {
   "cell_type": "code",
   "execution_count": 10,
   "metadata": {
    "ExecuteTime": {
     "end_time": "2020-06-17T16:53:06.970375Z",
     "start_time": "2020-06-17T16:53:06.959016Z"
    }
   },
   "outputs": [
    {
     "data": {
      "text/plain": [
       "[1, 6, 9]"
      ]
     },
     "execution_count": 10,
     "metadata": {},
     "output_type": "execute_result"
    }
   ],
   "source": [
    "object_type = df_X.select_dtypes(include='object').columns\n",
    "object_type\n",
    "\n",
    "numerical_type = df_X.select_dtypes(exclude='object').columns\n",
    "numerical_type\n",
    "\n",
    "cat_cols = []\n",
    "for c in object_type:\n",
    "    cat_cols.append(df_X.columns.to_list().index(c))\n",
    "    \n",
    "cat_cols"
   ]
  },
  {
   "cell_type": "code",
   "execution_count": 11,
   "metadata": {
    "ExecuteTime": {
     "end_time": "2020-06-17T16:53:07.423760Z",
     "start_time": "2020-06-17T16:53:07.406241Z"
    }
   },
   "outputs": [
    {
     "data": {
      "text/html": [
       "<div>\n",
       "<style scoped>\n",
       "    .dataframe tbody tr th:only-of-type {\n",
       "        vertical-align: middle;\n",
       "    }\n",
       "\n",
       "    .dataframe tbody tr th {\n",
       "        vertical-align: top;\n",
       "    }\n",
       "\n",
       "    .dataframe thead th {\n",
       "        text-align: right;\n",
       "    }\n",
       "</style>\n",
       "<table border=\"1\" class=\"dataframe\">\n",
       "  <thead>\n",
       "    <tr style=\"text-align: right;\">\n",
       "      <th></th>\n",
       "      <th>Age</th>\n",
       "      <th>BusinessTravel</th>\n",
       "      <th>DistanceFromHome</th>\n",
       "      <th>EmployeeNumber</th>\n",
       "      <th>EnvironmentSatisfaction</th>\n",
       "      <th>JobInvolvement</th>\n",
       "      <th>JobRole</th>\n",
       "      <th>JobSatisfaction</th>\n",
       "      <th>MonthlyIncome</th>\n",
       "      <th>OverTime</th>\n",
       "      <th>CommunicationSkill</th>\n",
       "      <th>PropWkngYrsToCompanies</th>\n",
       "      <th>PropCurrMgrCompYears</th>\n",
       "      <th>PropCurrRoleCompYears</th>\n",
       "      <th>Stocks</th>\n",
       "    </tr>\n",
       "  </thead>\n",
       "  <tbody>\n",
       "    <tr>\n",
       "      <th>0</th>\n",
       "      <td>28</td>\n",
       "      <td>Travel_Rarely</td>\n",
       "      <td>9</td>\n",
       "      <td>377</td>\n",
       "      <td>4</td>\n",
       "      <td>3</td>\n",
       "      <td>Research Scientist</td>\n",
       "      <td>4</td>\n",
       "      <td>2070</td>\n",
       "      <td>No</td>\n",
       "      <td>5</td>\n",
       "      <td>2</td>\n",
       "      <td>0.666667</td>\n",
       "      <td>0.333333</td>\n",
       "      <td>1</td>\n",
       "    </tr>\n",
       "    <tr>\n",
       "      <th>1</th>\n",
       "      <td>31</td>\n",
       "      <td>Travel_Rarely</td>\n",
       "      <td>6</td>\n",
       "      <td>653</td>\n",
       "      <td>1</td>\n",
       "      <td>4</td>\n",
       "      <td>Sales Executive</td>\n",
       "      <td>4</td>\n",
       "      <td>5460</td>\n",
       "      <td>No</td>\n",
       "      <td>3</td>\n",
       "      <td>2</td>\n",
       "      <td>0.875000</td>\n",
       "      <td>0.875000</td>\n",
       "      <td>1</td>\n",
       "    </tr>\n",
       "    <tr>\n",
       "      <th>2</th>\n",
       "      <td>37</td>\n",
       "      <td>Travel_Rarely</td>\n",
       "      <td>6</td>\n",
       "      <td>474</td>\n",
       "      <td>3</td>\n",
       "      <td>4</td>\n",
       "      <td>Research Scientist</td>\n",
       "      <td>1</td>\n",
       "      <td>5974</td>\n",
       "      <td>Yes</td>\n",
       "      <td>4</td>\n",
       "      <td>2</td>\n",
       "      <td>0.875000</td>\n",
       "      <td>0.875000</td>\n",
       "      <td>1</td>\n",
       "    </tr>\n",
       "    <tr>\n",
       "      <th>3</th>\n",
       "      <td>42</td>\n",
       "      <td>Travel_Rarely</td>\n",
       "      <td>1</td>\n",
       "      <td>827</td>\n",
       "      <td>4</td>\n",
       "      <td>2</td>\n",
       "      <td>Manufacturing Director</td>\n",
       "      <td>4</td>\n",
       "      <td>6062</td>\n",
       "      <td>Yes</td>\n",
       "      <td>5</td>\n",
       "      <td>1</td>\n",
       "      <td>0.400000</td>\n",
       "      <td>0.600000</td>\n",
       "      <td>1</td>\n",
       "    </tr>\n",
       "    <tr>\n",
       "      <th>4</th>\n",
       "      <td>45</td>\n",
       "      <td>Non-Travel</td>\n",
       "      <td>4</td>\n",
       "      <td>972</td>\n",
       "      <td>3</td>\n",
       "      <td>3</td>\n",
       "      <td>Laboratory Technician</td>\n",
       "      <td>2</td>\n",
       "      <td>4447</td>\n",
       "      <td>No</td>\n",
       "      <td>2</td>\n",
       "      <td>3</td>\n",
       "      <td>0.800000</td>\n",
       "      <td>0.700000</td>\n",
       "      <td>0</td>\n",
       "    </tr>\n",
       "  </tbody>\n",
       "</table>\n",
       "</div>"
      ],
      "text/plain": [
       "   Age BusinessTravel  DistanceFromHome  EmployeeNumber  \\\n",
       "0   28  Travel_Rarely                 9             377   \n",
       "1   31  Travel_Rarely                 6             653   \n",
       "2   37  Travel_Rarely                 6             474   \n",
       "3   42  Travel_Rarely                 1             827   \n",
       "4   45     Non-Travel                 4             972   \n",
       "\n",
       "   EnvironmentSatisfaction  JobInvolvement                 JobRole  \\\n",
       "0                        4               3      Research Scientist   \n",
       "1                        1               4         Sales Executive   \n",
       "2                        3               4      Research Scientist   \n",
       "3                        4               2  Manufacturing Director   \n",
       "4                        3               3   Laboratory Technician   \n",
       "\n",
       "   JobSatisfaction  MonthlyIncome OverTime  CommunicationSkill  \\\n",
       "0                4           2070       No                   5   \n",
       "1                4           5460       No                   3   \n",
       "2                1           5974      Yes                   4   \n",
       "3                4           6062      Yes                   5   \n",
       "4                2           4447       No                   2   \n",
       "\n",
       "   PropWkngYrsToCompanies  PropCurrMgrCompYears  PropCurrRoleCompYears  Stocks  \n",
       "0                       2              0.666667               0.333333       1  \n",
       "1                       2              0.875000               0.875000       1  \n",
       "2                       2              0.875000               0.875000       1  \n",
       "3                       1              0.400000               0.600000       1  \n",
       "4                       3              0.800000               0.700000       0  "
      ]
     },
     "execution_count": 11,
     "metadata": {},
     "output_type": "execute_result"
    }
   ],
   "source": [
    "df_X.head()"
   ]
  },
  {
   "cell_type": "code",
   "execution_count": 12,
   "metadata": {
    "ExecuteTime": {
     "end_time": "2020-06-17T16:53:07.736960Z",
     "start_time": "2020-06-17T16:53:07.726493Z"
    }
   },
   "outputs": [
    {
     "data": {
      "text/plain": [
       "Age                          int64\n",
       "BusinessTravel              object\n",
       "DistanceFromHome             int64\n",
       "EmployeeNumber               int64\n",
       "EnvironmentSatisfaction      int64\n",
       "JobInvolvement               int64\n",
       "JobRole                     object\n",
       "JobSatisfaction              int64\n",
       "MonthlyIncome                int64\n",
       "OverTime                    object\n",
       "CommunicationSkill           int64\n",
       "PropWkngYrsToCompanies       int64\n",
       "PropCurrMgrCompYears       float64\n",
       "PropCurrRoleCompYears      float64\n",
       "Stocks                       int64\n",
       "dtype: object"
      ]
     },
     "execution_count": 12,
     "metadata": {},
     "output_type": "execute_result"
    }
   ],
   "source": [
    "df_X.dtypes"
   ]
  },
  {
   "cell_type": "code",
   "execution_count": 13,
   "metadata": {
    "ExecuteTime": {
     "end_time": "2020-06-17T16:53:08.134376Z",
     "start_time": "2020-06-17T16:53:08.120944Z"
    }
   },
   "outputs": [],
   "source": [
    "df_X_cat = pd.get_dummies(df_X.iloc[:,cat_cols], drop_first=True)"
   ]
  },
  {
   "cell_type": "code",
   "execution_count": 14,
   "metadata": {
    "ExecuteTime": {
     "end_time": "2020-06-17T16:53:08.504341Z",
     "start_time": "2020-06-17T16:53:08.494882Z"
    }
   },
   "outputs": [],
   "source": [
    "df_X_num = pd.get_dummies(df_X.loc[:, numerical_type])"
   ]
  },
  {
   "cell_type": "code",
   "execution_count": 15,
   "metadata": {
    "ExecuteTime": {
     "end_time": "2020-06-17T16:53:08.840508Z",
     "start_time": "2020-06-17T16:53:08.834742Z"
    }
   },
   "outputs": [],
   "source": [
    "df_X_final = pd.concat((df_X_num, df_X_cat), axis= 1)"
   ]
  },
  {
   "cell_type": "code",
   "execution_count": 16,
   "metadata": {
    "ExecuteTime": {
     "end_time": "2020-06-17T16:53:09.150889Z",
     "start_time": "2020-06-17T16:53:09.146038Z"
    }
   },
   "outputs": [],
   "source": [
    "df_X_final = df_X_final.values"
   ]
  },
  {
   "cell_type": "code",
   "execution_count": 17,
   "metadata": {
    "ExecuteTime": {
     "end_time": "2020-06-17T16:53:09.525600Z",
     "start_time": "2020-06-17T16:53:09.441431Z"
    }
   },
   "outputs": [],
   "source": [
    "from sklearn.ensemble import RandomForestClassifier\n",
    "from sklearn.ensemble import AdaBoostClassifier\n",
    "from sklearn.tree import DecisionTreeClassifier\n",
    "\n",
    "from sklearn import metrics"
   ]
  },
  {
   "cell_type": "code",
   "execution_count": 18,
   "metadata": {
    "ExecuteTime": {
     "end_time": "2020-06-17T16:53:09.749380Z",
     "start_time": "2020-06-17T16:53:09.741403Z"
    }
   },
   "outputs": [],
   "source": [
    "def test_model_perf(model, X):\n",
    "    predictions_df = pd.DataFrame(model.predict_proba(X),columns=['No_Attrition','Attrition'], index=range(1,471))\n",
    "    predictions_df.No_Attrition = predictions_df.No_Attrition.apply(lambda x: np.around(x,7))\n",
    "    predictions_df.Attrition = predictions_df.Attrition.apply(lambda x: np.around(x,7))\n",
    "    predictions_df.index.name = 'Id'\n",
    "    final_df = predictions_df[['Attrition']]\n",
    "    return final_df"
   ]
  },
  {
   "cell_type": "code",
   "execution_count": 19,
   "metadata": {
    "ExecuteTime": {
     "end_time": "2020-06-17T16:53:10.434939Z",
     "start_time": "2020-06-17T16:53:10.295059Z"
    }
   },
   "outputs": [
    {
     "name": "stdout",
     "output_type": "stream",
     "text": [
      "mkdir: submissions: File exists\r\n"
     ]
    }
   ],
   "source": [
    "!mkdir submissions"
   ]
  },
  {
   "cell_type": "code",
   "execution_count": 23,
   "metadata": {
    "ExecuteTime": {
     "end_time": "2020-06-17T17:05:45.865709Z",
     "start_time": "2020-06-17T17:05:45.778749Z"
    }
   },
   "outputs": [],
   "source": [
    "pkl_filename = \"models/AdaboostA.pkl\"\n",
    "sub_filename = \"submissions/AdaboostA.csv\"\n",
    "model = RandomForestClassifier()\n",
    "with open(pkl_filename, 'rb') as file:\n",
    "    model = pickle.load(file)\n",
    "predictions_df = test_model_perf(model, df_X_final)\n",
    "predictions_df.to_csv(sub_filename)"
   ]
  },
  {
   "cell_type": "code",
   "execution_count": 22,
   "metadata": {
    "ExecuteTime": {
     "end_time": "2020-06-17T16:55:42.143213Z",
     "start_time": "2020-06-17T16:55:42.112990Z"
    }
   },
   "outputs": [],
   "source": [
    "pkl_filename = \"models/DecisionTreeA.pkl\"\n",
    "sub_filename = \"submissions/DecisionTreeA.csv\"\n",
    "model = RandomForestClassifier()\n",
    "with open(pkl_filename, 'rb') as file:\n",
    "    model = pickle.load(file)\n",
    "predictions_df = test_model_perf(model, df_X_final)\n",
    "predictions_df.to_csv(sub_filename)"
   ]
  },
  {
   "cell_type": "code",
   "execution_count": 21,
   "metadata": {
    "ExecuteTime": {
     "end_time": "2020-06-17T16:54:34.531280Z",
     "start_time": "2020-06-17T16:54:34.428003Z"
    }
   },
   "outputs": [],
   "source": [
    "pkl_filename = \"models/RandomForestA.pkl\"\n",
    "sub_filename = \"submissions/RandomForestA.csv\"\n",
    "model = RandomForestClassifier()\n",
    "with open(pkl_filename, 'rb') as file:\n",
    "    model = pickle.load(file)\n",
    "predictions_df = test_model_perf(model, df_X_final)\n",
    "predictions_df.to_csv(sub_filename)"
   ]
  },
  {
   "cell_type": "code",
   "execution_count": null,
   "metadata": {},
   "outputs": [],
   "source": []
  },
  {
   "cell_type": "code",
   "execution_count": null,
   "metadata": {},
   "outputs": [],
   "source": []
  }
 ],
 "metadata": {
  "kernelspec": {
   "display_name": "Python 3",
   "language": "python",
   "name": "python3"
  },
  "language_info": {
   "codemirror_mode": {
    "name": "ipython",
    "version": 3
   },
   "file_extension": ".py",
   "mimetype": "text/x-python",
   "name": "python",
   "nbconvert_exporter": "python",
   "pygments_lexer": "ipython3",
   "version": "3.7.7"
  },
  "varInspector": {
   "cols": {
    "lenName": 16,
    "lenType": 16,
    "lenVar": 40
   },
   "kernels_config": {
    "python": {
     "delete_cmd_postfix": "",
     "delete_cmd_prefix": "del ",
     "library": "var_list.py",
     "varRefreshCmd": "print(var_dic_list())"
    },
    "r": {
     "delete_cmd_postfix": ") ",
     "delete_cmd_prefix": "rm(",
     "library": "var_list.r",
     "varRefreshCmd": "cat(var_dic_list()) "
    }
   },
   "types_to_exclude": [
    "module",
    "function",
    "builtin_function_or_method",
    "instance",
    "_Feature"
   ],
   "window_display": false
  }
 },
 "nbformat": 4,
 "nbformat_minor": 4
}
