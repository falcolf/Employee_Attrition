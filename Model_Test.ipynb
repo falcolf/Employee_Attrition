{
 "cells": [
  {
   "cell_type": "code",
   "execution_count": 300,
   "metadata": {
    "ExecuteTime": {
     "end_time": "2020-06-25T14:09:33.850551Z",
     "start_time": "2020-06-25T14:09:33.844069Z"
    }
   },
   "outputs": [],
   "source": [
    "import pandas as pd\n",
    "import numpy as np\n",
    "import matplotlib.pyplot as plt\n",
    "import seaborn as sns\n",
    "%matplotlib inline\n",
    "import json\n",
    "import pickle"
   ]
  },
  {
   "cell_type": "code",
   "execution_count": 301,
   "metadata": {
    "ExecuteTime": {
     "end_time": "2020-06-25T14:09:34.132145Z",
     "start_time": "2020-06-25T14:09:34.119354Z"
    }
   },
   "outputs": [
    {
     "data": {
      "text/plain": [
       "(470, 28)"
      ]
     },
     "execution_count": 301,
     "metadata": {},
     "output_type": "execute_result"
    }
   ],
   "source": [
    "df = pd.read_csv('data/test.csv')\n",
    "df.shape"
   ]
  },
  {
   "cell_type": "code",
   "execution_count": 302,
   "metadata": {
    "ExecuteTime": {
     "end_time": "2020-06-25T14:09:34.425816Z",
     "start_time": "2020-06-25T14:09:34.415577Z"
    }
   },
   "outputs": [
    {
     "data": {
      "text/plain": [
       "Index(['Id', 'Age', 'BusinessTravel', 'Department', 'DistanceFromHome',\n",
       "       'Education', 'EducationField', 'EmployeeNumber',\n",
       "       'EnvironmentSatisfaction', 'Gender', 'JobInvolvement', 'JobRole',\n",
       "       'JobSatisfaction', 'MaritalStatus', 'MonthlyIncome',\n",
       "       'NumCompaniesWorked', 'OverTime', 'PercentSalaryHike',\n",
       "       'PerformanceRating', 'StockOptionLevel', 'TotalWorkingYears',\n",
       "       'TrainingTimesLastYear', 'YearsAtCompany', 'YearsInCurrentRole',\n",
       "       'YearsSinceLastPromotion', 'YearsWithCurrManager', 'CommunicationSkill',\n",
       "       'Behaviour'],\n",
       "      dtype='object')"
      ]
     },
     "execution_count": 302,
     "metadata": {},
     "output_type": "execute_result"
    }
   ],
   "source": [
    "df.columns"
   ]
  },
  {
   "cell_type": "markdown",
   "metadata": {},
   "source": [
    "### Feature Engineering"
   ]
  },
  {
   "cell_type": "code",
   "execution_count": 303,
   "metadata": {
    "ExecuteTime": {
     "end_time": "2020-06-25T14:09:35.040314Z",
     "start_time": "2020-06-25T14:09:35.027837Z"
    }
   },
   "outputs": [],
   "source": [
    "def extract_feature(df_input):\n",
    "    df = df_input.copy()\n",
    "    df['OwnStocks'] = df.StockOptionLevel.apply(lambda x: 'No' if x == 0 else 'Yes')\n",
    "    df['PropWorkLife'] = df.TotalWorkingYears / df.Age\n",
    "    df['PropExpComp'] = df.NumCompaniesWorked / (df.TotalWorkingYears+1)\n",
    "    df['PropRoleComp'] = df.YearsInCurrentRole / (df.YearsAtCompany + 1)\n",
    "    df['AgeBar'] = pd.cut(df.Age, bins = [0,27,45,np.inf], labels=['Young','Mid','Old']).astype('object')\n",
    "    q_pays = {\n",
    "        'Laboratory Technician': 2705.0, \n",
    "        'Manufacturing Director': 5824.4000000000015, \n",
    "        'Sales Executive': 5675.8, \n",
    "        'Research Scientist': 2693.4, \n",
    "        'Sales Representative': 2325.8, \n",
    "        'Healthcare Representative': 6348.6, \n",
    "        'Research Director': 15014.600000000002, \n",
    "        'Human Resources': 2741.0, \n",
    "        'Manager': 16894.0\n",
    "    }\n",
    "    df['AboveQPay'] = df.apply(lambda x: 'No' if x.MonthlyIncome < q_pays.get(x.JobRole) else 'Yes', axis = 1)\n",
    "    #df['WorkFactors'] = (df.EnvironmentSatisfaction+df.JobSatisfaction+df.JobInvolvement) / 15\n",
    "    cols_to_drop = [\n",
    "                    'Id',\n",
    "                    'Behaviour',\n",
    "                    'PerformanceRating',\n",
    "                    'Gender',\n",
    "                    'Education', \n",
    "                    'Department',\n",
    "                    'EmployeeNumber',\n",
    "                    'PercentSalaryHike',\n",
    "                    'YearsInCurrentRole',\n",
    "                    'YearsSinceLastPromotion',\n",
    "                    'YearsWithCurrManager',\n",
    "                    'TrainingTimesLastYear',\n",
    "                    'EducationField',\n",
    "                    'StockOptionLevel',\n",
    "                    'TotalWorkingYears',\n",
    "                    'YearsAtCompany',\n",
    "                    'NumCompaniesWorked',\n",
    "                    'Age',\n",
    "                    'MonthlyIncome',\n",
    "                    ]\n",
    "    df.drop(cols_to_drop, inplace = True, axis = 1)\n",
    "    print('Columns Dropped : {}'.format(cols_to_drop))\n",
    "    print('Columns in DataFrame: {}'.format(df.columns.to_list()))\n",
    "    return df"
   ]
  },
  {
   "cell_type": "code",
   "execution_count": 304,
   "metadata": {
    "ExecuteTime": {
     "end_time": "2020-06-25T14:09:35.379564Z",
     "start_time": "2020-06-25T14:09:35.338417Z"
    }
   },
   "outputs": [
    {
     "name": "stdout",
     "output_type": "stream",
     "text": [
      "Columns Dropped : ['Id', 'Behaviour', 'PerformanceRating', 'Gender', 'Education', 'Department', 'EmployeeNumber', 'PercentSalaryHike', 'YearsInCurrentRole', 'YearsSinceLastPromotion', 'YearsWithCurrManager', 'TrainingTimesLastYear', 'EducationField', 'StockOptionLevel', 'TotalWorkingYears', 'YearsAtCompany', 'NumCompaniesWorked', 'Age', 'MonthlyIncome']\n",
      "Columns in DataFrame: ['BusinessTravel', 'DistanceFromHome', 'EnvironmentSatisfaction', 'JobInvolvement', 'JobRole', 'JobSatisfaction', 'MaritalStatus', 'OverTime', 'CommunicationSkill', 'OwnStocks', 'PropWorkLife', 'PropExpComp', 'PropRoleComp', 'AgeBar', 'AboveQPay']\n"
     ]
    }
   ],
   "source": [
    "df_cleaned = extract_feature(df)"
   ]
  },
  {
   "cell_type": "code",
   "execution_count": 305,
   "metadata": {
    "ExecuteTime": {
     "end_time": "2020-06-25T14:09:35.674942Z",
     "start_time": "2020-06-25T14:09:35.667496Z"
    }
   },
   "outputs": [
    {
     "data": {
      "text/plain": [
       "BusinessTravel              object\n",
       "DistanceFromHome             int64\n",
       "EnvironmentSatisfaction      int64\n",
       "JobInvolvement               int64\n",
       "JobRole                     object\n",
       "JobSatisfaction              int64\n",
       "MaritalStatus               object\n",
       "OverTime                    object\n",
       "CommunicationSkill           int64\n",
       "OwnStocks                   object\n",
       "PropWorkLife               float64\n",
       "PropExpComp                float64\n",
       "PropRoleComp               float64\n",
       "AgeBar                      object\n",
       "AboveQPay                   object\n",
       "dtype: object"
      ]
     },
     "execution_count": 305,
     "metadata": {},
     "output_type": "execute_result"
    }
   ],
   "source": [
    "df_cleaned.dtypes"
   ]
  },
  {
   "cell_type": "markdown",
   "metadata": {},
   "source": [
    "### Preprocessing and Model Building Init"
   ]
  },
  {
   "cell_type": "code",
   "execution_count": 306,
   "metadata": {
    "ExecuteTime": {
     "end_time": "2020-06-25T14:09:36.305782Z",
     "start_time": "2020-06-25T14:09:36.298650Z"
    }
   },
   "outputs": [
    {
     "data": {
      "text/plain": [
       "(470, 15)"
      ]
     },
     "execution_count": 306,
     "metadata": {},
     "output_type": "execute_result"
    }
   ],
   "source": [
    "df_cleaned.shape"
   ]
  },
  {
   "cell_type": "code",
   "execution_count": 307,
   "metadata": {
    "ExecuteTime": {
     "end_time": "2020-06-25T14:09:36.622247Z",
     "start_time": "2020-06-25T14:09:36.618255Z"
    }
   },
   "outputs": [],
   "source": [
    "df_X = df_cleaned.copy()"
   ]
  },
  {
   "cell_type": "code",
   "execution_count": 308,
   "metadata": {
    "ExecuteTime": {
     "end_time": "2020-06-25T14:09:37.376848Z",
     "start_time": "2020-06-25T14:09:37.368139Z"
    }
   },
   "outputs": [
    {
     "data": {
      "text/plain": [
       "['BusinessTravel',\n",
       " 'JobRole',\n",
       " 'MaritalStatus',\n",
       " 'OverTime',\n",
       " 'OwnStocks',\n",
       " 'AgeBar',\n",
       " 'AboveQPay']"
      ]
     },
     "execution_count": 308,
     "metadata": {},
     "output_type": "execute_result"
    }
   ],
   "source": [
    "nominal_type = list(df_X.select_dtypes(include='object').columns)\n",
    "nominal_type"
   ]
  },
  {
   "cell_type": "code",
   "execution_count": 309,
   "metadata": {
    "ExecuteTime": {
     "end_time": "2020-06-25T14:09:37.654418Z",
     "start_time": "2020-06-25T14:09:37.647752Z"
    }
   },
   "outputs": [
    {
     "name": "stdout",
     "output_type": "stream",
     "text": [
      "{'BusinessTravel': ['Travel_Rarely', 'Non-Travel', 'Travel_Frequently'], 'JobRole': ['Research Scientist', 'Sales Executive', 'Manufacturing Director', 'Laboratory Technician', 'Healthcare Representative', 'Human Resources', 'Manager', 'Research Director', 'Sales Representative'], 'MaritalStatus': ['Married', 'Divorced', 'Single'], 'OverTime': ['No', 'Yes'], 'OwnStocks': ['Yes', 'No'], 'AgeBar': ['Mid', 'Old', 'Young'], 'AboveQPay': ['No', 'Yes']}\n"
     ]
    }
   ],
   "source": [
    "nominal_type_vals = dict()\n",
    "for ot in nominal_type:\n",
    "    nominal_type_vals[ot] = list(df_X[ot].unique())\n",
    "print(nominal_type_vals)"
   ]
  },
  {
   "cell_type": "code",
   "execution_count": 310,
   "metadata": {
    "ExecuteTime": {
     "end_time": "2020-06-25T14:09:38.038984Z",
     "start_time": "2020-06-25T14:09:38.031342Z"
    }
   },
   "outputs": [
    {
     "data": {
      "text/plain": [
       "['DistanceFromHome',\n",
       " 'EnvironmentSatisfaction',\n",
       " 'JobInvolvement',\n",
       " 'JobSatisfaction',\n",
       " 'CommunicationSkill',\n",
       " 'PropWorkLife',\n",
       " 'PropExpComp',\n",
       " 'PropRoleComp']"
      ]
     },
     "execution_count": 310,
     "metadata": {},
     "output_type": "execute_result"
    }
   ],
   "source": [
    "numerical_type = list(df_X.select_dtypes(exclude='object').columns)\n",
    "numerical_type"
   ]
  },
  {
   "cell_type": "code",
   "execution_count": 311,
   "metadata": {
    "ExecuteTime": {
     "end_time": "2020-06-25T14:09:38.327295Z",
     "start_time": "2020-06-25T14:09:38.320241Z"
    }
   },
   "outputs": [
    {
     "data": {
      "text/plain": [
       "['EnvironmentSatisfaction',\n",
       " 'JobInvolvement',\n",
       " 'JobSatisfaction',\n",
       " 'CommunicationSkill']"
      ]
     },
     "execution_count": 311,
     "metadata": {},
     "output_type": "execute_result"
    }
   ],
   "source": [
    "ordinal_type = list()\n",
    "ordinal_columns_dataset = ['EnvironmentSatisfaction',\n",
    "                           'JobInvolvement',\n",
    "                           'JobSatisfaction',\n",
    "                           'Education',\n",
    "                           'Behaviour',\n",
    "                           'CommunicationSkill',\n",
    "                           'PerformanceRating',\n",
    "                           'StockOptionLevel',\n",
    "                          ]\n",
    "for col in ordinal_columns_dataset:\n",
    "    if col in numerical_type:\n",
    "        numerical_type.remove(col)\n",
    "        ordinal_type.append(col)\n",
    "        \n",
    "ordinal_type"
   ]
  },
  {
   "cell_type": "code",
   "execution_count": 312,
   "metadata": {
    "ExecuteTime": {
     "end_time": "2020-06-25T14:09:38.654949Z",
     "start_time": "2020-06-25T14:09:38.648593Z"
    }
   },
   "outputs": [
    {
     "data": {
      "text/plain": [
       "['BusinessTravel',\n",
       " 'DistanceFromHome',\n",
       " 'EnvironmentSatisfaction',\n",
       " 'JobInvolvement',\n",
       " 'JobRole',\n",
       " 'JobSatisfaction',\n",
       " 'MaritalStatus',\n",
       " 'OverTime',\n",
       " 'CommunicationSkill',\n",
       " 'OwnStocks',\n",
       " 'PropWorkLife',\n",
       " 'PropExpComp',\n",
       " 'PropRoleComp',\n",
       " 'AgeBar',\n",
       " 'AboveQPay']"
      ]
     },
     "execution_count": 312,
     "metadata": {},
     "output_type": "execute_result"
    }
   ],
   "source": [
    "final_cols = list(df_X.columns)\n",
    "final_cols"
   ]
  },
  {
   "cell_type": "code",
   "execution_count": 313,
   "metadata": {
    "ExecuteTime": {
     "end_time": "2020-06-25T14:09:39.011445Z",
     "start_time": "2020-06-25T14:09:39.006612Z"
    }
   },
   "outputs": [],
   "source": [
    "numerical_index = list()\n",
    "nominal_index = list()\n",
    "ordinal_index = list()\n",
    "\n",
    "for col in numerical_type:\n",
    "    numerical_index.append(final_cols.index(col))\n",
    "for col in nominal_type:\n",
    "    nominal_index.append(final_cols.index(col))\n",
    "for col in ordinal_type:\n",
    "    ordinal_index.append(final_cols.index(col))"
   ]
  },
  {
   "cell_type": "code",
   "execution_count": 314,
   "metadata": {
    "ExecuteTime": {
     "end_time": "2020-06-25T14:09:39.643931Z",
     "start_time": "2020-06-25T14:09:39.635871Z"
    }
   },
   "outputs": [
    {
     "name": "stdout",
     "output_type": "stream",
     "text": [
      "Numerical Columns\n",
      "1 DistanceFromHome\n",
      "10 PropWorkLife\n",
      "11 PropExpComp\n",
      "12 PropRoleComp\n",
      "==================================================\n",
      "Nominal Columns\n",
      "0 BusinessTravel\n",
      "4 JobRole\n",
      "6 MaritalStatus\n",
      "7 OverTime\n",
      "9 OwnStocks\n",
      "13 AgeBar\n",
      "14 AboveQPay\n",
      "==================================================\n",
      "Ordinal Columns\n",
      "2 EnvironmentSatisfaction\n",
      "3 JobInvolvement\n",
      "5 JobSatisfaction\n",
      "8 CommunicationSkill\n"
     ]
    }
   ],
   "source": [
    "print('Numerical Columns')\n",
    "for i,col in zip(numerical_index, numerical_type):\n",
    "    print(i, col)\n",
    "print('='*50)\n",
    "print('Nominal Columns')\n",
    "for i,col in zip(nominal_index, nominal_type):\n",
    "    print(i, col)\n",
    "print('='*50)\n",
    "print('Ordinal Columns')\n",
    "for i,col in zip(ordinal_index, ordinal_type):\n",
    "    print(i, col)"
   ]
  },
  {
   "cell_type": "code",
   "execution_count": 315,
   "metadata": {
    "ExecuteTime": {
     "end_time": "2020-06-25T14:09:40.074297Z",
     "start_time": "2020-06-25T14:09:40.039881Z"
    }
   },
   "outputs": [
    {
     "data": {
      "text/html": [
       "<div>\n",
       "<style scoped>\n",
       "    .dataframe tbody tr th:only-of-type {\n",
       "        vertical-align: middle;\n",
       "    }\n",
       "\n",
       "    .dataframe tbody tr th {\n",
       "        vertical-align: top;\n",
       "    }\n",
       "\n",
       "    .dataframe thead th {\n",
       "        text-align: right;\n",
       "    }\n",
       "</style>\n",
       "<table border=\"1\" class=\"dataframe\">\n",
       "  <thead>\n",
       "    <tr style=\"text-align: right;\">\n",
       "      <th></th>\n",
       "      <th>DistanceFromHome</th>\n",
       "      <th>EnvironmentSatisfaction</th>\n",
       "      <th>JobInvolvement</th>\n",
       "      <th>JobSatisfaction</th>\n",
       "      <th>CommunicationSkill</th>\n",
       "      <th>PropWorkLife</th>\n",
       "      <th>PropExpComp</th>\n",
       "      <th>PropRoleComp</th>\n",
       "    </tr>\n",
       "  </thead>\n",
       "  <tbody>\n",
       "    <tr>\n",
       "      <th>count</th>\n",
       "      <td>470.000000</td>\n",
       "      <td>470.000000</td>\n",
       "      <td>470.000000</td>\n",
       "      <td>470.000000</td>\n",
       "      <td>470.000000</td>\n",
       "      <td>470.000000</td>\n",
       "      <td>470.000000</td>\n",
       "      <td>470.000000</td>\n",
       "    </tr>\n",
       "    <tr>\n",
       "      <th>mean</th>\n",
       "      <td>9.293617</td>\n",
       "      <td>2.708511</td>\n",
       "      <td>2.736170</td>\n",
       "      <td>2.693617</td>\n",
       "      <td>3.051064</td>\n",
       "      <td>0.290479</td>\n",
       "      <td>0.271368</td>\n",
       "      <td>0.482867</td>\n",
       "    </tr>\n",
       "    <tr>\n",
       "      <th>std</th>\n",
       "      <td>8.084506</td>\n",
       "      <td>1.089850</td>\n",
       "      <td>0.729057</td>\n",
       "      <td>1.138473</td>\n",
       "      <td>1.413289</td>\n",
       "      <td>0.152715</td>\n",
       "      <td>0.283311</td>\n",
       "      <td>0.270832</td>\n",
       "    </tr>\n",
       "    <tr>\n",
       "      <th>min</th>\n",
       "      <td>1.000000</td>\n",
       "      <td>1.000000</td>\n",
       "      <td>1.000000</td>\n",
       "      <td>1.000000</td>\n",
       "      <td>1.000000</td>\n",
       "      <td>0.000000</td>\n",
       "      <td>0.000000</td>\n",
       "      <td>0.000000</td>\n",
       "    </tr>\n",
       "    <tr>\n",
       "      <th>25%</th>\n",
       "      <td>2.000000</td>\n",
       "      <td>2.000000</td>\n",
       "      <td>2.000000</td>\n",
       "      <td>2.000000</td>\n",
       "      <td>2.000000</td>\n",
       "      <td>0.181818</td>\n",
       "      <td>0.090909</td>\n",
       "      <td>0.333333</td>\n",
       "    </tr>\n",
       "    <tr>\n",
       "      <th>50%</th>\n",
       "      <td>7.000000</td>\n",
       "      <td>3.000000</td>\n",
       "      <td>3.000000</td>\n",
       "      <td>3.000000</td>\n",
       "      <td>3.000000</td>\n",
       "      <td>0.276820</td>\n",
       "      <td>0.166667</td>\n",
       "      <td>0.500000</td>\n",
       "    </tr>\n",
       "    <tr>\n",
       "      <th>75%</th>\n",
       "      <td>15.000000</td>\n",
       "      <td>4.000000</td>\n",
       "      <td>3.000000</td>\n",
       "      <td>4.000000</td>\n",
       "      <td>4.000000</td>\n",
       "      <td>0.386913</td>\n",
       "      <td>0.400000</td>\n",
       "      <td>0.666667</td>\n",
       "    </tr>\n",
       "    <tr>\n",
       "      <th>max</th>\n",
       "      <td>29.000000</td>\n",
       "      <td>4.000000</td>\n",
       "      <td>4.000000</td>\n",
       "      <td>4.000000</td>\n",
       "      <td>5.000000</td>\n",
       "      <td>0.689655</td>\n",
       "      <td>2.000000</td>\n",
       "      <td>0.882353</td>\n",
       "    </tr>\n",
       "  </tbody>\n",
       "</table>\n",
       "</div>"
      ],
      "text/plain": [
       "       DistanceFromHome  EnvironmentSatisfaction  JobInvolvement  \\\n",
       "count        470.000000               470.000000      470.000000   \n",
       "mean           9.293617                 2.708511        2.736170   \n",
       "std            8.084506                 1.089850        0.729057   \n",
       "min            1.000000                 1.000000        1.000000   \n",
       "25%            2.000000                 2.000000        2.000000   \n",
       "50%            7.000000                 3.000000        3.000000   \n",
       "75%           15.000000                 4.000000        3.000000   \n",
       "max           29.000000                 4.000000        4.000000   \n",
       "\n",
       "       JobSatisfaction  CommunicationSkill  PropWorkLife  PropExpComp  \\\n",
       "count       470.000000          470.000000    470.000000   470.000000   \n",
       "mean          2.693617            3.051064      0.290479     0.271368   \n",
       "std           1.138473            1.413289      0.152715     0.283311   \n",
       "min           1.000000            1.000000      0.000000     0.000000   \n",
       "25%           2.000000            2.000000      0.181818     0.090909   \n",
       "50%           3.000000            3.000000      0.276820     0.166667   \n",
       "75%           4.000000            4.000000      0.386913     0.400000   \n",
       "max           4.000000            5.000000      0.689655     2.000000   \n",
       "\n",
       "       PropRoleComp  \n",
       "count    470.000000  \n",
       "mean       0.482867  \n",
       "std        0.270832  \n",
       "min        0.000000  \n",
       "25%        0.333333  \n",
       "50%        0.500000  \n",
       "75%        0.666667  \n",
       "max        0.882353  "
      ]
     },
     "execution_count": 315,
     "metadata": {},
     "output_type": "execute_result"
    }
   ],
   "source": [
    "df_X.describe()"
   ]
  },
  {
   "cell_type": "code",
   "execution_count": 316,
   "metadata": {
    "ExecuteTime": {
     "end_time": "2020-06-25T14:09:40.581977Z",
     "start_time": "2020-06-25T14:09:40.571626Z"
    }
   },
   "outputs": [],
   "source": [
    "from sklearn.preprocessing import OneHotEncoder\n",
    "encoder_dic = {}\n",
    "for col in nominal_index:\n",
    "    enc = OneHotEncoder(categories='auto',drop='first',sparse = False).fit(df_X.iloc[:,[col]])\n",
    "    encoder_dic[col] = enc"
   ]
  },
  {
   "cell_type": "code",
   "execution_count": 317,
   "metadata": {
    "ExecuteTime": {
     "end_time": "2020-06-25T14:09:41.044458Z",
     "start_time": "2020-06-25T14:09:41.039762Z"
    }
   },
   "outputs": [],
   "source": [
    "X_test = df_X.copy()"
   ]
  },
  {
   "cell_type": "code",
   "execution_count": 318,
   "metadata": {
    "ExecuteTime": {
     "end_time": "2020-06-25T14:09:41.462683Z",
     "start_time": "2020-06-25T14:09:41.455807Z"
    }
   },
   "outputs": [
    {
     "data": {
      "text/plain": [
       "(470, 15)"
      ]
     },
     "execution_count": 318,
     "metadata": {},
     "output_type": "execute_result"
    }
   ],
   "source": [
    "X_test.shape"
   ]
  },
  {
   "cell_type": "code",
   "execution_count": 319,
   "metadata": {
    "ExecuteTime": {
     "end_time": "2020-06-25T14:09:41.823021Z",
     "start_time": "2020-06-25T14:09:41.771693Z"
    }
   },
   "outputs": [],
   "source": [
    "for i, enc in encoder_dic.items():\n",
    "    temp = pd.DataFrame(enc.transform(X_test.iloc[:,[i]]), columns=[ list(df_X.columns)[i]+'_'+colname for colname in list(enc.categories_[0])[1:]]).reset_index()\n",
    "    X_test = pd.concat( [X_test, temp], axis = 1 )"
   ]
  },
  {
   "cell_type": "code",
   "execution_count": 320,
   "metadata": {
    "ExecuteTime": {
     "end_time": "2020-06-25T14:09:42.139482Z",
     "start_time": "2020-06-25T14:09:42.132348Z"
    }
   },
   "outputs": [],
   "source": [
    "X_test.drop(nominal_type, inplace=True, axis=1)"
   ]
  },
  {
   "cell_type": "code",
   "execution_count": 321,
   "metadata": {
    "ExecuteTime": {
     "end_time": "2020-06-25T14:09:42.474253Z",
     "start_time": "2020-06-25T14:09:42.467588Z"
    }
   },
   "outputs": [
    {
     "data": {
      "text/plain": [
       "array(['DistanceFromHome', 'EnvironmentSatisfaction', 'JobInvolvement',\n",
       "       'JobSatisfaction', 'CommunicationSkill', 'PropWorkLife',\n",
       "       'PropExpComp', 'PropRoleComp', 'index',\n",
       "       'BusinessTravel_Travel_Frequently', 'BusinessTravel_Travel_Rarely',\n",
       "       'index', 'JobRole_Human Resources',\n",
       "       'JobRole_Laboratory Technician', 'JobRole_Manager',\n",
       "       'JobRole_Manufacturing Director', 'JobRole_Research Director',\n",
       "       'JobRole_Research Scientist', 'JobRole_Sales Executive',\n",
       "       'JobRole_Sales Representative', 'index', 'MaritalStatus_Married',\n",
       "       'MaritalStatus_Single', 'index', 'OverTime_Yes', 'index',\n",
       "       'OwnStocks_Yes', 'index', 'AgeBar_Old', 'AgeBar_Young', 'index',\n",
       "       'AboveQPay_Yes'], dtype=object)"
      ]
     },
     "execution_count": 321,
     "metadata": {},
     "output_type": "execute_result"
    }
   ],
   "source": [
    "final_cols_encoded = X_test.columns.values\n",
    "final_cols_encoded"
   ]
  },
  {
   "cell_type": "code",
   "execution_count": 322,
   "metadata": {
    "ExecuteTime": {
     "end_time": "2020-06-25T14:09:42.775081Z",
     "start_time": "2020-06-25T14:09:42.771534Z"
    }
   },
   "outputs": [],
   "source": [
    "X_test = X_test.values"
   ]
  },
  {
   "cell_type": "code",
   "execution_count": 323,
   "metadata": {
    "ExecuteTime": {
     "end_time": "2020-06-25T14:09:43.111448Z",
     "start_time": "2020-06-25T14:09:43.104037Z"
    }
   },
   "outputs": [],
   "source": [
    "from sklearn.model_selection import RepeatedStratifiedKFold\n",
    "from sklearn.ensemble import RandomForestClassifier\n",
    "from sklearn.ensemble import AdaBoostClassifier\n",
    "from sklearn.tree import DecisionTreeClassifier\n",
    "from sklearn.linear_model import LogisticRegression\n",
    "from sklearn.linear_model import SGDClassifier\n",
    "from sklearn.svm import SVC\n",
    "from sklearn.neighbors import KNeighborsClassifier\n",
    "from sklearn.neural_network import MLPClassifier\n",
    "from sklearn.model_selection import cross_val_score\n",
    "from sklearn import metrics\n",
    "from sklearn.model_selection import GridSearchCV\n",
    "from sklearn.svm import SVC"
   ]
  },
  {
   "cell_type": "code",
   "execution_count": 324,
   "metadata": {
    "ExecuteTime": {
     "end_time": "2020-06-25T14:09:43.392766Z",
     "start_time": "2020-06-25T14:09:43.386698Z"
    }
   },
   "outputs": [],
   "source": [
    "def test_model_perf(model, X):\n",
    "    predictions_df = pd.DataFrame(model.predict_proba(X),columns=['No_Attrition','Attrition'], index=range(1,471))\n",
    "    predictions_df.No_Attrition = predictions_df.No_Attrition.apply(lambda x: np.around(x,7))\n",
    "    predictions_df.Attrition = predictions_df.Attrition.apply(lambda x: np.around(x,7))\n",
    "    predictions_df.index.name = 'Id'\n",
    "    final_df = predictions_df[['Attrition']]\n",
    "    return final_df"
   ]
  },
  {
   "cell_type": "code",
   "execution_count": 325,
   "metadata": {
    "ExecuteTime": {
     "end_time": "2020-06-25T14:09:43.793084Z",
     "start_time": "2020-06-25T14:09:43.663472Z"
    }
   },
   "outputs": [
    {
     "name": "stdout",
     "output_type": "stream",
     "text": [
      "mkdir: submissions: File exists\r\n"
     ]
    }
   ],
   "source": [
    "!mkdir submissions"
   ]
  },
  {
   "cell_type": "code",
   "execution_count": 326,
   "metadata": {
    "ExecuteTime": {
     "end_time": "2020-06-25T14:09:44.219907Z",
     "start_time": "2020-06-25T14:09:44.120713Z"
    }
   },
   "outputs": [],
   "source": [
    "pkl_filename = \"models/Final_RandomForestC.pkl\"\n",
    "sub_filename = \"submissions/Final_RandomForestC.csv\"\n",
    "model = RandomForestClassifier()\n",
    "with open(pkl_filename, 'rb') as file:\n",
    "    model = pickle.load(file)\n",
    "predictions_df = test_model_perf(model, X_test)\n",
    "predictions_df.to_csv(sub_filename)"
   ]
  },
  {
   "cell_type": "code",
   "execution_count": 327,
   "metadata": {
    "ExecuteTime": {
     "end_time": "2020-06-25T14:09:44.580385Z",
     "start_time": "2020-06-25T14:09:44.528073Z"
    }
   },
   "outputs": [
    {
     "ename": "ValueError",
     "evalue": "Number of features of the model must match the input. Model n_features is 30 and input n_features is 32 ",
     "output_type": "error",
     "traceback": [
      "\u001b[0;31m---------------------------------------------------------------------------\u001b[0m",
      "\u001b[0;31mValueError\u001b[0m                                Traceback (most recent call last)",
      "\u001b[0;32m<ipython-input-327-247107e9bfb1>\u001b[0m in \u001b[0;36m<module>\u001b[0;34m\u001b[0m\n\u001b[1;32m      4\u001b[0m \u001b[0;32mwith\u001b[0m \u001b[0mopen\u001b[0m\u001b[0;34m(\u001b[0m\u001b[0mpkl_filename\u001b[0m\u001b[0;34m,\u001b[0m \u001b[0;34m'rb'\u001b[0m\u001b[0;34m)\u001b[0m \u001b[0;32mas\u001b[0m \u001b[0mfile\u001b[0m\u001b[0;34m:\u001b[0m\u001b[0;34m\u001b[0m\u001b[0;34m\u001b[0m\u001b[0m\n\u001b[1;32m      5\u001b[0m     \u001b[0mmodel\u001b[0m \u001b[0;34m=\u001b[0m \u001b[0mpickle\u001b[0m\u001b[0;34m.\u001b[0m\u001b[0mload\u001b[0m\u001b[0;34m(\u001b[0m\u001b[0mfile\u001b[0m\u001b[0;34m)\u001b[0m\u001b[0;34m\u001b[0m\u001b[0;34m\u001b[0m\u001b[0m\n\u001b[0;32m----> 6\u001b[0;31m \u001b[0mpredictions_df\u001b[0m \u001b[0;34m=\u001b[0m \u001b[0mtest_model_perf\u001b[0m\u001b[0;34m(\u001b[0m\u001b[0mmodel\u001b[0m\u001b[0;34m,\u001b[0m \u001b[0mX_test\u001b[0m\u001b[0;34m)\u001b[0m\u001b[0;34m\u001b[0m\u001b[0;34m\u001b[0m\u001b[0m\n\u001b[0m\u001b[1;32m      7\u001b[0m \u001b[0mpredictions_df\u001b[0m\u001b[0;34m.\u001b[0m\u001b[0mto_csv\u001b[0m\u001b[0;34m(\u001b[0m\u001b[0msub_filename\u001b[0m\u001b[0;34m)\u001b[0m\u001b[0;34m\u001b[0m\u001b[0;34m\u001b[0m\u001b[0m\n",
      "\u001b[0;32m<ipython-input-324-3583a1f55844>\u001b[0m in \u001b[0;36mtest_model_perf\u001b[0;34m(model, X)\u001b[0m\n\u001b[1;32m      1\u001b[0m \u001b[0;32mdef\u001b[0m \u001b[0mtest_model_perf\u001b[0m\u001b[0;34m(\u001b[0m\u001b[0mmodel\u001b[0m\u001b[0;34m,\u001b[0m \u001b[0mX\u001b[0m\u001b[0;34m)\u001b[0m\u001b[0;34m:\u001b[0m\u001b[0;34m\u001b[0m\u001b[0;34m\u001b[0m\u001b[0m\n\u001b[0;32m----> 2\u001b[0;31m     \u001b[0mpredictions_df\u001b[0m \u001b[0;34m=\u001b[0m \u001b[0mpd\u001b[0m\u001b[0;34m.\u001b[0m\u001b[0mDataFrame\u001b[0m\u001b[0;34m(\u001b[0m\u001b[0mmodel\u001b[0m\u001b[0;34m.\u001b[0m\u001b[0mpredict_proba\u001b[0m\u001b[0;34m(\u001b[0m\u001b[0mX\u001b[0m\u001b[0;34m)\u001b[0m\u001b[0;34m,\u001b[0m\u001b[0mcolumns\u001b[0m\u001b[0;34m=\u001b[0m\u001b[0;34m[\u001b[0m\u001b[0;34m'No_Attrition'\u001b[0m\u001b[0;34m,\u001b[0m\u001b[0;34m'Attrition'\u001b[0m\u001b[0;34m]\u001b[0m\u001b[0;34m,\u001b[0m \u001b[0mindex\u001b[0m\u001b[0;34m=\u001b[0m\u001b[0mrange\u001b[0m\u001b[0;34m(\u001b[0m\u001b[0;36m1\u001b[0m\u001b[0;34m,\u001b[0m\u001b[0;36m471\u001b[0m\u001b[0;34m)\u001b[0m\u001b[0;34m)\u001b[0m\u001b[0;34m\u001b[0m\u001b[0;34m\u001b[0m\u001b[0m\n\u001b[0m\u001b[1;32m      3\u001b[0m     \u001b[0mpredictions_df\u001b[0m\u001b[0;34m.\u001b[0m\u001b[0mNo_Attrition\u001b[0m \u001b[0;34m=\u001b[0m \u001b[0mpredictions_df\u001b[0m\u001b[0;34m.\u001b[0m\u001b[0mNo_Attrition\u001b[0m\u001b[0;34m.\u001b[0m\u001b[0mapply\u001b[0m\u001b[0;34m(\u001b[0m\u001b[0;32mlambda\u001b[0m \u001b[0mx\u001b[0m\u001b[0;34m:\u001b[0m \u001b[0mnp\u001b[0m\u001b[0;34m.\u001b[0m\u001b[0maround\u001b[0m\u001b[0;34m(\u001b[0m\u001b[0mx\u001b[0m\u001b[0;34m,\u001b[0m\u001b[0;36m7\u001b[0m\u001b[0;34m)\u001b[0m\u001b[0;34m)\u001b[0m\u001b[0;34m\u001b[0m\u001b[0;34m\u001b[0m\u001b[0m\n\u001b[1;32m      4\u001b[0m     \u001b[0mpredictions_df\u001b[0m\u001b[0;34m.\u001b[0m\u001b[0mAttrition\u001b[0m \u001b[0;34m=\u001b[0m \u001b[0mpredictions_df\u001b[0m\u001b[0;34m.\u001b[0m\u001b[0mAttrition\u001b[0m\u001b[0;34m.\u001b[0m\u001b[0mapply\u001b[0m\u001b[0;34m(\u001b[0m\u001b[0;32mlambda\u001b[0m \u001b[0mx\u001b[0m\u001b[0;34m:\u001b[0m \u001b[0mnp\u001b[0m\u001b[0;34m.\u001b[0m\u001b[0maround\u001b[0m\u001b[0;34m(\u001b[0m\u001b[0mx\u001b[0m\u001b[0;34m,\u001b[0m\u001b[0;36m7\u001b[0m\u001b[0;34m)\u001b[0m\u001b[0;34m)\u001b[0m\u001b[0;34m\u001b[0m\u001b[0;34m\u001b[0m\u001b[0m\n\u001b[1;32m      5\u001b[0m     \u001b[0mpredictions_df\u001b[0m\u001b[0;34m.\u001b[0m\u001b[0mindex\u001b[0m\u001b[0;34m.\u001b[0m\u001b[0mname\u001b[0m \u001b[0;34m=\u001b[0m \u001b[0;34m'Id'\u001b[0m\u001b[0;34m\u001b[0m\u001b[0;34m\u001b[0m\u001b[0m\n",
      "\u001b[0;32m~/miniconda3/envs/mlenv/lib/python3.7/site-packages/sklearn/ensemble/_forest.py\u001b[0m in \u001b[0;36mpredict_proba\u001b[0;34m(self, X)\u001b[0m\n\u001b[1;32m    654\u001b[0m         \u001b[0mcheck_is_fitted\u001b[0m\u001b[0;34m(\u001b[0m\u001b[0mself\u001b[0m\u001b[0;34m)\u001b[0m\u001b[0;34m\u001b[0m\u001b[0;34m\u001b[0m\u001b[0m\n\u001b[1;32m    655\u001b[0m         \u001b[0;31m# Check data\u001b[0m\u001b[0;34m\u001b[0m\u001b[0;34m\u001b[0m\u001b[0;34m\u001b[0m\u001b[0m\n\u001b[0;32m--> 656\u001b[0;31m         \u001b[0mX\u001b[0m \u001b[0;34m=\u001b[0m \u001b[0mself\u001b[0m\u001b[0;34m.\u001b[0m\u001b[0m_validate_X_predict\u001b[0m\u001b[0;34m(\u001b[0m\u001b[0mX\u001b[0m\u001b[0;34m)\u001b[0m\u001b[0;34m\u001b[0m\u001b[0;34m\u001b[0m\u001b[0m\n\u001b[0m\u001b[1;32m    657\u001b[0m \u001b[0;34m\u001b[0m\u001b[0m\n\u001b[1;32m    658\u001b[0m         \u001b[0;31m# Assign chunk of trees to jobs\u001b[0m\u001b[0;34m\u001b[0m\u001b[0;34m\u001b[0m\u001b[0;34m\u001b[0m\u001b[0m\n",
      "\u001b[0;32m~/miniconda3/envs/mlenv/lib/python3.7/site-packages/sklearn/ensemble/_forest.py\u001b[0m in \u001b[0;36m_validate_X_predict\u001b[0;34m(self, X)\u001b[0m\n\u001b[1;32m    410\u001b[0m         \u001b[0mcheck_is_fitted\u001b[0m\u001b[0;34m(\u001b[0m\u001b[0mself\u001b[0m\u001b[0;34m)\u001b[0m\u001b[0;34m\u001b[0m\u001b[0;34m\u001b[0m\u001b[0m\n\u001b[1;32m    411\u001b[0m \u001b[0;34m\u001b[0m\u001b[0m\n\u001b[0;32m--> 412\u001b[0;31m         \u001b[0;32mreturn\u001b[0m \u001b[0mself\u001b[0m\u001b[0;34m.\u001b[0m\u001b[0mestimators_\u001b[0m\u001b[0;34m[\u001b[0m\u001b[0;36m0\u001b[0m\u001b[0;34m]\u001b[0m\u001b[0;34m.\u001b[0m\u001b[0m_validate_X_predict\u001b[0m\u001b[0;34m(\u001b[0m\u001b[0mX\u001b[0m\u001b[0;34m,\u001b[0m \u001b[0mcheck_input\u001b[0m\u001b[0;34m=\u001b[0m\u001b[0;32mTrue\u001b[0m\u001b[0;34m)\u001b[0m\u001b[0;34m\u001b[0m\u001b[0;34m\u001b[0m\u001b[0m\n\u001b[0m\u001b[1;32m    413\u001b[0m \u001b[0;34m\u001b[0m\u001b[0m\n\u001b[1;32m    414\u001b[0m     \u001b[0;34m@\u001b[0m\u001b[0mproperty\u001b[0m\u001b[0;34m\u001b[0m\u001b[0;34m\u001b[0m\u001b[0m\n",
      "\u001b[0;32m~/miniconda3/envs/mlenv/lib/python3.7/site-packages/sklearn/tree/_classes.py\u001b[0m in \u001b[0;36m_validate_X_predict\u001b[0;34m(self, X, check_input)\u001b[0m\n\u001b[1;32m    389\u001b[0m                              \u001b[0;34m\"match the input. Model n_features is %s and \"\u001b[0m\u001b[0;34m\u001b[0m\u001b[0;34m\u001b[0m\u001b[0m\n\u001b[1;32m    390\u001b[0m                              \u001b[0;34m\"input n_features is %s \"\u001b[0m\u001b[0;34m\u001b[0m\u001b[0;34m\u001b[0m\u001b[0m\n\u001b[0;32m--> 391\u001b[0;31m                              % (self.n_features_, n_features))\n\u001b[0m\u001b[1;32m    392\u001b[0m \u001b[0;34m\u001b[0m\u001b[0m\n\u001b[1;32m    393\u001b[0m         \u001b[0;32mreturn\u001b[0m \u001b[0mX\u001b[0m\u001b[0;34m\u001b[0m\u001b[0;34m\u001b[0m\u001b[0m\n",
      "\u001b[0;31mValueError\u001b[0m: Number of features of the model must match the input. Model n_features is 30 and input n_features is 32 "
     ]
    }
   ],
   "source": [
    "pkl_filename = \"models/Final_RandomForestB.pkl\"\n",
    "sub_filename = \"submissions/Final_RandomForestB.csv\"\n",
    "model = RandomForestClassifier()\n",
    "with open(pkl_filename, 'rb') as file:\n",
    "    model = pickle.load(file)\n",
    "predictions_df = test_model_perf(model, X_test)\n",
    "predictions_df.to_csv(sub_filename)"
   ]
  },
  {
   "cell_type": "code",
   "execution_count": 57,
   "metadata": {
    "ExecuteTime": {
     "end_time": "2020-06-22T15:49:05.346269Z",
     "start_time": "2020-06-22T15:49:05.250272Z"
    }
   },
   "outputs": [],
   "source": [
    "pkl_filename = \"models/Final_RandomForestA.pkl\"\n",
    "sub_filename = \"submissions/Final_RandomForestA.csv\"\n",
    "model = RandomForestClassifier()\n",
    "with open(pkl_filename, 'rb') as file:\n",
    "    model = pickle.load(file)\n",
    "predictions_df = test_model_perf(model, X_test)\n",
    "predictions_df.to_csv(sub_filename)"
   ]
  },
  {
   "cell_type": "code",
   "execution_count": null,
   "metadata": {},
   "outputs": [],
   "source": [
    "pkl_filename = \"models/RandomForest.pkl\"\n",
    "sub_filename = \"submissions/RandomForest.csv\"\n",
    "model = RandomForestClassifier()\n",
    "with open(pkl_filename, 'rb') as file:\n",
    "    model = pickle.load(file)\n",
    "predictions_df = test_model_perf(model, X_test)\n",
    "predictions_df.to_csv(sub_filename)"
   ]
  }
 ],
 "metadata": {
  "kernelspec": {
   "display_name": "Python 3",
   "language": "python",
   "name": "python3"
  },
  "language_info": {
   "codemirror_mode": {
    "name": "ipython",
    "version": 3
   },
   "file_extension": ".py",
   "mimetype": "text/x-python",
   "name": "python",
   "nbconvert_exporter": "python",
   "pygments_lexer": "ipython3",
   "version": "3.7.7"
  },
  "varInspector": {
   "cols": {
    "lenName": 16,
    "lenType": 16,
    "lenVar": 40
   },
   "kernels_config": {
    "python": {
     "delete_cmd_postfix": "",
     "delete_cmd_prefix": "del ",
     "library": "var_list.py",
     "varRefreshCmd": "print(var_dic_list())"
    },
    "r": {
     "delete_cmd_postfix": ") ",
     "delete_cmd_prefix": "rm(",
     "library": "var_list.r",
     "varRefreshCmd": "cat(var_dic_list()) "
    }
   },
   "types_to_exclude": [
    "module",
    "function",
    "builtin_function_or_method",
    "instance",
    "_Feature"
   ],
   "window_display": false
  }
 },
 "nbformat": 4,
 "nbformat_minor": 4
}
