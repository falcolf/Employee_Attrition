{
 "cells": [
  {
   "cell_type": "code",
   "execution_count": 28,
   "metadata": {
    "ExecuteTime": {
     "end_time": "2020-06-24T18:26:55.731185Z",
     "start_time": "2020-06-24T18:26:55.723985Z"
    }
   },
   "outputs": [],
   "source": [
    "import pandas as pd\n",
    "import numpy as np\n",
    "import matplotlib.pyplot as plt\n",
    "import seaborn as sns\n",
    "%matplotlib inline\n",
    "import json\n",
    "import pickle"
   ]
  },
  {
   "cell_type": "code",
   "execution_count": 29,
   "metadata": {
    "ExecuteTime": {
     "end_time": "2020-06-24T18:26:56.059227Z",
     "start_time": "2020-06-24T18:26:56.039580Z"
    }
   },
   "outputs": [
    {
     "data": {
      "text/plain": [
       "(470, 28)"
      ]
     },
     "execution_count": 29,
     "metadata": {},
     "output_type": "execute_result"
    }
   ],
   "source": [
    "df = pd.read_csv('data/test.csv')\n",
    "df.shape"
   ]
  },
  {
   "cell_type": "code",
   "execution_count": 30,
   "metadata": {
    "ExecuteTime": {
     "end_time": "2020-06-24T18:26:56.306002Z",
     "start_time": "2020-06-24T18:26:56.298674Z"
    }
   },
   "outputs": [
    {
     "data": {
      "text/plain": [
       "Index(['Id', 'Age', 'BusinessTravel', 'Department', 'DistanceFromHome',\n",
       "       'Education', 'EducationField', 'EmployeeNumber',\n",
       "       'EnvironmentSatisfaction', 'Gender', 'JobInvolvement', 'JobRole',\n",
       "       'JobSatisfaction', 'MaritalStatus', 'MonthlyIncome',\n",
       "       'NumCompaniesWorked', 'OverTime', 'PercentSalaryHike',\n",
       "       'PerformanceRating', 'StockOptionLevel', 'TotalWorkingYears',\n",
       "       'TrainingTimesLastYear', 'YearsAtCompany', 'YearsInCurrentRole',\n",
       "       'YearsSinceLastPromotion', 'YearsWithCurrManager', 'CommunicationSkill',\n",
       "       'Behaviour'],\n",
       "      dtype='object')"
      ]
     },
     "execution_count": 30,
     "metadata": {},
     "output_type": "execute_result"
    }
   ],
   "source": [
    "df.columns"
   ]
  },
  {
   "cell_type": "markdown",
   "metadata": {},
   "source": [
    "### Feature Engineering"
   ]
  },
  {
   "cell_type": "code",
   "execution_count": 31,
   "metadata": {
    "ExecuteTime": {
     "end_time": "2020-06-24T18:26:56.684933Z",
     "start_time": "2020-06-24T18:26:56.672377Z"
    }
   },
   "outputs": [],
   "source": [
    "def extract_feature(df_input):\n",
    "    df = df_input.copy()\n",
    "    df['OwnStocks'] = df.StockOptionLevel.apply(lambda x: 'No' if x == 0 else 'Yes')\n",
    "    df['PropWorkLife'] = df.TotalWorkingYears / df.Age\n",
    "    df['PropExpComp'] = df.NumCompaniesWorked / (df.TotalWorkingYears+1)\n",
    "    df['PropRoleComp'] = df.YearsInCurrentRole / (df.YearsAtCompany + 1)\n",
    "    df['AgeBar'] = pd.cut(df.Age, bins = [0,27,45,np.inf], labels=['Young','Mid','Old']).astype('object')\n",
    "    q_pays = {\n",
    "        'Laboratory Technician': 2705.0, \n",
    "        'Manufacturing Director': 5824.4000000000015, \n",
    "        'Sales Executive': 5675.8, \n",
    "        'Research Scientist': 2693.4, \n",
    "        'Sales Representative': 2325.8, \n",
    "        'Healthcare Representative': 6348.6, \n",
    "        'Research Director': 15014.600000000002, \n",
    "        'Human Resources': 2741.0, \n",
    "        'Manager': 16894.0\n",
    "    }\n",
    "    df['AboveQPay'] = df.apply(lambda x: 'No' if x.MonthlyIncome < q_pays.get(x.JobRole) else 'Yes', axis = 1)\n",
    "    df['WorkFactors'] = (df.EnvironmentSatisfaction+df.JobSatisfaction+df.JobInvolvement) / 15\n",
    "    df['CommunicationSkill'] = 1 / df['CommunicationSkill']\n",
    "    df['DistanceFromHome'] = 1/ df['DistanceFromHome']\n",
    "    cols_to_drop = [\n",
    "                    'Id',\n",
    "                    'Behaviour',\n",
    "                    'PerformanceRating',\n",
    "                    'Gender',\n",
    "                    'Education', \n",
    "                    'Department',\n",
    "                    'EmployeeNumber',\n",
    "                    'PercentSalaryHike',\n",
    "                    'YearsInCurrentRole',\n",
    "                    'YearsSinceLastPromotion',\n",
    "                    'YearsWithCurrManager',\n",
    "                    'TrainingTimesLastYear',\n",
    "                    'EducationField',\n",
    "                    'StockOptionLevel',\n",
    "                    'TotalWorkingYears',\n",
    "                    'YearsAtCompany',\n",
    "                    'NumCompaniesWorked',\n",
    "                    'JobSatisfaction',\n",
    "                    'EnvironmentSatisfaction',\n",
    "                    'JobInvolvement',\n",
    "                    'Age',\n",
    "                    'MonthlyIncome',\n",
    "                    #'DistanceFromHome'\n",
    "                  ]\n",
    "    df.drop(cols_to_drop, inplace = True, axis = 1)\n",
    "    print('Columns Dropped : {}'.format(cols_to_drop))\n",
    "    print('Columns in DataFrame: {}'.format(df.columns.to_list()))\n",
    "    return df"
   ]
  },
  {
   "cell_type": "code",
   "execution_count": 32,
   "metadata": {
    "ExecuteTime": {
     "end_time": "2020-06-24T18:26:56.962367Z",
     "start_time": "2020-06-24T18:26:56.921074Z"
    }
   },
   "outputs": [
    {
     "name": "stdout",
     "output_type": "stream",
     "text": [
      "Columns Dropped : ['Id', 'Behaviour', 'PerformanceRating', 'Gender', 'Education', 'Department', 'EmployeeNumber', 'PercentSalaryHike', 'YearsInCurrentRole', 'YearsSinceLastPromotion', 'YearsWithCurrManager', 'TrainingTimesLastYear', 'EducationField', 'StockOptionLevel', 'TotalWorkingYears', 'YearsAtCompany', 'NumCompaniesWorked', 'JobSatisfaction', 'EnvironmentSatisfaction', 'JobInvolvement', 'Age', 'MonthlyIncome']\n",
      "Columns in DataFrame: ['BusinessTravel', 'DistanceFromHome', 'JobRole', 'MaritalStatus', 'OverTime', 'CommunicationSkill', 'OwnStocks', 'PropWorkLife', 'PropExpComp', 'PropRoleComp', 'AgeBar', 'AboveQPay', 'WorkFactors']\n"
     ]
    }
   ],
   "source": [
    "df_cleaned = extract_feature(df)"
   ]
  },
  {
   "cell_type": "code",
   "execution_count": 33,
   "metadata": {
    "ExecuteTime": {
     "end_time": "2020-06-24T18:26:57.179314Z",
     "start_time": "2020-06-24T18:26:57.166682Z"
    }
   },
   "outputs": [
    {
     "data": {
      "text/plain": [
       "BusinessTravel         object\n",
       "DistanceFromHome      float64\n",
       "JobRole                object\n",
       "MaritalStatus          object\n",
       "OverTime               object\n",
       "CommunicationSkill    float64\n",
       "OwnStocks              object\n",
       "PropWorkLife          float64\n",
       "PropExpComp           float64\n",
       "PropRoleComp          float64\n",
       "AgeBar                 object\n",
       "AboveQPay              object\n",
       "WorkFactors           float64\n",
       "dtype: object"
      ]
     },
     "execution_count": 33,
     "metadata": {},
     "output_type": "execute_result"
    }
   ],
   "source": [
    "df_cleaned.dtypes"
   ]
  },
  {
   "cell_type": "markdown",
   "metadata": {},
   "source": [
    "### Preprocessing and Model Building Init"
   ]
  },
  {
   "cell_type": "code",
   "execution_count": 34,
   "metadata": {
    "ExecuteTime": {
     "end_time": "2020-06-24T18:26:57.623539Z",
     "start_time": "2020-06-24T18:26:57.615993Z"
    }
   },
   "outputs": [
    {
     "data": {
      "text/plain": [
       "(470, 13)"
      ]
     },
     "execution_count": 34,
     "metadata": {},
     "output_type": "execute_result"
    }
   ],
   "source": [
    "df_cleaned.shape"
   ]
  },
  {
   "cell_type": "code",
   "execution_count": 35,
   "metadata": {
    "ExecuteTime": {
     "end_time": "2020-06-24T18:26:57.845160Z",
     "start_time": "2020-06-24T18:26:57.840520Z"
    }
   },
   "outputs": [],
   "source": [
    "df_X = df_cleaned.copy()"
   ]
  },
  {
   "cell_type": "code",
   "execution_count": 36,
   "metadata": {
    "ExecuteTime": {
     "end_time": "2020-06-24T18:26:58.090797Z",
     "start_time": "2020-06-24T18:26:58.082649Z"
    }
   },
   "outputs": [
    {
     "data": {
      "text/plain": [
       "['BusinessTravel',\n",
       " 'JobRole',\n",
       " 'MaritalStatus',\n",
       " 'OverTime',\n",
       " 'OwnStocks',\n",
       " 'AgeBar',\n",
       " 'AboveQPay']"
      ]
     },
     "execution_count": 36,
     "metadata": {},
     "output_type": "execute_result"
    }
   ],
   "source": [
    "nominal_type = list(df_X.select_dtypes(include='object').columns)\n",
    "nominal_type"
   ]
  },
  {
   "cell_type": "code",
   "execution_count": 37,
   "metadata": {
    "ExecuteTime": {
     "end_time": "2020-06-24T18:26:58.349708Z",
     "start_time": "2020-06-24T18:26:58.341198Z"
    }
   },
   "outputs": [
    {
     "name": "stdout",
     "output_type": "stream",
     "text": [
      "{'BusinessTravel': ['Travel_Rarely', 'Non-Travel', 'Travel_Frequently'], 'JobRole': ['Research Scientist', 'Sales Executive', 'Manufacturing Director', 'Laboratory Technician', 'Healthcare Representative', 'Human Resources', 'Manager', 'Research Director', 'Sales Representative'], 'MaritalStatus': ['Married', 'Divorced', 'Single'], 'OverTime': ['No', 'Yes'], 'OwnStocks': ['Yes', 'No'], 'AgeBar': ['Mid', 'Old', 'Young'], 'AboveQPay': ['No', 'Yes']}\n"
     ]
    }
   ],
   "source": [
    "nominal_type_vals = dict()\n",
    "for ot in nominal_type:\n",
    "    nominal_type_vals[ot] = list(df_X[ot].unique())\n",
    "print(nominal_type_vals)"
   ]
  },
  {
   "cell_type": "code",
   "execution_count": 38,
   "metadata": {
    "ExecuteTime": {
     "end_time": "2020-06-24T18:26:58.553108Z",
     "start_time": "2020-06-24T18:26:58.543980Z"
    }
   },
   "outputs": [
    {
     "data": {
      "text/plain": [
       "['DistanceFromHome',\n",
       " 'CommunicationSkill',\n",
       " 'PropWorkLife',\n",
       " 'PropExpComp',\n",
       " 'PropRoleComp',\n",
       " 'WorkFactors']"
      ]
     },
     "execution_count": 38,
     "metadata": {},
     "output_type": "execute_result"
    }
   ],
   "source": [
    "numerical_type = list(df_X.select_dtypes(exclude='object').columns)\n",
    "numerical_type"
   ]
  },
  {
   "cell_type": "code",
   "execution_count": 39,
   "metadata": {
    "ExecuteTime": {
     "end_time": "2020-06-24T18:26:58.804294Z",
     "start_time": "2020-06-24T18:26:58.795121Z"
    }
   },
   "outputs": [
    {
     "data": {
      "text/plain": [
       "['CommunicationSkill']"
      ]
     },
     "execution_count": 39,
     "metadata": {},
     "output_type": "execute_result"
    }
   ],
   "source": [
    "ordinal_type = list()\n",
    "ordinal_columns_dataset = ['EnvironmentSatisfaction',\n",
    "                           'JobInvolvement',\n",
    "                           'JobSatisfaction',\n",
    "                           'Education',\n",
    "                           'Behaviour',\n",
    "                           'CommunicationSkill',\n",
    "                           'PerformanceRating',\n",
    "                           'StockOptionLevel',\n",
    "                          ]\n",
    "for col in ordinal_columns_dataset:\n",
    "    if col in numerical_type:\n",
    "        numerical_type.remove(col)\n",
    "        ordinal_type.append(col)\n",
    "        \n",
    "ordinal_type"
   ]
  },
  {
   "cell_type": "code",
   "execution_count": 40,
   "metadata": {
    "ExecuteTime": {
     "end_time": "2020-06-24T18:26:59.099049Z",
     "start_time": "2020-06-24T18:26:59.091603Z"
    }
   },
   "outputs": [
    {
     "data": {
      "text/plain": [
       "['BusinessTravel',\n",
       " 'DistanceFromHome',\n",
       " 'JobRole',\n",
       " 'MaritalStatus',\n",
       " 'OverTime',\n",
       " 'CommunicationSkill',\n",
       " 'OwnStocks',\n",
       " 'PropWorkLife',\n",
       " 'PropExpComp',\n",
       " 'PropRoleComp',\n",
       " 'AgeBar',\n",
       " 'AboveQPay',\n",
       " 'WorkFactors']"
      ]
     },
     "execution_count": 40,
     "metadata": {},
     "output_type": "execute_result"
    }
   ],
   "source": [
    "final_cols = list(df_X.columns)\n",
    "final_cols"
   ]
  },
  {
   "cell_type": "code",
   "execution_count": 41,
   "metadata": {
    "ExecuteTime": {
     "end_time": "2020-06-24T18:26:59.359423Z",
     "start_time": "2020-06-24T18:26:59.354396Z"
    }
   },
   "outputs": [],
   "source": [
    "numerical_index = list()\n",
    "nominal_index = list()\n",
    "ordinal_index = list()\n",
    "\n",
    "for col in numerical_type:\n",
    "    numerical_index.append(final_cols.index(col))\n",
    "for col in nominal_type:\n",
    "    nominal_index.append(final_cols.index(col))\n",
    "for col in ordinal_type:\n",
    "    ordinal_index.append(final_cols.index(col))"
   ]
  },
  {
   "cell_type": "code",
   "execution_count": 42,
   "metadata": {
    "ExecuteTime": {
     "end_time": "2020-06-24T18:26:59.807712Z",
     "start_time": "2020-06-24T18:26:59.799579Z"
    }
   },
   "outputs": [
    {
     "name": "stdout",
     "output_type": "stream",
     "text": [
      "Numerical Columns\n",
      "1 DistanceFromHome\n",
      "7 PropWorkLife\n",
      "8 PropExpComp\n",
      "9 PropRoleComp\n",
      "12 WorkFactors\n",
      "==================================================\n",
      "Nominal Columns\n",
      "0 BusinessTravel\n",
      "2 JobRole\n",
      "3 MaritalStatus\n",
      "4 OverTime\n",
      "6 OwnStocks\n",
      "10 AgeBar\n",
      "11 AboveQPay\n",
      "==================================================\n",
      "Ordinal Columns\n",
      "5 CommunicationSkill\n"
     ]
    }
   ],
   "source": [
    "print('Numerical Columns')\n",
    "for i,col in zip(numerical_index, numerical_type):\n",
    "    print(i, col)\n",
    "print('='*50)\n",
    "print('Nominal Columns')\n",
    "for i,col in zip(nominal_index, nominal_type):\n",
    "    print(i, col)\n",
    "print('='*50)\n",
    "print('Ordinal Columns')\n",
    "for i,col in zip(ordinal_index, ordinal_type):\n",
    "    print(i, col)"
   ]
  },
  {
   "cell_type": "code",
   "execution_count": 43,
   "metadata": {
    "ExecuteTime": {
     "end_time": "2020-06-24T18:27:00.045651Z",
     "start_time": "2020-06-24T18:27:00.018315Z"
    }
   },
   "outputs": [
    {
     "data": {
      "text/html": [
       "<div>\n",
       "<style scoped>\n",
       "    .dataframe tbody tr th:only-of-type {\n",
       "        vertical-align: middle;\n",
       "    }\n",
       "\n",
       "    .dataframe tbody tr th {\n",
       "        vertical-align: top;\n",
       "    }\n",
       "\n",
       "    .dataframe thead th {\n",
       "        text-align: right;\n",
       "    }\n",
       "</style>\n",
       "<table border=\"1\" class=\"dataframe\">\n",
       "  <thead>\n",
       "    <tr style=\"text-align: right;\">\n",
       "      <th></th>\n",
       "      <th>DistanceFromHome</th>\n",
       "      <th>CommunicationSkill</th>\n",
       "      <th>PropWorkLife</th>\n",
       "      <th>PropExpComp</th>\n",
       "      <th>PropRoleComp</th>\n",
       "      <th>WorkFactors</th>\n",
       "    </tr>\n",
       "  </thead>\n",
       "  <tbody>\n",
       "    <tr>\n",
       "      <th>count</th>\n",
       "      <td>470.000000</td>\n",
       "      <td>470.000000</td>\n",
       "      <td>470.000000</td>\n",
       "      <td>470.000000</td>\n",
       "      <td>470.000000</td>\n",
       "      <td>470.000000</td>\n",
       "    </tr>\n",
       "    <tr>\n",
       "      <th>mean</th>\n",
       "      <td>0.302272</td>\n",
       "      <td>0.450000</td>\n",
       "      <td>0.290479</td>\n",
       "      <td>0.271368</td>\n",
       "      <td>0.482867</td>\n",
       "      <td>0.542553</td>\n",
       "    </tr>\n",
       "    <tr>\n",
       "      <th>std</th>\n",
       "      <td>0.319785</td>\n",
       "      <td>0.292041</td>\n",
       "      <td>0.152715</td>\n",
       "      <td>0.283311</td>\n",
       "      <td>0.270832</td>\n",
       "      <td>0.114025</td>\n",
       "    </tr>\n",
       "    <tr>\n",
       "      <th>min</th>\n",
       "      <td>0.034483</td>\n",
       "      <td>0.200000</td>\n",
       "      <td>0.000000</td>\n",
       "      <td>0.000000</td>\n",
       "      <td>0.000000</td>\n",
       "      <td>0.266667</td>\n",
       "    </tr>\n",
       "    <tr>\n",
       "      <th>25%</th>\n",
       "      <td>0.066667</td>\n",
       "      <td>0.250000</td>\n",
       "      <td>0.181818</td>\n",
       "      <td>0.090909</td>\n",
       "      <td>0.333333</td>\n",
       "      <td>0.466667</td>\n",
       "    </tr>\n",
       "    <tr>\n",
       "      <th>50%</th>\n",
       "      <td>0.142857</td>\n",
       "      <td>0.333333</td>\n",
       "      <td>0.276820</td>\n",
       "      <td>0.166667</td>\n",
       "      <td>0.500000</td>\n",
       "      <td>0.533333</td>\n",
       "    </tr>\n",
       "    <tr>\n",
       "      <th>75%</th>\n",
       "      <td>0.500000</td>\n",
       "      <td>0.500000</td>\n",
       "      <td>0.386913</td>\n",
       "      <td>0.400000</td>\n",
       "      <td>0.666667</td>\n",
       "      <td>0.600000</td>\n",
       "    </tr>\n",
       "    <tr>\n",
       "      <th>max</th>\n",
       "      <td>1.000000</td>\n",
       "      <td>1.000000</td>\n",
       "      <td>0.689655</td>\n",
       "      <td>2.000000</td>\n",
       "      <td>0.882353</td>\n",
       "      <td>0.800000</td>\n",
       "    </tr>\n",
       "  </tbody>\n",
       "</table>\n",
       "</div>"
      ],
      "text/plain": [
       "       DistanceFromHome  CommunicationSkill  PropWorkLife  PropExpComp  \\\n",
       "count        470.000000          470.000000    470.000000   470.000000   \n",
       "mean           0.302272            0.450000      0.290479     0.271368   \n",
       "std            0.319785            0.292041      0.152715     0.283311   \n",
       "min            0.034483            0.200000      0.000000     0.000000   \n",
       "25%            0.066667            0.250000      0.181818     0.090909   \n",
       "50%            0.142857            0.333333      0.276820     0.166667   \n",
       "75%            0.500000            0.500000      0.386913     0.400000   \n",
       "max            1.000000            1.000000      0.689655     2.000000   \n",
       "\n",
       "       PropRoleComp  WorkFactors  \n",
       "count    470.000000   470.000000  \n",
       "mean       0.482867     0.542553  \n",
       "std        0.270832     0.114025  \n",
       "min        0.000000     0.266667  \n",
       "25%        0.333333     0.466667  \n",
       "50%        0.500000     0.533333  \n",
       "75%        0.666667     0.600000  \n",
       "max        0.882353     0.800000  "
      ]
     },
     "execution_count": 43,
     "metadata": {},
     "output_type": "execute_result"
    }
   ],
   "source": [
    "df_X.describe()"
   ]
  },
  {
   "cell_type": "code",
   "execution_count": 44,
   "metadata": {
    "ExecuteTime": {
     "end_time": "2020-06-24T18:27:00.280966Z",
     "start_time": "2020-06-24T18:27:00.270687Z"
    }
   },
   "outputs": [],
   "source": [
    "from sklearn.preprocessing import OneHotEncoder\n",
    "encoder_dic = {}\n",
    "for col in nominal_index:\n",
    "    enc = OneHotEncoder(categories='auto',drop='first',sparse = False).fit(df_X.iloc[:,[col]])\n",
    "    encoder_dic[col] = enc"
   ]
  },
  {
   "cell_type": "code",
   "execution_count": 45,
   "metadata": {
    "ExecuteTime": {
     "end_time": "2020-06-24T18:27:00.607718Z",
     "start_time": "2020-06-24T18:27:00.602882Z"
    }
   },
   "outputs": [],
   "source": [
    "X_test = df_X.copy()"
   ]
  },
  {
   "cell_type": "code",
   "execution_count": 46,
   "metadata": {
    "ExecuteTime": {
     "end_time": "2020-06-24T18:27:00.825005Z",
     "start_time": "2020-06-24T18:27:00.818851Z"
    }
   },
   "outputs": [
    {
     "data": {
      "text/plain": [
       "(470, 13)"
      ]
     },
     "execution_count": 46,
     "metadata": {},
     "output_type": "execute_result"
    }
   ],
   "source": [
    "X_test.shape"
   ]
  },
  {
   "cell_type": "code",
   "execution_count": 47,
   "metadata": {
    "ExecuteTime": {
     "end_time": "2020-06-24T18:27:01.096718Z",
     "start_time": "2020-06-24T18:27:01.047544Z"
    }
   },
   "outputs": [],
   "source": [
    "for i, enc in encoder_dic.items():\n",
    "    temp = pd.DataFrame(enc.transform(X_test.iloc[:,[i]]), columns=[ list(df_X.columns)[i]+'_'+colname for colname in list(enc.categories_[0])[1:]]).reset_index()\n",
    "    X_test = pd.concat( [X_test, temp], axis = 1 )"
   ]
  },
  {
   "cell_type": "code",
   "execution_count": 48,
   "metadata": {
    "ExecuteTime": {
     "end_time": "2020-06-24T18:27:01.245337Z",
     "start_time": "2020-06-24T18:27:01.236953Z"
    }
   },
   "outputs": [],
   "source": [
    "X_test.drop(nominal_type, inplace=True, axis=1)"
   ]
  },
  {
   "cell_type": "code",
   "execution_count": 49,
   "metadata": {
    "ExecuteTime": {
     "end_time": "2020-06-24T18:27:01.421407Z",
     "start_time": "2020-06-24T18:27:01.414900Z"
    }
   },
   "outputs": [
    {
     "data": {
      "text/plain": [
       "array(['DistanceFromHome', 'CommunicationSkill', 'PropWorkLife',\n",
       "       'PropExpComp', 'PropRoleComp', 'WorkFactors', 'index',\n",
       "       'BusinessTravel_Travel_Frequently', 'BusinessTravel_Travel_Rarely',\n",
       "       'index', 'JobRole_Human Resources',\n",
       "       'JobRole_Laboratory Technician', 'JobRole_Manager',\n",
       "       'JobRole_Manufacturing Director', 'JobRole_Research Director',\n",
       "       'JobRole_Research Scientist', 'JobRole_Sales Executive',\n",
       "       'JobRole_Sales Representative', 'index', 'MaritalStatus_Married',\n",
       "       'MaritalStatus_Single', 'index', 'OverTime_Yes', 'index',\n",
       "       'OwnStocks_Yes', 'index', 'AgeBar_Old', 'AgeBar_Young', 'index',\n",
       "       'AboveQPay_Yes'], dtype=object)"
      ]
     },
     "execution_count": 49,
     "metadata": {},
     "output_type": "execute_result"
    }
   ],
   "source": [
    "final_cols_encoded = X_test.columns.values\n",
    "final_cols_encoded"
   ]
  },
  {
   "cell_type": "code",
   "execution_count": 50,
   "metadata": {
    "ExecuteTime": {
     "end_time": "2020-06-24T18:27:01.699896Z",
     "start_time": "2020-06-24T18:27:01.695115Z"
    }
   },
   "outputs": [],
   "source": [
    "X_test = X_test.values"
   ]
  },
  {
   "cell_type": "code",
   "execution_count": 51,
   "metadata": {
    "ExecuteTime": {
     "end_time": "2020-06-24T18:27:01.905952Z",
     "start_time": "2020-06-24T18:27:01.900271Z"
    }
   },
   "outputs": [],
   "source": [
    "from sklearn.model_selection import RepeatedStratifiedKFold\n",
    "from sklearn.ensemble import RandomForestClassifier\n",
    "from sklearn.ensemble import AdaBoostClassifier\n",
    "from sklearn.tree import DecisionTreeClassifier\n",
    "from sklearn.linear_model import LogisticRegression\n",
    "from sklearn.linear_model import SGDClassifier\n",
    "from sklearn.svm import SVC\n",
    "from sklearn.neighbors import KNeighborsClassifier\n",
    "from sklearn.neural_network import MLPClassifier\n",
    "from sklearn.model_selection import cross_val_score\n",
    "from sklearn import metrics\n",
    "from sklearn.model_selection import GridSearchCV\n",
    "from sklearn.svm import SVC"
   ]
  },
  {
   "cell_type": "code",
   "execution_count": 52,
   "metadata": {
    "ExecuteTime": {
     "end_time": "2020-06-24T18:27:02.253856Z",
     "start_time": "2020-06-24T18:27:02.247200Z"
    }
   },
   "outputs": [],
   "source": [
    "def test_model_perf(model, X):\n",
    "    predictions_df = pd.DataFrame(model.predict_proba(X),columns=['No_Attrition','Attrition'], index=range(1,471))\n",
    "    predictions_df.No_Attrition = predictions_df.No_Attrition.apply(lambda x: np.around(x,7))\n",
    "    predictions_df.Attrition = predictions_df.Attrition.apply(lambda x: np.around(x,7))\n",
    "    predictions_df.index.name = 'Id'\n",
    "    final_df = predictions_df[['Attrition']]\n",
    "    return final_df"
   ]
  },
  {
   "cell_type": "code",
   "execution_count": 53,
   "metadata": {
    "ExecuteTime": {
     "end_time": "2020-06-24T18:27:02.622498Z",
     "start_time": "2020-06-24T18:27:02.497904Z"
    }
   },
   "outputs": [
    {
     "name": "stdout",
     "output_type": "stream",
     "text": [
      "mkdir: submissions: File exists\r\n"
     ]
    }
   ],
   "source": [
    "!mkdir submissions"
   ]
  },
  {
   "cell_type": "code",
   "execution_count": 54,
   "metadata": {
    "ExecuteTime": {
     "end_time": "2020-06-24T18:27:03.130275Z",
     "start_time": "2020-06-24T18:27:02.996299Z"
    }
   },
   "outputs": [],
   "source": [
    "pkl_filename = \"models/RandomForest.pkl\"\n",
    "sub_filename = \"submissions/RandomForest.csv\"\n",
    "model = RandomForestClassifier()\n",
    "with open(pkl_filename, 'rb') as file:\n",
    "    model = pickle.load(file)\n",
    "predictions_df = test_model_perf(model, X_test)\n",
    "predictions_df.to_csv(sub_filename)"
   ]
  },
  {
   "cell_type": "code",
   "execution_count": 55,
   "metadata": {
    "ExecuteTime": {
     "end_time": "2020-06-24T18:27:04.366085Z",
     "start_time": "2020-06-24T18:27:04.235543Z"
    }
   },
   "outputs": [],
   "source": [
    "pkl_filename = \"models/Final_RandomForestB.pkl\"\n",
    "sub_filename = \"submissions/Final_RandomForestB.csv\"\n",
    "model = RandomForestClassifier()\n",
    "with open(pkl_filename, 'rb') as file:\n",
    "    model = pickle.load(file)\n",
    "predictions_df = test_model_perf(model, X_test)\n",
    "predictions_df.to_csv(sub_filename)"
   ]
  },
  {
   "cell_type": "code",
   "execution_count": 57,
   "metadata": {
    "ExecuteTime": {
     "end_time": "2020-06-22T15:49:05.346269Z",
     "start_time": "2020-06-22T15:49:05.250272Z"
    }
   },
   "outputs": [],
   "source": [
    "pkl_filename = \"models/Final_RandomForestA.pkl\"\n",
    "sub_filename = \"submissions/Final_RandomForestA.csv\"\n",
    "model = RandomForestClassifier()\n",
    "with open(pkl_filename, 'rb') as file:\n",
    "    model = pickle.load(file)\n",
    "predictions_df = test_model_perf(model, X_test)\n",
    "predictions_df.to_csv(sub_filename)"
   ]
  },
  {
   "cell_type": "code",
   "execution_count": null,
   "metadata": {},
   "outputs": [],
   "source": []
  }
 ],
 "metadata": {
  "kernelspec": {
   "display_name": "Python 3",
   "language": "python",
   "name": "python3"
  },
  "language_info": {
   "codemirror_mode": {
    "name": "ipython",
    "version": 3
   },
   "file_extension": ".py",
   "mimetype": "text/x-python",
   "name": "python",
   "nbconvert_exporter": "python",
   "pygments_lexer": "ipython3",
   "version": "3.7.7"
  },
  "varInspector": {
   "cols": {
    "lenName": 16,
    "lenType": 16,
    "lenVar": 40
   },
   "kernels_config": {
    "python": {
     "delete_cmd_postfix": "",
     "delete_cmd_prefix": "del ",
     "library": "var_list.py",
     "varRefreshCmd": "print(var_dic_list())"
    },
    "r": {
     "delete_cmd_postfix": ") ",
     "delete_cmd_prefix": "rm(",
     "library": "var_list.r",
     "varRefreshCmd": "cat(var_dic_list()) "
    }
   },
   "types_to_exclude": [
    "module",
    "function",
    "builtin_function_or_method",
    "instance",
    "_Feature"
   ],
   "window_display": false
  }
 },
 "nbformat": 4,
 "nbformat_minor": 4
}
