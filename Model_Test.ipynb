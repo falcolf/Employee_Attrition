{
 "cells": [
  {
   "cell_type": "code",
   "execution_count": 1,
   "metadata": {
    "ExecuteTime": {
     "end_time": "2020-06-22T15:13:39.361693Z",
     "start_time": "2020-06-22T15:13:36.830244Z"
    }
   },
   "outputs": [],
   "source": [
    "import pandas as pd\n",
    "import numpy as np\n",
    "import matplotlib.pyplot as plt\n",
    "import seaborn as sns\n",
    "%matplotlib inline\n",
    "import json\n",
    "import pickle"
   ]
  },
  {
   "cell_type": "code",
   "execution_count": 2,
   "metadata": {
    "ExecuteTime": {
     "end_time": "2020-06-22T15:13:40.062116Z",
     "start_time": "2020-06-22T15:13:40.041571Z"
    }
   },
   "outputs": [
    {
     "data": {
      "text/plain": [
       "(470, 28)"
      ]
     },
     "execution_count": 2,
     "metadata": {},
     "output_type": "execute_result"
    }
   ],
   "source": [
    "df = pd.read_csv('data/test.csv')\n",
    "df.shape"
   ]
  },
  {
   "cell_type": "code",
   "execution_count": 3,
   "metadata": {
    "ExecuteTime": {
     "end_time": "2020-06-22T15:13:40.396165Z",
     "start_time": "2020-06-22T15:13:40.389221Z"
    }
   },
   "outputs": [
    {
     "data": {
      "text/plain": [
       "Index(['Id', 'Age', 'BusinessTravel', 'Department', 'DistanceFromHome',\n",
       "       'Education', 'EducationField', 'EmployeeNumber',\n",
       "       'EnvironmentSatisfaction', 'Gender', 'JobInvolvement', 'JobRole',\n",
       "       'JobSatisfaction', 'MaritalStatus', 'MonthlyIncome',\n",
       "       'NumCompaniesWorked', 'OverTime', 'PercentSalaryHike',\n",
       "       'PerformanceRating', 'StockOptionLevel', 'TotalWorkingYears',\n",
       "       'TrainingTimesLastYear', 'YearsAtCompany', 'YearsInCurrentRole',\n",
       "       'YearsSinceLastPromotion', 'YearsWithCurrManager', 'CommunicationSkill',\n",
       "       'Behaviour'],\n",
       "      dtype='object')"
      ]
     },
     "execution_count": 3,
     "metadata": {},
     "output_type": "execute_result"
    }
   ],
   "source": [
    "df.columns"
   ]
  },
  {
   "cell_type": "markdown",
   "metadata": {},
   "source": [
    "### Feature Engineering"
   ]
  },
  {
   "cell_type": "code",
   "execution_count": 4,
   "metadata": {
    "ExecuteTime": {
     "end_time": "2020-06-22T15:13:41.043389Z",
     "start_time": "2020-06-22T15:13:41.029537Z"
    }
   },
   "outputs": [],
   "source": [
    "def extract_feature(df_input):\n",
    "    df = df_input.copy()\n",
    "    df['OwnStocks'] = df.StockOptionLevel.apply(lambda x: 'No' if x == 0 else 'Yes')\n",
    "    df['PropWorkLife'] = df.TotalWorkingYears / df.Age\n",
    "    df['PropExpComp'] = df.NumCompaniesWorked / (df.TotalWorkingYears+1)\n",
    "    df['PropRoleComp'] = df.YearsInCurrentRole / (df.YearsAtCompany + 1)\n",
    "    df['AgeBar'] = pd.cut(df.Age, bins = [0,27,45,np.inf], labels=['Young','Mid','Old']).astype('object')\n",
    "    q_pays = {\n",
    "        'Laboratory Technician': 2705.0, \n",
    "        'Manufacturing Director': 5824.4000000000015, \n",
    "        'Sales Executive': 5675.8, \n",
    "        'Research Scientist': 2693.4, \n",
    "        'Sales Representative': 2325.8, \n",
    "        'Healthcare Representative': 6348.6, \n",
    "        'Research Director': 15014.600000000002, \n",
    "        'Human Resources': 2741.0, \n",
    "        'Manager': 16894.0\n",
    "    }\n",
    "    df['AboveQPay'] = df.apply(lambda x: 'No' if x.MonthlyIncome < q_pays.get(x.JobRole) else 'Yes', axis = 1)\n",
    "    df['WorkFactors'] = (df.EnvironmentSatisfaction+df.JobSatisfaction+df.JobInvolvement) / 15\n",
    "    df['CommunicationSkill'] = 1 / df['CommunicationSkill']\n",
    "    #df['PropCompYrsHike'] = df.YearsAtCompany/(df.PercentSalaryHike+1)\n",
    "    cols_to_drop = [\n",
    "                    'Id',\n",
    "                    'Behaviour',\n",
    "                    'PerformanceRating',\n",
    "                    'Gender',\n",
    "                    'Education', \n",
    "                    'Department',\n",
    "                    'EmployeeNumber',\n",
    "                    'PercentSalaryHike',\n",
    "                    'YearsInCurrentRole',\n",
    "                    'YearsSinceLastPromotion',\n",
    "                    'YearsWithCurrManager',\n",
    "                    'TrainingTimesLastYear',\n",
    "                    'EducationField',\n",
    "                    'StockOptionLevel',\n",
    "                    'TotalWorkingYears',\n",
    "                    'YearsAtCompany',\n",
    "                    'NumCompaniesWorked',\n",
    "                    'JobSatisfaction',\n",
    "                    'EnvironmentSatisfaction',\n",
    "                    'JobInvolvement',\n",
    "                    'Age',\n",
    "                    'MonthlyIncome',\n",
    "                    'DistanceFromHome'\n",
    "                  ]\n",
    "    df.drop(cols_to_drop, inplace = True, axis = 1)\n",
    "    print('Columns Dropped : {}'.format(cols_to_drop))\n",
    "    print('Columns in DataFrame: {}'.format(df.columns.to_list()))\n",
    "    return df"
   ]
  },
  {
   "cell_type": "code",
   "execution_count": 5,
   "metadata": {
    "ExecuteTime": {
     "end_time": "2020-06-22T15:13:41.442786Z",
     "start_time": "2020-06-22T15:13:41.390381Z"
    }
   },
   "outputs": [
    {
     "name": "stdout",
     "output_type": "stream",
     "text": [
      "Columns Dropped : ['Id', 'Behaviour', 'PerformanceRating', 'Gender', 'Education', 'Department', 'EmployeeNumber', 'PercentSalaryHike', 'YearsInCurrentRole', 'YearsSinceLastPromotion', 'YearsWithCurrManager', 'TrainingTimesLastYear', 'EducationField', 'StockOptionLevel', 'TotalWorkingYears', 'YearsAtCompany', 'NumCompaniesWorked', 'JobSatisfaction', 'EnvironmentSatisfaction', 'JobInvolvement', 'Age', 'MonthlyIncome', 'DistanceFromHome']\n",
      "Columns in DataFrame: ['BusinessTravel', 'JobRole', 'MaritalStatus', 'OverTime', 'CommunicationSkill', 'OwnStocks', 'PropWorkLife', 'PropExpComp', 'PropRoleComp', 'AgeBar', 'AboveQPay', 'WorkFactors']\n"
     ]
    }
   ],
   "source": [
    "df_cleaned = extract_feature(df)"
   ]
  },
  {
   "cell_type": "code",
   "execution_count": 6,
   "metadata": {
    "ExecuteTime": {
     "end_time": "2020-06-22T15:13:41.740769Z",
     "start_time": "2020-06-22T15:13:41.728408Z"
    }
   },
   "outputs": [
    {
     "data": {
      "text/plain": [
       "BusinessTravel         object\n",
       "JobRole                object\n",
       "MaritalStatus          object\n",
       "OverTime               object\n",
       "CommunicationSkill    float64\n",
       "OwnStocks              object\n",
       "PropWorkLife          float64\n",
       "PropExpComp           float64\n",
       "PropRoleComp          float64\n",
       "AgeBar                 object\n",
       "AboveQPay              object\n",
       "WorkFactors           float64\n",
       "dtype: object"
      ]
     },
     "execution_count": 6,
     "metadata": {},
     "output_type": "execute_result"
    }
   ],
   "source": [
    "df_cleaned.dtypes"
   ]
  },
  {
   "cell_type": "markdown",
   "metadata": {},
   "source": [
    "### Preprocessing and Model Building Init"
   ]
  },
  {
   "cell_type": "code",
   "execution_count": 7,
   "metadata": {
    "ExecuteTime": {
     "end_time": "2020-06-22T15:13:42.468275Z",
     "start_time": "2020-06-22T15:13:42.461383Z"
    }
   },
   "outputs": [
    {
     "data": {
      "text/plain": [
       "(470, 12)"
      ]
     },
     "execution_count": 7,
     "metadata": {},
     "output_type": "execute_result"
    }
   ],
   "source": [
    "df_cleaned.shabpe"
   ]
  },
  {
   "cell_type": "code",
   "execution_count": 8,
   "metadata": {
    "ExecuteTime": {
     "end_time": "2020-06-22T15:13:43.062444Z",
     "start_time": "2020-06-22T15:13:42.887147Z"
    }
   },
   "outputs": [
    {
     "ename": "NameError",
     "evalue": "name 'df_X' is not defined",
     "output_type": "error",
     "traceback": [
      "\u001b[0;31m---------------------------------------------------------------------------\u001b[0m",
      "\u001b[0;31mNameError\u001b[0m                                 Traceback (most recent call last)",
      "\u001b[0;32m<ipython-input-8-a124644c7555>\u001b[0m in \u001b[0;36m<module>\u001b[0;34m\u001b[0m\n\u001b[0;32m----> 1\u001b[0;31m \u001b[0mnominal_type\u001b[0m \u001b[0;34m=\u001b[0m \u001b[0mlist\u001b[0m\u001b[0;34m(\u001b[0m\u001b[0mdf_X\u001b[0m\u001b[0;34m.\u001b[0m\u001b[0mselect_dtypes\u001b[0m\u001b[0;34m(\u001b[0m\u001b[0minclude\u001b[0m\u001b[0;34m=\u001b[0m\u001b[0;34m'object'\u001b[0m\u001b[0;34m)\u001b[0m\u001b[0;34m.\u001b[0m\u001b[0mcolumns\u001b[0m\u001b[0;34m)\u001b[0m\u001b[0;34m\u001b[0m\u001b[0;34m\u001b[0m\u001b[0m\n\u001b[0m\u001b[1;32m      2\u001b[0m \u001b[0mnominal_type\u001b[0m\u001b[0;34m\u001b[0m\u001b[0;34m\u001b[0m\u001b[0m\n",
      "\u001b[0;31mNameError\u001b[0m: name 'df_X' is not defined"
     ]
    }
   ],
   "source": [
    "nominal_type = list(df_X.select_dtypes(include='object').columns)\n",
    "nominal_type"
   ]
  },
  {
   "cell_type": "code",
   "execution_count": 9,
   "metadata": {
    "ExecuteTime": {
     "end_time": "2020-06-22T15:13:43.326156Z",
     "start_time": "2020-06-22T15:13:43.312893Z"
    }
   },
   "outputs": [
    {
     "ename": "NameError",
     "evalue": "name 'nominal_type' is not defined",
     "output_type": "error",
     "traceback": [
      "\u001b[0;31m---------------------------------------------------------------------------\u001b[0m",
      "\u001b[0;31mNameError\u001b[0m                                 Traceback (most recent call last)",
      "\u001b[0;32m<ipython-input-9-6855cdb1e67d>\u001b[0m in \u001b[0;36m<module>\u001b[0;34m\u001b[0m\n\u001b[1;32m      1\u001b[0m \u001b[0mnominal_type_vals\u001b[0m \u001b[0;34m=\u001b[0m \u001b[0mdict\u001b[0m\u001b[0;34m(\u001b[0m\u001b[0;34m)\u001b[0m\u001b[0;34m\u001b[0m\u001b[0;34m\u001b[0m\u001b[0m\n\u001b[0;32m----> 2\u001b[0;31m \u001b[0;32mfor\u001b[0m \u001b[0mot\u001b[0m \u001b[0;32min\u001b[0m \u001b[0mnominal_type\u001b[0m\u001b[0;34m:\u001b[0m\u001b[0;34m\u001b[0m\u001b[0;34m\u001b[0m\u001b[0m\n\u001b[0m\u001b[1;32m      3\u001b[0m     \u001b[0mnominal_type_vals\u001b[0m\u001b[0;34m[\u001b[0m\u001b[0mot\u001b[0m\u001b[0;34m]\u001b[0m \u001b[0;34m=\u001b[0m \u001b[0mlist\u001b[0m\u001b[0;34m(\u001b[0m\u001b[0mdf_X\u001b[0m\u001b[0;34m[\u001b[0m\u001b[0mot\u001b[0m\u001b[0;34m]\u001b[0m\u001b[0;34m.\u001b[0m\u001b[0munique\u001b[0m\u001b[0;34m(\u001b[0m\u001b[0;34m)\u001b[0m\u001b[0;34m)\u001b[0m\u001b[0;34m\u001b[0m\u001b[0;34m\u001b[0m\u001b[0m\n\u001b[1;32m      4\u001b[0m \u001b[0mprint\u001b[0m\u001b[0;34m(\u001b[0m\u001b[0mnominal_type_vals\u001b[0m\u001b[0;34m)\u001b[0m\u001b[0;34m\u001b[0m\u001b[0;34m\u001b[0m\u001b[0m\n",
      "\u001b[0;31mNameError\u001b[0m: name 'nominal_type' is not defined"
     ]
    }
   ],
   "source": [
    "nominal_type_vals = dict()\n",
    "for ot in nominal_type:\n",
    "    nominal_type_vals[ot] = list(df_X[ot].unique())\n",
    "print(nominal_type_vals)"
   ]
  },
  {
   "cell_type": "code",
   "execution_count": 10,
   "metadata": {
    "ExecuteTime": {
     "end_time": "2020-06-22T15:13:43.790180Z",
     "start_time": "2020-06-22T15:13:43.777972Z"
    }
   },
   "outputs": [
    {
     "ename": "NameError",
     "evalue": "name 'df_X' is not defined",
     "output_type": "error",
     "traceback": [
      "\u001b[0;31m---------------------------------------------------------------------------\u001b[0m",
      "\u001b[0;31mNameError\u001b[0m                                 Traceback (most recent call last)",
      "\u001b[0;32m<ipython-input-10-521ea39a27ac>\u001b[0m in \u001b[0;36m<module>\u001b[0;34m\u001b[0m\n\u001b[0;32m----> 1\u001b[0;31m \u001b[0mnumerical_type\u001b[0m \u001b[0;34m=\u001b[0m \u001b[0mlist\u001b[0m\u001b[0;34m(\u001b[0m\u001b[0mdf_X\u001b[0m\u001b[0;34m.\u001b[0m\u001b[0mselect_dtypes\u001b[0m\u001b[0;34m(\u001b[0m\u001b[0mexclude\u001b[0m\u001b[0;34m=\u001b[0m\u001b[0;34m'object'\u001b[0m\u001b[0;34m)\u001b[0m\u001b[0;34m.\u001b[0m\u001b[0mcolumns\u001b[0m\u001b[0;34m)\u001b[0m\u001b[0;34m\u001b[0m\u001b[0;34m\u001b[0m\u001b[0m\n\u001b[0m\u001b[1;32m      2\u001b[0m \u001b[0mnumerical_type\u001b[0m\u001b[0;34m\u001b[0m\u001b[0;34m\u001b[0m\u001b[0m\n",
      "\u001b[0;31mNameError\u001b[0m: name 'df_X' is not defined"
     ]
    }
   ],
   "source": [
    "numerical_type = list(df_X.select_dtypes(exclude='object').columns)\n",
    "numerical_type"
   ]
  },
  {
   "cell_type": "code",
   "execution_count": 242,
   "metadata": {
    "ExecuteTime": {
     "end_time": "2020-06-22T14:25:16.654242Z",
     "start_time": "2020-06-22T14:25:16.646125Z"
    }
   },
   "outputs": [
    {
     "data": {
      "text/plain": [
       "['CommunicationSkill']"
      ]
     },
     "execution_count": 242,
     "metadata": {},
     "output_type": "execute_result"
    }
   ],
   "source": [
    "ordinal_type = list()\n",
    "ordinal_columns_dataset = ['EnvironmentSatisfaction',\n",
    "                           'JobInvolvement',\n",
    "                           'JobSatisfaction',\n",
    "                           'Education',\n",
    "                           'Behaviour',\n",
    "                           'CommunicationSkill',\n",
    "                           'PerformanceRating',\n",
    "                           'StockOptionLevel',\n",
    "                          ]\n",
    "for col in ordinal_columns_dataset:\n",
    "    if col in numerical_type:\n",
    "        numerical_type.remove(col)\n",
    "        ordinal_type.append(col)\n",
    "        \n",
    "ordinal_type"
   ]
  },
  {
   "cell_type": "code",
   "execution_count": 243,
   "metadata": {
    "ExecuteTime": {
     "end_time": "2020-06-22T14:25:16.962883Z",
     "start_time": "2020-06-22T14:25:16.952471Z"
    }
   },
   "outputs": [
    {
     "data": {
      "text/plain": [
       "['BusinessTravel',\n",
       " 'JobRole',\n",
       " 'MaritalStatus',\n",
       " 'OverTime',\n",
       " 'CommunicationSkill',\n",
       " 'OwnStocks',\n",
       " 'PropWorkLife',\n",
       " 'PropExpComp',\n",
       " 'PropRoleComp',\n",
       " 'AgeBar',\n",
       " 'AboveQPay',\n",
       " 'WorkFactors']"
      ]
     },
     "execution_count": 243,
     "metadata": {},
     "output_type": "execute_result"
    }
   ],
   "source": [
    "final_cols = list(df_X.columns)\n",
    "final_cols"
   ]
  },
  {
   "cell_type": "code",
   "execution_count": 244,
   "metadata": {
    "ExecuteTime": {
     "end_time": "2020-06-22T14:25:17.479316Z",
     "start_time": "2020-06-22T14:25:17.472881Z"
    }
   },
   "outputs": [],
   "source": [
    "numerical_index = list()\n",
    "nominal_index = list()\n",
    "ordinal_index = list()\n",
    "\n",
    "for col in numerical_type:\n",
    "    numerical_index.append(final_cols.index(col))\n",
    "for col in nominal_type:\n",
    "    nominal_index.append(final_cols.index(col))\n",
    "for col in ordinal_type:\n",
    "    ordinal_index.append(final_cols.index(col))"
   ]
  },
  {
   "cell_type": "code",
   "execution_count": 245,
   "metadata": {
    "ExecuteTime": {
     "end_time": "2020-06-22T14:25:17.777895Z",
     "start_time": "2020-06-22T14:25:17.768689Z"
    }
   },
   "outputs": [
    {
     "name": "stdout",
     "output_type": "stream",
     "text": [
      "Numerical Columns\n",
      "6 PropWorkLife\n",
      "7 PropExpComp\n",
      "8 PropRoleComp\n",
      "11 WorkFactors\n",
      "==================================================\n",
      "Nominal Columns\n",
      "0 BusinessTravel\n",
      "1 JobRole\n",
      "2 MaritalStatus\n",
      "3 OverTime\n",
      "5 OwnStocks\n",
      "9 AgeBar\n",
      "10 AboveQPay\n",
      "==================================================\n",
      "Ordinal Columns\n",
      "4 CommunicationSkill\n"
     ]
    }
   ],
   "source": [
    "print('Numerical Columns')\n",
    "for i,col in zip(numerical_index, numerical_type):\n",
    "    print(i, col)\n",
    "print('='*50)\n",
    "print('Nominal Columns')\n",
    "for i,col in zip(nominal_index, nominal_type):\n",
    "    print(i, col)\n",
    "print('='*50)\n",
    "print('Ordinal Columns')\n",
    "for i,col in zip(ordinal_index, ordinal_type):\n",
    "    print(i, col)"
   ]
  },
  {
   "cell_type": "code",
   "execution_count": 246,
   "metadata": {
    "ExecuteTime": {
     "end_time": "2020-06-22T14:25:18.018073Z",
     "start_time": "2020-06-22T14:25:17.996151Z"
    }
   },
   "outputs": [
    {
     "data": {
      "text/html": [
       "<div>\n",
       "<style scoped>\n",
       "    .dataframe tbody tr th:only-of-type {\n",
       "        vertical-align: middle;\n",
       "    }\n",
       "\n",
       "    .dataframe tbody tr th {\n",
       "        vertical-align: top;\n",
       "    }\n",
       "\n",
       "    .dataframe thead th {\n",
       "        text-align: right;\n",
       "    }\n",
       "</style>\n",
       "<table border=\"1\" class=\"dataframe\">\n",
       "  <thead>\n",
       "    <tr style=\"text-align: right;\">\n",
       "      <th></th>\n",
       "      <th>CommunicationSkill</th>\n",
       "      <th>PropWorkLife</th>\n",
       "      <th>PropExpComp</th>\n",
       "      <th>PropRoleComp</th>\n",
       "      <th>WorkFactors</th>\n",
       "    </tr>\n",
       "  </thead>\n",
       "  <tbody>\n",
       "    <tr>\n",
       "      <th>count</th>\n",
       "      <td>1000.000000</td>\n",
       "      <td>1000.000000</td>\n",
       "      <td>1000.000000</td>\n",
       "      <td>1000.000000</td>\n",
       "      <td>1000.000000</td>\n",
       "    </tr>\n",
       "    <tr>\n",
       "      <th>mean</th>\n",
       "      <td>0.449400</td>\n",
       "      <td>0.286846</td>\n",
       "      <td>0.281996</td>\n",
       "      <td>0.479683</td>\n",
       "      <td>0.546667</td>\n",
       "    </tr>\n",
       "    <tr>\n",
       "      <th>std</th>\n",
       "      <td>0.287856</td>\n",
       "      <td>0.153826</td>\n",
       "      <td>0.299577</td>\n",
       "      <td>0.275793</td>\n",
       "      <td>0.112008</td>\n",
       "    </tr>\n",
       "    <tr>\n",
       "      <th>min</th>\n",
       "      <td>0.200000</td>\n",
       "      <td>0.000000</td>\n",
       "      <td>0.000000</td>\n",
       "      <td>0.000000</td>\n",
       "      <td>0.266667</td>\n",
       "    </tr>\n",
       "    <tr>\n",
       "      <th>25%</th>\n",
       "      <td>0.250000</td>\n",
       "      <td>0.179487</td>\n",
       "      <td>0.090909</td>\n",
       "      <td>0.333333</td>\n",
       "      <td>0.466667</td>\n",
       "    </tr>\n",
       "    <tr>\n",
       "      <th>50%</th>\n",
       "      <td>0.333333</td>\n",
       "      <td>0.263158</td>\n",
       "      <td>0.181818</td>\n",
       "      <td>0.500000</td>\n",
       "      <td>0.533333</td>\n",
       "    </tr>\n",
       "    <tr>\n",
       "      <th>75%</th>\n",
       "      <td>0.500000</td>\n",
       "      <td>0.400000</td>\n",
       "      <td>0.385684</td>\n",
       "      <td>0.666667</td>\n",
       "      <td>0.600000</td>\n",
       "    </tr>\n",
       "    <tr>\n",
       "      <th>max</th>\n",
       "      <td>1.000000</td>\n",
       "      <td>0.672727</td>\n",
       "      <td>2.250000</td>\n",
       "      <td>0.875000</td>\n",
       "      <td>0.800000</td>\n",
       "    </tr>\n",
       "  </tbody>\n",
       "</table>\n",
       "</div>"
      ],
      "text/plain": [
       "       CommunicationSkill  PropWorkLife  PropExpComp  PropRoleComp  \\\n",
       "count         1000.000000   1000.000000  1000.000000   1000.000000   \n",
       "mean             0.449400      0.286846     0.281996      0.479683   \n",
       "std              0.287856      0.153826     0.299577      0.275793   \n",
       "min              0.200000      0.000000     0.000000      0.000000   \n",
       "25%              0.250000      0.179487     0.090909      0.333333   \n",
       "50%              0.333333      0.263158     0.181818      0.500000   \n",
       "75%              0.500000      0.400000     0.385684      0.666667   \n",
       "max              1.000000      0.672727     2.250000      0.875000   \n",
       "\n",
       "       WorkFactors  \n",
       "count  1000.000000  \n",
       "mean      0.546667  \n",
       "std       0.112008  \n",
       "min       0.266667  \n",
       "25%       0.466667  \n",
       "50%       0.533333  \n",
       "75%       0.600000  \n",
       "max       0.800000  "
      ]
     },
     "execution_count": 246,
     "metadata": {},
     "output_type": "execute_result"
    }
   ],
   "source": [
    "df_X.describe()"
   ]
  },
  {
   "cell_type": "code",
   "execution_count": 247,
   "metadata": {
    "ExecuteTime": {
     "end_time": "2020-06-22T14:25:18.355095Z",
     "start_time": "2020-06-22T14:25:18.343684Z"
    }
   },
   "outputs": [],
   "source": [
    "from sklearn.preprocessing import OneHotEncoder\n",
    "encoder_dic = {}\n",
    "for col in nominal_index:\n",
    "    enc = OneHotEncoder(categories='auto',drop='first',sparse = False).fit(df_X.iloc[:,[col]])\n",
    "    encoder_dic[col] = enc"
   ]
  },
  {
   "cell_type": "code",
   "execution_count": 248,
   "metadata": {
    "ExecuteTime": {
     "end_time": "2020-06-22T14:25:18.635883Z",
     "start_time": "2020-06-22T14:25:18.614992Z"
    }
   },
   "outputs": [],
   "source": [
    "X_test = df_X.copy()"
   ]
  },
  {
   "cell_type": "code",
   "execution_count": 250,
   "metadata": {
    "ExecuteTime": {
     "end_time": "2020-06-22T14:25:19.661875Z",
     "start_time": "2020-06-22T14:25:19.656390Z"
    }
   },
   "outputs": [
    {
     "data": {
      "text/plain": [
       "(1348, 12)"
      ]
     },
     "execution_count": 250,
     "metadata": {},
     "output_type": "execute_result"
    }
   ],
   "source": [
    "X_test.shape"
   ]
  },
  {
   "cell_type": "code",
   "execution_count": 251,
   "metadata": {
    "ExecuteTime": {
     "end_time": "2020-06-22T14:25:20.179667Z",
     "start_time": "2020-06-22T14:25:20.096298Z"
    }
   },
   "outputs": [],
   "source": [
    "for i, enc in encoder_dic.items():\n",
    "    temp = pd.DataFrame(enc.transform(X_test.iloc[:,[i]]), columns=[ list(df_X.columns)[i]+'_'+colname for colname in list(enc.categories_[0])[1:]]).reset_index()\n",
    "    X_test = pd.concat( [X_test, temp], axis = 1 )"
   ]
  },
  {
   "cell_type": "code",
   "execution_count": 252,
   "metadata": {
    "ExecuteTime": {
     "end_time": "2020-06-22T14:25:20.604423Z",
     "start_time": "2020-06-22T14:25:20.592017Z"
    }
   },
   "outputs": [],
   "source": [
    "X_test.drop(nominal_type, inplace=True, axis=1)"
   ]
  },
  {
   "cell_type": "code",
   "execution_count": 253,
   "metadata": {
    "ExecuteTime": {
     "end_time": "2020-06-22T14:25:20.986548Z",
     "start_time": "2020-06-22T14:25:20.977772Z"
    }
   },
   "outputs": [
    {
     "data": {
      "text/plain": [
       "array(['CommunicationSkill', 'PropWorkLife', 'PropExpComp',\n",
       "       'PropRoleComp', 'WorkFactors', 'index',\n",
       "       'BusinessTravel_Travel_Frequently', 'BusinessTravel_Travel_Rarely',\n",
       "       'index', 'JobRole_Human Resources',\n",
       "       'JobRole_Laboratory Technician', 'JobRole_Manager',\n",
       "       'JobRole_Manufacturing Director', 'JobRole_Research Director',\n",
       "       'JobRole_Research Scientist', 'JobRole_Sales Executive',\n",
       "       'JobRole_Sales Representative', 'index', 'MaritalStatus_Married',\n",
       "       'MaritalStatus_Single', 'index', 'OverTime_Yes', 'index',\n",
       "       'OwnStocks_Yes', 'index', 'AgeBar_Old', 'AgeBar_Young', 'index',\n",
       "       'AboveQPay_Yes'], dtype=object)"
      ]
     },
     "execution_count": 253,
     "metadata": {},
     "output_type": "execute_result"
    }
   ],
   "source": [
    "final_cols_encoded = X_test.columns.values\n",
    "final_cols_encoded"
   ]
  },
  {
   "cell_type": "code",
   "execution_count": 257,
   "metadata": {
    "ExecuteTime": {
     "end_time": "2020-06-22T14:25:23.297458Z",
     "start_time": "2020-06-22T14:25:23.289773Z"
    }
   },
   "outputs": [],
   "source": [
    "X_test = X_test.values"
   ]
  },
  {
   "cell_type": "code",
   "execution_count": 258,
   "metadata": {
    "ExecuteTime": {
     "end_time": "2020-06-22T14:25:23.937153Z",
     "start_time": "2020-06-22T14:25:23.931371Z"
    }
   },
   "outputs": [],
   "source": [
    "from sklearn.model_selection import RepeatedStratifiedKFold\n",
    "from sklearn.ensemble import RandomForestClassifier\n",
    "from sklearn.ensemble import AdaBoostClassifier\n",
    "from sklearn.tree import DecisionTreeClassifier\n",
    "from sklearn.linear_model import LogisticRegression\n",
    "from sklearn.linear_model import SGDClassifier\n",
    "from sklearn.svm import SVC\n",
    "from sklearn.neighbors import KNeighborsClassifier\n",
    "from sklearn.neural_network import MLPClassifier\n",
    "from sklearn.model_selection import cross_val_score\n",
    "from sklearn import metrics\n",
    "from sklearn.model_selection import GridSearchCV\n",
    "from sklearn.svm import SVC"
   ]
  },
  {
   "cell_type": "code",
   "execution_count": null,
   "metadata": {},
   "outputs": [],
   "source": [
    "def test_model_perf(model, X):\n",
    "    predictions_df = pd.DataFrame(model.predict_proba(X),columns=['No_Attrition','Attrition'], index=range(1,471))\n",
    "    predictions_df.No_Attrition = predictions_df.No_Attrition.apply(lambda x: np.around(x,7))\n",
    "    predictions_df.Attrition = predictions_df.Attrition.apply(lambda x: np.around(x,7))\n",
    "    predictions_df.index.name = 'Id'\n",
    "    final_df = predictions_df[['Attrition']]\n",
    "    return final_df"
   ]
  },
  {
   "cell_type": "code",
   "execution_count": null,
   "metadata": {},
   "outputs": [],
   "source": [
    "!mkdir submissions"
   ]
  },
  {
   "cell_type": "code",
   "execution_count": null,
   "metadata": {},
   "outputs": [],
   "source": [
    "pkl_filename = \"models/RandomForest.pkl\"\n",
    "sub_filename = \"submissions/RandomForest.csv\"\n",
    "model = RandomForestClassifier()\n",
    "with open(pkl_filename, 'rb') as file:\n",
    "    model = pickle.load(file)\n",
    "predictions_df = test_model_perf(model, X_test)\n",
    "predictions_df.to_csv(sub_filename)"
   ]
  },
  {
   "cell_type": "code",
   "execution_count": null,
   "metadata": {},
   "outputs": [],
   "source": []
  }
 ],
 "metadata": {
  "kernelspec": {
   "display_name": "Python 3",
   "language": "python",
   "name": "python3"
  },
  "language_info": {
   "codemirror_mode": {
    "name": "ipython",
    "version": 3
   },
   "file_extension": ".py",
   "mimetype": "text/x-python",
   "name": "python",
   "nbconvert_exporter": "python",
   "pygments_lexer": "ipython3",
   "version": "3.7.7"
  },
  "varInspector": {
   "cols": {
    "lenName": 16,
    "lenType": 16,
    "lenVar": 40
   },
   "kernels_config": {
    "python": {
     "delete_cmd_postfix": "",
     "delete_cmd_prefix": "del ",
     "library": "var_list.py",
     "varRefreshCmd": "print(var_dic_list())"
    },
    "r": {
     "delete_cmd_postfix": ") ",
     "delete_cmd_prefix": "rm(",
     "library": "var_list.r",
     "varRefreshCmd": "cat(var_dic_list()) "
    }
   },
   "types_to_exclude": [
    "module",
    "function",
    "builtin_function_or_method",
    "instance",
    "_Feature"
   ],
   "window_display": false
  }
 },
 "nbformat": 4,
 "nbformat_minor": 4
}
