{
 "cells": [
  {
   "cell_type": "code",
   "execution_count": 10,
   "metadata": {
    "ExecuteTime": {
     "end_time": "2020-05-31T09:27:27.193864Z",
     "start_time": "2020-05-31T09:27:27.185711Z"
    }
   },
   "outputs": [],
   "source": [
    "import pandas as pd\n",
    "import numpy as np\n",
    "import matplotlib.pyplot as plt\n",
    "import seaborn as sns\n",
    "%matplotlib inline\n",
    "import json"
   ]
  },
  {
   "cell_type": "code",
   "execution_count": 11,
   "metadata": {
    "ExecuteTime": {
     "end_time": "2020-05-31T09:27:27.212572Z",
     "start_time": "2020-05-31T09:27:27.198979Z"
    }
   },
   "outputs": [],
   "source": [
    "df = pd.read_csv('data/test.csv')"
   ]
  },
  {
   "cell_type": "code",
   "execution_count": 12,
   "metadata": {
    "ExecuteTime": {
     "end_time": "2020-05-31T09:27:27.224660Z",
     "start_time": "2020-05-31T09:27:27.218606Z"
    }
   },
   "outputs": [
    {
     "data": {
      "text/plain": [
       "(470, 28)"
      ]
     },
     "execution_count": 12,
     "metadata": {},
     "output_type": "execute_result"
    }
   ],
   "source": [
    "df.shape"
   ]
  },
  {
   "cell_type": "code",
   "execution_count": 13,
   "metadata": {
    "ExecuteTime": {
     "end_time": "2020-05-31T09:27:27.235018Z",
     "start_time": "2020-05-31T09:27:27.228279Z"
    }
   },
   "outputs": [
    {
     "data": {
      "text/plain": [
       "Index(['Id', 'Age', 'BusinessTravel', 'Department', 'DistanceFromHome',\n",
       "       'Education', 'EducationField', 'EmployeeNumber',\n",
       "       'EnvironmentSatisfaction', 'Gender', 'JobInvolvement', 'JobRole',\n",
       "       'JobSatisfaction', 'MaritalStatus', 'MonthlyIncome',\n",
       "       'NumCompaniesWorked', 'OverTime', 'PercentSalaryHike',\n",
       "       'PerformanceRating', 'StockOptionLevel', 'TotalWorkingYears',\n",
       "       'TrainingTimesLastYear', 'YearsAtCompany', 'YearsInCurrentRole',\n",
       "       'YearsSinceLastPromotion', 'YearsWithCurrManager', 'CommunicationSkill',\n",
       "       'Behaviour'],\n",
       "      dtype='object')"
      ]
     },
     "execution_count": 13,
     "metadata": {},
     "output_type": "execute_result"
    }
   ],
   "source": [
    "df.columns"
   ]
  },
  {
   "cell_type": "code",
   "execution_count": 14,
   "metadata": {
    "ExecuteTime": {
     "end_time": "2020-05-31T09:27:27.257854Z",
     "start_time": "2020-05-31T09:27:27.241285Z"
    }
   },
   "outputs": [
    {
     "data": {
      "text/plain": [
       "17"
      ]
     },
     "execution_count": 14,
     "metadata": {},
     "output_type": "execute_result"
    }
   ],
   "source": [
    "cols_to_drop = ['Id', 'Gender', 'Behaviour', 'MaritalStatus', 'Education', 'Department', 'PerformanceRating',\n",
    "                'TrainingTimesLastYear', 'YearsInCurrentRole', 'YearsSinceLastPromotion', 'YearsWithCurrManager']\n",
    "df_cleaned = df.drop(cols_to_drop, axis = 1)\n",
    "len(df_cleaned.columns)"
   ]
  },
  {
   "cell_type": "code",
   "execution_count": 15,
   "metadata": {
    "ExecuteTime": {
     "end_time": "2020-05-31T09:27:27.273653Z",
     "start_time": "2020-05-31T09:27:27.260146Z"
    }
   },
   "outputs": [
    {
     "data": {
      "text/plain": [
       "{'BusinessTravel': ['Travel_Rarely', 'Non-Travel', 'Travel_Frequently'],\n",
       " 'EducationField': ['Medical',\n",
       "  'Life Sciences',\n",
       "  'Human Resources',\n",
       "  'Technical Degree',\n",
       "  'Marketing',\n",
       "  'Other'],\n",
       " 'JobRole': ['Research Scientist',\n",
       "  'Sales Executive',\n",
       "  'Manufacturing Director',\n",
       "  'Laboratory Technician',\n",
       "  'Healthcare Representative',\n",
       "  'Human Resources',\n",
       "  'Manager',\n",
       "  'Research Director',\n",
       "  'Sales Representative'],\n",
       " 'OverTime': ['No', 'Yes']}"
      ]
     },
     "execution_count": 15,
     "metadata": {},
     "output_type": "execute_result"
    }
   ],
   "source": [
    "object_type = df_cleaned.select_dtypes(include='object').columns\n",
    "with open('data/object_col_unique_vals.json', 'r') as fp:\n",
    "    object_type_vals = json.load(fp)\n",
    "object_type_vals"
   ]
  },
  {
   "cell_type": "code",
   "execution_count": 16,
   "metadata": {
    "ExecuteTime": {
     "end_time": "2020-05-31T09:27:27.289217Z",
     "start_time": "2020-05-31T09:27:27.276980Z"
    }
   },
   "outputs": [],
   "source": [
    "df_test = df_cleaned.drop(object_type_vals, axis=1)"
   ]
  },
  {
   "cell_type": "code",
   "execution_count": 17,
   "metadata": {
    "ExecuteTime": {
     "end_time": "2020-05-31T09:27:27.321330Z",
     "start_time": "2020-05-31T09:27:27.302827Z"
    }
   },
   "outputs": [],
   "source": [
    "from sklearn.preprocessing import OneHotEncoder\n",
    "ohe = OneHotEncoder(handle_unknown='error', sparse=False, drop='first')\n",
    "encoder = ohe.fit(df_cleaned[object_type])\n",
    "object_type_onehot_arr = encoder.transform(df_cleaned[object_type])"
   ]
  },
  {
   "cell_type": "code",
   "execution_count": 18,
   "metadata": {
    "ExecuteTime": {
     "end_time": "2020-05-31T09:27:27.331149Z",
     "start_time": "2020-05-31T09:27:27.327660Z"
    }
   },
   "outputs": [],
   "source": [
    "X = np.hstack((df_test.values,object_type_onehot_arr))"
   ]
  },
  {
   "cell_type": "code",
   "execution_count": 19,
   "metadata": {
    "ExecuteTime": {
     "end_time": "2020-05-31T09:27:27.340801Z",
     "start_time": "2020-05-31T09:27:27.334768Z"
    }
   },
   "outputs": [],
   "source": [
    "from sklearn.preprocessing import StandardScaler\n",
    "sc = StandardScaler()\n",
    "X = sc.fit_transform(X)"
   ]
  },
  {
   "cell_type": "code",
   "execution_count": 20,
   "metadata": {
    "ExecuteTime": {
     "end_time": "2020-05-31T09:27:27.639654Z",
     "start_time": "2020-05-31T09:27:27.346277Z"
    }
   },
   "outputs": [],
   "source": [
    "from sklearn.ensemble import RandomForestClassifier\n",
    "from sklearn.neural_network import MLPClassifier\n",
    "\n",
    "import pickle"
   ]
  },
  {
   "cell_type": "code",
   "execution_count": 40,
   "metadata": {
    "ExecuteTime": {
     "end_time": "2020-05-31T09:35:14.337641Z",
     "start_time": "2020-05-31T09:35:14.328406Z"
    }
   },
   "outputs": [],
   "source": [
    "def test_model_perf(model, X):\n",
    "    predictions_df = pd.DataFrame(model.predict_proba(X),columns=['No_Attrition','Attrition'], index=range(1,471))\n",
    "    predictions_df.No_Attrition = predictions_df.No_Attrition.apply(lambda x: np.around(x,7))\n",
    "    predictions_df.Attrition = predictions_df.Attrition.apply(lambda x: np.around(x,7))\n",
    "    predictions_df.index.name = 'Id'\n",
    "    final_df = predictions_df[['Attrition']]\n",
    "    return final_df"
   ]
  },
  {
   "cell_type": "markdown",
   "metadata": {},
   "source": [
    "### Generating Testing files for models"
   ]
  },
  {
   "cell_type": "code",
   "execution_count": 41,
   "metadata": {
    "ExecuteTime": {
     "end_time": "2020-05-31T09:35:15.241352Z",
     "start_time": "2020-05-31T09:35:15.111353Z"
    }
   },
   "outputs": [
    {
     "name": "stdout",
     "output_type": "stream",
     "text": [
      "mkdir: submissions: File exists\r\n"
     ]
    }
   ],
   "source": [
    "!mkdir submissions"
   ]
  },
  {
   "cell_type": "markdown",
   "metadata": {},
   "source": [
    "Model : RandomForest1.0"
   ]
  },
  {
   "cell_type": "code",
   "execution_count": 42,
   "metadata": {
    "ExecuteTime": {
     "end_time": "2020-05-31T09:35:16.088909Z",
     "start_time": "2020-05-31T09:35:16.060125Z"
    }
   },
   "outputs": [],
   "source": [
    "pkl_filename = \"models/RandomForest1.0.pkl\"\n",
    "sub_filename = \"submissions/RandomForest1.0.csv\"\n",
    "model = RandomForestClassifier()\n",
    "with open(pkl_filename, 'rb') as file:\n",
    "    model = pickle.load(file)\n",
    "predictions_df = test_model_perf(model, X)\n",
    "predictions_df.to_csv(sub_filename)"
   ]
  },
  {
   "cell_type": "markdown",
   "metadata": {
    "ExecuteTime": {
     "end_time": "2020-05-31T09:27:41.874241Z",
     "start_time": "2020-05-31T09:27:41.863104Z"
    }
   },
   "source": [
    "Model: MLP1.0"
   ]
  },
  {
   "cell_type": "code",
   "execution_count": 43,
   "metadata": {
    "ExecuteTime": {
     "end_time": "2020-05-31T09:35:17.136069Z",
     "start_time": "2020-05-31T09:35:17.103920Z"
    }
   },
   "outputs": [],
   "source": [
    "pkl_filename = \"models/MLP1.0.pkl\"\n",
    "sub_filename = \"submissions/MLP1.0.csv\"\n",
    "model = MLPClassifier()\n",
    "with open(pkl_filename, 'rb') as file:\n",
    "    model = pickle.load(file)\n",
    "predictions_df = test_model_perf(model, X)\n",
    "predictions_df.to_csv(sub_filename)"
   ]
  },
  {
   "cell_type": "code",
   "execution_count": null,
   "metadata": {},
   "outputs": [],
   "source": []
  }
 ],
 "metadata": {
  "kernelspec": {
   "display_name": "Python 3",
   "language": "python",
   "name": "python3"
  },
  "language_info": {
   "codemirror_mode": {
    "name": "ipython",
    "version": 3
   },
   "file_extension": ".py",
   "mimetype": "text/x-python",
   "name": "python",
   "nbconvert_exporter": "python",
   "pygments_lexer": "ipython3",
   "version": "3.7.7"
  },
  "varInspector": {
   "cols": {
    "lenName": 16,
    "lenType": 16,
    "lenVar": 40
   },
   "kernels_config": {
    "python": {
     "delete_cmd_postfix": "",
     "delete_cmd_prefix": "del ",
     "library": "var_list.py",
     "varRefreshCmd": "print(var_dic_list())"
    },
    "r": {
     "delete_cmd_postfix": ") ",
     "delete_cmd_prefix": "rm(",
     "library": "var_list.r",
     "varRefreshCmd": "cat(var_dic_list()) "
    }
   },
   "types_to_exclude": [
    "module",
    "function",
    "builtin_function_or_method",
    "instance",
    "_Feature"
   ],
   "window_display": false
  }
 },
 "nbformat": 4,
 "nbformat_minor": 4
}
