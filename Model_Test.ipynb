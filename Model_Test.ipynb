{
 "cells": [
  {
   "cell_type": "code",
   "execution_count": 1,
   "metadata": {
    "ExecuteTime": {
     "end_time": "2020-06-06T07:20:25.084970Z",
     "start_time": "2020-06-06T07:20:23.499179Z"
    }
   },
   "outputs": [],
   "source": [
    "import pandas as pd\n",
    "import numpy as np\n",
    "import matplotlib.pyplot as plt\n",
    "import seaborn as sns\n",
    "%matplotlib inline\n",
    "import json"
   ]
  },
  {
   "cell_type": "code",
   "execution_count": 2,
   "metadata": {
    "ExecuteTime": {
     "end_time": "2020-06-06T07:20:29.536943Z",
     "start_time": "2020-06-06T07:20:29.519882Z"
    }
   },
   "outputs": [],
   "source": [
    "df = pd.read_csv('data/test.csv')"
   ]
  },
  {
   "cell_type": "code",
   "execution_count": 3,
   "metadata": {
    "ExecuteTime": {
     "end_time": "2020-06-06T07:20:30.254346Z",
     "start_time": "2020-06-06T07:20:30.244611Z"
    }
   },
   "outputs": [
    {
     "data": {
      "text/plain": [
       "(470, 28)"
      ]
     },
     "execution_count": 3,
     "metadata": {},
     "output_type": "execute_result"
    }
   ],
   "source": [
    "df.shape"
   ]
  },
  {
   "cell_type": "code",
   "execution_count": 4,
   "metadata": {
    "ExecuteTime": {
     "end_time": "2020-06-06T07:20:31.101298Z",
     "start_time": "2020-06-06T07:20:31.092408Z"
    }
   },
   "outputs": [
    {
     "data": {
      "text/plain": [
       "Index(['Id', 'Age', 'BusinessTravel', 'Department', 'DistanceFromHome',\n",
       "       'Education', 'EducationField', 'EmployeeNumber',\n",
       "       'EnvironmentSatisfaction', 'Gender', 'JobInvolvement', 'JobRole',\n",
       "       'JobSatisfaction', 'MaritalStatus', 'MonthlyIncome',\n",
       "       'NumCompaniesWorked', 'OverTime', 'PercentSalaryHike',\n",
       "       'PerformanceRating', 'StockOptionLevel', 'TotalWorkingYears',\n",
       "       'TrainingTimesLastYear', 'YearsAtCompany', 'YearsInCurrentRole',\n",
       "       'YearsSinceLastPromotion', 'YearsWithCurrManager', 'CommunicationSkill',\n",
       "       'Behaviour'],\n",
       "      dtype='object')"
      ]
     },
     "execution_count": 4,
     "metadata": {},
     "output_type": "execute_result"
    }
   ],
   "source": [
    "df.columns"
   ]
  },
  {
   "cell_type": "markdown",
   "metadata": {},
   "source": [
    "### Without Feature Engineering"
   ]
  },
  {
   "cell_type": "code",
   "execution_count": 5,
   "metadata": {
    "ExecuteTime": {
     "end_time": "2020-06-05T16:54:22.476958Z",
     "start_time": "2020-06-05T16:54:22.464339Z"
    }
   },
   "outputs": [
    {
     "data": {
      "text/plain": [
       "17"
      ]
     },
     "execution_count": 5,
     "metadata": {},
     "output_type": "execute_result"
    }
   ],
   "source": [
    "cols_to_drop = ['Id', 'Gender', 'Behaviour', 'MaritalStatus', 'Education', 'Department', 'PerformanceRating',\n",
    "                'TrainingTimesLastYear', 'YearsInCurrentRole', 'YearsSinceLastPromotion', 'YearsWithCurrManager']\n",
    "df_cleaned = df.drop(cols_to_drop, axis = 1)\n",
    "len(df_cleaned.columns)"
   ]
  },
  {
   "cell_type": "markdown",
   "metadata": {},
   "source": [
    "### With Feature Engineering"
   ]
  },
  {
   "cell_type": "code",
   "execution_count": 5,
   "metadata": {
    "ExecuteTime": {
     "end_time": "2020-06-06T07:20:34.779531Z",
     "start_time": "2020-06-06T07:20:34.742896Z"
    }
   },
   "outputs": [
    {
     "data": {
      "text/plain": [
       "20"
      ]
     },
     "execution_count": 5,
     "metadata": {},
     "output_type": "execute_result"
    }
   ],
   "source": [
    "df['YearsToCompanies'] = pd.cut((df.TotalWorkingYears / (df.NumCompaniesWorked+1)),[-1,2,4,6,8,np.inf], labels=[1,2,3,4,5]).astype('int64')\n",
    "df['PropCurrMgrCompYears'] = df.YearsWithCurrManager / (df.YearsAtCompany+1)\n",
    "df['PropAgeCompYears'] = pd.qcut((df.YearsAtCompany) / (df.Age+1), 5, duplicates='drop', labels=[1,2,3,4,5]).astype('int64')\n",
    "df['PropTrainCompYears'] = pd.qcut(df.TrainingTimesLastYear / (df.YearsAtCompany+1),4, labels=[1,2,3,4]).astype('int64')\n",
    "df['PropCurrRoleCompYears'] = df.YearsInCurrentRole / (df.YearsAtCompany+1)\n",
    "\n",
    "cols_to_drop = ['Id',\n",
    "                'Behaviour', \n",
    "                'Gender',\n",
    "                'MaritalStatus', \n",
    "                'Education', \n",
    "                'PerformanceRating',\n",
    "                'Department',\n",
    "                'MonthlyIncome',\n",
    "                'YearsAtCompany',\n",
    "                'TrainingTimesLastYear', \n",
    "                'YearsInCurrentRole', \n",
    "                'YearsSinceLastPromotion', \n",
    "                'YearsWithCurrManager']\n",
    "df_cleaned = df.drop(cols_to_drop, axis=1)\n",
    "len(df_cleaned.columns)"
   ]
  },
  {
   "cell_type": "markdown",
   "metadata": {},
   "source": [
    "### PreProcessing and Model Testing"
   ]
  },
  {
   "cell_type": "code",
   "execution_count": 6,
   "metadata": {
    "ExecuteTime": {
     "end_time": "2020-06-06T07:20:37.226331Z",
     "start_time": "2020-06-06T07:20:37.212918Z"
    }
   },
   "outputs": [
    {
     "data": {
      "text/plain": [
       "{'BusinessTravel': ['Non-Travel', 'Travel_Rarely', 'Travel_Frequently'],\n",
       " 'EducationField': ['Medical',\n",
       "  'Life Sciences',\n",
       "  'Other',\n",
       "  'Marketing',\n",
       "  'Technical Degree',\n",
       "  'Human Resources'],\n",
       " 'JobRole': ['Laboratory Technician',\n",
       "  'Manufacturing Director',\n",
       "  'Sales Executive',\n",
       "  'Research Scientist',\n",
       "  'Sales Representative',\n",
       "  'Healthcare Representative',\n",
       "  'Research Director',\n",
       "  'Human Resources',\n",
       "  'Manager'],\n",
       " 'OverTime': ['No', 'Yes']}"
      ]
     },
     "execution_count": 6,
     "metadata": {},
     "output_type": "execute_result"
    }
   ],
   "source": [
    "object_type = df_cleaned.select_dtypes(include='object').columns\n",
    "with open('data/object_col_unique_vals.json', 'r') as fp:\n",
    "    object_type_vals = json.load(fp)\n",
    "object_type_vals"
   ]
  },
  {
   "cell_type": "code",
   "execution_count": 7,
   "metadata": {
    "ExecuteTime": {
     "end_time": "2020-06-06T07:20:40.007493Z",
     "start_time": "2020-06-06T07:20:39.998652Z"
    }
   },
   "outputs": [],
   "source": [
    "df_test = df_cleaned.drop(object_type_vals, axis=1)"
   ]
  },
  {
   "cell_type": "code",
   "execution_count": 8,
   "metadata": {
    "ExecuteTime": {
     "end_time": "2020-06-06T07:20:41.225906Z",
     "start_time": "2020-06-06T07:20:41.002907Z"
    }
   },
   "outputs": [],
   "source": [
    "from sklearn.preprocessing import OneHotEncoder\n",
    "ohe = OneHotEncoder(handle_unknown='error', sparse=False, drop='first')\n",
    "encoder = ohe.fit(df_cleaned[object_type])\n",
    "object_type_onehot_arr = encoder.transform(df_cleaned[object_type])"
   ]
  },
  {
   "cell_type": "code",
   "execution_count": 9,
   "metadata": {
    "ExecuteTime": {
     "end_time": "2020-06-06T07:20:41.471582Z",
     "start_time": "2020-06-06T07:20:41.465983Z"
    }
   },
   "outputs": [],
   "source": [
    "X = np.hstack((df_test.values,object_type_onehot_arr))"
   ]
  },
  {
   "cell_type": "code",
   "execution_count": 10,
   "metadata": {
    "ExecuteTime": {
     "end_time": "2020-06-06T07:20:42.146912Z",
     "start_time": "2020-06-06T07:20:42.138972Z"
    }
   },
   "outputs": [],
   "source": [
    "from sklearn.preprocessing import StandardScaler\n",
    "sc = StandardScaler()\n",
    "X = sc.fit_transform(X)"
   ]
  },
  {
   "cell_type": "code",
   "execution_count": 15,
   "metadata": {
    "ExecuteTime": {
     "end_time": "2020-06-06T07:22:40.224251Z",
     "start_time": "2020-06-06T07:22:40.220199Z"
    }
   },
   "outputs": [],
   "source": [
    "from sklearn.ensemble import RandomForestClassifier\n",
    "from sklearn.neural_network import MLPClassifier\n",
    "from sklearn.svm import SVC\n",
    "from sklearn.ensemble import AdaBoostClassifier\n",
    "import pickle"
   ]
  },
  {
   "cell_type": "code",
   "execution_count": 12,
   "metadata": {
    "ExecuteTime": {
     "end_time": "2020-06-06T07:20:44.733406Z",
     "start_time": "2020-06-06T07:20:44.725357Z"
    }
   },
   "outputs": [],
   "source": [
    "def test_model_perf(model, X):\n",
    "    predictions_df = pd.DataFrame(model.predict_proba(X),columns=['No_Attrition','Attrition'], index=range(1,471))\n",
    "    predictions_df.No_Attrition = predictions_df.No_Attrition.apply(lambda x: np.around(x,7))\n",
    "    predictions_df.Attrition = predictions_df.Attrition.apply(lambda x: np.around(x,7))\n",
    "    predictions_df.index.name = 'Id'\n",
    "    final_df = predictions_df[['Attrition']]\n",
    "    return final_df"
   ]
  },
  {
   "cell_type": "markdown",
   "metadata": {},
   "source": [
    "### Generating Testing files for models"
   ]
  },
  {
   "cell_type": "code",
   "execution_count": 13,
   "metadata": {
    "ExecuteTime": {
     "end_time": "2020-06-05T16:54:22.799607Z",
     "start_time": "2020-06-05T16:54:22.677594Z"
    }
   },
   "outputs": [
    {
     "name": "stdout",
     "output_type": "stream",
     "text": [
      "mkdir: submissions: File exists\r\n"
     ]
    }
   ],
   "source": [
    "!mkdir submissions"
   ]
  },
  {
   "cell_type": "markdown",
   "metadata": {},
   "source": [
    "Model: Random Forest 6.0"
   ]
  },
  {
   "cell_type": "code",
   "execution_count": 20,
   "metadata": {
    "ExecuteTime": {
     "end_time": "2020-06-06T07:41:54.332129Z",
     "start_time": "2020-06-06T07:41:54.254502Z"
    }
   },
   "outputs": [],
   "source": [
    "pkl_filename = \"models/RandomForest6.0.pkl\"\n",
    "sub_filename = \"submissions/RandomForest6.0.csv\"\n",
    "model = RandomForestClassifier(max_features=0.60, n_estimators=300, oob_score=True)\n",
    "with open(pkl_filename, 'rb') as file:\n",
    "    model = pickle.load(file)\n",
    "predictions_df = test_model_perf(model, X)\n",
    "predictions_df.to_csv(sub_filename)"
   ]
  },
  {
   "cell_type": "markdown",
   "metadata": {},
   "source": [
    "Model: Random Forest5.0"
   ]
  },
  {
   "cell_type": "code",
   "execution_count": 19,
   "metadata": {
    "ExecuteTime": {
     "end_time": "2020-06-06T07:32:00.033628Z",
     "start_time": "2020-06-06T07:31:59.958053Z"
    }
   },
   "outputs": [],
   "source": [
    "pkl_filename = \"models/RandomForest5.0.pkl\"\n",
    "sub_filename = \"submissions/RandomForest5.0.csv\"\n",
    "model = RandomForestClassifier(max_features=0.70, n_estimators=300, oob_score=True)\n",
    "with open(pkl_filename, 'rb') as file:\n",
    "    model = pickle.load(file)\n",
    "predictions_df = test_model_perf(model, X)\n",
    "predictions_df.to_csv(sub_filename)"
   ]
  },
  {
   "cell_type": "markdown",
   "metadata": {},
   "source": [
    "Model: Adaboost2.0"
   ]
  },
  {
   "cell_type": "code",
   "execution_count": 18,
   "metadata": {
    "ExecuteTime": {
     "end_time": "2020-06-06T07:31:46.411494Z",
     "start_time": "2020-06-06T07:31:46.377990Z"
    }
   },
   "outputs": [],
   "source": [
    "pkl_filename = \"models/Adaboost2.0.pkl\"\n",
    "sub_filename = \"submissions/Adaboost2.0.csv\"\n",
    "model = AdaBoostClassifier(n_estimators=30)\n",
    "with open(pkl_filename, 'rb') as file:\n",
    "    model = pickle.load(file)\n",
    "predictions_df = test_model_perf(model, X)\n",
    "predictions_df.to_csv(sub_filename)"
   ]
  },
  {
   "cell_type": "markdown",
   "metadata": {},
   "source": [
    "Model: Adaboost1.0"
   ]
  },
  {
   "cell_type": "code",
   "execution_count": 17,
   "metadata": {
    "ExecuteTime": {
     "end_time": "2020-06-06T07:23:01.497241Z",
     "start_time": "2020-06-06T07:23:01.463490Z"
    }
   },
   "outputs": [],
   "source": [
    "pkl_filename = \"models/Adaboost1.0.pkl\"\n",
    "sub_filename = \"submissions/Adaboost1.0.csv\"\n",
    "model = AdaBoostClassifier(n_estimators=30)\n",
    "with open(pkl_filename, 'rb') as file:\n",
    "    model = pickle.load(file)\n",
    "predictions_df = test_model_perf(model, X)\n",
    "predictions_df.to_csv(sub_filename)"
   ]
  },
  {
   "cell_type": "markdown",
   "metadata": {},
   "source": [
    "Model: RandomForest4.0"
   ]
  },
  {
   "cell_type": "code",
   "execution_count": 13,
   "metadata": {
    "ExecuteTime": {
     "end_time": "2020-06-06T07:21:00.112217Z",
     "start_time": "2020-06-06T07:21:00.027524Z"
    }
   },
   "outputs": [],
   "source": [
    "pkl_filename = \"models/RandomForest4.0.pkl\"\n",
    "sub_filename = \"submissions/RandomForest4.0.csv\"\n",
    "model = RandomForestClassifier(max_features=0.70, n_estimators=300, oob_score=True)\n",
    "with open(pkl_filename, 'rb') as file:\n",
    "    model = pickle.load(file)\n",
    "predictions_df = test_model_perf(model, X)\n",
    "predictions_df.to_csv(sub_filename)"
   ]
  },
  {
   "cell_type": "markdown",
   "metadata": {},
   "source": [
    "Model: RandomForest3.0"
   ]
  },
  {
   "cell_type": "code",
   "execution_count": 33,
   "metadata": {
    "ExecuteTime": {
     "end_time": "2020-06-05T20:26:11.726064Z",
     "start_time": "2020-06-05T20:26:11.648153Z"
    }
   },
   "outputs": [],
   "source": [
    "pkl_filename = \"models/RandomForest3.0.pkl\"\n",
    "sub_filename = \"submissions/RandomForest3.0.csv\"\n",
    "model = RandomForestClassifier(max_features=0.70, n_estimators=300, oob_score=True)\n",
    "with open(pkl_filename, 'rb') as file:\n",
    "    model = pickle.load(file)\n",
    "predictions_df = test_model_perf(model, X)\n",
    "predictions_df.to_csv(sub_filename)"
   ]
  },
  {
   "cell_type": "markdown",
   "metadata": {},
   "source": [
    "Model : SVC1.0"
   ]
  },
  {
   "cell_type": "code",
   "execution_count": 17,
   "metadata": {
    "ExecuteTime": {
     "end_time": "2020-06-05T16:55:14.712941Z",
     "start_time": "2020-06-05T16:55:14.673836Z"
    }
   },
   "outputs": [],
   "source": [
    "pkl_filename = \"models/SVC1.0.pkl\"\n",
    "sub_filename = \"submissions/SVC1.0.csv\"\n",
    "model = SVC(kernel='poly', degree=3, gamma='scale', probability= True)\n",
    "with open(pkl_filename, 'rb') as file:\n",
    "    model = pickle.load(file)\n",
    "predictions_df = test_model_perf(model, X)\n",
    "predictions_df.to_csv(sub_filename)"
   ]
  },
  {
   "cell_type": "markdown",
   "metadata": {},
   "source": [
    "Model : RandomForest2.0"
   ]
  },
  {
   "cell_type": "code",
   "execution_count": 13,
   "metadata": {
    "ExecuteTime": {
     "end_time": "2020-05-31T12:04:38.464378Z",
     "start_time": "2020-05-31T12:04:38.401505Z"
    }
   },
   "outputs": [],
   "source": [
    "pkl_filename = \"models/RandomForest2.0.pkl\"\n",
    "sub_filename = \"submissions/RandomForest2.0.csv\"\n",
    "model = RandomForestClassifier()\n",
    "with open(pkl_filename, 'rb') as file:\n",
    "    model = pickle.load(file)\n",
    "predictions_df = test_model_perf(model, X)\n",
    "predictions_df.to_csv(sub_filename)"
   ]
  },
  {
   "cell_type": "markdown",
   "metadata": {},
   "source": [
    "Model : RandomForest1.0"
   ]
  },
  {
   "cell_type": "code",
   "execution_count": 42,
   "metadata": {
    "ExecuteTime": {
     "end_time": "2020-05-31T09:35:16.088909Z",
     "start_time": "2020-05-31T09:35:16.060125Z"
    }
   },
   "outputs": [],
   "source": [
    "pkl_filename = \"models/RandomForest1.0.pkl\"\n",
    "sub_filename = \"submissions/RandomForest1.0.csv\"\n",
    "model = RandomForestClassifier()\n",
    "with open(pkl_filename, 'rb') as file:\n",
    "    model = pickle.load(file)\n",
    "predictions_df = test_model_perf(model, X)\n",
    "predictions_df.to_csv(sub_filename)"
   ]
  },
  {
   "cell_type": "markdown",
   "metadata": {
    "ExecuteTime": {
     "end_time": "2020-05-31T09:27:41.874241Z",
     "start_time": "2020-05-31T09:27:41.863104Z"
    }
   },
   "source": [
    "Model: MLP1.0"
   ]
  },
  {
   "cell_type": "code",
   "execution_count": 43,
   "metadata": {
    "ExecuteTime": {
     "end_time": "2020-05-31T09:35:17.136069Z",
     "start_time": "2020-05-31T09:35:17.103920Z"
    }
   },
   "outputs": [],
   "source": [
    "pkl_filename = \"models/MLP1.0.pkl\"\n",
    "sub_filename = \"submissions/MLP1.0.csv\"\n",
    "model = MLPClassifier()\n",
    "with open(pkl_filename, 'rb') as file:\n",
    "    model = pickle.load(file)\n",
    "predictions_df = test_model_perf(model, X)\n",
    "predictions_df.to_csv(sub_filename)"
   ]
  },
  {
   "cell_type": "code",
   "execution_count": null,
   "metadata": {},
   "outputs": [],
   "source": []
  }
 ],
 "metadata": {
  "kernelspec": {
   "display_name": "Python 3",
   "language": "python",
   "name": "python3"
  },
  "language_info": {
   "codemirror_mode": {
    "name": "ipython",
    "version": 3
   },
   "file_extension": ".py",
   "mimetype": "text/x-python",
   "name": "python",
   "nbconvert_exporter": "python",
   "pygments_lexer": "ipython3",
   "version": "3.7.7"
  },
  "varInspector": {
   "cols": {
    "lenName": 16,
    "lenType": 16,
    "lenVar": 40
   },
   "kernels_config": {
    "python": {
     "delete_cmd_postfix": "",
     "delete_cmd_prefix": "del ",
     "library": "var_list.py",
     "varRefreshCmd": "print(var_dic_list())"
    },
    "r": {
     "delete_cmd_postfix": ") ",
     "delete_cmd_prefix": "rm(",
     "library": "var_list.r",
     "varRefreshCmd": "cat(var_dic_list()) "
    }
   },
   "types_to_exclude": [
    "module",
    "function",
    "builtin_function_or_method",
    "instance",
    "_Feature"
   ],
   "window_display": false
  }
 },
 "nbformat": 4,
 "nbformat_minor": 4
}
