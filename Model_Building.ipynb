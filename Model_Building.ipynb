{
 "cells": [
  {
   "cell_type": "code",
   "execution_count": 231,
   "metadata": {
    "ExecuteTime": {
     "end_time": "2020-06-22T14:25:05.302220Z",
     "start_time": "2020-06-22T14:25:05.296595Z"
    }
   },
   "outputs": [],
   "source": [
    "import pandas as pd\n",
    "import numpy as np\n",
    "import matplotlib.pyplot as plt\n",
    "import seaborn as sns\n",
    "%matplotlib inline\n",
    "import json\n",
    "import pickle"
   ]
  },
  {
   "cell_type": "code",
   "execution_count": 232,
   "metadata": {
    "ExecuteTime": {
     "end_time": "2020-06-22T14:25:05.565142Z",
     "start_time": "2020-06-22T14:25:05.552493Z"
    }
   },
   "outputs": [
    {
     "data": {
      "text/plain": [
       "(1628, 29)"
      ]
     },
     "execution_count": 232,
     "metadata": {},
     "output_type": "execute_result"
    }
   ],
   "source": [
    "df = pd.read_csv('data/train.csv')\n",
    "df.shape"
   ]
  },
  {
   "cell_type": "code",
   "execution_count": 233,
   "metadata": {
    "ExecuteTime": {
     "end_time": "2020-06-22T14:25:05.784418Z",
     "start_time": "2020-06-22T14:25:05.777897Z"
    }
   },
   "outputs": [
    {
     "data": {
      "text/plain": [
       "Index(['Id', 'Age', 'Attrition', 'BusinessTravel', 'Department',\n",
       "       'DistanceFromHome', 'Education', 'EducationField', 'EmployeeNumber',\n",
       "       'EnvironmentSatisfaction', 'Gender', 'JobInvolvement', 'JobRole',\n",
       "       'JobSatisfaction', 'MaritalStatus', 'MonthlyIncome',\n",
       "       'NumCompaniesWorked', 'OverTime', 'PercentSalaryHike',\n",
       "       'PerformanceRating', 'StockOptionLevel', 'TotalWorkingYears',\n",
       "       'TrainingTimesLastYear', 'YearsAtCompany', 'YearsInCurrentRole',\n",
       "       'YearsSinceLastPromotion', 'YearsWithCurrManager', 'CommunicationSkill',\n",
       "       'Behaviour'],\n",
       "      dtype='object')"
      ]
     },
     "execution_count": 233,
     "metadata": {},
     "output_type": "execute_result"
    }
   ],
   "source": [
    "df.columns"
   ]
  },
  {
   "cell_type": "markdown",
   "metadata": {},
   "source": [
    "### Feature Engineering"
   ]
  },
  {
   "cell_type": "code",
   "execution_count": 234,
   "metadata": {
    "ExecuteTime": {
     "end_time": "2020-06-22T14:25:14.603186Z",
     "start_time": "2020-06-22T14:25:14.591411Z"
    }
   },
   "outputs": [],
   "source": [
    "def extract_feature(df_input):\n",
    "    df = df_input.copy()\n",
    "    df['OwnStocks'] = df.StockOptionLevel.apply(lambda x: 'No' if x == 0 else 'Yes')\n",
    "    df['PropWorkLife'] = df.TotalWorkingYears / df.Age\n",
    "    df['PropExpComp'] = df.NumCompaniesWorked / (df.TotalWorkingYears+1)\n",
    "    df['PropRoleComp'] = df.YearsInCurrentRole / (df.YearsAtCompany + 1)\n",
    "    df['AgeBar'] = pd.cut(df.Age, bins = [0,27,45,np.inf], labels=['Young','Mid','Old']).astype('object')\n",
    "    q_pays = {\n",
    "        'Laboratory Technician': 2705.0, \n",
    "        'Manufacturing Director': 5824.4000000000015, \n",
    "        'Sales Executive': 5675.8, \n",
    "        'Research Scientist': 2693.4, \n",
    "        'Sales Representative': 2325.8, \n",
    "        'Healthcare Representative': 6348.6, \n",
    "        'Research Director': 15014.600000000002, \n",
    "        'Human Resources': 2741.0, \n",
    "        'Manager': 16894.0\n",
    "    }\n",
    "    df['AboveQPay'] = df.apply(lambda x: 'No' if x.MonthlyIncome < q_pays.get(x.JobRole) else 'Yes', axis = 1)\n",
    "    df['WorkFactors'] = (df.EnvironmentSatisfaction+df.JobSatisfaction+df.JobInvolvement) / 15\n",
    "    df['CommunicationSkill'] = 1 / df['CommunicationSkill']\n",
    "    #df['PropCompYrsHike'] = df.YearsAtCompany/(df.PercentSalaryHike+1)\n",
    "    cols_to_drop = [\n",
    "                    'Id',\n",
    "                    'Behaviour',\n",
    "                    'PerformanceRating',\n",
    "                    'Gender',\n",
    "                    'Education', \n",
    "                    'Department',\n",
    "                    'EmployeeNumber',\n",
    "                    'PercentSalaryHike',\n",
    "                    'YearsInCurrentRole',\n",
    "                    'YearsSinceLastPromotion',\n",
    "                    'YearsWithCurrManager',\n",
    "                    'TrainingTimesLastYear',\n",
    "                    'EducationField',\n",
    "                    'StockOptionLevel',\n",
    "                    'TotalWorkingYears',\n",
    "                    'YearsAtCompany',\n",
    "                    'NumCompaniesWorked',\n",
    "                    'JobSatisfaction',\n",
    "                    'EnvironmentSatisfaction',\n",
    "                    'JobInvolvement',\n",
    "                    'Age',\n",
    "                    'MonthlyIncome',\n",
    "                    'DistanceFromHome'\n",
    "                  ]\n",
    "    df.drop(cols_to_drop, inplace = True, axis = 1)\n",
    "    print('Columns Dropped : {}'.format(cols_to_drop))\n",
    "    print('Columns in DataFrame: {}'.format(df.columns.to_list()))\n",
    "    return df"
   ]
  },
  {
   "cell_type": "code",
   "execution_count": 235,
   "metadata": {
    "ExecuteTime": {
     "end_time": "2020-06-22T14:25:14.894663Z",
     "start_time": "2020-06-22T14:25:14.820700Z"
    }
   },
   "outputs": [
    {
     "name": "stdout",
     "output_type": "stream",
     "text": [
      "Columns Dropped : ['Id', 'Behaviour', 'PerformanceRating', 'Gender', 'Education', 'Department', 'EmployeeNumber', 'PercentSalaryHike', 'YearsInCurrentRole', 'YearsSinceLastPromotion', 'YearsWithCurrManager', 'TrainingTimesLastYear', 'EducationField', 'StockOptionLevel', 'TotalWorkingYears', 'YearsAtCompany', 'NumCompaniesWorked', 'JobSatisfaction', 'EnvironmentSatisfaction', 'JobInvolvement', 'Age', 'MonthlyIncome', 'DistanceFromHome']\n",
      "Columns in DataFrame: ['Attrition', 'BusinessTravel', 'JobRole', 'MaritalStatus', 'OverTime', 'CommunicationSkill', 'OwnStocks', 'PropWorkLife', 'PropExpComp', 'PropRoleComp', 'AgeBar', 'AboveQPay', 'WorkFactors']\n"
     ]
    }
   ],
   "source": [
    "df_cleaned = extract_feature(df)"
   ]
  },
  {
   "cell_type": "code",
   "execution_count": 236,
   "metadata": {
    "ExecuteTime": {
     "end_time": "2020-06-22T14:25:15.129786Z",
     "start_time": "2020-06-22T14:25:15.122478Z"
    }
   },
   "outputs": [
    {
     "data": {
      "text/plain": [
       "Attrition               int64\n",
       "BusinessTravel         object\n",
       "JobRole                object\n",
       "MaritalStatus          object\n",
       "OverTime               object\n",
       "CommunicationSkill    float64\n",
       "OwnStocks              object\n",
       "PropWorkLife          float64\n",
       "PropExpComp           float64\n",
       "PropRoleComp          float64\n",
       "AgeBar                 object\n",
       "AboveQPay              object\n",
       "WorkFactors           float64\n",
       "dtype: object"
      ]
     },
     "execution_count": 236,
     "metadata": {},
     "output_type": "execute_result"
    }
   ],
   "source": [
    "df_cleaned.dtypes"
   ]
  },
  {
   "cell_type": "markdown",
   "metadata": {},
   "source": [
    "### Preprocessing and Model Building Init"
   ]
  },
  {
   "cell_type": "code",
   "execution_count": 237,
   "metadata": {
    "ExecuteTime": {
     "end_time": "2020-06-22T14:25:15.520047Z",
     "start_time": "2020-06-22T14:25:15.506887Z"
    }
   },
   "outputs": [
    {
     "data": {
      "text/plain": [
       "(1000, 13)"
      ]
     },
     "execution_count": 237,
     "metadata": {},
     "output_type": "execute_result"
    }
   ],
   "source": [
    "df_cleaned.drop_duplicates(inplace=True)\n",
    "df_cleaned.shape"
   ]
  },
  {
   "cell_type": "code",
   "execution_count": 238,
   "metadata": {
    "ExecuteTime": {
     "end_time": "2020-06-22T14:25:15.746493Z",
     "start_time": "2020-06-22T14:25:15.740191Z"
    }
   },
   "outputs": [],
   "source": [
    "df_X = df_cleaned.drop(['Attrition'], axis = 1).copy()\n",
    "df_y = df_cleaned[['Attrition']].copy()"
   ]
  },
  {
   "cell_type": "code",
   "execution_count": 239,
   "metadata": {
    "ExecuteTime": {
     "end_time": "2020-06-22T14:25:15.959049Z",
     "start_time": "2020-06-22T14:25:15.951482Z"
    }
   },
   "outputs": [
    {
     "data": {
      "text/plain": [
       "['BusinessTravel',\n",
       " 'JobRole',\n",
       " 'MaritalStatus',\n",
       " 'OverTime',\n",
       " 'OwnStocks',\n",
       " 'AgeBar',\n",
       " 'AboveQPay']"
      ]
     },
     "execution_count": 239,
     "metadata": {},
     "output_type": "execute_result"
    }
   ],
   "source": [
    "nominal_type = list(df_X.select_dtypes(include='object').columns)\n",
    "nominal_type"
   ]
  },
  {
   "cell_type": "code",
   "execution_count": 240,
   "metadata": {
    "ExecuteTime": {
     "end_time": "2020-06-22T14:25:16.191234Z",
     "start_time": "2020-06-22T14:25:16.184073Z"
    }
   },
   "outputs": [
    {
     "name": "stdout",
     "output_type": "stream",
     "text": [
      "{'BusinessTravel': ['Non-Travel', 'Travel_Rarely', 'Travel_Frequently'], 'JobRole': ['Laboratory Technician', 'Manufacturing Director', 'Sales Executive', 'Research Scientist', 'Sales Representative', 'Healthcare Representative', 'Research Director', 'Human Resources', 'Manager'], 'MaritalStatus': ['Single', 'Married', 'Divorced'], 'OverTime': ['No', 'Yes'], 'OwnStocks': ['No', 'Yes'], 'AgeBar': ['Mid', 'Old', 'Young'], 'AboveQPay': ['No', 'Yes']}\n"
     ]
    }
   ],
   "source": [
    "nominal_type_vals = dict()\n",
    "for ot in nominal_type:\n",
    "    nominal_type_vals[ot] = list(df_X[ot].unique())\n",
    "print(nominal_type_vals)"
   ]
  },
  {
   "cell_type": "code",
   "execution_count": 241,
   "metadata": {
    "ExecuteTime": {
     "end_time": "2020-06-22T14:25:16.407908Z",
     "start_time": "2020-06-22T14:25:16.400738Z"
    }
   },
   "outputs": [
    {
     "data": {
      "text/plain": [
       "['CommunicationSkill',\n",
       " 'PropWorkLife',\n",
       " 'PropExpComp',\n",
       " 'PropRoleComp',\n",
       " 'WorkFactors']"
      ]
     },
     "execution_count": 241,
     "metadata": {},
     "output_type": "execute_result"
    }
   ],
   "source": [
    "numerical_type = list(df_X.select_dtypes(exclude='object').columns)\n",
    "numerical_type"
   ]
  },
  {
   "cell_type": "code",
   "execution_count": 242,
   "metadata": {
    "ExecuteTime": {
     "end_time": "2020-06-22T14:25:16.654242Z",
     "start_time": "2020-06-22T14:25:16.646125Z"
    }
   },
   "outputs": [
    {
     "data": {
      "text/plain": [
       "['CommunicationSkill']"
      ]
     },
     "execution_count": 242,
     "metadata": {},
     "output_type": "execute_result"
    }
   ],
   "source": [
    "ordinal_type = list()\n",
    "ordinal_columns_dataset = ['EnvironmentSatisfaction',\n",
    "                           'JobInvolvement',\n",
    "                           'JobSatisfaction',\n",
    "                           'Education',\n",
    "                           'Behaviour',\n",
    "                           'CommunicationSkill',\n",
    "                           'PerformanceRating',\n",
    "                           'StockOptionLevel',\n",
    "                          ]\n",
    "for col in ordinal_columns_dataset:\n",
    "    if col in numerical_type:\n",
    "        numerical_type.remove(col)\n",
    "        ordinal_type.append(col)\n",
    "        \n",
    "ordinal_type"
   ]
  },
  {
   "cell_type": "code",
   "execution_count": 243,
   "metadata": {
    "ExecuteTime": {
     "end_time": "2020-06-22T14:25:16.962883Z",
     "start_time": "2020-06-22T14:25:16.952471Z"
    }
   },
   "outputs": [
    {
     "data": {
      "text/plain": [
       "['BusinessTravel',\n",
       " 'JobRole',\n",
       " 'MaritalStatus',\n",
       " 'OverTime',\n",
       " 'CommunicationSkill',\n",
       " 'OwnStocks',\n",
       " 'PropWorkLife',\n",
       " 'PropExpComp',\n",
       " 'PropRoleComp',\n",
       " 'AgeBar',\n",
       " 'AboveQPay',\n",
       " 'WorkFactors']"
      ]
     },
     "execution_count": 243,
     "metadata": {},
     "output_type": "execute_result"
    }
   ],
   "source": [
    "final_cols = list(df_X.columns)\n",
    "final_cols"
   ]
  },
  {
   "cell_type": "code",
   "execution_count": 244,
   "metadata": {
    "ExecuteTime": {
     "end_time": "2020-06-22T14:25:17.479316Z",
     "start_time": "2020-06-22T14:25:17.472881Z"
    }
   },
   "outputs": [],
   "source": [
    "numerical_index = list()\n",
    "nominal_index = list()\n",
    "ordinal_index = list()\n",
    "\n",
    "for col in numerical_type:\n",
    "    numerical_index.append(final_cols.index(col))\n",
    "for col in nominal_type:\n",
    "    nominal_index.append(final_cols.index(col))\n",
    "for col in ordinal_type:\n",
    "    ordinal_index.append(final_cols.index(col))"
   ]
  },
  {
   "cell_type": "code",
   "execution_count": 245,
   "metadata": {
    "ExecuteTime": {
     "end_time": "2020-06-22T14:25:17.777895Z",
     "start_time": "2020-06-22T14:25:17.768689Z"
    }
   },
   "outputs": [
    {
     "name": "stdout",
     "output_type": "stream",
     "text": [
      "Numerical Columns\n",
      "6 PropWorkLife\n",
      "7 PropExpComp\n",
      "8 PropRoleComp\n",
      "11 WorkFactors\n",
      "==================================================\n",
      "Nominal Columns\n",
      "0 BusinessTravel\n",
      "1 JobRole\n",
      "2 MaritalStatus\n",
      "3 OverTime\n",
      "5 OwnStocks\n",
      "9 AgeBar\n",
      "10 AboveQPay\n",
      "==================================================\n",
      "Ordinal Columns\n",
      "4 CommunicationSkill\n"
     ]
    }
   ],
   "source": [
    "print('Numerical Columns')\n",
    "for i,col in zip(numerical_index, numerical_type):\n",
    "    print(i, col)\n",
    "print('='*50)\n",
    "print('Nominal Columns')\n",
    "for i,col in zip(nominal_index, nominal_type):\n",
    "    print(i, col)\n",
    "print('='*50)\n",
    "print('Ordinal Columns')\n",
    "for i,col in zip(ordinal_index, ordinal_type):\n",
    "    print(i, col)"
   ]
  },
  {
   "cell_type": "code",
   "execution_count": 246,
   "metadata": {
    "ExecuteTime": {
     "end_time": "2020-06-22T14:25:18.018073Z",
     "start_time": "2020-06-22T14:25:17.996151Z"
    }
   },
   "outputs": [
    {
     "data": {
      "text/html": [
       "<div>\n",
       "<style scoped>\n",
       "    .dataframe tbody tr th:only-of-type {\n",
       "        vertical-align: middle;\n",
       "    }\n",
       "\n",
       "    .dataframe tbody tr th {\n",
       "        vertical-align: top;\n",
       "    }\n",
       "\n",
       "    .dataframe thead th {\n",
       "        text-align: right;\n",
       "    }\n",
       "</style>\n",
       "<table border=\"1\" class=\"dataframe\">\n",
       "  <thead>\n",
       "    <tr style=\"text-align: right;\">\n",
       "      <th></th>\n",
       "      <th>CommunicationSkill</th>\n",
       "      <th>PropWorkLife</th>\n",
       "      <th>PropExpComp</th>\n",
       "      <th>PropRoleComp</th>\n",
       "      <th>WorkFactors</th>\n",
       "    </tr>\n",
       "  </thead>\n",
       "  <tbody>\n",
       "    <tr>\n",
       "      <th>count</th>\n",
       "      <td>1000.000000</td>\n",
       "      <td>1000.000000</td>\n",
       "      <td>1000.000000</td>\n",
       "      <td>1000.000000</td>\n",
       "      <td>1000.000000</td>\n",
       "    </tr>\n",
       "    <tr>\n",
       "      <th>mean</th>\n",
       "      <td>0.449400</td>\n",
       "      <td>0.286846</td>\n",
       "      <td>0.281996</td>\n",
       "      <td>0.479683</td>\n",
       "      <td>0.546667</td>\n",
       "    </tr>\n",
       "    <tr>\n",
       "      <th>std</th>\n",
       "      <td>0.287856</td>\n",
       "      <td>0.153826</td>\n",
       "      <td>0.299577</td>\n",
       "      <td>0.275793</td>\n",
       "      <td>0.112008</td>\n",
       "    </tr>\n",
       "    <tr>\n",
       "      <th>min</th>\n",
       "      <td>0.200000</td>\n",
       "      <td>0.000000</td>\n",
       "      <td>0.000000</td>\n",
       "      <td>0.000000</td>\n",
       "      <td>0.266667</td>\n",
       "    </tr>\n",
       "    <tr>\n",
       "      <th>25%</th>\n",
       "      <td>0.250000</td>\n",
       "      <td>0.179487</td>\n",
       "      <td>0.090909</td>\n",
       "      <td>0.333333</td>\n",
       "      <td>0.466667</td>\n",
       "    </tr>\n",
       "    <tr>\n",
       "      <th>50%</th>\n",
       "      <td>0.333333</td>\n",
       "      <td>0.263158</td>\n",
       "      <td>0.181818</td>\n",
       "      <td>0.500000</td>\n",
       "      <td>0.533333</td>\n",
       "    </tr>\n",
       "    <tr>\n",
       "      <th>75%</th>\n",
       "      <td>0.500000</td>\n",
       "      <td>0.400000</td>\n",
       "      <td>0.385684</td>\n",
       "      <td>0.666667</td>\n",
       "      <td>0.600000</td>\n",
       "    </tr>\n",
       "    <tr>\n",
       "      <th>max</th>\n",
       "      <td>1.000000</td>\n",
       "      <td>0.672727</td>\n",
       "      <td>2.250000</td>\n",
       "      <td>0.875000</td>\n",
       "      <td>0.800000</td>\n",
       "    </tr>\n",
       "  </tbody>\n",
       "</table>\n",
       "</div>"
      ],
      "text/plain": [
       "       CommunicationSkill  PropWorkLife  PropExpComp  PropRoleComp  \\\n",
       "count         1000.000000   1000.000000  1000.000000   1000.000000   \n",
       "mean             0.449400      0.286846     0.281996      0.479683   \n",
       "std              0.287856      0.153826     0.299577      0.275793   \n",
       "min              0.200000      0.000000     0.000000      0.000000   \n",
       "25%              0.250000      0.179487     0.090909      0.333333   \n",
       "50%              0.333333      0.263158     0.181818      0.500000   \n",
       "75%              0.500000      0.400000     0.385684      0.666667   \n",
       "max              1.000000      0.672727     2.250000      0.875000   \n",
       "\n",
       "       WorkFactors  \n",
       "count  1000.000000  \n",
       "mean      0.546667  \n",
       "std       0.112008  \n",
       "min       0.266667  \n",
       "25%       0.466667  \n",
       "50%       0.533333  \n",
       "75%       0.600000  \n",
       "max       0.800000  "
      ]
     },
     "execution_count": 246,
     "metadata": {},
     "output_type": "execute_result"
    }
   ],
   "source": [
    "df_X.describe()"
   ]
  },
  {
   "cell_type": "code",
   "execution_count": 247,
   "metadata": {
    "ExecuteTime": {
     "end_time": "2020-06-22T14:25:18.355095Z",
     "start_time": "2020-06-22T14:25:18.343684Z"
    }
   },
   "outputs": [],
   "source": [
    "from sklearn.preprocessing import OneHotEncoder\n",
    "encoder_dic = {}\n",
    "for col in nominal_index:\n",
    "    enc = OneHotEncoder(categories='auto',drop='first',sparse = False).fit(df_X.iloc[:,[col]])\n",
    "    encoder_dic[col] = enc"
   ]
  },
  {
   "cell_type": "code",
   "execution_count": 248,
   "metadata": {
    "ExecuteTime": {
     "end_time": "2020-06-22T14:25:18.635883Z",
     "start_time": "2020-06-22T14:25:18.614992Z"
    }
   },
   "outputs": [],
   "source": [
    "from sklearn.model_selection import train_test_split\n",
    "X_train,X_test,y_train,y_test = train_test_split(df_X, df_y, test_size=0.20, random_state = 0, stratify=df_y)\n",
    "X_train,X_test,y_train,y_test = X_train.reset_index(),X_test.reset_index(),y_train.reset_index(),y_test.reset_index()\n",
    "X_train.drop(['index'], inplace=True, axis=1)\n",
    "X_test.drop(['index'], inplace=True, axis=1)\n",
    "y_train.drop(['index'], inplace=True, axis=1)\n",
    "y_test.drop(['index'], inplace=True, axis=1)"
   ]
  },
  {
   "cell_type": "code",
   "execution_count": 249,
   "metadata": {
    "ExecuteTime": {
     "end_time": "2020-06-22T14:25:19.370783Z",
     "start_time": "2020-06-22T14:25:19.254908Z"
    }
   },
   "outputs": [],
   "source": [
    "from imblearn.over_sampling import SMOTENC\n",
    "sampler = SMOTENC(categorical_features= nominal_index + ordinal_index, k_neighbors=7, random_state=0, sampling_strategy=1)\n",
    "X_train, y_train = sampler.fit_resample(X_train, y_train)"
   ]
  },
  {
   "cell_type": "code",
   "execution_count": 250,
   "metadata": {
    "ExecuteTime": {
     "end_time": "2020-06-22T14:25:19.661875Z",
     "start_time": "2020-06-22T14:25:19.656390Z"
    }
   },
   "outputs": [
    {
     "data": {
      "text/plain": [
       "(1348, 12)"
      ]
     },
     "execution_count": 250,
     "metadata": {},
     "output_type": "execute_result"
    }
   ],
   "source": [
    "X_train.shape"
   ]
  },
  {
   "cell_type": "code",
   "execution_count": 251,
   "metadata": {
    "ExecuteTime": {
     "end_time": "2020-06-22T14:25:20.179667Z",
     "start_time": "2020-06-22T14:25:20.096298Z"
    }
   },
   "outputs": [],
   "source": [
    "for i, enc in encoder_dic.items():\n",
    "    temp1 = pd.DataFrame(enc.transform(X_train.iloc[:,[i]]), columns=[ list(df_X.columns)[i]+'_'+colname for colname in list(enc.categories_[0])[1:]]).reset_index()\n",
    "    X_train = pd.concat( [X_train, temp1], axis = 1 )\n",
    "    temp2 = pd.DataFrame(enc.transform(X_test.iloc[:,[i]]), columns=[ list(df_X.columns)[i]+'_'+colname for colname in list(enc.categories_[0])[1:]]).reset_index()\n",
    "    X_test = pd.concat( [X_test, temp2], axis = 1 )"
   ]
  },
  {
   "cell_type": "code",
   "execution_count": 252,
   "metadata": {
    "ExecuteTime": {
     "end_time": "2020-06-22T14:25:20.604423Z",
     "start_time": "2020-06-22T14:25:20.592017Z"
    }
   },
   "outputs": [],
   "source": [
    "X_train.drop(nominal_type, inplace=True, axis=1)\n",
    "X_test.drop(nominal_type, inplace=True, axis=1)"
   ]
  },
  {
   "cell_type": "code",
   "execution_count": 253,
   "metadata": {
    "ExecuteTime": {
     "end_time": "2020-06-22T14:25:20.986548Z",
     "start_time": "2020-06-22T14:25:20.977772Z"
    }
   },
   "outputs": [
    {
     "data": {
      "text/plain": [
       "array(['CommunicationSkill', 'PropWorkLife', 'PropExpComp',\n",
       "       'PropRoleComp', 'WorkFactors', 'index',\n",
       "       'BusinessTravel_Travel_Frequently', 'BusinessTravel_Travel_Rarely',\n",
       "       'index', 'JobRole_Human Resources',\n",
       "       'JobRole_Laboratory Technician', 'JobRole_Manager',\n",
       "       'JobRole_Manufacturing Director', 'JobRole_Research Director',\n",
       "       'JobRole_Research Scientist', 'JobRole_Sales Executive',\n",
       "       'JobRole_Sales Representative', 'index', 'MaritalStatus_Married',\n",
       "       'MaritalStatus_Single', 'index', 'OverTime_Yes', 'index',\n",
       "       'OwnStocks_Yes', 'index', 'AgeBar_Old', 'AgeBar_Young', 'index',\n",
       "       'AboveQPay_Yes'], dtype=object)"
      ]
     },
     "execution_count": 253,
     "metadata": {},
     "output_type": "execute_result"
    }
   ],
   "source": [
    "final_cols_encoded = X_train.columns.values\n",
    "final_cols_encoded"
   ]
  },
  {
   "cell_type": "code",
   "execution_count": 254,
   "metadata": {
    "ExecuteTime": {
     "end_time": "2020-06-22T14:25:21.558275Z",
     "start_time": "2020-06-22T14:25:21.427087Z"
    }
   },
   "outputs": [
    {
     "data": {
      "text/plain": [
       "<matplotlib.axes._subplots.AxesSubplot at 0x13d84d2d0>"
      ]
     },
     "execution_count": 254,
     "metadata": {},
     "output_type": "execute_result"
    },
    {
     "data": {
      "image/png": "[encoded data removed]",
      "text/plain": [
       "<Figure size 432x288 with 1 Axes>"
      ]
     },
     "metadata": {
      "needs_background": "light"
     },
     "output_type": "display_data"
    }
   ],
   "source": [
    "sns.countplot(df_y.Attrition)"
   ]
  },
  {
   "cell_type": "code",
   "execution_count": 255,
   "metadata": {
    "ExecuteTime": {
     "end_time": "2020-06-22T14:25:22.007207Z",
     "start_time": "2020-06-22T14:25:21.897596Z"
    }
   },
   "outputs": [
    {
     "data": {
      "text/plain": [
       "<matplotlib.axes._subplots.AxesSubplot at 0x13d9f8810>"
      ]
     },
     "execution_count": 255,
     "metadata": {},
     "output_type": "execute_result"
    },
    {
     "data": {
      "image/png": "[encoded data removed]",
      "text/plain": [
       "<Figure size 432x288 with 1 Axes>"
      ]
     },
     "metadata": {
      "needs_background": "light"
     },
     "output_type": "display_data"
    }
   ],
   "source": [
    "sns.countplot(y_train.Attrition)"
   ]
  },
  {
   "cell_type": "code",
   "execution_count": 256,
   "metadata": {
    "ExecuteTime": {
     "end_time": "2020-06-22T14:25:22.873811Z",
     "start_time": "2020-06-22T14:25:22.751088Z"
    }
   },
   "outputs": [
    {
     "data": {
      "text/plain": [
       "<matplotlib.axes._subplots.AxesSubplot at 0x13e138150>"
      ]
     },
     "execution_count": 256,
     "metadata": {},
     "output_type": "execute_result"
    },
    {
     "data": {
      "image/png": "[encoded data removed]",
      "text/plain": [
       "<Figure size 432x288 with 1 Axes>"
      ]
     },
     "metadata": {
      "needs_background": "light"
     },
     "output_type": "display_data"
    }
   ],
   "source": [
    "sns.countplot(y_test.Attrition)"
   ]
  },
  {
   "cell_type": "code",
   "execution_count": 257,
   "metadata": {
    "ExecuteTime": {
     "end_time": "2020-06-22T14:25:23.297458Z",
     "start_time": "2020-06-22T14:25:23.289773Z"
    }
   },
   "outputs": [],
   "source": [
    "X_train,X_test,y_train,y_test = X_train.values,X_test.values,y_train.values,y_test.values\n",
    "y_train, y_test = y_train.ravel(), y_test.ravel()"
   ]
  },
  {
   "cell_type": "code",
   "execution_count": 258,
   "metadata": {
    "ExecuteTime": {
     "end_time": "2020-06-22T14:25:23.937153Z",
     "start_time": "2020-06-22T14:25:23.931371Z"
    }
   },
   "outputs": [],
   "source": [
    "from sklearn.model_selection import RepeatedStratifiedKFold\n",
    "from sklearn.ensemble import RandomForestClassifier\n",
    "from sklearn.ensemble import AdaBoostClassifier\n",
    "from sklearn.tree import DecisionTreeClassifier\n",
    "from sklearn.linear_model import LogisticRegression\n",
    "from sklearn.linear_model import SGDClassifier\n",
    "from sklearn.svm import SVC\n",
    "from sklearn.neighbors import KNeighborsClassifier\n",
    "from sklearn.neural_network import MLPClassifier\n",
    "from sklearn.model_selection import cross_val_score\n",
    "from sklearn import metrics\n",
    "from sklearn.model_selection import GridSearchCV\n",
    "from sklearn.svm import SVC"
   ]
  },
  {
   "cell_type": "markdown",
   "metadata": {},
   "source": [
    "### Building A few Models with CV"
   ]
  },
  {
   "cell_type": "code",
   "execution_count": 259,
   "metadata": {
    "ExecuteTime": {
     "end_time": "2020-06-22T14:25:25.873064Z",
     "start_time": "2020-06-22T14:25:25.855198Z"
    }
   },
   "outputs": [],
   "source": [
    "def check_model_perf(model, X_train, y_train, X_test, y_test):\n",
    "    model.fit(X_train, y_train)\n",
    "    #predictions = model.predict_proba(X_test)\n",
    "    #print(predictions)\n",
    "    #predictions = [0 if x <= 0.4 else 1 for x in predictions[1]]\n",
    "    predictions = model.predict(X_test)\n",
    "    tn, fp, fn, tp = metrics.confusion_matrix(y_test, predictions).ravel()\n",
    "    print(model.__class__)\n",
    "    print('='*80)\n",
    "    print(\"True Possitives  :\\t{}\\nTrue Negatives   :\\t{}\\nFalse Possitives :\\t{}\\nFalse Negatives  :\\t{}\".format(tp,tn,fp,fn))\n",
    "    auc_score = metrics.roc_auc_score(y_test, predictions)\n",
    "    print(\"AUC Score : {}\".format(auc_score))\n",
    "    fpr, tpr, thresholds = metrics.roc_curve(y_test, predictions)\n",
    "    sns.lineplot(fpr, tpr)\n",
    "    plt.title('ROC Curve')\n",
    "    plt.xlabel('FPR')\n",
    "    plt.ylabel('TPR')\n",
    "    plt.show()\n",
    "    print(\"Accuracy score: {}\".format(metrics.accuracy_score(y_test, predictions)))\n",
    "    print(\"-\"*40)\n",
    "    print(metrics.classification_report(y_test, predictions))\n",
    "    print('\\n')\n",
    "    return auc_score"
   ]
  },
  {
   "cell_type": "code",
   "execution_count": 228,
   "metadata": {
    "ExecuteTime": {
     "end_time": "2020-06-22T14:24:11.032450Z",
     "start_time": "2020-06-22T14:24:11.026142Z"
    }
   },
   "outputs": [],
   "source": [
    "cv = RepeatedStratifiedKFold(n_splits= 5, n_repeats=2, random_state=11)"
   ]
  },
  {
   "cell_type": "markdown",
   "metadata": {},
   "source": [
    "#### Auto Tuning RUN ONLY IF REQD. HEAVY PROCESS"
   ]
  },
  {
   "cell_type": "code",
   "execution_count": 272,
   "metadata": {
    "ExecuteTime": {
     "end_time": "2020-06-22T14:42:50.222467Z",
     "start_time": "2020-06-22T14:33:58.393529Z"
    }
   },
   "outputs": [
    {
     "name": "stdout",
     "output_type": "stream",
     "text": [
      "RandomForest\n",
      "{'max_depth': 11, 'max_features': 0.9, 'n_estimators': 400}\n",
      "0.8583195135433941\n",
      "Decision Tree\n",
      "{'criterion': 'gini', 'max_features': 'log2', 'splitter': 'best'}\n",
      "0.8708955223880597\n",
      "AdaBoost\n",
      "{'learning_rate': 0.9, 'n_estimators': 60}\n",
      "0.8820729684908789\n"
     ]
    }
   ],
   "source": [
    "print('RandomForest')\n",
    "rf_param_grid = {\n",
    "            'n_estimators': [300,400,500,1000,1100],\n",
    "            'max_features': ['auto','None',0.5,0.7,0.9],\n",
    "            'max_depth': [7,9,11]\n",
    "        }\n",
    "\n",
    "gsc = GridSearchCV(\n",
    "        estimator=RandomForestClassifier(),\n",
    "        param_grid=rf_param_grid,\n",
    "        cv=cv, scoring='recall', verbose=0, n_jobs=-1)\n",
    "\n",
    "grid_result = gsc.fit(X_train, y_train)\n",
    "print(grid_result.best_params_)\n",
    "print(grid_result.best_score_)\n",
    "rf_best_param_grid = grid_result.best_params_\n",
    "\n",
    "\n",
    "print('Decision Tree')\n",
    "dt_param_grid = {\n",
    "            'criterion': ['gini','entropy'],\n",
    "            'splitter': ['best','random'],\n",
    "            'max_features': ['log2','auto','None']\n",
    "        }\n",
    "gsc = GridSearchCV(\n",
    "        estimator=DecisionTreeClassifier(),\n",
    "        param_grid= dt_param_grid,\n",
    "        cv=cv, scoring='recall', verbose=0, n_jobs=-1)\n",
    "\n",
    "grid_result = gsc.fit(X_train, y_train)\n",
    "print(grid_result.best_params_)\n",
    "print(grid_result.best_score_)\n",
    "\n",
    "dt_best_param_grid = grid_result.best_params_\n",
    "\n",
    "\n",
    "\n",
    "print('AdaBoost')\n",
    "ab_param_grid = {\n",
    "            'n_estimators': [50,60,80,100],\n",
    "            'learning_rate': [0.7,0.8,0.9,1]\n",
    "        }\n",
    "\n",
    "gsc = GridSearchCV(\n",
    "        estimator=AdaBoostClassifier(),\n",
    "        param_grid= ab_param_grid,\n",
    "        cv=cv, scoring='recall', verbose=0, n_jobs=-1)\n",
    "\n",
    "grid_result = gsc.fit(X_train, y_train)\n",
    "print(grid_result.best_params_)\n",
    "print(grid_result.best_score_)\n",
    "\n",
    "ab_best_param_grid = grid_result.best_params_"
   ]
  },
  {
   "cell_type": "code",
   "execution_count": 273,
   "metadata": {
    "ExecuteTime": {
     "end_time": "2020-06-22T14:43:12.333530Z",
     "start_time": "2020-06-22T14:43:09.457465Z"
    },
    "scrolled": true
   },
   "outputs": [
    {
     "name": "stdout",
     "output_type": "stream",
     "text": [
      "<class 'sklearn.ensemble._forest.RandomForestClassifier'>\n",
      "================================================================================\n",
      "True Possitives  :\t9\n",
      "True Negatives   :\t165\n",
      "False Possitives :\t4\n",
      "False Negatives  :\t22\n",
      "AUC Score : 0.6333269707959535\n"
     ]
    },
    {
     "data": {
      "image/png": "[encoded data removed]",
      "text/plain": [
       "<Figure size 432x288 with 1 Axes>"
      ]
     },
     "metadata": {
      "needs_background": "light"
     },
     "output_type": "display_data"
    },
    {
     "name": "stdout",
     "output_type": "stream",
     "text": [
      "Accuracy score: 0.87\n",
      "----------------------------------------\n",
      "              precision    recall  f1-score   support\n",
      "\n",
      "           0       0.88      0.98      0.93       169\n",
      "           1       0.69      0.29      0.41        31\n",
      "\n",
      "    accuracy                           0.87       200\n",
      "   macro avg       0.79      0.63      0.67       200\n",
      "weighted avg       0.85      0.87      0.85       200\n",
      "\n",
      "\n",
      "\n",
      "<class 'sklearn.tree._classes.DecisionTreeClassifier'>\n",
      "================================================================================\n",
      "True Possitives  :\t7\n",
      "True Negatives   :\t142\n",
      "False Possitives :\t27\n",
      "False Negatives  :\t24\n",
      "AUC Score : 0.5330215690017178\n"
     ]
    },
    {
     "data": {
      "image/png": "[encoded data removed]",
      "text/plain": [
       "<Figure size 432x288 with 1 Axes>"
      ]
     },
     "metadata": {
      "needs_background": "light"
     },
     "output_type": "display_data"
    },
    {
     "name": "stdout",
     "output_type": "stream",
     "text": [
      "Accuracy score: 0.745\n",
      "----------------------------------------\n",
      "              precision    recall  f1-score   support\n",
      "\n",
      "           0       0.86      0.84      0.85       169\n",
      "           1       0.21      0.23      0.22        31\n",
      "\n",
      "    accuracy                           0.74       200\n",
      "   macro avg       0.53      0.53      0.53       200\n",
      "weighted avg       0.75      0.74      0.75       200\n",
      "\n",
      "\n",
      "\n",
      "<class 'sklearn.ensemble._weight_boosting.AdaBoostClassifier'>\n",
      "================================================================================\n",
      "True Possitives  :\t13\n",
      "True Negatives   :\t156\n",
      "False Possitives :\t13\n",
      "False Negatives  :\t18\n",
      "AUC Score : 0.6712158808933003\n"
     ]
    },
    {
     "data": {
      "image/png": "[encoded data removed]",
      "text/plain": [
       "<Figure size 432x288 with 1 Axes>"
      ]
     },
     "metadata": {
      "needs_background": "light"
     },
     "output_type": "display_data"
    },
    {
     "name": "stdout",
     "output_type": "stream",
     "text": [
      "Accuracy score: 0.845\n",
      "----------------------------------------\n",
      "              precision    recall  f1-score   support\n",
      "\n",
      "           0       0.90      0.92      0.91       169\n",
      "           1       0.50      0.42      0.46        31\n",
      "\n",
      "    accuracy                           0.84       200\n",
      "   macro avg       0.70      0.67      0.68       200\n",
      "weighted avg       0.84      0.84      0.84       200\n",
      "\n",
      "\n",
      "\n"
     ]
    },
    {
     "data": {
      "text/html": [
       "<div>\n",
       "<style scoped>\n",
       "    .dataframe tbody tr th:only-of-type {\n",
       "        vertical-align: middle;\n",
       "    }\n",
       "\n",
       "    .dataframe tbody tr th {\n",
       "        vertical-align: top;\n",
       "    }\n",
       "\n",
       "    .dataframe thead th {\n",
       "        text-align: right;\n",
       "    }\n",
       "</style>\n",
       "<table border=\"1\" class=\"dataframe\">\n",
       "  <thead>\n",
       "    <tr style=\"text-align: right;\">\n",
       "      <th></th>\n",
       "      <th>AUC Score</th>\n",
       "    </tr>\n",
       "  </thead>\n",
       "  <tbody>\n",
       "    <tr>\n",
       "      <th>AdaBoost</th>\n",
       "      <td>0.671216</td>\n",
       "    </tr>\n",
       "    <tr>\n",
       "      <th>Random Forest</th>\n",
       "      <td>0.633327</td>\n",
       "    </tr>\n",
       "    <tr>\n",
       "      <th>Decision Tree</th>\n",
       "      <td>0.533022</td>\n",
       "    </tr>\n",
       "  </tbody>\n",
       "</table>\n",
       "</div>"
      ],
      "text/plain": [
       "               AUC Score\n",
       "AdaBoost        0.671216\n",
       "Random Forest   0.633327\n",
       "Decision Tree   0.533022"
      ]
     },
     "execution_count": 273,
     "metadata": {},
     "output_type": "execute_result"
    }
   ],
   "source": [
    "scores = dict()\n",
    "scores['Random Forest'] = check_model_perf(RandomForestClassifier(**rf_best_param_grid), X_train, y_train, X_test, y_test)\n",
    "scores['Decision Tree'] = check_model_perf(DecisionTreeClassifier(**dt_best_param_grid), X_train, y_train, X_test, y_test)\n",
    "scores['AdaBoost'] = check_model_perf(AdaBoostClassifier(**ab_best_param_grid), X_train, y_train, X_test, y_test)\n",
    "pd.DataFrame.from_dict(scores, orient='index', columns=['AUC Score']).sort_values(by=['AUC Score'], ascending=False)"
   ]
  },
  {
   "cell_type": "markdown",
   "metadata": {},
   "source": [
    "#### Manual Checks"
   ]
  },
  {
   "cell_type": "code",
   "execution_count": null,
   "metadata": {},
   "outputs": [],
   "source": [
    "scores = dict()"
   ]
  },
  {
   "cell_type": "code",
   "execution_count": 275,
   "metadata": {
    "ExecuteTime": {
     "end_time": "2020-06-22T14:44:35.388545Z",
     "start_time": "2020-06-22T14:44:33.201843Z"
    }
   },
   "outputs": [
    {
     "name": "stdout",
     "output_type": "stream",
     "text": [
      "<class 'sklearn.ensemble._forest.RandomForestClassifier'>\n",
      "================================================================================\n",
      "True Possitives  :\t8\n",
      "True Negatives   :\t164\n",
      "False Possitives :\t5\n",
      "False Negatives  :\t23\n",
      "AUC Score : 0.6142393586562321\n"
     ]
    },
    {
     "data": {
      "image/png": "[encoded data removed]",
      "text/plain": [
       "<Figure size 432x288 with 1 Axes>"
      ]
     },
     "metadata": {
      "needs_background": "light"
     },
     "output_type": "display_data"
    },
    {
     "name": "stdout",
     "output_type": "stream",
     "text": [
      "Accuracy score: 0.86\n",
      "----------------------------------------\n",
      "              precision    recall  f1-score   support\n",
      "\n",
      "           0       0.88      0.97      0.92       169\n",
      "           1       0.62      0.26      0.36        31\n",
      "\n",
      "    accuracy                           0.86       200\n",
      "   macro avg       0.75      0.61      0.64       200\n",
      "weighted avg       0.84      0.86      0.83       200\n",
      "\n",
      "\n",
      "\n"
     ]
    }
   ],
   "source": [
    "scores['RandomForest'] = check_model_perf(RandomForestClassifier(max_features=0.9,n_estimators = 400, oob_score = True, max_depth=11), X_train, y_train, X_test, y_test)"
   ]
  },
  {
   "cell_type": "code",
   "execution_count": 276,
   "metadata": {
    "ExecuteTime": {
     "end_time": "2020-06-22T14:45:10.826561Z",
     "start_time": "2020-06-22T14:45:10.648702Z"
    }
   },
   "outputs": [
    {
     "name": "stdout",
     "output_type": "stream",
     "text": [
      "<class 'sklearn.tree._classes.DecisionTreeClassifier'>\n",
      "================================================================================\n",
      "True Possitives  :\t12\n",
      "True Negatives   :\t142\n",
      "False Possitives :\t27\n",
      "False Negatives  :\t19\n",
      "AUC Score : 0.6136667302920404\n"
     ]
    },
    {
     "data": {
      "image/png": "[encoded data removed]",
      "text/plain": [
       "<Figure size 432x288 with 1 Axes>"
      ]
     },
     "metadata": {
      "needs_background": "light"
     },
     "output_type": "display_data"
    },
    {
     "name": "stdout",
     "output_type": "stream",
     "text": [
      "Accuracy score: 0.77\n",
      "----------------------------------------\n",
      "              precision    recall  f1-score   support\n",
      "\n",
      "           0       0.88      0.84      0.86       169\n",
      "           1       0.31      0.39      0.34        31\n",
      "\n",
      "    accuracy                           0.77       200\n",
      "   macro avg       0.59      0.61      0.60       200\n",
      "weighted avg       0.79      0.77      0.78       200\n",
      "\n",
      "\n",
      "\n"
     ]
    }
   ],
   "source": [
    "scores['DecisionTree'] = check_model_perf(DecisionTreeClassifier(), X_train, y_train, X_test, y_test)"
   ]
  },
  {
   "cell_type": "code",
   "execution_count": 277,
   "metadata": {
    "ExecuteTime": {
     "end_time": "2020-06-22T14:45:29.497028Z",
     "start_time": "2020-06-22T14:45:29.201868Z"
    }
   },
   "outputs": [
    {
     "name": "stdout",
     "output_type": "stream",
     "text": [
      "<class 'sklearn.ensemble._weight_boosting.AdaBoostClassifier'>\n",
      "================================================================================\n",
      "True Possitives  :\t14\n",
      "True Negatives   :\t159\n",
      "False Possitives :\t10\n",
      "False Negatives  :\t17\n",
      "AUC Score : 0.6962206527963352\n"
     ]
    },
    {
     "data": {
      "image/png": "[encoded data removed]",
      "text/plain": [
       "<Figure size 432x288 with 1 Axes>"
      ]
     },
     "metadata": {
      "needs_background": "light"
     },
     "output_type": "display_data"
    },
    {
     "name": "stdout",
     "output_type": "stream",
     "text": [
      "Accuracy score: 0.865\n",
      "----------------------------------------\n",
      "              precision    recall  f1-score   support\n",
      "\n",
      "           0       0.90      0.94      0.92       169\n",
      "           1       0.58      0.45      0.51        31\n",
      "\n",
      "    accuracy                           0.86       200\n",
      "   macro avg       0.74      0.70      0.72       200\n",
      "weighted avg       0.85      0.86      0.86       200\n",
      "\n",
      "\n",
      "\n"
     ]
    }
   ],
   "source": [
    "scores['AdaBoost'] = check_model_perf(AdaBoostClassifier(), X_train, y_train, X_test, y_test)"
   ]
  },
  {
   "cell_type": "code",
   "execution_count": 278,
   "metadata": {
    "ExecuteTime": {
     "end_time": "2020-06-22T14:45:33.100657Z",
     "start_time": "2020-06-22T14:45:32.898688Z"
    }
   },
   "outputs": [
    {
     "name": "stdout",
     "output_type": "stream",
     "text": [
      "<class 'sklearn.linear_model._stochastic_gradient.SGDClassifier'>\n",
      "================================================================================\n",
      "True Possitives  :\t22\n",
      "True Negatives   :\t22\n",
      "False Possitives :\t147\n",
      "False Negatives  :\t9\n",
      "AUC Score : 0.4199274670738691\n"
     ]
    },
    {
     "data": {
      "image/png": "[encoded data removed]",
      "text/plain": [
       "<Figure size 432x288 with 1 Axes>"
      ]
     },
     "metadata": {
      "needs_background": "light"
     },
     "output_type": "display_data"
    },
    {
     "name": "stdout",
     "output_type": "stream",
     "text": [
      "Accuracy score: 0.22\n",
      "----------------------------------------\n",
      "              precision    recall  f1-score   support\n",
      "\n",
      "           0       0.71      0.13      0.22       169\n",
      "           1       0.13      0.71      0.22        31\n",
      "\n",
      "    accuracy                           0.22       200\n",
      "   macro avg       0.42      0.42      0.22       200\n",
      "weighted avg       0.62      0.22      0.22       200\n",
      "\n",
      "\n",
      "\n"
     ]
    }
   ],
   "source": [
    "scores['SGDCalssifer'] = check_model_perf(SGDClassifier(), X_train, y_train, X_test, y_test)"
   ]
  },
  {
   "cell_type": "code",
   "execution_count": 279,
   "metadata": {
    "ExecuteTime": {
     "end_time": "2020-06-22T14:46:01.786245Z",
     "start_time": "2020-06-22T14:46:01.590884Z"
    }
   },
   "outputs": [
    {
     "name": "stdout",
     "output_type": "stream",
     "text": [
      "<class 'sklearn.svm._classes.SVC'>\n",
      "================================================================================\n",
      "True Possitives  :\t0\n",
      "True Negatives   :\t169\n",
      "False Possitives :\t0\n",
      "False Negatives  :\t31\n",
      "AUC Score : 0.5\n"
     ]
    },
    {
     "data": {
      "image/png": "[encoded data removed]",
      "text/plain": [
       "<Figure size 432x288 with 1 Axes>"
      ]
     },
     "metadata": {
      "needs_background": "light"
     },
     "output_type": "display_data"
    },
    {
     "name": "stdout",
     "output_type": "stream",
     "text": [
      "Accuracy score: 0.845\n",
      "----------------------------------------\n",
      "              precision    recall  f1-score   support\n",
      "\n",
      "           0       0.84      1.00      0.92       169\n",
      "           1       0.00      0.00      0.00        31\n",
      "\n",
      "    accuracy                           0.84       200\n",
      "   macro avg       0.42      0.50      0.46       200\n",
      "weighted avg       0.71      0.84      0.77       200\n",
      "\n",
      "\n",
      "\n"
     ]
    },
    {
     "name": "stderr",
     "output_type": "stream",
     "text": [
      "/Users/parth/miniconda3/envs/mlenv/lib/python3.7/site-packages/sklearn/metrics/_classification.py:1272: UndefinedMetricWarning: Precision and F-score are ill-defined and being set to 0.0 in labels with no predicted samples. Use `zero_division` parameter to control this behavior.\n",
      "  _warn_prf(average, modifier, msg_start, len(result))\n"
     ]
    }
   ],
   "source": [
    "scores['SVC'] = check_model_perf(SVC(), X_train, y_train, X_test, y_test)"
   ]
  },
  {
   "cell_type": "code",
   "execution_count": 281,
   "metadata": {
    "ExecuteTime": {
     "end_time": "2020-06-22T14:46:20.097187Z",
     "start_time": "2020-06-22T14:46:19.918365Z"
    }
   },
   "outputs": [
    {
     "name": "stdout",
     "output_type": "stream",
     "text": [
      "<class 'sklearn.neighbors._classification.KNeighborsClassifier'>\n",
      "================================================================================\n",
      "True Possitives  :\t4\n",
      "True Negatives   :\t152\n",
      "False Possitives :\t17\n",
      "False Negatives  :\t27\n",
      "AUC Score : 0.5142202710440923\n"
     ]
    },
    {
     "data": {
      "image/png": "[encoded data removed]",
      "text/plain": [
       "<Figure size 432x288 with 1 Axes>"
      ]
     },
     "metadata": {
      "needs_background": "light"
     },
     "output_type": "display_data"
    },
    {
     "name": "stdout",
     "output_type": "stream",
     "text": [
      "Accuracy score: 0.78\n",
      "----------------------------------------\n",
      "              precision    recall  f1-score   support\n",
      "\n",
      "           0       0.85      0.90      0.87       169\n",
      "           1       0.19      0.13      0.15        31\n",
      "\n",
      "    accuracy                           0.78       200\n",
      "   macro avg       0.52      0.51      0.51       200\n",
      "weighted avg       0.75      0.78      0.76       200\n",
      "\n",
      "\n",
      "\n"
     ]
    }
   ],
   "source": [
    "scores['KNN'] = check_model_perf(KNeighborsClassifier(n_neighbors = 3), X_train, y_train, X_test, y_test)"
   ]
  },
  {
   "cell_type": "code",
   "execution_count": 289,
   "metadata": {
    "ExecuteTime": {
     "end_time": "2020-06-22T14:49:35.461919Z",
     "start_time": "2020-06-22T14:49:35.447516Z"
    }
   },
   "outputs": [
    {
     "data": {
      "text/html": [
       "<div>\n",
       "<style scoped>\n",
       "    .dataframe tbody tr th:only-of-type {\n",
       "        vertical-align: middle;\n",
       "    }\n",
       "\n",
       "    .dataframe tbody tr th {\n",
       "        vertical-align: top;\n",
       "    }\n",
       "\n",
       "    .dataframe thead th {\n",
       "        text-align: right;\n",
       "    }\n",
       "</style>\n",
       "<table border=\"1\" class=\"dataframe\">\n",
       "  <thead>\n",
       "    <tr style=\"text-align: right;\">\n",
       "      <th></th>\n",
       "      <th>AUC Score</th>\n",
       "    </tr>\n",
       "  </thead>\n",
       "  <tbody>\n",
       "    <tr>\n",
       "      <th>AdaBoost</th>\n",
       "      <td>0.696221</td>\n",
       "    </tr>\n",
       "    <tr>\n",
       "      <th>Random Forest</th>\n",
       "      <td>0.633327</td>\n",
       "    </tr>\n",
       "    <tr>\n",
       "      <th>RandomForest</th>\n",
       "      <td>0.614239</td>\n",
       "    </tr>\n",
       "    <tr>\n",
       "      <th>DecisionTree</th>\n",
       "      <td>0.613667</td>\n",
       "    </tr>\n",
       "    <tr>\n",
       "      <th>Decision Tree</th>\n",
       "      <td>0.533022</td>\n",
       "    </tr>\n",
       "    <tr>\n",
       "      <th>KNN</th>\n",
       "      <td>0.514220</td>\n",
       "    </tr>\n",
       "    <tr>\n",
       "      <th>SVC</th>\n",
       "      <td>0.500000</td>\n",
       "    </tr>\n",
       "    <tr>\n",
       "      <th>MLP</th>\n",
       "      <td>0.500000</td>\n",
       "    </tr>\n",
       "    <tr>\n",
       "      <th>SGDCalssifer</th>\n",
       "      <td>0.419927</td>\n",
       "    </tr>\n",
       "  </tbody>\n",
       "</table>\n",
       "</div>"
      ],
      "text/plain": [
       "               AUC Score\n",
       "AdaBoost        0.696221\n",
       "Random Forest   0.633327\n",
       "RandomForest    0.614239\n",
       "DecisionTree    0.613667\n",
       "Decision Tree   0.533022\n",
       "KNN             0.514220\n",
       "SVC             0.500000\n",
       "MLP             0.500000\n",
       "SGDCalssifer    0.419927"
      ]
     },
     "execution_count": 289,
     "metadata": {},
     "output_type": "execute_result"
    }
   ],
   "source": [
    "pd.DataFrame.from_dict(scores, orient='index', columns=['AUC Score']).sort_values(by=['AUC Score'], ascending=False)"
   ]
  },
  {
   "cell_type": "code",
   "execution_count": 290,
   "metadata": {
    "ExecuteTime": {
     "end_time": "2020-06-22T14:50:45.754618Z",
     "start_time": "2020-06-22T14:50:28.628120Z"
    }
   },
   "outputs": [
    {
     "data": {
      "text/plain": [
       "array([0.96954733, 0.95934156, 0.96625514, 0.94969596, 0.97628524,\n",
       "       0.95341564, 0.96175583, 0.981893  , 0.95953566, 0.95588723])"
      ]
     },
     "execution_count": 290,
     "metadata": {},
     "output_type": "execute_result"
    }
   ],
   "source": [
    "scores = cross_val_score(RandomForestClassifier(max_features=0.9,n_estimators = 400, oob_score = True, max_depth=11), X_train, y_train, scoring='roc_auc', cv=cv)\n",
    "scores"
   ]
  },
  {
   "cell_type": "code",
   "execution_count": 291,
   "metadata": {
    "ExecuteTime": {
     "end_time": "2020-06-22T14:51:56.224384Z",
     "start_time": "2020-06-22T14:51:39.672604Z"
    }
   },
   "outputs": [
    {
     "data": {
      "text/plain": [
       "array([0.87407407, 0.83703704, 0.84444444, 0.83703704, 0.8880597 ,\n",
       "       0.85925926, 0.84444444, 0.91851852, 0.83703704, 0.8358209 ])"
      ]
     },
     "execution_count": 291,
     "metadata": {},
     "output_type": "execute_result"
    }
   ],
   "source": [
    "scores = cross_val_score(RandomForestClassifier(max_features=0.9,n_estimators = 400, oob_score = True, max_depth=11), X_train, y_train, scoring='recall', cv=cv)\n",
    "scores"
   ]
  },
  {
   "cell_type": "markdown",
   "metadata": {},
   "source": [
    "### Models_for_submission"
   ]
  },
  {
   "cell_type": "code",
   "execution_count": 120,
   "metadata": {
    "ExecuteTime": {
     "end_time": "2020-06-21T08:56:07.708862Z",
     "start_time": "2020-06-21T08:56:07.567499Z"
    }
   },
   "outputs": [
    {
     "name": "stdout",
     "output_type": "stream",
     "text": [
      "mkdir: models: File exists\r\n"
     ]
    }
   ],
   "source": [
    "!mkdir models"
   ]
  },
  {
   "cell_type": "markdown",
   "metadata": {},
   "source": [
    "RandomForest"
   ]
  },
  {
   "cell_type": "code",
   "execution_count": 292,
   "metadata": {
    "ExecuteTime": {
     "end_time": "2020-06-22T14:57:26.971099Z",
     "start_time": "2020-06-22T14:57:24.980136Z"
    }
   },
   "outputs": [],
   "source": [
    "model = RandomForestClassifier(max_features=0.9,n_estimators = 400, oob_score = True, max_depth=11)\n",
    "model.fit(X_train, y_train)\n",
    "pkl_filename = \"models/RandomForest.pkl\"\n",
    "with open(pkl_filename, 'wb') as file:\n",
    "    pickle.dump(model, file)"
   ]
  },
  {
   "cell_type": "code",
   "execution_count": 49,
   "metadata": {
    "ExecuteTime": {
     "end_time": "2020-06-20T16:56:03.325543Z",
     "start_time": "2020-06-20T16:56:03.314390Z"
    }
   },
   "outputs": [],
   "source": [
    "model = DecisionTreeClassifier(criterion='gini', max_features = 'auto', splitter='best')\n",
    "model.fit(X_train, y_train)\n",
    "pkl_filename = \"models/DecisionTree.pkl\"\n",
    "with open(pkl_filename, 'wb') as file:\n",
    "    pickle.dump(model, file)"
   ]
  },
  {
   "cell_type": "code",
   "execution_count": 50,
   "metadata": {
    "ExecuteTime": {
     "end_time": "2020-06-20T16:56:04.537926Z",
     "start_time": "2020-06-20T16:56:04.334345Z"
    }
   },
   "outputs": [],
   "source": [
    "model = AdaBoostClassifier(n_estimators = 100, learning_rate=0.9)\n",
    "model.fit(X_train, y_train)\n",
    "pkl_filename = \"models/Adaboost.pkl\"\n",
    "with open(pkl_filename, 'wb') as file:\n",
    "    pickle.dump(model, file)"
   ]
  },
  {
   "cell_type": "code",
   "execution_count": 83,
   "metadata": {
    "ExecuteTime": {
     "end_time": "2020-06-21T19:05:47.290451Z",
     "start_time": "2020-06-21T19:05:47.285892Z"
    }
   },
   "outputs": [
    {
     "data": {
      "text/plain": [
       "(1147, 27)"
      ]
     },
     "execution_count": 83,
     "metadata": {},
     "output_type": "execute_result"
    }
   ],
   "source": [
    "X_train.shape"
   ]
  },
  {
   "cell_type": "code",
   "execution_count": null,
   "metadata": {},
   "outputs": [],
   "source": []
  }
 ],
 "metadata": {
  "kernelspec": {
   "display_name": "Python 3",
   "language": "python",
   "name": "python3"
  },
  "language_info": {
   "codemirror_mode": {
    "name": "ipython",
    "version": 3
   },
   "file_extension": ".py",
   "mimetype": "text/x-python",
   "name": "python",
   "nbconvert_exporter": "python",
   "pygments_lexer": "ipython3",
   "version": "3.7.7"
  },
  "varInspector": {
   "cols": {
    "lenName": 16,
    "lenType": 16,
    "lenVar": 40
   },
   "kernels_config": {
    "python": {
     "delete_cmd_postfix": "",
     "delete_cmd_prefix": "del ",
     "library": "var_list.py",
     "varRefreshCmd": "print(var_dic_list())"
    },
    "r": {
     "delete_cmd_postfix": ") ",
     "delete_cmd_prefix": "rm(",
     "library": "var_list.r",
     "varRefreshCmd": "cat(var_dic_list()) "
    }
   },
   "types_to_exclude": [
    "module",
    "function",
    "builtin_function_or_method",
    "instance",
    "_Feature"
   ],
   "window_display": false
  }
 },
 "nbformat": 4,
 "nbformat_minor": 4
}
