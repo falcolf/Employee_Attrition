{
 "cells": [
  {
   "cell_type": "code",
   "execution_count": 1,
   "metadata": {
    "ExecuteTime": {
     "end_time": "2020-05-31T12:02:26.388902Z",
     "start_time": "2020-05-31T12:02:25.643224Z"
    }
   },
   "outputs": [],
   "source": [
    "import pandas as pd\n",
    "import numpy as np\n",
    "import matplotlib.pyplot as plt\n",
    "import seaborn as sns\n",
    "%matplotlib inline\n",
    "import json\n",
    "import pickle"
   ]
  },
  {
   "cell_type": "code",
   "execution_count": 2,
   "metadata": {
    "ExecuteTime": {
     "end_time": "2020-05-31T12:02:26.406499Z",
     "start_time": "2020-05-31T12:02:26.391710Z"
    }
   },
   "outputs": [],
   "source": [
    "df = pd.read_csv('data/train.csv')"
   ]
  },
  {
   "cell_type": "code",
   "execution_count": 3,
   "metadata": {
    "ExecuteTime": {
     "end_time": "2020-05-31T12:02:26.419070Z",
     "start_time": "2020-05-31T12:02:26.411949Z"
    }
   },
   "outputs": [
    {
     "data": {
      "text/plain": [
       "(1628, 29)"
      ]
     },
     "execution_count": 3,
     "metadata": {},
     "output_type": "execute_result"
    }
   ],
   "source": [
    "df.shape"
   ]
  },
  {
   "cell_type": "code",
   "execution_count": 4,
   "metadata": {
    "ExecuteTime": {
     "end_time": "2020-05-31T12:02:26.429601Z",
     "start_time": "2020-05-31T12:02:26.421819Z"
    }
   },
   "outputs": [
    {
     "data": {
      "text/plain": [
       "Index(['Id', 'Age', 'Attrition', 'BusinessTravel', 'Department',\n",
       "       'DistanceFromHome', 'Education', 'EducationField', 'EmployeeNumber',\n",
       "       'EnvironmentSatisfaction', 'Gender', 'JobInvolvement', 'JobRole',\n",
       "       'JobSatisfaction', 'MaritalStatus', 'MonthlyIncome',\n",
       "       'NumCompaniesWorked', 'OverTime', 'PercentSalaryHike',\n",
       "       'PerformanceRating', 'StockOptionLevel', 'TotalWorkingYears',\n",
       "       'TrainingTimesLastYear', 'YearsAtCompany', 'YearsInCurrentRole',\n",
       "       'YearsSinceLastPromotion', 'YearsWithCurrManager', 'CommunicationSkill',\n",
       "       'Behaviour'],\n",
       "      dtype='object')"
      ]
     },
     "execution_count": 4,
     "metadata": {},
     "output_type": "execute_result"
    }
   ],
   "source": [
    "df.columns"
   ]
  },
  {
   "cell_type": "code",
   "execution_count": 5,
   "metadata": {
    "ExecuteTime": {
     "end_time": "2020-05-31T12:02:26.443077Z",
     "start_time": "2020-05-31T12:02:26.432812Z"
    }
   },
   "outputs": [
    {
     "data": {
      "text/plain": [
       "18"
      ]
     },
     "execution_count": 5,
     "metadata": {},
     "output_type": "execute_result"
    }
   ],
   "source": [
    "cols_to_drop = ['Id', 'Gender', 'Behaviour', 'MaritalStatus', 'Education', 'Department', 'PerformanceRating',\n",
    "                'TrainingTimesLastYear', 'YearsInCurrentRole', 'YearsSinceLastPromotion', 'YearsWithCurrManager']\n",
    "df_cleaned = df.drop(cols_to_drop, axis = 1)\n",
    "len(df_cleaned.columns)"
   ]
  },
  {
   "cell_type": "code",
   "execution_count": 6,
   "metadata": {
    "ExecuteTime": {
     "end_time": "2020-05-31T12:02:26.460603Z",
     "start_time": "2020-05-31T12:02:26.446751Z"
    }
   },
   "outputs": [
    {
     "data": {
      "text/plain": [
       "{'BusinessTravel': ['Non-Travel', 'Travel_Rarely', 'Travel_Frequently'],\n",
       " 'EducationField': ['Medical',\n",
       "  'Life Sciences',\n",
       "  'Other',\n",
       "  'Marketing',\n",
       "  'Technical Degree',\n",
       "  'Human Resources'],\n",
       " 'JobRole': ['Laboratory Technician',\n",
       "  'Manufacturing Director',\n",
       "  'Sales Executive',\n",
       "  'Research Scientist',\n",
       "  'Sales Representative',\n",
       "  'Healthcare Representative',\n",
       "  'Research Director',\n",
       "  'Human Resources',\n",
       "  'Manager'],\n",
       " 'OverTime': ['No', 'Yes']}"
      ]
     },
     "execution_count": 6,
     "metadata": {},
     "output_type": "execute_result"
    }
   ],
   "source": [
    "object_type = df_cleaned.select_dtypes(include='object').columns\n",
    "object_type_vals = dict()\n",
    "for col in object_type:\n",
    "    object_type_vals[col] = df_cleaned[col].unique().tolist()\n",
    "with open('data/object_col_unique_vals.json', 'w') as fp:\n",
    "    json.dump(object_type_vals, fp)\n",
    "with open('data/object_col_unique_vals.json', 'r') as fp:\n",
    "    object_type_vals = json.load(fp)\n",
    "object_type_vals"
   ]
  },
  {
   "cell_type": "code",
   "execution_count": 7,
   "metadata": {
    "ExecuteTime": {
     "end_time": "2020-05-31T12:02:26.472052Z",
     "start_time": "2020-05-31T12:02:26.465674Z"
    }
   },
   "outputs": [],
   "source": [
    "df_X = df_cleaned.drop(['Attrition'], axis = 1).copy()\n",
    "df_y = df_cleaned[['Attrition']].copy()"
   ]
  },
  {
   "cell_type": "code",
   "execution_count": 8,
   "metadata": {
    "ExecuteTime": {
     "end_time": "2020-05-31T12:02:26.481993Z",
     "start_time": "2020-05-31T12:02:26.477833Z"
    }
   },
   "outputs": [],
   "source": [
    "df_train = df_X.drop(object_type_vals, axis=1)"
   ]
  },
  {
   "cell_type": "code",
   "execution_count": 9,
   "metadata": {
    "ExecuteTime": {
     "end_time": "2020-05-31T12:02:26.532276Z",
     "start_time": "2020-05-31T12:02:26.484455Z"
    }
   },
   "outputs": [],
   "source": [
    "from sklearn.preprocessing import OneHotEncoder\n",
    "ohe = OneHotEncoder(handle_unknown='error', sparse=False, drop='first')\n",
    "encoder = ohe.fit(df_X[object_type])\n",
    "object_type_onehot_arr = encoder.transform(df_X[object_type])"
   ]
  },
  {
   "cell_type": "code",
   "execution_count": 10,
   "metadata": {
    "ExecuteTime": {
     "end_time": "2020-05-31T12:02:26.539248Z",
     "start_time": "2020-05-31T12:02:26.534682Z"
    }
   },
   "outputs": [],
   "source": [
    "X = np.hstack((df_train.values,object_type_onehot_arr))\n",
    "y = df_y.values"
   ]
  },
  {
   "cell_type": "code",
   "execution_count": 11,
   "metadata": {
    "ExecuteTime": {
     "end_time": "2020-05-31T12:02:26.546718Z",
     "start_time": "2020-05-31T12:02:26.541334Z"
    }
   },
   "outputs": [],
   "source": [
    "from sklearn.preprocessing import StandardScaler\n",
    "sc = StandardScaler()\n",
    "X = sc.fit_transform(X)"
   ]
  },
  {
   "cell_type": "code",
   "execution_count": 12,
   "metadata": {
    "ExecuteTime": {
     "end_time": "2020-05-31T12:02:26.566123Z",
     "start_time": "2020-05-31T12:02:26.548928Z"
    }
   },
   "outputs": [],
   "source": [
    "from sklearn.model_selection import train_test_split\n",
    "X_train,X_test,y_train,y_test = train_test_split(X,y,test_size=0.3)\n",
    "y_train, y_test = y_train.ravel(), y_test.ravel()"
   ]
  },
  {
   "cell_type": "code",
   "execution_count": 13,
   "metadata": {
    "ExecuteTime": {
     "end_time": "2020-05-31T12:02:26.614396Z",
     "start_time": "2020-05-31T12:02:26.568369Z"
    }
   },
   "outputs": [],
   "source": [
    "from sklearn.ensemble import RandomForestClassifier\n",
    "from sklearn.ensemble import AdaBoostClassifier\n",
    "from sklearn.tree import DecisionTreeClassifier\n",
    "from sklearn.linear_model import LogisticRegression\n",
    "from sklearn.linear_model import SGDClassifier\n",
    "from sklearn.svm import SVC\n",
    "from sklearn.neural_network import MLPClassifier\n",
    "\n",
    "from sklearn import metrics"
   ]
  },
  {
   "cell_type": "markdown",
   "metadata": {},
   "source": [
    "### Testing Several models"
   ]
  },
  {
   "cell_type": "code",
   "execution_count": 14,
   "metadata": {
    "ExecuteTime": {
     "end_time": "2020-05-31T12:02:26.624464Z",
     "start_time": "2020-05-31T12:02:26.616498Z"
    }
   },
   "outputs": [],
   "source": [
    "def check_model_perf(model, X_train, y_train, X_test, y_test):\n",
    "    model.fit(X_train, y_train)\n",
    "    predictions = model.predict(X_test)\n",
    "    tn, fp, fn, tp = metrics.confusion_matrix(y_test, predictions).ravel()\n",
    "    print(model.__class__)\n",
    "    print('-'*50)\n",
    "    print(\"True Possitives  :\\t{}\\nTrue Negatives   :\\t{}\\nFalse Possitives :\\t{}\\nFalse Negatives  :\\t{}\".format(tp,tn,fp,fn))\n",
    "    auc_score = metrics.roc_auc_score(y_test, predictions)\n",
    "    print(\"AUC Score : {}\".format(auc_score))\n",
    "    fpr, tpr, thresholds = metrics.roc_curve(y_test, predictions)\n",
    "    sns.lineplot(fpr, tpr)\n",
    "    plt.title('ROC Curve')\n",
    "    plt.xlabel('FPR')\n",
    "    plt.ylabel('TPR')\n",
    "    return auc_score"
   ]
  },
  {
   "cell_type": "code",
   "execution_count": 15,
   "metadata": {
    "ExecuteTime": {
     "end_time": "2020-05-31T12:02:26.630644Z",
     "start_time": "2020-05-31T12:02:26.626789Z"
    }
   },
   "outputs": [],
   "source": [
    "scores = dict()"
   ]
  },
  {
   "cell_type": "code",
   "execution_count": 16,
   "metadata": {
    "ExecuteTime": {
     "end_time": "2020-05-31T12:02:26.833341Z",
     "start_time": "2020-05-31T12:02:26.633081Z"
    }
   },
   "outputs": [
    {
     "name": "stdout",
     "output_type": "stream",
     "text": [
      "<class 'sklearn.ensemble._forest.RandomForestClassifier'>\n",
      "--------------------------------------------------\n",
      "True Possitives  :\t221\n",
      "True Negatives   :\t249\n",
      "False Possitives :\t10\n",
      "False Negatives  :\t9\n",
      "AUC Score : 0.9611297633036764\n"
     ]
    },
    {
     "data": {
      "image/png": "[encoded data removed]",
      "text/plain": [
       "<Figure size 432x288 with 1 Axes>"
      ]
     },
     "metadata": {
      "needs_background": "light"
     },
     "output_type": "display_data"
    }
   ],
   "source": [
    "scores['Random Forest'] = check_model_perf(RandomForestClassifier(n_estimators=30), X_train, y_train, X_test, y_test)"
   ]
  },
  {
   "cell_type": "code",
   "execution_count": 17,
   "metadata": {
    "ExecuteTime": {
     "end_time": "2020-05-31T12:02:26.986967Z",
     "start_time": "2020-05-31T12:02:26.836096Z"
    }
   },
   "outputs": [
    {
     "name": "stdout",
     "output_type": "stream",
     "text": [
      "<class 'sklearn.tree._classes.DecisionTreeClassifier'>\n",
      "--------------------------------------------------\n",
      "True Possitives  :\t225\n",
      "True Negatives   :\t217\n",
      "False Possitives :\t42\n",
      "False Negatives  :\t5\n",
      "AUC Score : 0.9080493537015275\n"
     ]
    },
    {
     "data": {
      "image/png": "[encoded data removed]",
      "text/plain": [
       "<Figure size 432x288 with 1 Axes>"
      ]
     },
     "metadata": {
      "needs_background": "light"
     },
     "output_type": "display_data"
    }
   ],
   "source": [
    "scores['Decision Tree'] = check_model_perf(DecisionTreeClassifier(), X_train, y_train, X_test, y_test)"
   ]
  },
  {
   "cell_type": "code",
   "execution_count": 18,
   "metadata": {
    "ExecuteTime": {
     "end_time": "2020-05-31T12:02:27.187282Z",
     "start_time": "2020-05-31T12:02:26.989666Z"
    }
   },
   "outputs": [
    {
     "name": "stdout",
     "output_type": "stream",
     "text": [
      "<class 'sklearn.svm._classes.SVC'>\n",
      "--------------------------------------------------\n",
      "True Possitives  :\t208\n",
      "True Negatives   :\t213\n",
      "False Possitives :\t46\n",
      "False Negatives  :\t22\n",
      "AUC Score : 0.8633708242403895\n"
     ]
    },
    {
     "data": {
      "image/png": "[encoded data removed]",
      "text/plain": [
       "<Figure size 432x288 with 1 Axes>"
      ]
     },
     "metadata": {
      "needs_background": "light"
     },
     "output_type": "display_data"
    }
   ],
   "source": [
    "scores['SVC'] = check_model_perf(SVC(), X_train, y_train, X_test, y_test)"
   ]
  },
  {
   "cell_type": "code",
   "execution_count": 19,
   "metadata": {
    "ExecuteTime": {
     "end_time": "2020-05-31T12:02:27.347421Z",
     "start_time": "2020-05-31T12:02:27.190086Z"
    }
   },
   "outputs": [
    {
     "name": "stdout",
     "output_type": "stream",
     "text": [
      "<class 'sklearn.linear_model._logistic.LogisticRegression'>\n",
      "--------------------------------------------------\n",
      "True Possitives  :\t174\n",
      "True Negatives   :\t203\n",
      "False Possitives :\t56\n",
      "False Negatives  :\t56\n",
      "AUC Score : 0.7701527614571093\n"
     ]
    },
    {
     "data": {
      "image/png": "[encoded data removed]",
      "text/plain": [
       "<Figure size 432x288 with 1 Axes>"
      ]
     },
     "metadata": {
      "needs_background": "light"
     },
     "output_type": "display_data"
    }
   ],
   "source": [
    "scores['Logistic Regression'] = check_model_perf(LogisticRegression(), X_train, y_train, X_test, y_test)"
   ]
  },
  {
   "cell_type": "code",
   "execution_count": 20,
   "metadata": {
    "ExecuteTime": {
     "end_time": "2020-05-31T12:02:27.511903Z",
     "start_time": "2020-05-31T12:02:27.350089Z"
    }
   },
   "outputs": [
    {
     "name": "stdout",
     "output_type": "stream",
     "text": [
      "<class 'sklearn.linear_model._stochastic_gradient.SGDClassifier'>\n",
      "--------------------------------------------------\n",
      "True Possitives  :\t178\n",
      "True Negatives   :\t175\n",
      "False Possitives :\t84\n",
      "False Negatives  :\t52\n",
      "AUC Score : 0.7247943595769683\n"
     ]
    },
    {
     "data": {
      "image/png": "[encoded data removed]",
      "text/plain": [
       "<Figure size 432x288 with 1 Axes>"
      ]
     },
     "metadata": {
      "needs_background": "light"
     },
     "output_type": "display_data"
    }
   ],
   "source": [
    "scores['SGD Classifier'] = check_model_perf(SGDClassifier(), X_train, y_train, X_test, y_test)"
   ]
  },
  {
   "cell_type": "code",
   "execution_count": 21,
   "metadata": {
    "ExecuteTime": {
     "end_time": "2020-05-31T12:02:28.199267Z",
     "start_time": "2020-05-31T12:02:27.514461Z"
    }
   },
   "outputs": [
    {
     "name": "stdout",
     "output_type": "stream",
     "text": [
      "<class 'sklearn.ensemble._weight_boosting.AdaBoostClassifier'>\n",
      "--------------------------------------------------\n",
      "True Possitives  :\t201\n",
      "True Negatives   :\t209\n",
      "False Possitives :\t50\n",
      "False Negatives  :\t29\n",
      "AUC Score : 0.8404314252140339\n"
     ]
    },
    {
     "data": {
      "image/png": "[encoded data removed]",
      "text/plain": [
       "<Figure size 432x288 with 1 Axes>"
      ]
     },
     "metadata": {
      "needs_background": "light"
     },
     "output_type": "display_data"
    }
   ],
   "source": [
    "scores['AdaBoost'] = check_model_perf(AdaBoostClassifier(n_estimators=200), X_train, y_train, X_test, y_test)"
   ]
  },
  {
   "cell_type": "code",
   "execution_count": 22,
   "metadata": {
    "ExecuteTime": {
     "end_time": "2020-05-31T12:02:29.735297Z",
     "start_time": "2020-05-31T12:02:28.210629Z"
    }
   },
   "outputs": [
    {
     "name": "stdout",
     "output_type": "stream",
     "text": [
      "<class 'sklearn.neural_network._multilayer_perceptron.MLPClassifier'>\n",
      "--------------------------------------------------\n",
      "True Possitives  :\t225\n",
      "True Negatives   :\t209\n",
      "False Possitives :\t50\n",
      "False Negatives  :\t5\n",
      "AUC Score : 0.8926053382575121\n"
     ]
    },
    {
     "data": {
      "image/png": "[encoded data removed]",
      "text/plain": [
       "<Figure size 432x288 with 1 Axes>"
      ]
     },
     "metadata": {
      "needs_background": "light"
     },
     "output_type": "display_data"
    }
   ],
   "source": [
    "scores['NNet'] = check_model_perf(MLPClassifier(hidden_layer_sizes=(15,10),max_iter=600), X_train, y_train, X_test, y_test)"
   ]
  },
  {
   "cell_type": "code",
   "execution_count": 23,
   "metadata": {
    "ExecuteTime": {
     "end_time": "2020-05-31T12:02:29.752863Z",
     "start_time": "2020-05-31T12:02:29.741061Z"
    }
   },
   "outputs": [
    {
     "data": {
      "text/html": [
       "<div>\n",
       "<style scoped>\n",
       "    .dataframe tbody tr th:only-of-type {\n",
       "        vertical-align: middle;\n",
       "    }\n",
       "\n",
       "    .dataframe tbody tr th {\n",
       "        vertical-align: top;\n",
       "    }\n",
       "\n",
       "    .dataframe thead th {\n",
       "        text-align: right;\n",
       "    }\n",
       "</style>\n",
       "<table border=\"1\" class=\"dataframe\">\n",
       "  <thead>\n",
       "    <tr style=\"text-align: right;\">\n",
       "      <th></th>\n",
       "      <th>AUC Score</th>\n",
       "    </tr>\n",
       "  </thead>\n",
       "  <tbody>\n",
       "    <tr>\n",
       "      <th>Random Forest</th>\n",
       "      <td>0.961130</td>\n",
       "    </tr>\n",
       "    <tr>\n",
       "      <th>Decision Tree</th>\n",
       "      <td>0.908049</td>\n",
       "    </tr>\n",
       "    <tr>\n",
       "      <th>NNet</th>\n",
       "      <td>0.892605</td>\n",
       "    </tr>\n",
       "    <tr>\n",
       "      <th>SVC</th>\n",
       "      <td>0.863371</td>\n",
       "    </tr>\n",
       "    <tr>\n",
       "      <th>AdaBoost</th>\n",
       "      <td>0.840431</td>\n",
       "    </tr>\n",
       "    <tr>\n",
       "      <th>Logistic Regression</th>\n",
       "      <td>0.770153</td>\n",
       "    </tr>\n",
       "    <tr>\n",
       "      <th>SGD Classifier</th>\n",
       "      <td>0.724794</td>\n",
       "    </tr>\n",
       "  </tbody>\n",
       "</table>\n",
       "</div>"
      ],
      "text/plain": [
       "                     AUC Score\n",
       "Random Forest         0.961130\n",
       "Decision Tree         0.908049\n",
       "NNet                  0.892605\n",
       "SVC                   0.863371\n",
       "AdaBoost              0.840431\n",
       "Logistic Regression   0.770153\n",
       "SGD Classifier        0.724794"
      ]
     },
     "execution_count": 23,
     "metadata": {},
     "output_type": "execute_result"
    }
   ],
   "source": [
    "pd.DataFrame.from_dict(scores, orient='index', columns=['AUC Score']).sort_values(by=['AUC Score'], ascending=False)"
   ]
  },
  {
   "cell_type": "code",
   "execution_count": null,
   "metadata": {},
   "outputs": [],
   "source": []
  },
  {
   "cell_type": "markdown",
   "metadata": {},
   "source": [
    "**Clearly, linear models doesn't suit**"
   ]
  },
  {
   "cell_type": "code",
   "execution_count": 24,
   "metadata": {
    "ExecuteTime": {
     "end_time": "2020-05-31T12:02:29.887538Z",
     "start_time": "2020-05-31T12:02:29.755411Z"
    }
   },
   "outputs": [
    {
     "name": "stdout",
     "output_type": "stream",
     "text": [
      "mkdir: models: File exists\r\n"
     ]
    }
   ],
   "source": [
    "!mkdir models"
   ]
  },
  {
   "cell_type": "markdown",
   "metadata": {},
   "source": [
    "### Building A few Models with CV"
   ]
  },
  {
   "cell_type": "code",
   "execution_count": 25,
   "metadata": {
    "ExecuteTime": {
     "end_time": "2020-05-31T12:02:29.897082Z",
     "start_time": "2020-05-31T12:02:29.890800Z"
    }
   },
   "outputs": [],
   "source": [
    "from sklearn.model_selection import GridSearchCV"
   ]
  },
  {
   "cell_type": "code",
   "execution_count": 26,
   "metadata": {
    "ExecuteTime": {
     "end_time": "2020-05-31T12:02:29.905589Z",
     "start_time": "2020-05-31T12:02:29.901023Z"
    }
   },
   "outputs": [],
   "source": [
    "y = y.ravel()"
   ]
  },
  {
   "cell_type": "code",
   "execution_count": 27,
   "metadata": {
    "ExecuteTime": {
     "end_time": "2020-05-31T12:02:32.838957Z",
     "start_time": "2020-05-31T12:02:29.910929Z"
    }
   },
   "outputs": [
    {
     "name": "stdout",
     "output_type": "stream",
     "text": [
      "{'max_features': 'log2', 'n_estimators': 30}\n",
      "1.0\n"
     ]
    }
   ],
   "source": [
    "gsc = GridSearchCV(\n",
    "        estimator=RandomForestClassifier(),\n",
    "        param_grid={\n",
    "            'n_estimators': [10, 20, 30, 40, 50],\n",
    "            'max_features': ['log2','auto','None']\n",
    "        },\n",
    "        cv=5, scoring='roc_auc', verbose=0, n_jobs=-1)\n",
    "\n",
    "grid_result = gsc.fit(X, y.ravel())\n",
    "print(grid_result.best_params_)\n",
    "print(grid_result.best_score_)"
   ]
  },
  {
   "cell_type": "code",
   "execution_count": 28,
   "metadata": {
    "ExecuteTime": {
     "end_time": "2020-05-31T12:02:32.934368Z",
     "start_time": "2020-05-31T12:02:32.841557Z"
    }
   },
   "outputs": [
    {
     "name": "stdout",
     "output_type": "stream",
     "text": [
      "{'criterion': 'gini', 'splitter': 'best'}\n",
      "0.9377359819667512\n"
     ]
    }
   ],
   "source": [
    "gsc = GridSearchCV(\n",
    "        estimator=DecisionTreeClassifier(),\n",
    "        param_grid={\n",
    "            'criterion': ['gini','entropy'],\n",
    "            'splitter': ['best','random']\n",
    "        },\n",
    "        cv=5, scoring='roc_auc', verbose=0, n_jobs=-1)\n",
    "\n",
    "grid_result = gsc.fit(X, y.ravel())\n",
    "print(grid_result.best_params_)\n",
    "print(grid_result.best_score_)"
   ]
  },
  {
   "cell_type": "code",
   "execution_count": 29,
   "metadata": {
    "ExecuteTime": {
     "end_time": "2020-05-31T12:02:33.020480Z",
     "start_time": "2020-05-31T12:02:32.936516Z"
    }
   },
   "outputs": [
    {
     "name": "stdout",
     "output_type": "stream",
     "text": [
      "{'criterion': 'gini', 'splitter': 'best'}\n",
      "0.9389088475626938\n"
     ]
    }
   ],
   "source": [
    "gsc = GridSearchCV(\n",
    "        estimator=DecisionTreeClassifier(),\n",
    "        param_grid={\n",
    "            'criterion': ['gini','entropy'],\n",
    "            'splitter': ['best','random']\n",
    "        },\n",
    "        cv=5, scoring='roc_auc', verbose=0, n_jobs=-1)\n",
    "\n",
    "grid_result = gsc.fit(X, y.ravel())\n",
    "print(grid_result.best_params_)\n",
    "print(grid_result.best_score_)"
   ]
  },
  {
   "cell_type": "code",
   "execution_count": 30,
   "metadata": {
    "ExecuteTime": {
     "end_time": "2020-05-31T12:02:33.557543Z",
     "start_time": "2020-05-31T12:02:33.022922Z"
    }
   },
   "outputs": [
    {
     "name": "stdout",
     "output_type": "stream",
     "text": [
      "{'degree': 3, 'gamma': 'scale', 'kernel': 'poly'}\n",
      "0.9783323731633382\n"
     ]
    }
   ],
   "source": [
    "gsc = GridSearchCV(\n",
    "        estimator=SVC(),\n",
    "        param_grid={\n",
    "            'kernel': ['rbf','poly'],\n",
    "            'degree': [3],\n",
    "            'gamma':['scale','auto']\n",
    "        },\n",
    "        cv=5, scoring='roc_auc', verbose=0, n_jobs=-1)\n",
    "\n",
    "grid_result = gsc.fit(X, y)\n",
    "print(grid_result.best_params_)\n",
    "print(grid_result.best_score_)"
   ]
  },
  {
   "cell_type": "code",
   "execution_count": 31,
   "metadata": {
    "ExecuteTime": {
     "end_time": "2020-05-31T12:03:03.833146Z",
     "start_time": "2020-05-31T12:02:33.560309Z"
    }
   },
   "outputs": [
    {
     "name": "stdout",
     "output_type": "stream",
     "text": [
      "{'hidden_layer_sizes': (20, 10), 'max_iter': 600}\n",
      "0.9680171412777978\n"
     ]
    }
   ],
   "source": [
    "gsc = GridSearchCV(\n",
    "        estimator=MLPClassifier(),\n",
    "        param_grid={\n",
    "            'hidden_layer_sizes': [(20,10),(15,10),(15,15)],\n",
    "            'max_iter': [200,500,600]\n",
    "        },\n",
    "        cv=5, scoring='roc_auc', verbose=0, n_jobs=-1)\n",
    "\n",
    "grid_result = gsc.fit(X, y)\n",
    "print(grid_result.best_params_)\n",
    "print(grid_result.best_score_)"
   ]
  },
  {
   "cell_type": "markdown",
   "metadata": {},
   "source": [
    "### Some CV Scores for models on interest"
   ]
  },
  {
   "cell_type": "code",
   "execution_count": 32,
   "metadata": {
    "ExecuteTime": {
     "end_time": "2020-05-31T12:03:03.841158Z",
     "start_time": "2020-05-31T12:03:03.836733Z"
    }
   },
   "outputs": [],
   "source": [
    "from sklearn.model_selection import cross_val_score"
   ]
  },
  {
   "cell_type": "code",
   "execution_count": 33,
   "metadata": {
    "ExecuteTime": {
     "end_time": "2020-05-31T12:03:04.783724Z",
     "start_time": "2020-05-31T12:03:03.846568Z"
    }
   },
   "outputs": [
    {
     "data": {
      "text/plain": [
       "0.9791327913279133"
      ]
     },
     "execution_count": 33,
     "metadata": {},
     "output_type": "execute_result"
    }
   ],
   "source": [
    "model = RandomForestClassifier(n_estimators=20)\n",
    "cross_val_score(model, X, y, cv=20).mean()"
   ]
  },
  {
   "cell_type": "code",
   "execution_count": 34,
   "metadata": {
    "ExecuteTime": {
     "end_time": "2020-05-31T12:03:33.535945Z",
     "start_time": "2020-05-31T12:03:04.787034Z"
    }
   },
   "outputs": [
    {
     "data": {
      "text/plain": [
       "0.9287789822342669"
      ]
     },
     "execution_count": 34,
     "metadata": {},
     "output_type": "execute_result"
    }
   ],
   "source": [
    "model = MLPClassifier(hidden_layer_sizes=(20,10), max_iter=500)\n",
    "cross_val_score(model, X, y, cv=20).mean()"
   ]
  },
  {
   "cell_type": "code",
   "execution_count": 35,
   "metadata": {
    "ExecuteTime": {
     "end_time": "2020-05-31T12:03:38.840013Z",
     "start_time": "2020-05-31T12:03:33.538017Z"
    }
   },
   "outputs": [
    {
     "data": {
      "text/plain": [
       "0.9803453760508976"
      ]
     },
     "execution_count": 35,
     "metadata": {},
     "output_type": "execute_result"
    }
   ],
   "source": [
    "model = RandomForestClassifier(max_features=0.30, n_estimators=200, oob_score=True)\n",
    "cross_val_score(model, X, y, cv=10).mean()"
   ]
  },
  {
   "cell_type": "markdown",
   "metadata": {},
   "source": [
    "### Models_for_submission"
   ]
  },
  {
   "cell_type": "code",
   "execution_count": 36,
   "metadata": {
    "ExecuteTime": {
     "end_time": "2020-05-31T12:03:38.967516Z",
     "start_time": "2020-05-31T12:03:38.842302Z"
    }
   },
   "outputs": [
    {
     "name": "stdout",
     "output_type": "stream",
     "text": [
      "mkdir: models: File exists\r\n"
     ]
    }
   ],
   "source": [
    "!mkdir models"
   ]
  },
  {
   "cell_type": "markdown",
   "metadata": {},
   "source": [
    "Model_name: RandomForest1.0"
   ]
  },
  {
   "cell_type": "code",
   "execution_count": 37,
   "metadata": {
    "ExecuteTime": {
     "end_time": "2020-05-31T12:03:39.031273Z",
     "start_time": "2020-05-31T12:03:38.971635Z"
    }
   },
   "outputs": [],
   "source": [
    "model = RandomForestClassifier(n_estimators=20)\n",
    "model.fit(X,y)\n",
    "pkl_filename = \"models/RandomForest1.0.pkl\"\n",
    "with open(pkl_filename, 'wb') as file:\n",
    "    pickle.dump(model, file)"
   ]
  },
  {
   "cell_type": "markdown",
   "metadata": {},
   "source": [
    "model_name = MLP1.0"
   ]
  },
  {
   "cell_type": "code",
   "execution_count": 38,
   "metadata": {
    "ExecuteTime": {
     "end_time": "2020-05-31T12:03:40.743436Z",
     "start_time": "2020-05-31T12:03:39.033571Z"
    }
   },
   "outputs": [],
   "source": [
    "model = MLPClassifier(hidden_layer_sizes=(20,10), max_iter=500)\n",
    "model.fit(X,y)\n",
    "pkl_filename = \"models/MLP1.0.pkl\"\n",
    "with open(pkl_filename, 'wb') as file:\n",
    "    pickle.dump(model, file)"
   ]
  },
  {
   "cell_type": "markdown",
   "metadata": {},
   "source": [
    "model_name = RandomForest2.0"
   ]
  },
  {
   "cell_type": "code",
   "execution_count": 39,
   "metadata": {
    "ExecuteTime": {
     "end_time": "2020-05-31T12:03:41.311467Z",
     "start_time": "2020-05-31T12:03:40.745698Z"
    }
   },
   "outputs": [],
   "source": [
    "model = RandomForestClassifier(max_features=0.30, n_estimators=200, oob_score=True)\n",
    "model.fit(X,y)\n",
    "pkl_filename = \"models/RandomForest2.0.pkl\"\n",
    "with open(pkl_filename, 'wb') as file:\n",
    "    pickle.dump(model, file)"
   ]
  },
  {
   "cell_type": "code",
   "execution_count": null,
   "metadata": {},
   "outputs": [],
   "source": []
  }
 ],
 "metadata": {
  "kernelspec": {
   "display_name": "Python 3",
   "language": "python",
   "name": "python3"
  },
  "language_info": {
   "codemirror_mode": {
    "name": "ipython",
    "version": 3
   },
   "file_extension": ".py",
   "mimetype": "text/x-python",
   "name": "python",
   "nbconvert_exporter": "python",
   "pygments_lexer": "ipython3",
   "version": "3.7.7"
  },
  "varInspector": {
   "cols": {
    "lenName": 16,
    "lenType": 16,
    "lenVar": 40
   },
   "kernels_config": {
    "python": {
     "delete_cmd_postfix": "",
     "delete_cmd_prefix": "del ",
     "library": "var_list.py",
     "varRefreshCmd": "print(var_dic_list())"
    },
    "r": {
     "delete_cmd_postfix": ") ",
     "delete_cmd_prefix": "rm(",
     "library": "var_list.r",
     "varRefreshCmd": "cat(var_dic_list()) "
    }
   },
   "types_to_exclude": [
    "module",
    "function",
    "builtin_function_or_method",
    "instance",
    "_Feature"
   ],
   "window_display": false
  }
 },
 "nbformat": 4,
 "nbformat_minor": 4
}
