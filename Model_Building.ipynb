{
 "cells": [
  {
   "cell_type": "code",
   "execution_count": 79,
   "metadata": {
    "ExecuteTime": {
     "end_time": "2020-06-06T07:38:49.461363Z",
     "start_time": "2020-06-06T07:38:49.456343Z"
    }
   },
   "outputs": [],
   "source": [
    "import pandas as pd\n",
    "import numpy as np\n",
    "import matplotlib.pyplot as plt\n",
    "import seaborn as sns\n",
    "%matplotlib inline\n",
    "import json\n",
    "import pickle"
   ]
  },
  {
   "cell_type": "code",
   "execution_count": 80,
   "metadata": {
    "ExecuteTime": {
     "end_time": "2020-06-06T07:38:49.953140Z",
     "start_time": "2020-06-06T07:38:49.927308Z"
    }
   },
   "outputs": [],
   "source": [
    "df = pd.read_csv('data/train.csv')"
   ]
  },
  {
   "cell_type": "code",
   "execution_count": 81,
   "metadata": {
    "ExecuteTime": {
     "end_time": "2020-06-06T07:38:50.414358Z",
     "start_time": "2020-06-06T07:38:50.407566Z"
    }
   },
   "outputs": [
    {
     "data": {
      "text/plain": [
       "(1628, 29)"
      ]
     },
     "execution_count": 81,
     "metadata": {},
     "output_type": "execute_result"
    }
   ],
   "source": [
    "df.shape"
   ]
  },
  {
   "cell_type": "code",
   "execution_count": 82,
   "metadata": {
    "ExecuteTime": {
     "end_time": "2020-06-06T07:38:50.895273Z",
     "start_time": "2020-06-06T07:38:50.888802Z"
    }
   },
   "outputs": [
    {
     "data": {
      "text/plain": [
       "Index(['Id', 'Age', 'Attrition', 'BusinessTravel', 'Department',\n",
       "       'DistanceFromHome', 'Education', 'EducationField', 'EmployeeNumber',\n",
       "       'EnvironmentSatisfaction', 'Gender', 'JobInvolvement', 'JobRole',\n",
       "       'JobSatisfaction', 'MaritalStatus', 'MonthlyIncome',\n",
       "       'NumCompaniesWorked', 'OverTime', 'PercentSalaryHike',\n",
       "       'PerformanceRating', 'StockOptionLevel', 'TotalWorkingYears',\n",
       "       'TrainingTimesLastYear', 'YearsAtCompany', 'YearsInCurrentRole',\n",
       "       'YearsSinceLastPromotion', 'YearsWithCurrManager', 'CommunicationSkill',\n",
       "       'Behaviour'],\n",
       "      dtype='object')"
      ]
     },
     "execution_count": 82,
     "metadata": {},
     "output_type": "execute_result"
    }
   ],
   "source": [
    "df.columns"
   ]
  },
  {
   "cell_type": "markdown",
   "metadata": {},
   "source": [
    "### Run for Model Without Feature Engineering"
   ]
  },
  {
   "cell_type": "code",
   "execution_count": 5,
   "metadata": {
    "ExecuteTime": {
     "end_time": "2020-06-05T16:26:48.929957Z",
     "start_time": "2020-06-05T16:26:48.909509Z"
    }
   },
   "outputs": [
    {
     "data": {
      "text/plain": [
       "18"
      ]
     },
     "execution_count": 5,
     "metadata": {},
     "output_type": "execute_result"
    }
   ],
   "source": [
    "cols_to_drop = ['Id', 'Gender', 'Behaviour', 'MaritalStatus', 'Education', 'Department', 'PerformanceRating',\n",
    "                'TrainingTimesLastYear', 'YearsInCurrentRole', 'YearsSinceLastPromotion', 'YearsWithCurrManager']\n",
    "df_cleaned = df.drop(cols_to_drop, axis = 1)\n",
    "len(df_cleaned.columns)"
   ]
  },
  {
   "cell_type": "markdown",
   "metadata": {},
   "source": [
    "### Run for Model with Feature Engineering "
   ]
  },
  {
   "cell_type": "code",
   "execution_count": 83,
   "metadata": {
    "ExecuteTime": {
     "end_time": "2020-06-06T07:38:55.200678Z",
     "start_time": "2020-06-06T07:38:55.169634Z"
    }
   },
   "outputs": [
    {
     "data": {
      "text/plain": [
       "21"
      ]
     },
     "execution_count": 83,
     "metadata": {},
     "output_type": "execute_result"
    }
   ],
   "source": [
    "df['YearsToCompanies'] = pd.cut((df.TotalWorkingYears / (df.NumCompaniesWorked+1)),[-1,2,4,6,8,np.inf], labels=[1,2,3,4,5]).astype('int64')\n",
    "df['PropCurrMgrCompYears'] = df.YearsWithCurrManager / (df.YearsAtCompany+1)\n",
    "df['PropAgeCompYears'] = pd.qcut((df.YearsAtCompany) / (df.Age+1), 5, duplicates='drop', labels=[1,2,3,4,5]).astype('int64')\n",
    "df['PropTrainCompYears'] = pd.qcut(df.TrainingTimesLastYear / (df.YearsAtCompany+1),4, labels=[1,2,3,4]).astype('int64')\n",
    "df['PropCurrRoleCompYears'] = df.YearsInCurrentRole / (df.YearsAtCompany+1)\n",
    "\n",
    "cols_to_drop = ['Id',\n",
    "                'Behaviour', \n",
    "                'Gender',\n",
    "                'MaritalStatus', \n",
    "                'Education', \n",
    "                'PerformanceRating',\n",
    "                'Department',\n",
    "                'MonthlyIncome',\n",
    "                'YearsAtCompany',\n",
    "                'TrainingTimesLastYear', \n",
    "                'YearsInCurrentRole', \n",
    "                'YearsSinceLastPromotion', \n",
    "                'YearsWithCurrManager']\n",
    "df_cleaned = df.drop(cols_to_drop, axis=1)\n",
    "len(df_cleaned.columns)"
   ]
  },
  {
   "cell_type": "markdown",
   "metadata": {},
   "source": [
    "### Preprocessing and Model Building Init"
   ]
  },
  {
   "cell_type": "code",
   "execution_count": 84,
   "metadata": {
    "ExecuteTime": {
     "end_time": "2020-06-06T07:38:56.938824Z",
     "start_time": "2020-06-06T07:38:56.936064Z"
    }
   },
   "outputs": [],
   "source": [
    "# df_cleaned.drop_duplicates(inplace=True)\n",
    "# df_cleaned.shape"
   ]
  },
  {
   "cell_type": "code",
   "execution_count": 85,
   "metadata": {
    "ExecuteTime": {
     "end_time": "2020-06-06T07:38:59.281700Z",
     "start_time": "2020-06-06T07:38:59.268267Z"
    }
   },
   "outputs": [
    {
     "data": {
      "text/plain": [
       "{'BusinessTravel': ['Non-Travel', 'Travel_Rarely', 'Travel_Frequently'],\n",
       " 'EducationField': ['Medical',\n",
       "  'Life Sciences',\n",
       "  'Other',\n",
       "  'Marketing',\n",
       "  'Technical Degree',\n",
       "  'Human Resources'],\n",
       " 'JobRole': ['Laboratory Technician',\n",
       "  'Manufacturing Director',\n",
       "  'Sales Executive',\n",
       "  'Research Scientist',\n",
       "  'Sales Representative',\n",
       "  'Healthcare Representative',\n",
       "  'Research Director',\n",
       "  'Human Resources',\n",
       "  'Manager'],\n",
       " 'OverTime': ['No', 'Yes']}"
      ]
     },
     "execution_count": 85,
     "metadata": {},
     "output_type": "execute_result"
    }
   ],
   "source": [
    "object_type = df_cleaned.select_dtypes(include='object').columns\n",
    "object_type_vals = dict()\n",
    "for col in object_type:\n",
    "    object_type_vals[col] = df_cleaned[col].unique().tolist()\n",
    "with open('data/object_col_unique_vals.json', 'w') as fp:\n",
    "    json.dump(object_type_vals, fp)\n",
    "with open('data/object_col_unique_vals.json', 'r') as fp:\n",
    "    object_type_vals = json.load(fp)\n",
    "object_type_vals"
   ]
  },
  {
   "cell_type": "code",
   "execution_count": 86,
   "metadata": {
    "ExecuteTime": {
     "end_time": "2020-06-06T07:39:01.045504Z",
     "start_time": "2020-06-06T07:39:01.036861Z"
    }
   },
   "outputs": [],
   "source": [
    "df_X = df_cleaned.drop(['Attrition'], axis = 1).copy()\n",
    "df_y = df_cleaned[['Attrition']].copy()"
   ]
  },
  {
   "cell_type": "code",
   "execution_count": 87,
   "metadata": {
    "ExecuteTime": {
     "end_time": "2020-06-06T07:39:01.495621Z",
     "start_time": "2020-06-06T07:39:01.488961Z"
    }
   },
   "outputs": [],
   "source": [
    "df_train = df_X.drop(object_type_vals, axis=1)"
   ]
  },
  {
   "cell_type": "code",
   "execution_count": 88,
   "metadata": {
    "ExecuteTime": {
     "end_time": "2020-06-06T07:39:02.098385Z",
     "start_time": "2020-06-06T07:39:02.077520Z"
    }
   },
   "outputs": [],
   "source": [
    "from sklearn.preprocessing import OneHotEncoder\n",
    "ohe = OneHotEncoder(handle_unknown='error', sparse=False, drop='first')\n",
    "encoder = ohe.fit(df_X[object_type])\n",
    "object_type_onehot_arr = encoder.transform(df_X[object_type])"
   ]
  },
  {
   "cell_type": "code",
   "execution_count": 89,
   "metadata": {
    "ExecuteTime": {
     "end_time": "2020-06-06T07:39:02.602233Z",
     "start_time": "2020-06-06T07:39:02.596769Z"
    }
   },
   "outputs": [],
   "source": [
    "X = np.hstack((df_train.values,object_type_onehot_arr))\n",
    "y = df_y.values"
   ]
  },
  {
   "cell_type": "code",
   "execution_count": 90,
   "metadata": {
    "ExecuteTime": {
     "end_time": "2020-06-06T07:39:03.485241Z",
     "start_time": "2020-06-06T07:39:03.477320Z"
    }
   },
   "outputs": [],
   "source": [
    "from sklearn.preprocessing import StandardScaler\n",
    "sc = StandardScaler()\n",
    "X = sc.fit_transform(X)"
   ]
  },
  {
   "cell_type": "code",
   "execution_count": 91,
   "metadata": {
    "ExecuteTime": {
     "end_time": "2020-06-06T07:39:04.551692Z",
     "start_time": "2020-06-06T07:39:04.545683Z"
    }
   },
   "outputs": [],
   "source": [
    "from sklearn.model_selection import train_test_split\n",
    "X_train,X_test,y_train,y_test = train_test_split(X,y,test_size=0.15, random_state = 11)\n",
    "y_train, y_test = y_train.ravel(), y_test.ravel()"
   ]
  },
  {
   "cell_type": "code",
   "execution_count": 44,
   "metadata": {
    "ExecuteTime": {
     "end_time": "2020-06-06T07:11:02.899060Z",
     "start_time": "2020-06-06T07:11:02.890333Z"
    }
   },
   "outputs": [],
   "source": [
    "from imblearn.over_sampling import SMOTE\n",
    "sm = SMOTE(random_state=11)\n",
    "X_train, y_train = sm.fit_sample(X_train, y_train)"
   ]
  },
  {
   "cell_type": "code",
   "execution_count": 92,
   "metadata": {
    "ExecuteTime": {
     "end_time": "2020-06-06T07:39:07.418661Z",
     "start_time": "2020-06-06T07:39:07.414246Z"
    }
   },
   "outputs": [],
   "source": [
    "from sklearn.ensemble import RandomForestClassifier\n",
    "from sklearn.ensemble import AdaBoostClassifier\n",
    "from sklearn.tree import DecisionTreeClassifier\n",
    "from sklearn.linear_model import LogisticRegression\n",
    "from sklearn.linear_model import SGDClassifier\n",
    "from sklearn.svm import SVC\n",
    "from sklearn.neural_network import MLPClassifier\n",
    "\n",
    "from sklearn import metrics"
   ]
  },
  {
   "cell_type": "markdown",
   "metadata": {},
   "source": [
    "### Testing Several models"
   ]
  },
  {
   "cell_type": "code",
   "execution_count": 46,
   "metadata": {
    "ExecuteTime": {
     "end_time": "2020-06-06T07:11:07.678530Z",
     "start_time": "2020-06-06T07:11:07.669596Z"
    }
   },
   "outputs": [],
   "source": [
    "def check_model_perf(model, X_train, y_train, X_test, y_test):\n",
    "    model.fit(X_train, y_train)\n",
    "    predictions = model.predict(X_test)\n",
    "    tn, fp, fn, tp = metrics.confusion_matrix(y_test, predictions).ravel()\n",
    "    print(model.__class__)\n",
    "    print('-'*50)\n",
    "    print(\"True Possitives  :\\t{}\\nTrue Negatives   :\\t{}\\nFalse Possitives :\\t{}\\nFalse Negatives  :\\t{}\".format(tp,tn,fp,fn))\n",
    "    auc_score = metrics.roc_auc_score(y_test, predictions)\n",
    "    print(\"AUC Score : {}\".format(auc_score))\n",
    "    fpr, tpr, thresholds = metrics.roc_curve(y_test, predictions)\n",
    "    sns.lineplot(fpr, tpr)\n",
    "    plt.title('ROC Curve')\n",
    "    plt.xlabel('FPR')\n",
    "    plt.ylabel('TPR')\n",
    "    return auc_score"
   ]
  },
  {
   "cell_type": "code",
   "execution_count": 47,
   "metadata": {
    "ExecuteTime": {
     "end_time": "2020-06-06T07:11:09.262983Z",
     "start_time": "2020-06-06T07:11:09.259080Z"
    }
   },
   "outputs": [],
   "source": [
    "scores = dict()"
   ]
  },
  {
   "cell_type": "code",
   "execution_count": 48,
   "metadata": {
    "ExecuteTime": {
     "end_time": "2020-06-06T07:11:11.764121Z",
     "start_time": "2020-06-06T07:11:09.814267Z"
    }
   },
   "outputs": [
    {
     "name": "stdout",
     "output_type": "stream",
     "text": [
      "<class 'sklearn.ensemble._forest.RandomForestClassifier'>\n",
      "--------------------------------------------------\n",
      "True Possitives  :\t13\n",
      "True Negatives   :\t113\n",
      "False Possitives :\t9\n",
      "False Negatives  :\t15\n",
      "AUC Score : 0.6952576112412179\n"
     ]
    },
    {
     "data": {
      "image/png": "[encoded data removed]",
      "text/plain": [
       "<Figure size 432x288 with 1 Axes>"
      ]
     },
     "metadata": {
      "needs_background": "light"
     },
     "output_type": "display_data"
    }
   ],
   "source": [
    "scores['Random Forest'] = check_model_perf(RandomForestClassifier(n_estimators=300, oob_score=True, max_features=0.8), X_train, y_train, X_test, y_test)"
   ]
  },
  {
   "cell_type": "code",
   "execution_count": 49,
   "metadata": {
    "ExecuteTime": {
     "end_time": "2020-06-06T07:11:15.059725Z",
     "start_time": "2020-06-06T07:11:14.908096Z"
    }
   },
   "outputs": [
    {
     "name": "stdout",
     "output_type": "stream",
     "text": [
      "<class 'sklearn.tree._classes.DecisionTreeClassifier'>\n",
      "--------------------------------------------------\n",
      "True Possitives  :\t5\n",
      "True Negatives   :\t103\n",
      "False Possitives :\t19\n",
      "False Negatives  :\t23\n",
      "AUC Score : 0.5114168618266979\n"
     ]
    },
    {
     "data": {
      "image/png": "[encoded data removed]",
      "text/plain": [
       "<Figure size 432x288 with 1 Axes>"
      ]
     },
     "metadata": {
      "needs_background": "light"
     },
     "output_type": "display_data"
    }
   ],
   "source": [
    "scores['Decision Tree'] = check_model_perf(DecisionTreeClassifier(), X_train, y_train, X_test, y_test)"
   ]
  },
  {
   "cell_type": "code",
   "execution_count": 50,
   "metadata": {
    "ExecuteTime": {
     "end_time": "2020-06-06T07:11:15.976511Z",
     "start_time": "2020-06-06T07:11:15.767431Z"
    }
   },
   "outputs": [
    {
     "name": "stdout",
     "output_type": "stream",
     "text": [
      "<class 'sklearn.svm._classes.SVC'>\n",
      "--------------------------------------------------\n",
      "True Possitives  :\t11\n",
      "True Negatives   :\t102\n",
      "False Possitives :\t20\n",
      "False Negatives  :\t17\n",
      "AUC Score : 0.6144613583138173\n"
     ]
    },
    {
     "data": {
      "image/png": "[encoded data removed]",
      "text/plain": [
       "<Figure size 432x288 with 1 Axes>"
      ]
     },
     "metadata": {
      "needs_background": "light"
     },
     "output_type": "display_data"
    }
   ],
   "source": [
    "scores['SVC'] = check_model_perf(SVC(), X_train, y_train, X_test, y_test)"
   ]
  },
  {
   "cell_type": "code",
   "execution_count": 51,
   "metadata": {
    "ExecuteTime": {
     "end_time": "2020-06-06T07:11:17.298832Z",
     "start_time": "2020-06-06T07:11:17.140780Z"
    }
   },
   "outputs": [
    {
     "name": "stdout",
     "output_type": "stream",
     "text": [
      "<class 'sklearn.linear_model._logistic.LogisticRegression'>\n",
      "--------------------------------------------------\n",
      "True Possitives  :\t21\n",
      "True Negatives   :\t90\n",
      "False Possitives :\t32\n",
      "False Negatives  :\t7\n",
      "AUC Score : 0.7438524590163934\n"
     ]
    },
    {
     "data": {
      "image/png": "[encoded data removed]",
      "text/plain": [
       "<Figure size 432x288 with 1 Axes>"
      ]
     },
     "metadata": {
      "needs_background": "light"
     },
     "output_type": "display_data"
    }
   ],
   "source": [
    "scores['Logistic Regression'] = check_model_perf(LogisticRegression(), X_train, y_train, X_test, y_test)"
   ]
  },
  {
   "cell_type": "code",
   "execution_count": 52,
   "metadata": {
    "ExecuteTime": {
     "end_time": "2020-06-06T07:11:17.908843Z",
     "start_time": "2020-06-06T07:11:17.755742Z"
    }
   },
   "outputs": [
    {
     "name": "stdout",
     "output_type": "stream",
     "text": [
      "<class 'sklearn.linear_model._stochastic_gradient.SGDClassifier'>\n",
      "--------------------------------------------------\n",
      "True Possitives  :\t17\n",
      "True Negatives   :\t90\n",
      "False Possitives :\t32\n",
      "False Negatives  :\t11\n",
      "AUC Score : 0.672423887587822\n"
     ]
    },
    {
     "data": {
      "image/png": "[encoded data removed]",
      "text/plain": [
       "<Figure size 432x288 with 1 Axes>"
      ]
     },
     "metadata": {
      "needs_background": "light"
     },
     "output_type": "display_data"
    }
   ],
   "source": [
    "scores['SGD Classifier'] = check_model_perf(SGDClassifier(), X_train, y_train, X_test, y_test)"
   ]
  },
  {
   "cell_type": "code",
   "execution_count": 53,
   "metadata": {
    "ExecuteTime": {
     "end_time": "2020-06-06T07:11:19.332489Z",
     "start_time": "2020-06-06T07:11:18.636327Z"
    }
   },
   "outputs": [
    {
     "name": "stdout",
     "output_type": "stream",
     "text": [
      "<class 'sklearn.ensemble._weight_boosting.AdaBoostClassifier'>\n",
      "--------------------------------------------------\n",
      "True Possitives  :\t17\n",
      "True Negatives   :\t114\n",
      "False Possitives :\t8\n",
      "False Negatives  :\t11\n",
      "AUC Score : 0.770784543325527\n"
     ]
    },
    {
     "data": {
      "image/png": "[encoded data removed]",
      "text/plain": [
       "<Figure size 432x288 with 1 Axes>"
      ]
     },
     "metadata": {
      "needs_background": "light"
     },
     "output_type": "display_data"
    }
   ],
   "source": [
    "scores['AdaBoost'] = check_model_perf(AdaBoostClassifier(n_estimators=200), X_train, y_train, X_test, y_test)"
   ]
  },
  {
   "cell_type": "code",
   "execution_count": 54,
   "metadata": {
    "ExecuteTime": {
     "end_time": "2020-06-06T07:11:21.130277Z",
     "start_time": "2020-06-06T07:11:19.462678Z"
    }
   },
   "outputs": [
    {
     "name": "stdout",
     "output_type": "stream",
     "text": [
      "<class 'sklearn.neural_network._multilayer_perceptron.MLPClassifier'>\n",
      "--------------------------------------------------\n",
      "True Possitives  :\t17\n",
      "True Negatives   :\t105\n",
      "False Possitives :\t17\n",
      "False Negatives  :\t11\n",
      "AUC Score : 0.7338992974238875\n"
     ]
    },
    {
     "data": {
      "image/png": "[encoded data removed]",
      "text/plain": [
       "<Figure size 432x288 with 1 Axes>"
      ]
     },
     "metadata": {
      "needs_background": "light"
     },
     "output_type": "display_data"
    }
   ],
   "source": [
    "scores['NNet'] = check_model_perf(MLPClassifier(hidden_layer_sizes=(15,10),max_iter=600), X_train, y_train, X_test, y_test)"
   ]
  },
  {
   "cell_type": "code",
   "execution_count": 55,
   "metadata": {
    "ExecuteTime": {
     "end_time": "2020-06-06T07:11:21.293531Z",
     "start_time": "2020-06-06T07:11:21.280903Z"
    }
   },
   "outputs": [
    {
     "data": {
      "text/html": [
       "<div>\n",
       "<style scoped>\n",
       "    .dataframe tbody tr th:only-of-type {\n",
       "        vertical-align: middle;\n",
       "    }\n",
       "\n",
       "    .dataframe tbody tr th {\n",
       "        vertical-align: top;\n",
       "    }\n",
       "\n",
       "    .dataframe thead th {\n",
       "        text-align: right;\n",
       "    }\n",
       "</style>\n",
       "<table border=\"1\" class=\"dataframe\">\n",
       "  <thead>\n",
       "    <tr style=\"text-align: right;\">\n",
       "      <th></th>\n",
       "      <th>AUC Score</th>\n",
       "    </tr>\n",
       "  </thead>\n",
       "  <tbody>\n",
       "    <tr>\n",
       "      <th>AdaBoost</th>\n",
       "      <td>0.770785</td>\n",
       "    </tr>\n",
       "    <tr>\n",
       "      <th>Logistic Regression</th>\n",
       "      <td>0.743852</td>\n",
       "    </tr>\n",
       "    <tr>\n",
       "      <th>NNet</th>\n",
       "      <td>0.733899</td>\n",
       "    </tr>\n",
       "    <tr>\n",
       "      <th>Random Forest</th>\n",
       "      <td>0.695258</td>\n",
       "    </tr>\n",
       "    <tr>\n",
       "      <th>SGD Classifier</th>\n",
       "      <td>0.672424</td>\n",
       "    </tr>\n",
       "    <tr>\n",
       "      <th>SVC</th>\n",
       "      <td>0.614461</td>\n",
       "    </tr>\n",
       "    <tr>\n",
       "      <th>Decision Tree</th>\n",
       "      <td>0.511417</td>\n",
       "    </tr>\n",
       "  </tbody>\n",
       "</table>\n",
       "</div>"
      ],
      "text/plain": [
       "                     AUC Score\n",
       "AdaBoost              0.770785\n",
       "Logistic Regression   0.743852\n",
       "NNet                  0.733899\n",
       "Random Forest         0.695258\n",
       "SGD Classifier        0.672424\n",
       "SVC                   0.614461\n",
       "Decision Tree         0.511417"
      ]
     },
     "execution_count": 55,
     "metadata": {},
     "output_type": "execute_result"
    }
   ],
   "source": [
    "pd.DataFrame.from_dict(scores, orient='index', columns=['AUC Score']).sort_values(by=['AUC Score'], ascending=False)"
   ]
  },
  {
   "cell_type": "markdown",
   "metadata": {},
   "source": [
    "**Clearly, linear models doesn't suit**"
   ]
  },
  {
   "cell_type": "markdown",
   "metadata": {},
   "source": [
    "### Building A few Models with CV"
   ]
  },
  {
   "cell_type": "code",
   "execution_count": 56,
   "metadata": {
    "ExecuteTime": {
     "end_time": "2020-06-06T07:12:52.304885Z",
     "start_time": "2020-06-06T07:12:52.301029Z"
    }
   },
   "outputs": [],
   "source": [
    "from sklearn.model_selection import GridSearchCV"
   ]
  },
  {
   "cell_type": "code",
   "execution_count": 57,
   "metadata": {
    "ExecuteTime": {
     "end_time": "2020-06-06T07:12:53.085023Z",
     "start_time": "2020-06-06T07:12:53.079917Z"
    }
   },
   "outputs": [],
   "source": [
    "y = y.ravel()"
   ]
  },
  {
   "cell_type": "code",
   "execution_count": 58,
   "metadata": {
    "ExecuteTime": {
     "end_time": "2020-06-06T07:12:57.406146Z",
     "start_time": "2020-06-06T07:12:53.816928Z"
    }
   },
   "outputs": [
    {
     "name": "stdout",
     "output_type": "stream",
     "text": [
      "{'max_features': 'auto', 'n_estimators': 50}\n",
      "0.7842820970127887\n"
     ]
    }
   ],
   "source": [
    "gsc = GridSearchCV(\n",
    "        estimator=RandomForestClassifier(),\n",
    "        param_grid={\n",
    "            'n_estimators': [10, 20, 30, 40, 50],\n",
    "            'max_features': ['log2','auto','None']\n",
    "        },\n",
    "        cv=5, scoring='roc_auc', verbose=0, n_jobs=-1)\n",
    "\n",
    "grid_result = gsc.fit(X, y.ravel())\n",
    "print(grid_result.best_params_)\n",
    "print(grid_result.best_score_)"
   ]
  },
  {
   "cell_type": "code",
   "execution_count": 59,
   "metadata": {
    "ExecuteTime": {
     "end_time": "2020-06-06T07:12:59.566874Z",
     "start_time": "2020-06-06T07:12:59.478201Z"
    }
   },
   "outputs": [
    {
     "name": "stdout",
     "output_type": "stream",
     "text": [
      "{'criterion': 'entropy', 'splitter': 'random'}\n",
      "0.6111192441760058\n"
     ]
    }
   ],
   "source": [
    "gsc = GridSearchCV(\n",
    "        estimator=DecisionTreeClassifier(),\n",
    "        param_grid={\n",
    "            'criterion': ['gini','entropy'],\n",
    "            'splitter': ['best','random']\n",
    "        },\n",
    "        cv=5, scoring='roc_auc', verbose=0, n_jobs=-1)\n",
    "\n",
    "grid_result = gsc.fit(X, y.ravel())\n",
    "print(grid_result.best_params_)\n",
    "print(grid_result.best_score_)"
   ]
  },
  {
   "cell_type": "code",
   "execution_count": 60,
   "metadata": {
    "ExecuteTime": {
     "end_time": "2020-06-06T07:13:05.609046Z",
     "start_time": "2020-06-06T07:13:05.521311Z"
    }
   },
   "outputs": [
    {
     "name": "stdout",
     "output_type": "stream",
     "text": [
      "{'criterion': 'entropy', 'splitter': 'random'}\n",
      "0.6133325266544869\n"
     ]
    }
   ],
   "source": [
    "gsc = GridSearchCV(\n",
    "        estimator=DecisionTreeClassifier(),\n",
    "        param_grid={\n",
    "            'criterion': ['gini','entropy'],\n",
    "            'splitter': ['best','random']\n",
    "        },\n",
    "        cv=5, scoring='roc_auc', verbose=0, n_jobs=-1)\n",
    "\n",
    "grid_result = gsc.fit(X, y.ravel())\n",
    "print(grid_result.best_params_)\n",
    "print(grid_result.best_score_)"
   ]
  },
  {
   "cell_type": "code",
   "execution_count": 61,
   "metadata": {
    "ExecuteTime": {
     "end_time": "2020-06-06T07:13:10.951190Z",
     "start_time": "2020-06-06T07:13:10.566151Z"
    }
   },
   "outputs": [
    {
     "name": "stdout",
     "output_type": "stream",
     "text": [
      "{'degree': 2, 'gamma': 'scale', 'kernel': 'rbf'}\n",
      "0.802703048734764\n"
     ]
    }
   ],
   "source": [
    "gsc = GridSearchCV(\n",
    "        estimator=SVC(),\n",
    "        param_grid={\n",
    "            'kernel': ['rbf','poly'],\n",
    "            'degree': [2,3],\n",
    "            'gamma':['scale','auto']\n",
    "        },\n",
    "        cv=5, scoring='roc_auc', verbose=0, n_jobs=-1)\n",
    "\n",
    "grid_result = gsc.fit(X, y)\n",
    "print(grid_result.best_params_)\n",
    "print(grid_result.best_score_)"
   ]
  },
  {
   "cell_type": "code",
   "execution_count": 62,
   "metadata": {
    "ExecuteTime": {
     "end_time": "2020-06-06T07:13:27.642935Z",
     "start_time": "2020-06-06T07:13:12.117811Z"
    }
   },
   "outputs": [
    {
     "name": "stdout",
     "output_type": "stream",
     "text": [
      "{'hidden_layer_sizes': (15, 10), 'max_iter': 200}\n",
      "0.8031237502158719\n"
     ]
    },
    {
     "name": "stderr",
     "output_type": "stream",
     "text": [
      "/Users/parth/miniconda3/envs/mlenv/lib/python3.7/site-packages/sklearn/neural_network/_multilayer_perceptron.py:571: ConvergenceWarning: Stochastic Optimizer: Maximum iterations (200) reached and the optimization hasn't converged yet.\n",
      "  % self.max_iter, ConvergenceWarning)\n"
     ]
    }
   ],
   "source": [
    "gsc = GridSearchCV(\n",
    "        estimator=MLPClassifier(),\n",
    "        param_grid={\n",
    "            'hidden_layer_sizes': [(20,10),(15,10),(15,15)],\n",
    "            'max_iter': [200,500,600]\n",
    "        },\n",
    "        cv=5, scoring='roc_auc', verbose=0, n_jobs=-1)\n",
    "\n",
    "grid_result = gsc.fit(X, y)\n",
    "print(grid_result.best_params_)\n",
    "print(grid_result.best_score_)"
   ]
  },
  {
   "cell_type": "code",
   "execution_count": 63,
   "metadata": {
    "ExecuteTime": {
     "end_time": "2020-06-06T07:15:14.821214Z",
     "start_time": "2020-06-06T07:15:13.303611Z"
    }
   },
   "outputs": [
    {
     "name": "stdout",
     "output_type": "stream",
     "text": [
      "{'n_estimators': 20}\n",
      "0.803767829306756\n"
     ]
    }
   ],
   "source": [
    "gsc = GridSearchCV(\n",
    "        estimator=AdaBoostClassifier(),\n",
    "        param_grid={\n",
    "            'n_estimators': [20,40,50,60,80,100]\n",
    "        },\n",
    "        cv=5, scoring='roc_auc', verbose=0, n_jobs=-1)\n",
    "\n",
    "grid_result = gsc.fit(X, y)\n",
    "print(grid_result.best_params_)\n",
    "print(grid_result.best_score_)"
   ]
  },
  {
   "cell_type": "markdown",
   "metadata": {},
   "source": [
    "### Some CV Scores for models on interest"
   ]
  },
  {
   "cell_type": "code",
   "execution_count": 64,
   "metadata": {
    "ExecuteTime": {
     "end_time": "2020-06-06T07:15:27.184118Z",
     "start_time": "2020-06-06T07:15:27.180324Z"
    }
   },
   "outputs": [],
   "source": [
    "from sklearn.model_selection import cross_val_score"
   ]
  },
  {
   "cell_type": "code",
   "execution_count": 65,
   "metadata": {
    "ExecuteTime": {
     "end_time": "2020-06-06T07:15:28.864436Z",
     "start_time": "2020-06-06T07:15:28.144734Z"
    }
   },
   "outputs": [
    {
     "data": {
      "text/plain": [
       "0.8559999999999999"
      ]
     },
     "execution_count": 65,
     "metadata": {},
     "output_type": "execute_result"
    }
   ],
   "source": [
    "model = RandomForestClassifier(n_estimators=20)\n",
    "cross_val_score(model, X, y, cv=20).mean()"
   ]
  },
  {
   "cell_type": "code",
   "execution_count": 66,
   "metadata": {
    "ExecuteTime": {
     "end_time": "2020-06-06T07:15:55.314644Z",
     "start_time": "2020-06-06T07:15:32.395854Z"
    }
   },
   "outputs": [
    {
     "name": "stderr",
     "output_type": "stream",
     "text": [
      "/Users/parth/miniconda3/envs/mlenv/lib/python3.7/site-packages/sklearn/neural_network/_multilayer_perceptron.py:571: ConvergenceWarning: Stochastic Optimizer: Maximum iterations (500) reached and the optimization hasn't converged yet.\n",
      "  % self.max_iter, ConvergenceWarning)\n",
      "/Users/parth/miniconda3/envs/mlenv/lib/python3.7/site-packages/sklearn/neural_network/_multilayer_perceptron.py:571: ConvergenceWarning: Stochastic Optimizer: Maximum iterations (500) reached and the optimization hasn't converged yet.\n",
      "  % self.max_iter, ConvergenceWarning)\n",
      "/Users/parth/miniconda3/envs/mlenv/lib/python3.7/site-packages/sklearn/neural_network/_multilayer_perceptron.py:571: ConvergenceWarning: Stochastic Optimizer: Maximum iterations (500) reached and the optimization hasn't converged yet.\n",
      "  % self.max_iter, ConvergenceWarning)\n",
      "/Users/parth/miniconda3/envs/mlenv/lib/python3.7/site-packages/sklearn/neural_network/_multilayer_perceptron.py:571: ConvergenceWarning: Stochastic Optimizer: Maximum iterations (500) reached and the optimization hasn't converged yet.\n",
      "  % self.max_iter, ConvergenceWarning)\n",
      "/Users/parth/miniconda3/envs/mlenv/lib/python3.7/site-packages/sklearn/neural_network/_multilayer_perceptron.py:571: ConvergenceWarning: Stochastic Optimizer: Maximum iterations (500) reached and the optimization hasn't converged yet.\n",
      "  % self.max_iter, ConvergenceWarning)\n",
      "/Users/parth/miniconda3/envs/mlenv/lib/python3.7/site-packages/sklearn/neural_network/_multilayer_perceptron.py:571: ConvergenceWarning: Stochastic Optimizer: Maximum iterations (500) reached and the optimization hasn't converged yet.\n",
      "  % self.max_iter, ConvergenceWarning)\n",
      "/Users/parth/miniconda3/envs/mlenv/lib/python3.7/site-packages/sklearn/neural_network/_multilayer_perceptron.py:571: ConvergenceWarning: Stochastic Optimizer: Maximum iterations (500) reached and the optimization hasn't converged yet.\n",
      "  % self.max_iter, ConvergenceWarning)\n",
      "/Users/parth/miniconda3/envs/mlenv/lib/python3.7/site-packages/sklearn/neural_network/_multilayer_perceptron.py:571: ConvergenceWarning: Stochastic Optimizer: Maximum iterations (500) reached and the optimization hasn't converged yet.\n",
      "  % self.max_iter, ConvergenceWarning)\n",
      "/Users/parth/miniconda3/envs/mlenv/lib/python3.7/site-packages/sklearn/neural_network/_multilayer_perceptron.py:571: ConvergenceWarning: Stochastic Optimizer: Maximum iterations (500) reached and the optimization hasn't converged yet.\n",
      "  % self.max_iter, ConvergenceWarning)\n"
     ]
    },
    {
     "data": {
      "text/plain": [
       "0.8280000000000001"
      ]
     },
     "execution_count": 66,
     "metadata": {},
     "output_type": "execute_result"
    }
   ],
   "source": [
    "model = MLPClassifier(hidden_layer_sizes=(20,10), max_iter=500)\n",
    "cross_val_score(model, X, y, cv=20).mean()"
   ]
  },
  {
   "cell_type": "code",
   "execution_count": 95,
   "metadata": {
    "ExecuteTime": {
     "end_time": "2020-06-06T07:40:18.591500Z",
     "start_time": "2020-06-06T07:40:07.367303Z"
    }
   },
   "outputs": [
    {
     "data": {
      "text/plain": [
       "0.9723623418919942"
      ]
     },
     "execution_count": 95,
     "metadata": {},
     "output_type": "execute_result"
    }
   ],
   "source": [
    "model = RandomForestClassifier(max_features=0.60, n_estimators=300, oob_score=True)\n",
    "cross_val_score(model, X, y, cv=10).mean()"
   ]
  },
  {
   "cell_type": "code",
   "execution_count": 68,
   "metadata": {
    "ExecuteTime": {
     "end_time": "2020-06-06T07:16:29.673647Z",
     "start_time": "2020-06-06T07:16:29.117014Z"
    }
   },
   "outputs": [
    {
     "data": {
      "text/plain": [
       "0.866"
      ]
     },
     "execution_count": 68,
     "metadata": {},
     "output_type": "execute_result"
    }
   ],
   "source": [
    "model = AdaBoostClassifier(n_estimators=30)\n",
    "cross_val_score(model, X, y, cv=10).mean()"
   ]
  },
  {
   "cell_type": "code",
   "execution_count": 69,
   "metadata": {
    "ExecuteTime": {
     "end_time": "2020-06-06T07:16:47.423970Z",
     "start_time": "2020-06-06T07:16:47.201700Z"
    }
   },
   "outputs": [
    {
     "data": {
      "text/plain": [
       "0.8540000000000001"
      ]
     },
     "execution_count": 69,
     "metadata": {},
     "output_type": "execute_result"
    }
   ],
   "source": [
    "model = SVC(kernel='poly', degree=3, gamma='scale')\n",
    "cross_val_score(model, X, y, cv=10).mean()"
   ]
  },
  {
   "cell_type": "code",
   "execution_count": 70,
   "metadata": {
    "ExecuteTime": {
     "end_time": "2020-06-06T07:16:58.884729Z",
     "start_time": "2020-06-06T07:16:58.641696Z"
    }
   },
   "outputs": [
    {
     "data": {
      "text/plain": [
       "0.86"
      ]
     },
     "execution_count": 70,
     "metadata": {},
     "output_type": "execute_result"
    }
   ],
   "source": [
    "model = SVC(kernel='rbf')\n",
    "cross_val_score(model, X, y, cv=10).mean()"
   ]
  },
  {
   "cell_type": "markdown",
   "metadata": {},
   "source": [
    "### Models_for_submission"
   ]
  },
  {
   "cell_type": "code",
   "execution_count": 36,
   "metadata": {
    "ExecuteTime": {
     "end_time": "2020-05-31T12:03:38.967516Z",
     "start_time": "2020-05-31T12:03:38.842302Z"
    }
   },
   "outputs": [
    {
     "name": "stdout",
     "output_type": "stream",
     "text": [
      "mkdir: models: File exists\r\n"
     ]
    }
   ],
   "source": [
    "!mkdir models"
   ]
  },
  {
   "cell_type": "markdown",
   "metadata": {},
   "source": [
    "Model_name: RandomForest1.0"
   ]
  },
  {
   "cell_type": "code",
   "execution_count": 37,
   "metadata": {
    "ExecuteTime": {
     "end_time": "2020-05-31T12:03:39.031273Z",
     "start_time": "2020-05-31T12:03:38.971635Z"
    }
   },
   "outputs": [],
   "source": [
    "model = RandomForestClassifier(n_estimators=20)\n",
    "model.fit(X,y)\n",
    "pkl_filename = \"models/RandomForest1.0.pkl\"\n",
    "with open(pkl_filename, 'wb') as file:\n",
    "    pickle.dump(model, file)"
   ]
  },
  {
   "cell_type": "markdown",
   "metadata": {},
   "source": [
    "model_name = MLP1.0"
   ]
  },
  {
   "cell_type": "code",
   "execution_count": 38,
   "metadata": {
    "ExecuteTime": {
     "end_time": "2020-05-31T12:03:40.743436Z",
     "start_time": "2020-05-31T12:03:39.033571Z"
    }
   },
   "outputs": [],
   "source": [
    "model = MLPClassifier(hidden_layer_sizes=(20,10), max_iter=500)\n",
    "model.fit(X,y)\n",
    "pkl_filename = \"models/MLP1.0.pkl\"\n",
    "with open(pkl_filename, 'wb') as file:\n",
    "    pickle.dump(model, file)"
   ]
  },
  {
   "cell_type": "markdown",
   "metadata": {},
   "source": [
    "model_name = RandomForest2.0"
   ]
  },
  {
   "cell_type": "code",
   "execution_count": 39,
   "metadata": {
    "ExecuteTime": {
     "end_time": "2020-05-31T12:03:41.311467Z",
     "start_time": "2020-05-31T12:03:40.745698Z"
    }
   },
   "outputs": [],
   "source": [
    "model = RandomForestClassifier(max_features=0.30, n_estimators=200, oob_score=True)\n",
    "model.fit(X,y)\n",
    "pkl_filename = \"models/RandomForest2.0.pkl\"\n",
    "with open(pkl_filename, 'wb') as file:\n",
    "    pickle.dump(model, file)"
   ]
  },
  {
   "cell_type": "markdown",
   "metadata": {},
   "source": [
    "model_name = SVC1.0"
   ]
  },
  {
   "cell_type": "code",
   "execution_count": 43,
   "metadata": {
    "ExecuteTime": {
     "end_time": "2020-06-05T16:55:07.992761Z",
     "start_time": "2020-06-05T16:55:07.671066Z"
    }
   },
   "outputs": [],
   "source": [
    "model = SVC(kernel='poly', degree=3, gamma='scale', probability=True)\n",
    "model.fit(X,y)\n",
    "pkl_filename = \"models/SVC1.0.pkl\"\n",
    "with open(pkl_filename, 'wb') as file:\n",
    "    pickle.dump(model, file)"
   ]
  },
  {
   "cell_type": "markdown",
   "metadata": {},
   "source": [
    "model_name : RandomForest3.0 (With Feature Engineering)"
   ]
  },
  {
   "cell_type": "code",
   "execution_count": 43,
   "metadata": {
    "ExecuteTime": {
     "end_time": "2020-06-05T20:24:56.714122Z",
     "start_time": "2020-06-05T20:24:55.632809Z"
    }
   },
   "outputs": [],
   "source": [
    "model = RandomForestClassifier(max_features=0.70, n_estimators=300, oob_score=True)\n",
    "model.fit(X,y)\n",
    "pkl_filename = \"models/RandomForest3.0.pkl\"\n",
    "with open(pkl_filename, 'wb') as file:\n",
    "    pickle.dump(model, file)"
   ]
  },
  {
   "cell_type": "markdown",
   "metadata": {},
   "source": [
    "model_name : RandomForest4.0"
   ]
  },
  {
   "cell_type": "code",
   "execution_count": 72,
   "metadata": {
    "ExecuteTime": {
     "end_time": "2020-06-06T07:18:01.435989Z",
     "start_time": "2020-06-06T07:18:00.403731Z"
    }
   },
   "outputs": [],
   "source": [
    "model = RandomForestClassifier(max_features=0.70, n_estimators=300, oob_score=True)\n",
    "model.fit(X,y)\n",
    "pkl_filename = \"models/RandomForest4.0.pkl\"\n",
    "with open(pkl_filename, 'wb') as file:\n",
    "    pickle.dump(model, file)"
   ]
  },
  {
   "cell_type": "markdown",
   "metadata": {
    "ExecuteTime": {
     "end_time": "2020-06-06T07:18:54.000301Z",
     "start_time": "2020-06-06T07:18:53.994652Z"
    }
   },
   "source": [
    "model_name : AdaBoost1.0"
   ]
  },
  {
   "cell_type": "code",
   "execution_count": 75,
   "metadata": {
    "ExecuteTime": {
     "end_time": "2020-06-06T07:21:30.980397Z",
     "start_time": "2020-06-06T07:21:30.911588Z"
    }
   },
   "outputs": [],
   "source": [
    "model = AdaBoostClassifier(n_estimators=30)\n",
    "model.fit(X,y)\n",
    "pkl_filename = \"models/Adaboost1.0.pkl\"\n",
    "with open(pkl_filename, 'wb') as file:\n",
    "    pickle.dump(model, file)"
   ]
  },
  {
   "cell_type": "markdown",
   "metadata": {},
   "source": [
    "model_name : RandomForest5.0"
   ]
  },
  {
   "cell_type": "code",
   "execution_count": 77,
   "metadata": {
    "ExecuteTime": {
     "end_time": "2020-06-06T07:30:33.023145Z",
     "start_time": "2020-06-06T07:30:31.117290Z"
    }
   },
   "outputs": [],
   "source": [
    "from imblearn.over_sampling import SMOTE\n",
    "sm = SMOTE(random_state=11)\n",
    "X_mod, y_mod = sm.fit_sample(X, y)\n",
    "model = RandomForestClassifier(max_features=0.70, n_estimators=300, oob_score=True)\n",
    "model.fit(X_mod,y_mod)\n",
    "pkl_filename = \"models/RandomForest5.0.pkl\"\n",
    "with open(pkl_filename, 'wb') as file:\n",
    "    pickle.dump(model, file)"
   ]
  },
  {
   "cell_type": "markdown",
   "metadata": {},
   "source": [
    "model_name : AdaBoost2.0"
   ]
  },
  {
   "cell_type": "code",
   "execution_count": 78,
   "metadata": {
    "ExecuteTime": {
     "end_time": "2020-06-06T07:30:36.284359Z",
     "start_time": "2020-06-06T07:30:36.163361Z"
    }
   },
   "outputs": [],
   "source": [
    "from imblearn.over_sampling import SMOTE\n",
    "sm = SMOTE(random_state=11)\n",
    "X_mod, y_mod = sm.fit_sample(X, y)\n",
    "model = AdaBoostClassifier(n_estimators=30)\n",
    "model.fit(X_mod,y_mod)\n",
    "pkl_filename = \"models/Adaboost2.0.pkl\"\n",
    "with open(pkl_filename, 'wb') as file:\n",
    "    pickle.dump(model, file)"
   ]
  },
  {
   "cell_type": "markdown",
   "metadata": {},
   "source": [
    "Random Forest 6.0"
   ]
  },
  {
   "cell_type": "code",
   "execution_count": 96,
   "metadata": {
    "ExecuteTime": {
     "end_time": "2020-06-06T07:41:03.533831Z",
     "start_time": "2020-06-06T07:41:02.284317Z"
    }
   },
   "outputs": [],
   "source": [
    "model = RandomForestClassifier(max_features=0.60, n_estimators=300, oob_score=True)\n",
    "model.fit(X,y)\n",
    "pkl_filename = \"models/RandomForest6.0.pkl\"\n",
    "with open(pkl_filename, 'wb') as file:\n",
    "    pickle.dump(model, file)"
   ]
  },
  {
   "cell_type": "code",
   "execution_count": null,
   "metadata": {},
   "outputs": [],
   "source": []
  }
 ],
 "metadata": {
  "kernelspec": {
   "display_name": "Python 3",
   "language": "python",
   "name": "python3"
  },
  "language_info": {
   "codemirror_mode": {
    "name": "ipython",
    "version": 3
   },
   "file_extension": ".py",
   "mimetype": "text/x-python",
   "name": "python",
   "nbconvert_exporter": "python",
   "pygments_lexer": "ipython3",
   "version": "3.7.7"
  },
  "varInspector": {
   "cols": {
    "lenName": 16,
    "lenType": 16,
    "lenVar": 40
   },
   "kernels_config": {
    "python": {
     "delete_cmd_postfix": "",
     "delete_cmd_prefix": "del ",
     "library": "var_list.py",
     "varRefreshCmd": "print(var_dic_list())"
    },
    "r": {
     "delete_cmd_postfix": ") ",
     "delete_cmd_prefix": "rm(",
     "library": "var_list.r",
     "varRefreshCmd": "cat(var_dic_list()) "
    }
   },
   "types_to_exclude": [
    "module",
    "function",
    "builtin_function_or_method",
    "instance",
    "_Feature"
   ],
   "window_display": false
  }
 },
 "nbformat": 4,
 "nbformat_minor": 4
}
