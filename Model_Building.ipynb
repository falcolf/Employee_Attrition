{
 "cells": [
  {
   "cell_type": "code",
   "execution_count": 182,
   "metadata": {
    "ExecuteTime": {
     "end_time": "2020-06-24T18:04:25.025053Z",
     "start_time": "2020-06-24T18:04:25.019457Z"
    }
   },
   "outputs": [],
   "source": [
    "import pandas as pd\n",
    "import numpy as np\n",
    "import matplotlib.pyplot as plt\n",
    "import seaborn as sns\n",
    "%matplotlib inline\n",
    "import json\n",
    "import pickle"
   ]
  },
  {
   "cell_type": "code",
   "execution_count": 183,
   "metadata": {
    "ExecuteTime": {
     "end_time": "2020-06-24T18:04:25.424137Z",
     "start_time": "2020-06-24T18:04:25.409803Z"
    }
   },
   "outputs": [
    {
     "data": {
      "text/plain": [
       "(1628, 29)"
      ]
     },
     "execution_count": 183,
     "metadata": {},
     "output_type": "execute_result"
    }
   ],
   "source": [
    "df = pd.read_csv('data/train.csv')\n",
    "df.shape"
   ]
  },
  {
   "cell_type": "code",
   "execution_count": 184,
   "metadata": {
    "ExecuteTime": {
     "end_time": "2020-06-24T18:04:25.772479Z",
     "start_time": "2020-06-24T18:04:25.765187Z"
    }
   },
   "outputs": [
    {
     "data": {
      "text/plain": [
       "Index(['Id', 'Age', 'Attrition', 'BusinessTravel', 'Department',\n",
       "       'DistanceFromHome', 'Education', 'EducationField', 'EmployeeNumber',\n",
       "       'EnvironmentSatisfaction', 'Gender', 'JobInvolvement', 'JobRole',\n",
       "       'JobSatisfaction', 'MaritalStatus', 'MonthlyIncome',\n",
       "       'NumCompaniesWorked', 'OverTime', 'PercentSalaryHike',\n",
       "       'PerformanceRating', 'StockOptionLevel', 'TotalWorkingYears',\n",
       "       'TrainingTimesLastYear', 'YearsAtCompany', 'YearsInCurrentRole',\n",
       "       'YearsSinceLastPromotion', 'YearsWithCurrManager', 'CommunicationSkill',\n",
       "       'Behaviour'],\n",
       "      dtype='object')"
      ]
     },
     "execution_count": 184,
     "metadata": {},
     "output_type": "execute_result"
    }
   ],
   "source": [
    "df.columns"
   ]
  },
  {
   "cell_type": "markdown",
   "metadata": {},
   "source": [
    "### Feature Engineering"
   ]
  },
  {
   "cell_type": "code",
   "execution_count": 185,
   "metadata": {
    "ExecuteTime": {
     "end_time": "2020-06-24T18:04:26.458681Z",
     "start_time": "2020-06-24T18:04:26.445493Z"
    }
   },
   "outputs": [],
   "source": [
    "def extract_feature(df_input):\n",
    "    df = df_input.copy()\n",
    "    df['OwnStocks'] = df.StockOptionLevel.apply(lambda x: 'No' if x == 0 else 'Yes')\n",
    "    df['PropWorkLife'] = df.TotalWorkingYears / df.Age\n",
    "    df['PropExpComp'] = df.NumCompaniesWorked / (df.TotalWorkingYears+1)\n",
    "    df['PropRoleComp'] = df.YearsInCurrentRole / (df.YearsAtCompany + 1)\n",
    "    df['AgeBar'] = pd.cut(df.Age, bins = [0,27,45,np.inf], labels=['Young','Mid','Old']).astype('object')\n",
    "    q_pays = {\n",
    "        'Laboratory Technician': 2705.0, \n",
    "        'Manufacturing Director': 5824.4000000000015, \n",
    "        'Sales Executive': 5675.8, \n",
    "        'Research Scientist': 2693.4, \n",
    "        'Sales Representative': 2325.8, \n",
    "        'Healthcare Representative': 6348.6, \n",
    "        'Research Director': 15014.600000000002, \n",
    "        'Human Resources': 2741.0, \n",
    "        'Manager': 16894.0\n",
    "    }\n",
    "    df['AboveQPay'] = df.apply(lambda x: 'No' if x.MonthlyIncome < q_pays.get(x.JobRole) else 'Yes', axis = 1)\n",
    "    df['WorkFactors'] = (df.EnvironmentSatisfaction+df.JobSatisfaction+df.JobInvolvement) / 15\n",
    "    df['CommunicationSkill'] = 1 / df['CommunicationSkill']\n",
    "    cols_to_drop = [\n",
    "                    'Id',\n",
    "                    'Behaviour',\n",
    "                    'PerformanceRating',\n",
    "                    'Gender',\n",
    "                    'Education', \n",
    "                    'Department',\n",
    "                    'EmployeeNumber',\n",
    "                    'PercentSalaryHike',\n",
    "                    'YearsInCurrentRole',\n",
    "                    'YearsSinceLastPromotion',\n",
    "                    'YearsWithCurrManager',\n",
    "                    'TrainingTimesLastYear',\n",
    "                    'EducationField',\n",
    "                    'StockOptionLevel',\n",
    "                    'TotalWorkingYears',\n",
    "                    'YearsAtCompany',\n",
    "                    'NumCompaniesWorked',\n",
    "                    'JobSatisfaction',\n",
    "                    'EnvironmentSatisfaction',\n",
    "                    'JobInvolvement',\n",
    "                    'Age',\n",
    "                    'MonthlyIncome',\n",
    "                    #'DistanceFromHome'\n",
    "                  ]\n",
    "    df.drop(cols_to_drop, inplace = True, axis = 1)\n",
    "    print('Columns Dropped : {}'.format(cols_to_drop))\n",
    "    print('Columns in DataFrame: {}'.format(df.columns.to_list()))\n",
    "    return df"
   ]
  },
  {
   "cell_type": "code",
   "execution_count": 186,
   "metadata": {
    "ExecuteTime": {
     "end_time": "2020-06-24T18:04:26.921259Z",
     "start_time": "2020-06-24T18:04:26.845869Z"
    }
   },
   "outputs": [
    {
     "name": "stdout",
     "output_type": "stream",
     "text": [
      "Columns Dropped : ['Id', 'Behaviour', 'PerformanceRating', 'Gender', 'Education', 'Department', 'EmployeeNumber', 'PercentSalaryHike', 'YearsInCurrentRole', 'YearsSinceLastPromotion', 'YearsWithCurrManager', 'TrainingTimesLastYear', 'EducationField', 'StockOptionLevel', 'TotalWorkingYears', 'YearsAtCompany', 'NumCompaniesWorked', 'JobSatisfaction', 'EnvironmentSatisfaction', 'JobInvolvement', 'Age', 'MonthlyIncome']\n",
      "Columns in DataFrame: ['Attrition', 'BusinessTravel', 'DistanceFromHome', 'JobRole', 'MaritalStatus', 'OverTime', 'CommunicationSkill', 'OwnStocks', 'PropWorkLife', 'PropExpComp', 'PropRoleComp', 'AgeBar', 'AboveQPay', 'WorkFactors']\n"
     ]
    }
   ],
   "source": [
    "df_cleaned = extract_feature(df)"
   ]
  },
  {
   "cell_type": "code",
   "execution_count": 187,
   "metadata": {
    "ExecuteTime": {
     "end_time": "2020-06-24T18:04:27.152123Z",
     "start_time": "2020-06-24T18:04:27.144798Z"
    }
   },
   "outputs": [
    {
     "data": {
      "text/plain": [
       "Attrition               int64\n",
       "BusinessTravel         object\n",
       "DistanceFromHome      float64\n",
       "JobRole                object\n",
       "MaritalStatus          object\n",
       "OverTime               object\n",
       "CommunicationSkill    float64\n",
       "OwnStocks              object\n",
       "PropWorkLife          float64\n",
       "PropExpComp           float64\n",
       "PropRoleComp          float64\n",
       "AgeBar                 object\n",
       "AboveQPay              object\n",
       "WorkFactors           float64\n",
       "dtype: object"
      ]
     },
     "execution_count": 187,
     "metadata": {},
     "output_type": "execute_result"
    }
   ],
   "source": [
    "df_cleaned.dtypes"
   ]
  },
  {
   "cell_type": "markdown",
   "metadata": {},
   "source": [
    "### Preprocessing and Model Building Init"
   ]
  },
  {
   "cell_type": "code",
   "execution_count": 188,
   "metadata": {
    "ExecuteTime": {
     "end_time": "2020-06-24T18:04:27.846566Z",
     "start_time": "2020-06-24T18:04:27.833483Z"
    }
   },
   "outputs": [
    {
     "data": {
      "text/plain": [
       "(1000, 14)"
      ]
     },
     "execution_count": 188,
     "metadata": {},
     "output_type": "execute_result"
    }
   ],
   "source": [
    "df_cleaned.drop_duplicates(inplace=True)\n",
    "df_cleaned.shape"
   ]
  },
  {
   "cell_type": "code",
   "execution_count": 189,
   "metadata": {
    "ExecuteTime": {
     "end_time": "2020-06-24T18:04:28.199543Z",
     "start_time": "2020-06-24T18:04:28.193035Z"
    }
   },
   "outputs": [],
   "source": [
    "df_X = df_cleaned.drop(['Attrition'], axis = 1).copy()\n",
    "df_y = df_cleaned[['Attrition']].copy()"
   ]
  },
  {
   "cell_type": "code",
   "execution_count": 190,
   "metadata": {
    "ExecuteTime": {
     "end_time": "2020-06-24T18:04:28.522360Z",
     "start_time": "2020-06-24T18:04:28.513875Z"
    }
   },
   "outputs": [
    {
     "data": {
      "text/plain": [
       "['BusinessTravel',\n",
       " 'JobRole',\n",
       " 'MaritalStatus',\n",
       " 'OverTime',\n",
       " 'OwnStocks',\n",
       " 'AgeBar',\n",
       " 'AboveQPay']"
      ]
     },
     "execution_count": 190,
     "metadata": {},
     "output_type": "execute_result"
    }
   ],
   "source": [
    "nominal_type = list(df_X.select_dtypes(include='object').columns)\n",
    "nominal_type"
   ]
  },
  {
   "cell_type": "code",
   "execution_count": 191,
   "metadata": {
    "ExecuteTime": {
     "end_time": "2020-06-24T18:04:28.840773Z",
     "start_time": "2020-06-24T18:04:28.833148Z"
    }
   },
   "outputs": [
    {
     "name": "stdout",
     "output_type": "stream",
     "text": [
      "{'BusinessTravel': ['Non-Travel', 'Travel_Rarely', 'Travel_Frequently'], 'JobRole': ['Laboratory Technician', 'Manufacturing Director', 'Sales Executive', 'Research Scientist', 'Sales Representative', 'Healthcare Representative', 'Research Director', 'Human Resources', 'Manager'], 'MaritalStatus': ['Single', 'Married', 'Divorced'], 'OverTime': ['No', 'Yes'], 'OwnStocks': ['No', 'Yes'], 'AgeBar': ['Mid', 'Old', 'Young'], 'AboveQPay': ['No', 'Yes']}\n"
     ]
    }
   ],
   "source": [
    "nominal_type_vals = dict()\n",
    "for ot in nominal_type:\n",
    "    nominal_type_vals[ot] = list(df_X[ot].unique())\n",
    "print(nominal_type_vals)"
   ]
  },
  {
   "cell_type": "code",
   "execution_count": 192,
   "metadata": {
    "ExecuteTime": {
     "end_time": "2020-06-24T18:04:29.099076Z",
     "start_time": "2020-06-24T18:04:29.090158Z"
    }
   },
   "outputs": [
    {
     "data": {
      "text/plain": [
       "['DistanceFromHome',\n",
       " 'CommunicationSkill',\n",
       " 'PropWorkLife',\n",
       " 'PropExpComp',\n",
       " 'PropRoleComp',\n",
       " 'WorkFactors']"
      ]
     },
     "execution_count": 192,
     "metadata": {},
     "output_type": "execute_result"
    }
   ],
   "source": [
    "numerical_type = list(df_X.select_dtypes(exclude='object').columns)\n",
    "numerical_type"
   ]
  },
  {
   "cell_type": "code",
   "execution_count": 193,
   "metadata": {
    "ExecuteTime": {
     "end_time": "2020-06-24T18:04:29.348419Z",
     "start_time": "2020-06-24T18:04:29.340869Z"
    }
   },
   "outputs": [
    {
     "data": {
      "text/plain": [
       "['CommunicationSkill']"
      ]
     },
     "execution_count": 193,
     "metadata": {},
     "output_type": "execute_result"
    }
   ],
   "source": [
    "ordinal_type = list()\n",
    "ordinal_columns_dataset = ['EnvironmentSatisfaction',\n",
    "                           'JobInvolvement',\n",
    "                           'JobSatisfaction',\n",
    "                           'Education',\n",
    "                           'Behaviour',\n",
    "                           'CommunicationSkill',\n",
    "                           'PerformanceRating',\n",
    "                           'StockOptionLevel',\n",
    "                          ]\n",
    "for col in ordinal_columns_dataset:\n",
    "    if col in numerical_type:\n",
    "        numerical_type.remove(col)\n",
    "        ordinal_type.append(col)\n",
    "        \n",
    "ordinal_type"
   ]
  },
  {
   "cell_type": "code",
   "execution_count": 194,
   "metadata": {
    "ExecuteTime": {
     "end_time": "2020-06-24T18:04:29.666366Z",
     "start_time": "2020-06-24T18:04:29.660075Z"
    }
   },
   "outputs": [
    {
     "data": {
      "text/plain": [
       "['BusinessTravel',\n",
       " 'DistanceFromHome',\n",
       " 'JobRole',\n",
       " 'MaritalStatus',\n",
       " 'OverTime',\n",
       " 'CommunicationSkill',\n",
       " 'OwnStocks',\n",
       " 'PropWorkLife',\n",
       " 'PropExpComp',\n",
       " 'PropRoleComp',\n",
       " 'AgeBar',\n",
       " 'AboveQPay',\n",
       " 'WorkFactors']"
      ]
     },
     "execution_count": 194,
     "metadata": {},
     "output_type": "execute_result"
    }
   ],
   "source": [
    "final_cols = list(df_X.columns)\n",
    "final_cols"
   ]
  },
  {
   "cell_type": "code",
   "execution_count": 195,
   "metadata": {
    "ExecuteTime": {
     "end_time": "2020-06-24T18:04:30.033956Z",
     "start_time": "2020-06-24T18:04:30.028827Z"
    }
   },
   "outputs": [],
   "source": [
    "numerical_index = list()\n",
    "nominal_index = list()\n",
    "ordinal_index = list()\n",
    "\n",
    "for col in numerical_type:\n",
    "    numerical_index.append(final_cols.index(col))\n",
    "for col in nominal_type:\n",
    "    nominal_index.append(final_cols.index(col))\n",
    "for col in ordinal_type:\n",
    "    ordinal_index.append(final_cols.index(col))"
   ]
  },
  {
   "cell_type": "code",
   "execution_count": 196,
   "metadata": {
    "ExecuteTime": {
     "end_time": "2020-06-24T18:04:30.600137Z",
     "start_time": "2020-06-24T18:04:30.590798Z"
    }
   },
   "outputs": [
    {
     "name": "stdout",
     "output_type": "stream",
     "text": [
      "Numerical Columns\n",
      "1 DistanceFromHome\n",
      "7 PropWorkLife\n",
      "8 PropExpComp\n",
      "9 PropRoleComp\n",
      "12 WorkFactors\n",
      "==================================================\n",
      "Nominal Columns\n",
      "0 BusinessTravel\n",
      "2 JobRole\n",
      "3 MaritalStatus\n",
      "4 OverTime\n",
      "6 OwnStocks\n",
      "10 AgeBar\n",
      "11 AboveQPay\n",
      "==================================================\n",
      "Ordinal Columns\n",
      "5 CommunicationSkill\n"
     ]
    }
   ],
   "source": [
    "print('Numerical Columns')\n",
    "for i,col in zip(numerical_index, numerical_type):\n",
    "    print(i, col)\n",
    "print('='*50)\n",
    "print('Nominal Columns')\n",
    "for i,col in zip(nominal_index, nominal_type):\n",
    "    print(i, col)\n",
    "print('='*50)\n",
    "print('Ordinal Columns')\n",
    "for i,col in zip(ordinal_index, ordinal_type):\n",
    "    print(i, col)"
   ]
  },
  {
   "cell_type": "code",
   "execution_count": 197,
   "metadata": {
    "ExecuteTime": {
     "end_time": "2020-06-24T18:04:30.946357Z",
     "start_time": "2020-06-24T18:04:30.917540Z"
    }
   },
   "outputs": [
    {
     "data": {
      "text/html": [
       "<div>\n",
       "<style scoped>\n",
       "    .dataframe tbody tr th:only-of-type {\n",
       "        vertical-align: middle;\n",
       "    }\n",
       "\n",
       "    .dataframe tbody tr th {\n",
       "        vertical-align: top;\n",
       "    }\n",
       "\n",
       "    .dataframe thead th {\n",
       "        text-align: right;\n",
       "    }\n",
       "</style>\n",
       "<table border=\"1\" class=\"dataframe\">\n",
       "  <thead>\n",
       "    <tr style=\"text-align: right;\">\n",
       "      <th></th>\n",
       "      <th>DistanceFromHome</th>\n",
       "      <th>CommunicationSkill</th>\n",
       "      <th>PropWorkLife</th>\n",
       "      <th>PropExpComp</th>\n",
       "      <th>PropRoleComp</th>\n",
       "      <th>WorkFactors</th>\n",
       "    </tr>\n",
       "  </thead>\n",
       "  <tbody>\n",
       "    <tr>\n",
       "      <th>count</th>\n",
       "      <td>1000.000000</td>\n",
       "      <td>1000.000000</td>\n",
       "      <td>1000.000000</td>\n",
       "      <td>1000.000000</td>\n",
       "      <td>1000.000000</td>\n",
       "      <td>1000.000000</td>\n",
       "    </tr>\n",
       "    <tr>\n",
       "      <th>mean</th>\n",
       "      <td>0.302556</td>\n",
       "      <td>0.449400</td>\n",
       "      <td>0.286846</td>\n",
       "      <td>0.281996</td>\n",
       "      <td>0.479683</td>\n",
       "      <td>0.546667</td>\n",
       "    </tr>\n",
       "    <tr>\n",
       "      <th>std</th>\n",
       "      <td>0.319843</td>\n",
       "      <td>0.287856</td>\n",
       "      <td>0.153826</td>\n",
       "      <td>0.299577</td>\n",
       "      <td>0.275793</td>\n",
       "      <td>0.112008</td>\n",
       "    </tr>\n",
       "    <tr>\n",
       "      <th>min</th>\n",
       "      <td>0.034483</td>\n",
       "      <td>0.200000</td>\n",
       "      <td>0.000000</td>\n",
       "      <td>0.000000</td>\n",
       "      <td>0.000000</td>\n",
       "      <td>0.266667</td>\n",
       "    </tr>\n",
       "    <tr>\n",
       "      <th>25%</th>\n",
       "      <td>0.076923</td>\n",
       "      <td>0.250000</td>\n",
       "      <td>0.179487</td>\n",
       "      <td>0.090909</td>\n",
       "      <td>0.333333</td>\n",
       "      <td>0.466667</td>\n",
       "    </tr>\n",
       "    <tr>\n",
       "      <th>50%</th>\n",
       "      <td>0.142857</td>\n",
       "      <td>0.333333</td>\n",
       "      <td>0.263158</td>\n",
       "      <td>0.181818</td>\n",
       "      <td>0.500000</td>\n",
       "      <td>0.533333</td>\n",
       "    </tr>\n",
       "    <tr>\n",
       "      <th>75%</th>\n",
       "      <td>0.500000</td>\n",
       "      <td>0.500000</td>\n",
       "      <td>0.400000</td>\n",
       "      <td>0.385684</td>\n",
       "      <td>0.666667</td>\n",
       "      <td>0.600000</td>\n",
       "    </tr>\n",
       "    <tr>\n",
       "      <th>max</th>\n",
       "      <td>1.000000</td>\n",
       "      <td>1.000000</td>\n",
       "      <td>0.672727</td>\n",
       "      <td>2.250000</td>\n",
       "      <td>0.875000</td>\n",
       "      <td>0.800000</td>\n",
       "    </tr>\n",
       "  </tbody>\n",
       "</table>\n",
       "</div>"
      ],
      "text/plain": [
       "       DistanceFromHome  CommunicationSkill  PropWorkLife  PropExpComp  \\\n",
       "count       1000.000000         1000.000000   1000.000000  1000.000000   \n",
       "mean           0.302556            0.449400      0.286846     0.281996   \n",
       "std            0.319843            0.287856      0.153826     0.299577   \n",
       "min            0.034483            0.200000      0.000000     0.000000   \n",
       "25%            0.076923            0.250000      0.179487     0.090909   \n",
       "50%            0.142857            0.333333      0.263158     0.181818   \n",
       "75%            0.500000            0.500000      0.400000     0.385684   \n",
       "max            1.000000            1.000000      0.672727     2.250000   \n",
       "\n",
       "       PropRoleComp  WorkFactors  \n",
       "count   1000.000000  1000.000000  \n",
       "mean       0.479683     0.546667  \n",
       "std        0.275793     0.112008  \n",
       "min        0.000000     0.266667  \n",
       "25%        0.333333     0.466667  \n",
       "50%        0.500000     0.533333  \n",
       "75%        0.666667     0.600000  \n",
       "max        0.875000     0.800000  "
      ]
     },
     "execution_count": 197,
     "metadata": {},
     "output_type": "execute_result"
    }
   ],
   "source": [
    "df_X.describe()"
   ]
  },
  {
   "cell_type": "code",
   "execution_count": 198,
   "metadata": {
    "ExecuteTime": {
     "end_time": "2020-06-24T18:04:31.619719Z",
     "start_time": "2020-06-24T18:04:31.610107Z"
    }
   },
   "outputs": [],
   "source": [
    "from sklearn.preprocessing import OneHotEncoder\n",
    "encoder_dic = {}\n",
    "for col in nominal_index:\n",
    "    enc = OneHotEncoder(categories='auto',drop='first',sparse = False).fit(df_X.iloc[:,[col]])\n",
    "    encoder_dic[col] = enc"
   ]
  },
  {
   "cell_type": "code",
   "execution_count": 199,
   "metadata": {
    "ExecuteTime": {
     "end_time": "2020-06-24T18:04:31.993956Z",
     "start_time": "2020-06-24T18:04:31.969125Z"
    }
   },
   "outputs": [],
   "source": [
    "from sklearn.model_selection import train_test_split\n",
    "X_train,X_test,y_train,y_test = train_test_split(df_X, df_y, test_size=0.20, random_state = 0, stratify=df_y)\n",
    "X_train,X_test,y_train,y_test = X_train.reset_index(),X_test.reset_index(),y_train.reset_index(),y_test.reset_index()\n",
    "X_train.drop(['index'], inplace=True, axis=1)\n",
    "X_test.drop(['index'], inplace=True, axis=1)\n",
    "y_train.drop(['index'], inplace=True, axis=1)\n",
    "y_test.drop(['index'], inplace=True, axis=1)"
   ]
  },
  {
   "cell_type": "code",
   "execution_count": 200,
   "metadata": {
    "ExecuteTime": {
     "end_time": "2020-06-24T18:04:33.094867Z",
     "start_time": "2020-06-24T18:04:32.978672Z"
    }
   },
   "outputs": [],
   "source": [
    "from imblearn.over_sampling import SMOTENC\n",
    "from imblearn.over_sampling import RandomOverSampler\n",
    "#sampler = RandomOverSampler(sampling_strategy=0.7)\n",
    "#X_train, y_train = sampler.fit_resample(X_train, y_train)\n",
    "sampler = SMOTENC(categorical_features= nominal_index + ordinal_index, k_neighbors=3, random_state=0)\n",
    "X_train, y_train = sampler.fit_resample(X_train, y_train)"
   ]
  },
  {
   "cell_type": "code",
   "execution_count": 201,
   "metadata": {
    "ExecuteTime": {
     "end_time": "2020-06-24T18:04:33.573398Z",
     "start_time": "2020-06-24T18:04:33.565495Z"
    }
   },
   "outputs": [
    {
     "data": {
      "text/plain": [
       "(1348, 13)"
      ]
     },
     "execution_count": 201,
     "metadata": {},
     "output_type": "execute_result"
    }
   ],
   "source": [
    "X_train.shape"
   ]
  },
  {
   "cell_type": "code",
   "execution_count": 202,
   "metadata": {
    "ExecuteTime": {
     "end_time": "2020-06-24T18:04:33.999876Z",
     "start_time": "2020-06-24T18:04:33.905112Z"
    }
   },
   "outputs": [],
   "source": [
    "for i, enc in encoder_dic.items():\n",
    "    temp1 = pd.DataFrame(enc.transform(X_train.iloc[:,[i]]), columns=[ list(df_X.columns)[i]+'_'+colname for colname in list(enc.categories_[0])[1:]]).reset_index()\n",
    "    X_train = pd.concat( [X_train, temp1], axis = 1 )\n",
    "    temp2 = pd.DataFrame(enc.transform(X_test.iloc[:,[i]]), columns=[ list(df_X.columns)[i]+'_'+colname for colname in list(enc.categories_[0])[1:]]).reset_index()\n",
    "    X_test = pd.concat( [X_test, temp2], axis = 1 )"
   ]
  },
  {
   "cell_type": "code",
   "execution_count": 203,
   "metadata": {
    "ExecuteTime": {
     "end_time": "2020-06-24T18:04:34.225716Z",
     "start_time": "2020-06-24T18:04:34.214662Z"
    }
   },
   "outputs": [],
   "source": [
    "X_train.drop(nominal_type, inplace=True, axis=1)\n",
    "X_test.drop(nominal_type, inplace=True, axis=1)"
   ]
  },
  {
   "cell_type": "code",
   "execution_count": 204,
   "metadata": {
    "ExecuteTime": {
     "end_time": "2020-06-24T18:04:34.627810Z",
     "start_time": "2020-06-24T18:04:34.621005Z"
    }
   },
   "outputs": [
    {
     "data": {
      "text/plain": [
       "array(['DistanceFromHome', 'CommunicationSkill', 'PropWorkLife',\n",
       "       'PropExpComp', 'PropRoleComp', 'WorkFactors', 'index',\n",
       "       'BusinessTravel_Travel_Frequently', 'BusinessTravel_Travel_Rarely',\n",
       "       'index', 'JobRole_Human Resources',\n",
       "       'JobRole_Laboratory Technician', 'JobRole_Manager',\n",
       "       'JobRole_Manufacturing Director', 'JobRole_Research Director',\n",
       "       'JobRole_Research Scientist', 'JobRole_Sales Executive',\n",
       "       'JobRole_Sales Representative', 'index', 'MaritalStatus_Married',\n",
       "       'MaritalStatus_Single', 'index', 'OverTime_Yes', 'index',\n",
       "       'OwnStocks_Yes', 'index', 'AgeBar_Old', 'AgeBar_Young', 'index',\n",
       "       'AboveQPay_Yes'], dtype=object)"
      ]
     },
     "execution_count": 204,
     "metadata": {},
     "output_type": "execute_result"
    }
   ],
   "source": [
    "final_cols_encoded = X_train.columns.values\n",
    "final_cols_encoded"
   ]
  },
  {
   "cell_type": "code",
   "execution_count": 205,
   "metadata": {
    "ExecuteTime": {
     "end_time": "2020-06-24T18:04:35.107124Z",
     "start_time": "2020-06-24T18:04:34.973245Z"
    }
   },
   "outputs": [
    {
     "data": {
      "text/plain": [
       "<matplotlib.axes._subplots.AxesSubplot at 0x13a3629d0>"
      ]
     },
     "execution_count": 205,
     "metadata": {},
     "output_type": "execute_result"
    },
    {
     "data": {
      "image/png": "[encoded data removed]",
      "text/plain": [
       "<Figure size 432x288 with 1 Axes>"
      ]
     },
     "metadata": {
      "needs_background": "light"
     },
     "output_type": "display_data"
    }
   ],
   "source": [
    "sns.countplot(df_y.Attrition)"
   ]
  },
  {
   "cell_type": "code",
   "execution_count": 206,
   "metadata": {
    "ExecuteTime": {
     "end_time": "2020-06-24T18:04:35.694215Z",
     "start_time": "2020-06-24T18:04:35.570474Z"
    }
   },
   "outputs": [
    {
     "data": {
      "text/plain": [
       "<matplotlib.axes._subplots.AxesSubplot at 0x1394b53d0>"
      ]
     },
     "execution_count": 206,
     "metadata": {},
     "output_type": "execute_result"
    },
    {
     "data": {
      "image/png": "[encoded data removed]",
      "text/plain": [
       "<Figure size 432x288 with 1 Axes>"
      ]
     },
     "metadata": {
      "needs_background": "light"
     },
     "output_type": "display_data"
    }
   ],
   "source": [
    "sns.countplot(y_train.Attrition)"
   ]
  },
  {
   "cell_type": "code",
   "execution_count": 207,
   "metadata": {
    "ExecuteTime": {
     "end_time": "2020-06-24T18:04:36.257632Z",
     "start_time": "2020-06-24T18:04:36.129711Z"
    }
   },
   "outputs": [
    {
     "data": {
      "text/plain": [
       "<matplotlib.axes._subplots.AxesSubplot at 0x13976a550>"
      ]
     },
     "execution_count": 207,
     "metadata": {},
     "output_type": "execute_result"
    },
    {
     "data": {
      "image/png": "[encoded data removed]",
      "text/plain": [
       "<Figure size 432x288 with 1 Axes>"
      ]
     },
     "metadata": {
      "needs_background": "light"
     },
     "output_type": "display_data"
    }
   ],
   "source": [
    "sns.countplot(y_test.Attrition)"
   ]
  },
  {
   "cell_type": "code",
   "execution_count": 208,
   "metadata": {
    "ExecuteTime": {
     "end_time": "2020-06-24T18:04:36.635420Z",
     "start_time": "2020-06-24T18:04:36.630697Z"
    }
   },
   "outputs": [],
   "source": [
    "X_train,X_test,y_train,y_test = X_train.values,X_test.values,y_train.values,y_test.values\n",
    "y_train, y_test = y_train.ravel(), y_test.ravel()"
   ]
  },
  {
   "cell_type": "code",
   "execution_count": 209,
   "metadata": {
    "ExecuteTime": {
     "end_time": "2020-06-24T18:04:37.271347Z",
     "start_time": "2020-06-24T18:04:37.265577Z"
    }
   },
   "outputs": [],
   "source": [
    "from sklearn.model_selection import RepeatedStratifiedKFold\n",
    "from sklearn.ensemble import RandomForestClassifier\n",
    "from sklearn.ensemble import AdaBoostClassifier\n",
    "from sklearn.tree import DecisionTreeClassifier\n",
    "from sklearn.linear_model import LogisticRegression\n",
    "from sklearn.linear_model import SGDClassifier\n",
    "from sklearn.svm import SVC\n",
    "from sklearn.neighbors import KNeighborsClassifier\n",
    "from sklearn.neural_network import MLPClassifier\n",
    "from sklearn.model_selection import cross_val_score\n",
    "from sklearn import metrics\n",
    "from sklearn.model_selection import GridSearchCV\n",
    "from sklearn.svm import SVC"
   ]
  },
  {
   "cell_type": "markdown",
   "metadata": {},
   "source": [
    "### Building A few Models with CV"
   ]
  },
  {
   "cell_type": "code",
   "execution_count": 210,
   "metadata": {
    "ExecuteTime": {
     "end_time": "2020-06-24T18:04:41.815607Z",
     "start_time": "2020-06-24T18:04:41.807252Z"
    }
   },
   "outputs": [],
   "source": [
    "def check_model_perf(model, X_train, y_train, X_test, y_test):\n",
    "    model.fit(X_train, y_train)\n",
    "    #predictions = model.predict_proba(X_test)\n",
    "    #print(predictions)\n",
    "    #predictions = [0 if x <= 0.4 else 1 for x in predictions[1]]\n",
    "    predictions = model.predict(X_test)\n",
    "    tn, fp, fn, tp = metrics.confusion_matrix(y_test, predictions).ravel()\n",
    "    print(model.__class__)\n",
    "    print('='*80)\n",
    "    print(\"True Possitives  :\\t{}\\nTrue Negatives   :\\t{}\\nFalse Possitives :\\t{}\\nFalse Negatives  :\\t{}\".format(tp,tn,fp,fn))\n",
    "    auc_score = metrics.roc_auc_score(y_test, predictions)\n",
    "    print(\"AUC Score : {}\".format(auc_score))\n",
    "    fpr, tpr, thresholds = metrics.roc_curve(y_test, predictions)\n",
    "    sns.lineplot(fpr, tpr)\n",
    "    plt.title('ROC Curve')\n",
    "    plt.xlabel('FPR')\n",
    "    plt.ylabel('TPR')\n",
    "    plt.show()\n",
    "    print(\"Accuracy score: {}\".format(metrics.accuracy_score(y_test, predictions)))\n",
    "    print(\"-\"*40)\n",
    "    print(metrics.classification_report(y_test, predictions))\n",
    "    print('\\n')\n",
    "    return auc_score"
   ]
  },
  {
   "cell_type": "code",
   "execution_count": 212,
   "metadata": {
    "ExecuteTime": {
     "end_time": "2020-06-24T18:04:54.489282Z",
     "start_time": "2020-06-24T18:04:54.485201Z"
    }
   },
   "outputs": [],
   "source": [
    "cv = RepeatedStratifiedKFold(n_splits= 5, n_repeats=2, random_state=0)"
   ]
  },
  {
   "cell_type": "markdown",
   "metadata": {},
   "source": [
    "#### Auto Tuning RUN ONLY IF REQD. HEAVY PROCESS"
   ]
  },
  {
   "cell_type": "code",
   "execution_count": 129,
   "metadata": {
    "ExecuteTime": {
     "end_time": "2020-06-24T17:48:36.898582Z",
     "start_time": "2020-06-24T17:39:49.351293Z"
    }
   },
   "outputs": [
    {
     "name": "stdout",
     "output_type": "stream",
     "text": [
      "RandomForest\n",
      "{'max_depth': 9, 'max_features': 0.5, 'n_estimators': 400}\n",
      "0.9632806338676986\n",
      "Decision Tree\n",
      "{'criterion': 'entropy', 'max_features': 'auto', 'splitter': 'best'}\n",
      "0.871677722498618\n",
      "AdaBoost\n",
      "{'learning_rate': 0.7, 'n_estimators': 50}\n",
      "0.9631711606576173\n"
     ]
    }
   ],
   "source": [
    "print('RandomForest')\n",
    "rf_param_grid = {\n",
    "            'n_estimators': [300,400,500,1000,1100],\n",
    "            'max_features': ['auto','None',0.5,0.7,0.9],\n",
    "            'max_depth': [7,9,11]\n",
    "        }\n",
    "\n",
    "gsc = GridSearchCV(\n",
    "        estimator=RandomForestClassifier(),\n",
    "        param_grid=rf_param_grid,\n",
    "        cv=cv, scoring='roc_auc', verbose=0, n_jobs=-1)\n",
    "\n",
    "grid_result = gsc.fit(X_train, y_train)\n",
    "print(grid_result.best_params_)\n",
    "print(grid_result.best_score_)\n",
    "rf_best_param_grid = grid_result.best_params_\n",
    "\n",
    "\n",
    "print('Decision Tree')\n",
    "dt_param_grid = {\n",
    "            'criterion': ['gini','entropy'],\n",
    "            'splitter': ['best','random'],\n",
    "            'max_features': ['log2','auto','None']\n",
    "        }\n",
    "gsc = GridSearchCV(\n",
    "        estimator=DecisionTreeClassifier(),\n",
    "        param_grid= dt_param_grid,\n",
    "        cv=cv, scoring='roc_auc', verbose=0, n_jobs=-1)\n",
    "\n",
    "grid_result = gsc.fit(X_train, y_train)\n",
    "print(grid_result.best_params_)\n",
    "print(grid_result.best_score_)\n",
    "\n",
    "dt_best_param_grid = grid_result.best_params_\n",
    "\n",
    "\n",
    "\n",
    "print('AdaBoost')\n",
    "ab_param_grid = {\n",
    "            'n_estimators': [50,60,80,100],\n",
    "            'learning_rate': [0.7,0.8,0.9,1]\n",
    "        }\n",
    "\n",
    "gsc = GridSearchCV(\n",
    "        estimator=AdaBoostClassifier(),\n",
    "        param_grid= ab_param_grid,\n",
    "        cv=cv, scoring='roc_auc', verbose=0, n_jobs=-1)\n",
    "\n",
    "grid_result = gsc.fit(X_train, y_train)\n",
    "print(grid_result.best_params_)\n",
    "print(grid_result.best_score_)\n",
    "\n",
    "ab_best_param_grid = grid_result.best_params_"
   ]
  },
  {
   "cell_type": "code",
   "execution_count": 130,
   "metadata": {
    "ExecuteTime": {
     "end_time": "2020-06-24T17:49:21.768532Z",
     "start_time": "2020-06-24T17:49:19.879189Z"
    },
    "scrolled": true
   },
   "outputs": [
    {
     "name": "stdout",
     "output_type": "stream",
     "text": [
      "<class 'sklearn.ensemble._forest.RandomForestClassifier'>\n",
      "================================================================================\n",
      "True Possitives  :\t6\n",
      "True Negatives   :\t168\n",
      "False Possitives :\t1\n",
      "False Negatives  :\t25\n",
      "AUC Score : 0.5938156136667302\n"
     ]
    },
    {
     "data": {
      "image/png": "[encoded data removed]",
      "text/plain": [
       "<Figure size 432x288 with 1 Axes>"
      ]
     },
     "metadata": {
      "needs_background": "light"
     },
     "output_type": "display_data"
    },
    {
     "name": "stdout",
     "output_type": "stream",
     "text": [
      "Accuracy score: 0.87\n",
      "----------------------------------------\n",
      "              precision    recall  f1-score   support\n",
      "\n",
      "           0       0.87      0.99      0.93       169\n",
      "           1       0.86      0.19      0.32        31\n",
      "\n",
      "    accuracy                           0.87       200\n",
      "   macro avg       0.86      0.59      0.62       200\n",
      "weighted avg       0.87      0.87      0.83       200\n",
      "\n",
      "\n",
      "\n",
      "<class 'sklearn.tree._classes.DecisionTreeClassifier'>\n",
      "================================================================================\n",
      "True Possitives  :\t7\n",
      "True Negatives   :\t156\n",
      "False Possitives :\t13\n",
      "False Negatives  :\t24\n",
      "AUC Score : 0.5744416873449132\n"
     ]
    },
    {
     "data": {
      "image/png": "[encoded data removed]",
      "text/plain": [
       "<Figure size 432x288 with 1 Axes>"
      ]
     },
     "metadata": {
      "needs_background": "light"
     },
     "output_type": "display_data"
    },
    {
     "name": "stdout",
     "output_type": "stream",
     "text": [
      "Accuracy score: 0.815\n",
      "----------------------------------------\n",
      "              precision    recall  f1-score   support\n",
      "\n",
      "           0       0.87      0.92      0.89       169\n",
      "           1       0.35      0.23      0.27        31\n",
      "\n",
      "    accuracy                           0.81       200\n",
      "   macro avg       0.61      0.57      0.58       200\n",
      "weighted avg       0.79      0.81      0.80       200\n",
      "\n",
      "\n",
      "\n",
      "<class 'sklearn.ensemble._weight_boosting.AdaBoostClassifier'>\n",
      "================================================================================\n",
      "True Possitives  :\t10\n",
      "True Negatives   :\t164\n",
      "False Possitives :\t5\n",
      "False Negatives  :\t21\n",
      "AUC Score : 0.6464974231723611\n"
     ]
    },
    {
     "data": {
      "image/png": "[encoded data removed]",
      "text/plain": [
       "<Figure size 432x288 with 1 Axes>"
      ]
     },
     "metadata": {
      "needs_background": "light"
     },
     "output_type": "display_data"
    },
    {
     "name": "stdout",
     "output_type": "stream",
     "text": [
      "Accuracy score: 0.87\n",
      "----------------------------------------\n",
      "              precision    recall  f1-score   support\n",
      "\n",
      "           0       0.89      0.97      0.93       169\n",
      "           1       0.67      0.32      0.43        31\n",
      "\n",
      "    accuracy                           0.87       200\n",
      "   macro avg       0.78      0.65      0.68       200\n",
      "weighted avg       0.85      0.87      0.85       200\n",
      "\n",
      "\n",
      "\n"
     ]
    },
    {
     "data": {
      "text/html": [
       "<div>\n",
       "<style scoped>\n",
       "    .dataframe tbody tr th:only-of-type {\n",
       "        vertical-align: middle;\n",
       "    }\n",
       "\n",
       "    .dataframe tbody tr th {\n",
       "        vertical-align: top;\n",
       "    }\n",
       "\n",
       "    .dataframe thead th {\n",
       "        text-align: right;\n",
       "    }\n",
       "</style>\n",
       "<table border=\"1\" class=\"dataframe\">\n",
       "  <thead>\n",
       "    <tr style=\"text-align: right;\">\n",
       "      <th></th>\n",
       "      <th>AUC Score</th>\n",
       "    </tr>\n",
       "  </thead>\n",
       "  <tbody>\n",
       "    <tr>\n",
       "      <th>AdaBoost</th>\n",
       "      <td>0.646497</td>\n",
       "    </tr>\n",
       "    <tr>\n",
       "      <th>Random Forest</th>\n",
       "      <td>0.593816</td>\n",
       "    </tr>\n",
       "    <tr>\n",
       "      <th>Decision Tree</th>\n",
       "      <td>0.574442</td>\n",
       "    </tr>\n",
       "  </tbody>\n",
       "</table>\n",
       "</div>"
      ],
      "text/plain": [
       "               AUC Score\n",
       "AdaBoost        0.646497\n",
       "Random Forest   0.593816\n",
       "Decision Tree   0.574442"
      ]
     },
     "execution_count": 130,
     "metadata": {},
     "output_type": "execute_result"
    }
   ],
   "source": [
    "scores = dict()\n",
    "scores['Random Forest'] = check_model_perf(RandomForestClassifier(**rf_best_param_grid), X_train, y_train, X_test, y_test)\n",
    "scores['Decision Tree'] = check_model_perf(DecisionTreeClassifier(**dt_best_param_grid), X_train, y_train, X_test, y_test)\n",
    "scores['AdaBoost'] = check_model_perf(AdaBoostClassifier(**ab_best_param_grid), X_train, y_train, X_test, y_test)\n",
    "pd.DataFrame.from_dict(scores, orient='index', columns=['AUC Score']).sort_values(by=['AUC Score'], ascending=False)"
   ]
  },
  {
   "cell_type": "markdown",
   "metadata": {},
   "source": [
    "#### Manual Checks"
   ]
  },
  {
   "cell_type": "code",
   "execution_count": 31,
   "metadata": {
    "ExecuteTime": {
     "end_time": "2020-06-24T17:01:41.709190Z",
     "start_time": "2020-06-24T17:01:41.705812Z"
    }
   },
   "outputs": [],
   "source": [
    "scores = dict()"
   ]
  },
  {
   "cell_type": "code",
   "execution_count": 216,
   "metadata": {
    "ExecuteTime": {
     "end_time": "2020-06-24T18:06:07.461887Z",
     "start_time": "2020-06-24T18:06:05.255963Z"
    }
   },
   "outputs": [
    {
     "name": "stdout",
     "output_type": "stream",
     "text": [
      "<class 'sklearn.ensemble._forest.RandomForestClassifier'>\n",
      "================================================================================\n",
      "True Possitives  :\t7\n",
      "True Negatives   :\t166\n",
      "False Possitives :\t3\n",
      "False Negatives  :\t24\n",
      "AUC Score : 0.6040274861614813\n"
     ]
    },
    {
     "data": {
      "image/png": "[encoded data removed]",
      "text/plain": [
       "<Figure size 432x288 with 1 Axes>"
      ]
     },
     "metadata": {
      "needs_background": "light"
     },
     "output_type": "display_data"
    },
    {
     "name": "stdout",
     "output_type": "stream",
     "text": [
      "Accuracy score: 0.865\n",
      "----------------------------------------\n",
      "              precision    recall  f1-score   support\n",
      "\n",
      "           0       0.87      0.98      0.92       169\n",
      "           1       0.70      0.23      0.34        31\n",
      "\n",
      "    accuracy                           0.86       200\n",
      "   macro avg       0.79      0.60      0.63       200\n",
      "weighted avg       0.85      0.86      0.83       200\n",
      "\n",
      "\n",
      "\n"
     ]
    },
    {
     "ename": "IndexError",
     "evalue": "only integers, slices (`:`), ellipsis (`...`), numpy.newaxis (`None`) and integer or boolean arrays are valid indices",
     "output_type": "error",
     "traceback": [
      "\u001b[0;31m---------------------------------------------------------------------------\u001b[0m",
      "\u001b[0;31mIndexError\u001b[0m                                Traceback (most recent call last)",
      "\u001b[0;32m<ipython-input-216-423e7b194cce>\u001b[0m in \u001b[0;36m<module>\u001b[0;34m\u001b[0m\n\u001b[0;32m----> 1\u001b[0;31m \u001b[0mscores\u001b[0m\u001b[0;34m[\u001b[0m\u001b[0;34m'RandomForest'\u001b[0m\u001b[0;34m]\u001b[0m \u001b[0;34m=\u001b[0m \u001b[0mcheck_model_perf\u001b[0m\u001b[0;34m(\u001b[0m\u001b[0mRandomForestClassifier\u001b[0m\u001b[0;34m(\u001b[0m\u001b[0mmax_features\u001b[0m\u001b[0;34m=\u001b[0m\u001b[0;36m0.9\u001b[0m\u001b[0;34m,\u001b[0m\u001b[0mn_estimators\u001b[0m \u001b[0;34m=\u001b[0m \u001b[0;36m400\u001b[0m\u001b[0;34m,\u001b[0m \u001b[0moob_score\u001b[0m \u001b[0;34m=\u001b[0m \u001b[0;32mTrue\u001b[0m\u001b[0;34m,\u001b[0m \u001b[0mmax_depth\u001b[0m\u001b[0;34m=\u001b[0m\u001b[0;36m9\u001b[0m\u001b[0;34m)\u001b[0m\u001b[0;34m,\u001b[0m \u001b[0mX_train\u001b[0m\u001b[0;34m,\u001b[0m \u001b[0my_train\u001b[0m\u001b[0;34m,\u001b[0m \u001b[0mX_test\u001b[0m\u001b[0;34m,\u001b[0m \u001b[0my_test\u001b[0m\u001b[0;34m)\u001b[0m\u001b[0;34m\u001b[0m\u001b[0;34m\u001b[0m\u001b[0m\n\u001b[0m",
      "\u001b[0;31mIndexError\u001b[0m: only integers, slices (`:`), ellipsis (`...`), numpy.newaxis (`None`) and integer or boolean arrays are valid indices"
     ]
    }
   ],
   "source": [
    "scores['RandomForest'] = check_model_perf(RandomForestClassifier(max_features=0.9,n_estimators = 400, oob_score = True, max_depth=9), X_train, y_train, X_test, y_test)"
   ]
  },
  {
   "cell_type": "code",
   "execution_count": 141,
   "metadata": {
    "ExecuteTime": {
     "end_time": "2020-06-24T17:52:48.946460Z",
     "start_time": "2020-06-24T17:52:48.775696Z"
    }
   },
   "outputs": [
    {
     "name": "stdout",
     "output_type": "stream",
     "text": [
      "<class 'sklearn.tree._classes.DecisionTreeClassifier'>\n",
      "================================================================================\n",
      "True Possitives  :\t9\n",
      "True Negatives   :\t152\n",
      "False Possitives :\t17\n",
      "False Negatives  :\t22\n",
      "AUC Score : 0.5948654323344149\n"
     ]
    },
    {
     "data": {
      "image/png": "[encoded data removed]",
      "text/plain": [
       "<Figure size 432x288 with 1 Axes>"
      ]
     },
     "metadata": {
      "needs_background": "light"
     },
     "output_type": "display_data"
    },
    {
     "name": "stdout",
     "output_type": "stream",
     "text": [
      "Accuracy score: 0.805\n",
      "----------------------------------------\n",
      "              precision    recall  f1-score   support\n",
      "\n",
      "           0       0.87      0.90      0.89       169\n",
      "           1       0.35      0.29      0.32        31\n",
      "\n",
      "    accuracy                           0.81       200\n",
      "   macro avg       0.61      0.59      0.60       200\n",
      "weighted avg       0.79      0.81      0.80       200\n",
      "\n",
      "\n",
      "\n"
     ]
    }
   ],
   "source": [
    "scores['DecisionTree'] = check_model_perf(DecisionTreeClassifier(max_depth=15), X_train, y_train, X_test, y_test)"
   ]
  },
  {
   "cell_type": "code",
   "execution_count": 97,
   "metadata": {
    "ExecuteTime": {
     "end_time": "2020-06-24T17:29:38.116311Z",
     "start_time": "2020-06-24T17:29:37.789929Z"
    }
   },
   "outputs": [
    {
     "name": "stdout",
     "output_type": "stream",
     "text": [
      "<class 'sklearn.ensemble._weight_boosting.AdaBoostClassifier'>\n",
      "================================================================================\n",
      "True Possitives  :\t10\n",
      "True Negatives   :\t163\n",
      "False Possitives :\t6\n",
      "False Negatives  :\t21\n",
      "AUC Score : 0.6435388432907043\n"
     ]
    },
    {
     "data": {
      "image/png": "[encoded data removed]",
      "text/plain": [
       "<Figure size 432x288 with 1 Axes>"
      ]
     },
     "metadata": {
      "needs_background": "light"
     },
     "output_type": "display_data"
    },
    {
     "name": "stdout",
     "output_type": "stream",
     "text": [
      "Accuracy score: 0.865\n",
      "----------------------------------------\n",
      "              precision    recall  f1-score   support\n",
      "\n",
      "           0       0.89      0.96      0.92       169\n",
      "           1       0.62      0.32      0.43        31\n",
      "\n",
      "    accuracy                           0.86       200\n",
      "   macro avg       0.76      0.64      0.67       200\n",
      "weighted avg       0.85      0.86      0.85       200\n",
      "\n",
      "\n",
      "\n"
     ]
    }
   ],
   "source": [
    "scores['AdaBoost'] = check_model_perf(AdaBoostClassifier(learning_rate=0.9, n_estimators=60), X_train, y_train, X_test, y_test)"
   ]
  },
  {
   "cell_type": "code",
   "execution_count": 42,
   "metadata": {
    "ExecuteTime": {
     "end_time": "2020-06-24T17:03:10.552689Z",
     "start_time": "2020-06-24T17:03:10.378938Z"
    }
   },
   "outputs": [
    {
     "name": "stdout",
     "output_type": "stream",
     "text": [
      "<class 'sklearn.linear_model._stochastic_gradient.SGDClassifier'>\n",
      "================================================================================\n",
      "True Possitives  :\t12\n",
      "True Negatives   :\t77\n",
      "False Possitives :\t92\n",
      "False Negatives  :\t19\n",
      "AUC Score : 0.42135903798434815\n"
     ]
    },
    {
     "data": {
      "image/png": "[encoded data removed]",
      "text/plain": [
       "<Figure size 432x288 with 1 Axes>"
      ]
     },
     "metadata": {
      "needs_background": "light"
     },
     "output_type": "display_data"
    },
    {
     "name": "stdout",
     "output_type": "stream",
     "text": [
      "Accuracy score: 0.445\n",
      "----------------------------------------\n",
      "              precision    recall  f1-score   support\n",
      "\n",
      "           0       0.80      0.46      0.58       169\n",
      "           1       0.12      0.39      0.18        31\n",
      "\n",
      "    accuracy                           0.45       200\n",
      "   macro avg       0.46      0.42      0.38       200\n",
      "weighted avg       0.70      0.45      0.52       200\n",
      "\n",
      "\n",
      "\n"
     ]
    }
   ],
   "source": [
    "scores['SGDCalssifer'] = check_model_perf(SGDClassifier(), X_train, y_train, X_test, y_test)"
   ]
  },
  {
   "cell_type": "code",
   "execution_count": 43,
   "metadata": {
    "ExecuteTime": {
     "end_time": "2020-06-24T17:03:14.250771Z",
     "start_time": "2020-06-24T17:03:14.060786Z"
    }
   },
   "outputs": [
    {
     "name": "stdout",
     "output_type": "stream",
     "text": [
      "<class 'sklearn.svm._classes.SVC'>\n",
      "================================================================================\n",
      "True Possitives  :\t0\n",
      "True Negatives   :\t169\n",
      "False Possitives :\t0\n",
      "False Negatives  :\t31\n",
      "AUC Score : 0.5\n"
     ]
    },
    {
     "data": {
      "image/png": "[encoded data removed]",
      "text/plain": [
       "<Figure size 432x288 with 1 Axes>"
      ]
     },
     "metadata": {
      "needs_background": "light"
     },
     "output_type": "display_data"
    },
    {
     "name": "stdout",
     "output_type": "stream",
     "text": [
      "Accuracy score: 0.845\n",
      "----------------------------------------\n",
      "              precision    recall  f1-score   support\n",
      "\n",
      "           0       0.84      1.00      0.92       169\n",
      "           1       0.00      0.00      0.00        31\n",
      "\n",
      "    accuracy                           0.84       200\n",
      "   macro avg       0.42      0.50      0.46       200\n",
      "weighted avg       0.71      0.84      0.77       200\n",
      "\n",
      "\n",
      "\n"
     ]
    },
    {
     "name": "stderr",
     "output_type": "stream",
     "text": [
      "/Users/parth/miniconda3/envs/mlenv/lib/python3.7/site-packages/sklearn/metrics/_classification.py:1272: UndefinedMetricWarning: Precision and F-score are ill-defined and being set to 0.0 in labels with no predicted samples. Use `zero_division` parameter to control this behavior.\n",
      "  _warn_prf(average, modifier, msg_start, len(result))\n"
     ]
    }
   ],
   "source": [
    "scores['SVC'] = check_model_perf(SVC(), X_train, y_train, X_test, y_test)"
   ]
  },
  {
   "cell_type": "code",
   "execution_count": 44,
   "metadata": {
    "ExecuteTime": {
     "end_time": "2020-06-24T17:03:23.067026Z",
     "start_time": "2020-06-24T17:03:22.893813Z"
    }
   },
   "outputs": [
    {
     "name": "stdout",
     "output_type": "stream",
     "text": [
      "<class 'sklearn.neighbors._classification.KNeighborsClassifier'>\n",
      "================================================================================\n",
      "True Possitives  :\t1\n",
      "True Negatives   :\t166\n",
      "False Possitives :\t3\n",
      "False Negatives  :\t30\n",
      "AUC Score : 0.507253292613094\n"
     ]
    },
    {
     "data": {
      "image/png": "[encoded data removed]",
      "text/plain": [
       "<Figure size 432x288 with 1 Axes>"
      ]
     },
     "metadata": {
      "needs_background": "light"
     },
     "output_type": "display_data"
    },
    {
     "name": "stdout",
     "output_type": "stream",
     "text": [
      "Accuracy score: 0.835\n",
      "----------------------------------------\n",
      "              precision    recall  f1-score   support\n",
      "\n",
      "           0       0.85      0.98      0.91       169\n",
      "           1       0.25      0.03      0.06        31\n",
      "\n",
      "    accuracy                           0.83       200\n",
      "   macro avg       0.55      0.51      0.48       200\n",
      "weighted avg       0.75      0.83      0.78       200\n",
      "\n",
      "\n",
      "\n"
     ]
    }
   ],
   "source": [
    "scores['KNN'] = check_model_perf(KNeighborsClassifier(n_neighbors = 3), X_train, y_train, X_test, y_test)"
   ]
  },
  {
   "cell_type": "code",
   "execution_count": 96,
   "metadata": {
    "ExecuteTime": {
     "end_time": "2020-06-24T17:29:02.677089Z",
     "start_time": "2020-06-24T17:29:02.665841Z"
    }
   },
   "outputs": [
    {
     "data": {
      "text/html": [
       "<div>\n",
       "<style scoped>\n",
       "    .dataframe tbody tr th:only-of-type {\n",
       "        vertical-align: middle;\n",
       "    }\n",
       "\n",
       "    .dataframe tbody tr th {\n",
       "        vertical-align: top;\n",
       "    }\n",
       "\n",
       "    .dataframe thead th {\n",
       "        text-align: right;\n",
       "    }\n",
       "</style>\n",
       "<table border=\"1\" class=\"dataframe\">\n",
       "  <thead>\n",
       "    <tr style=\"text-align: right;\">\n",
       "      <th></th>\n",
       "      <th>AUC Score</th>\n",
       "    </tr>\n",
       "  </thead>\n",
       "  <tbody>\n",
       "    <tr>\n",
       "      <th>AdaBoost</th>\n",
       "      <td>0.640580</td>\n",
       "    </tr>\n",
       "    <tr>\n",
       "      <th>DecisionTree</th>\n",
       "      <td>0.634377</td>\n",
       "    </tr>\n",
       "    <tr>\n",
       "      <th>RandomForest</th>\n",
       "      <td>0.593816</td>\n",
       "    </tr>\n",
       "    <tr>\n",
       "      <th>KNN</th>\n",
       "      <td>0.507253</td>\n",
       "    </tr>\n",
       "    <tr>\n",
       "      <th>SVC</th>\n",
       "      <td>0.500000</td>\n",
       "    </tr>\n",
       "    <tr>\n",
       "      <th>Logistic</th>\n",
       "      <td>0.500000</td>\n",
       "    </tr>\n",
       "    <tr>\n",
       "      <th>SGDCalssifer</th>\n",
       "      <td>0.421359</td>\n",
       "    </tr>\n",
       "  </tbody>\n",
       "</table>\n",
       "</div>"
      ],
      "text/plain": [
       "              AUC Score\n",
       "AdaBoost       0.640580\n",
       "DecisionTree   0.634377\n",
       "RandomForest   0.593816\n",
       "KNN            0.507253\n",
       "SVC            0.500000\n",
       "Logistic       0.500000\n",
       "SGDCalssifer   0.421359"
      ]
     },
     "execution_count": 96,
     "metadata": {},
     "output_type": "execute_result"
    }
   ],
   "source": [
    "pd.DataFrame.from_dict(scores, orient='index', columns=['AUC Score']).sort_values(by=['AUC Score'], ascending=False)"
   ]
  },
  {
   "cell_type": "code",
   "execution_count": 218,
   "metadata": {
    "ExecuteTime": {
     "end_time": "2020-06-24T18:06:55.987656Z",
     "start_time": "2020-06-24T18:06:39.553583Z"
    }
   },
   "outputs": [
    {
     "data": {
      "text/plain": [
       "array([0.94463649, 0.97289438, 0.96257888, 0.94516307, 0.98286346,\n",
       "       0.9581893 , 0.9522085 , 0.97251029, 0.96263129, 0.95522388])"
      ]
     },
     "execution_count": 218,
     "metadata": {},
     "output_type": "execute_result"
    }
   ],
   "source": [
    "scores = cross_val_score(RandomForestClassifier(max_features=0.9,n_estimators = 400, oob_score = True, max_depth=9), X_train, y_train, scoring='roc_auc', cv=cv)\n",
    "scores"
   ]
  },
  {
   "cell_type": "code",
   "execution_count": 217,
   "metadata": {
    "ExecuteTime": {
     "end_time": "2020-06-24T18:06:37.043469Z",
     "start_time": "2020-06-24T18:06:20.367359Z"
    }
   },
   "outputs": [
    {
     "data": {
      "text/plain": [
       "array([0.84444444, 0.80740741, 0.88148148, 0.8358209 , 0.8962963 ,\n",
       "       0.84444444, 0.84444444, 0.88148148, 0.87313433, 0.83703704])"
      ]
     },
     "execution_count": 217,
     "metadata": {},
     "output_type": "execute_result"
    }
   ],
   "source": [
    "scores = cross_val_score(RandomForestClassifier(max_features=0.9,n_estimators = 400, oob_score = True, max_depth=9), X_train, y_train, scoring='recall', cv=cv)\n",
    "scores"
   ]
  },
  {
   "cell_type": "markdown",
   "metadata": {},
   "source": [
    "### Models_for_submission"
   ]
  },
  {
   "cell_type": "code",
   "execution_count": 120,
   "metadata": {
    "ExecuteTime": {
     "end_time": "2020-06-21T08:56:07.708862Z",
     "start_time": "2020-06-21T08:56:07.567499Z"
    }
   },
   "outputs": [
    {
     "name": "stdout",
     "output_type": "stream",
     "text": [
      "mkdir: models: File exists\r\n"
     ]
    }
   ],
   "source": [
    "!mkdir models"
   ]
  },
  {
   "cell_type": "code",
   "execution_count": 219,
   "metadata": {
    "ExecuteTime": {
     "end_time": "2020-06-24T18:07:29.393517Z",
     "start_time": "2020-06-24T18:07:27.406043Z"
    }
   },
   "outputs": [],
   "source": [
    "model = RandomForestClassifier(max_features=0.9,n_estimators = 400, oob_score = True, max_depth=9)\n",
    "model.fit(X_train, y_train)\n",
    "pkl_filename = \"models/RandomForest.pkl\"\n",
    "with open(pkl_filename, 'wb') as file:\n",
    "    pickle.dump(model, file)"
   ]
  },
  {
   "cell_type": "code",
   "execution_count": 49,
   "metadata": {
    "ExecuteTime": {
     "end_time": "2020-06-20T16:56:03.325543Z",
     "start_time": "2020-06-20T16:56:03.314390Z"
    }
   },
   "outputs": [],
   "source": [
    "model = DecisionTreeClassifier(criterion='gini', max_features = 'auto', splitter='best')\n",
    "model.fit(X_train, y_train)\n",
    "pkl_filename = \"models/DecisionTree.pkl\"\n",
    "with open(pkl_filename, 'wb') as file:\n",
    "    pickle.dump(model, file)"
   ]
  },
  {
   "cell_type": "code",
   "execution_count": 50,
   "metadata": {
    "ExecuteTime": {
     "end_time": "2020-06-20T16:56:04.537926Z",
     "start_time": "2020-06-20T16:56:04.334345Z"
    }
   },
   "outputs": [],
   "source": [
    "model = AdaBoostClassifier(n_estimators = 100, learning_rate=0.9)\n",
    "model.fit(X_train, y_train)\n",
    "pkl_filename = \"models/Adaboost.pkl\"\n",
    "with open(pkl_filename, 'wb') as file:\n",
    "    pickle.dump(model, file)"
   ]
  }
 ],
 "metadata": {
  "kernelspec": {
   "display_name": "Python 3",
   "language": "python",
   "name": "python3"
  },
  "language_info": {
   "codemirror_mode": {
    "name": "ipython",
    "version": 3
   },
   "file_extension": ".py",
   "mimetype": "text/x-python",
   "name": "python",
   "nbconvert_exporter": "python",
   "pygments_lexer": "ipython3",
   "version": "3.7.7"
  },
  "varInspector": {
   "cols": {
    "lenName": 16,
    "lenType": 16,
    "lenVar": 40
   },
   "kernels_config": {
    "python": {
     "delete_cmd_postfix": "",
     "delete_cmd_prefix": "del ",
     "library": "var_list.py",
     "varRefreshCmd": "print(var_dic_list())"
    },
    "r": {
     "delete_cmd_postfix": ") ",
     "delete_cmd_prefix": "rm(",
     "library": "var_list.r",
     "varRefreshCmd": "cat(var_dic_list()) "
    }
   },
   "types_to_exclude": [
    "module",
    "function",
    "builtin_function_or_method",
    "instance",
    "_Feature"
   ],
   "window_display": false
  }
 },
 "nbformat": 4,
 "nbformat_minor": 4
}
