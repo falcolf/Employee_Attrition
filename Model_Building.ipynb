{
 "cells": [
  {
   "cell_type": "code",
   "execution_count": 1,
   "metadata": {
    "ExecuteTime": {
     "end_time": "2020-06-20T16:37:52.675192Z",
     "start_time": "2020-06-20T16:37:52.018065Z"
    }
   },
   "outputs": [],
   "source": [
    "import pandas as pd\n",
    "import numpy as np\n",
    "import matplotlib.pyplot as plt\n",
    "import seaborn as sns\n",
    "%matplotlib inline\n",
    "import json\n",
    "import pickle"
   ]
  },
  {
   "cell_type": "code",
   "execution_count": 2,
   "metadata": {
    "ExecuteTime": {
     "end_time": "2020-06-20T16:37:52.730097Z",
     "start_time": "2020-06-20T16:37:52.707857Z"
    }
   },
   "outputs": [
    {
     "data": {
      "text/plain": [
       "(1628, 29)"
      ]
     },
     "execution_count": 2,
     "metadata": {},
     "output_type": "execute_result"
    }
   ],
   "source": [
    "df = pd.read_csv('data/train.csv')\n",
    "df.shape"
   ]
  },
  {
   "cell_type": "code",
   "execution_count": 3,
   "metadata": {
    "ExecuteTime": {
     "end_time": "2020-06-20T16:37:53.442246Z",
     "start_time": "2020-06-20T16:37:53.436159Z"
    }
   },
   "outputs": [
    {
     "data": {
      "text/plain": [
       "Index(['Id', 'Age', 'Attrition', 'BusinessTravel', 'Department',\n",
       "       'DistanceFromHome', 'Education', 'EducationField', 'EmployeeNumber',\n",
       "       'EnvironmentSatisfaction', 'Gender', 'JobInvolvement', 'JobRole',\n",
       "       'JobSatisfaction', 'MaritalStatus', 'MonthlyIncome',\n",
       "       'NumCompaniesWorked', 'OverTime', 'PercentSalaryHike',\n",
       "       'PerformanceRating', 'StockOptionLevel', 'TotalWorkingYears',\n",
       "       'TrainingTimesLastYear', 'YearsAtCompany', 'YearsInCurrentRole',\n",
       "       'YearsSinceLastPromotion', 'YearsWithCurrManager', 'CommunicationSkill',\n",
       "       'Behaviour'],\n",
       "      dtype='object')"
      ]
     },
     "execution_count": 3,
     "metadata": {},
     "output_type": "execute_result"
    }
   ],
   "source": [
    "df.columns"
   ]
  },
  {
   "cell_type": "markdown",
   "metadata": {},
   "source": [
    "### Feature Engineering"
   ]
  },
  {
   "cell_type": "code",
   "execution_count": 4,
   "metadata": {
    "ExecuteTime": {
     "end_time": "2020-06-20T16:37:54.131180Z",
     "start_time": "2020-06-20T16:37:54.123038Z"
    }
   },
   "outputs": [],
   "source": [
    "def extract_feature(df_input):\n",
    "    df = df_input.copy()\n",
    "    df['OwnStocks'] = df.StockOptionLevel.apply(lambda x: 0 if x == 0 else 1)\n",
    "    df['PropWorkLife'] = df.TotalWorkingYears / df.Age\n",
    "    df['PropExpComp'] = df.TotalWorkingYears / (df.NumCompaniesWorked+1)\n",
    "    cols_to_drop = [\n",
    "                    'Id',\n",
    "                    'Behaviour',\n",
    "                    'PerformanceRating',\n",
    "                    'Gender',\n",
    "                    'Education', \n",
    "                    'Department',\n",
    "                    'EmployeeNumber',\n",
    "                    'PercentSalaryHike',\n",
    "                    'YearsInCurrentRole',\n",
    "                    'YearsSinceLastPromotion',\n",
    "                    'YearsWithCurrManager',\n",
    "                    'JobInvolvement',\n",
    "                    'EducationField',\n",
    "                    'YearsAtCompany',\n",
    "                    'Age',\n",
    "                    'StockOptionLevel',\n",
    "                    'TotalWorkingYears',\n",
    "                    'NumCompaniesWorked',\n",
    "                    'MonthlyIncome'\n",
    "                  ]\n",
    "    df.drop(cols_to_drop, inplace = True, axis = 1)\n",
    "    print('Columns Dropped : {}'.format(cols_to_drop))\n",
    "    print('Columns in DataFrame: {}'.format(df.columns.to_list()))\n",
    "    return df"
   ]
  },
  {
   "cell_type": "code",
   "execution_count": 5,
   "metadata": {
    "ExecuteTime": {
     "end_time": "2020-06-20T16:37:54.638355Z",
     "start_time": "2020-06-20T16:37:54.623898Z"
    }
   },
   "outputs": [
    {
     "name": "stdout",
     "output_type": "stream",
     "text": [
      "Columns Dropped : ['Id', 'Behaviour', 'PerformanceRating', 'Gender', 'Education', 'Department', 'EmployeeNumber', 'PercentSalaryHike', 'YearsInCurrentRole', 'YearsSinceLastPromotion', 'YearsWithCurrManager', 'JobInvolvement', 'EducationField', 'YearsAtCompany', 'Age', 'StockOptionLevel', 'TotalWorkingYears', 'NumCompaniesWorked', 'MonthlyIncome']\n",
      "Columns in DataFrame: ['Attrition', 'BusinessTravel', 'DistanceFromHome', 'EnvironmentSatisfaction', 'JobRole', 'JobSatisfaction', 'MaritalStatus', 'OverTime', 'TrainingTimesLastYear', 'CommunicationSkill', 'OwnStocks', 'PropWorkLife', 'PropExpComp']\n"
     ]
    }
   ],
   "source": [
    "df_cleaned = extract_feature(df)"
   ]
  },
  {
   "cell_type": "markdown",
   "metadata": {},
   "source": [
    "### Preprocessing and Model Building Init"
   ]
  },
  {
   "cell_type": "code",
   "execution_count": 6,
   "metadata": {
    "ExecuteTime": {
     "end_time": "2020-06-20T16:37:55.348754Z",
     "start_time": "2020-06-20T16:37:55.335770Z"
    }
   },
   "outputs": [
    {
     "data": {
      "text/plain": [
       "(1000, 13)"
      ]
     },
     "execution_count": 6,
     "metadata": {},
     "output_type": "execute_result"
    }
   ],
   "source": [
    "df_cleaned.drop_duplicates(inplace=True)\n",
    "df_cleaned.shape"
   ]
  },
  {
   "cell_type": "code",
   "execution_count": 7,
   "metadata": {
    "ExecuteTime": {
     "end_time": "2020-06-20T16:37:55.749091Z",
     "start_time": "2020-06-20T16:37:55.742984Z"
    }
   },
   "outputs": [],
   "source": [
    "df_X = df_cleaned.drop(['Attrition'], axis = 1).copy()\n",
    "df_y = df_cleaned[['Attrition']].copy()"
   ]
  },
  {
   "cell_type": "code",
   "execution_count": 8,
   "metadata": {
    "ExecuteTime": {
     "end_time": "2020-06-20T16:37:56.203605Z",
     "start_time": "2020-06-20T16:37:56.187710Z"
    }
   },
   "outputs": [
    {
     "data": {
      "text/plain": [
       "[0, 3, 5, 6]"
      ]
     },
     "execution_count": 8,
     "metadata": {},
     "output_type": "execute_result"
    }
   ],
   "source": [
    "object_type = df_X.select_dtypes(include='object').columns\n",
    "object_type\n",
    "\n",
    "numerical_type = df_X.select_dtypes(exclude='object').columns\n",
    "numerical_type\n",
    "\n",
    "cat_cols = []\n",
    "for c in object_type:\n",
    "    cat_cols.append(df_X.columns.to_list().index(c))\n",
    "    \n",
    "cat_cols"
   ]
  },
  {
   "cell_type": "code",
   "execution_count": 9,
   "metadata": {
    "ExecuteTime": {
     "end_time": "2020-06-20T16:37:56.623097Z",
     "start_time": "2020-06-20T16:37:56.607059Z"
    }
   },
   "outputs": [
    {
     "data": {
      "text/html": [
       "<div>\n",
       "<style scoped>\n",
       "    .dataframe tbody tr th:only-of-type {\n",
       "        vertical-align: middle;\n",
       "    }\n",
       "\n",
       "    .dataframe tbody tr th {\n",
       "        vertical-align: top;\n",
       "    }\n",
       "\n",
       "    .dataframe thead th {\n",
       "        text-align: right;\n",
       "    }\n",
       "</style>\n",
       "<table border=\"1\" class=\"dataframe\">\n",
       "  <thead>\n",
       "    <tr style=\"text-align: right;\">\n",
       "      <th></th>\n",
       "      <th>BusinessTravel</th>\n",
       "      <th>DistanceFromHome</th>\n",
       "      <th>EnvironmentSatisfaction</th>\n",
       "      <th>JobRole</th>\n",
       "      <th>JobSatisfaction</th>\n",
       "      <th>MaritalStatus</th>\n",
       "      <th>OverTime</th>\n",
       "      <th>TrainingTimesLastYear</th>\n",
       "      <th>CommunicationSkill</th>\n",
       "      <th>OwnStocks</th>\n",
       "      <th>PropWorkLife</th>\n",
       "      <th>PropExpComp</th>\n",
       "    </tr>\n",
       "  </thead>\n",
       "  <tbody>\n",
       "    <tr>\n",
       "      <th>0</th>\n",
       "      <td>Non-Travel</td>\n",
       "      <td>2</td>\n",
       "      <td>3</td>\n",
       "      <td>Laboratory Technician</td>\n",
       "      <td>4</td>\n",
       "      <td>Single</td>\n",
       "      <td>No</td>\n",
       "      <td>2</td>\n",
       "      <td>4</td>\n",
       "      <td>0</td>\n",
       "      <td>0.400000</td>\n",
       "      <td>12.00</td>\n",
       "    </tr>\n",
       "    <tr>\n",
       "      <th>1</th>\n",
       "      <td>Travel_Rarely</td>\n",
       "      <td>12</td>\n",
       "      <td>3</td>\n",
       "      <td>Manufacturing Director</td>\n",
       "      <td>3</td>\n",
       "      <td>Married</td>\n",
       "      <td>Yes</td>\n",
       "      <td>2</td>\n",
       "      <td>2</td>\n",
       "      <td>1</td>\n",
       "      <td>0.194444</td>\n",
       "      <td>0.70</td>\n",
       "    </tr>\n",
       "    <tr>\n",
       "      <th>2</th>\n",
       "      <td>Travel_Rarely</td>\n",
       "      <td>2</td>\n",
       "      <td>3</td>\n",
       "      <td>Sales Executive</td>\n",
       "      <td>4</td>\n",
       "      <td>Single</td>\n",
       "      <td>No</td>\n",
       "      <td>3</td>\n",
       "      <td>5</td>\n",
       "      <td>0</td>\n",
       "      <td>0.218182</td>\n",
       "      <td>2.40</td>\n",
       "    </tr>\n",
       "    <tr>\n",
       "      <th>3</th>\n",
       "      <td>Travel_Rarely</td>\n",
       "      <td>24</td>\n",
       "      <td>1</td>\n",
       "      <td>Research Scientist</td>\n",
       "      <td>4</td>\n",
       "      <td>Single</td>\n",
       "      <td>No</td>\n",
       "      <td>2</td>\n",
       "      <td>4</td>\n",
       "      <td>0</td>\n",
       "      <td>0.461538</td>\n",
       "      <td>2.25</td>\n",
       "    </tr>\n",
       "    <tr>\n",
       "      <th>4</th>\n",
       "      <td>Travel_Rarely</td>\n",
       "      <td>3</td>\n",
       "      <td>3</td>\n",
       "      <td>Manufacturing Director</td>\n",
       "      <td>3</td>\n",
       "      <td>Married</td>\n",
       "      <td>No</td>\n",
       "      <td>2</td>\n",
       "      <td>1</td>\n",
       "      <td>1</td>\n",
       "      <td>0.270270</td>\n",
       "      <td>5.00</td>\n",
       "    </tr>\n",
       "  </tbody>\n",
       "</table>\n",
       "</div>"
      ],
      "text/plain": [
       "  BusinessTravel  DistanceFromHome  EnvironmentSatisfaction  \\\n",
       "0     Non-Travel                 2                        3   \n",
       "1  Travel_Rarely                12                        3   \n",
       "2  Travel_Rarely                 2                        3   \n",
       "3  Travel_Rarely                24                        1   \n",
       "4  Travel_Rarely                 3                        3   \n",
       "\n",
       "                  JobRole  JobSatisfaction MaritalStatus OverTime  \\\n",
       "0   Laboratory Technician                4        Single       No   \n",
       "1  Manufacturing Director                3       Married      Yes   \n",
       "2         Sales Executive                4        Single       No   \n",
       "3      Research Scientist                4        Single       No   \n",
       "4  Manufacturing Director                3       Married       No   \n",
       "\n",
       "   TrainingTimesLastYear  CommunicationSkill  OwnStocks  PropWorkLife  \\\n",
       "0                      2                   4          0      0.400000   \n",
       "1                      2                   2          1      0.194444   \n",
       "2                      3                   5          0      0.218182   \n",
       "3                      2                   4          0      0.461538   \n",
       "4                      2                   1          1      0.270270   \n",
       "\n",
       "   PropExpComp  \n",
       "0        12.00  \n",
       "1         0.70  \n",
       "2         2.40  \n",
       "3         2.25  \n",
       "4         5.00  "
      ]
     },
     "execution_count": 9,
     "metadata": {},
     "output_type": "execute_result"
    }
   ],
   "source": [
    "df_X.head()"
   ]
  },
  {
   "cell_type": "code",
   "execution_count": 10,
   "metadata": {
    "ExecuteTime": {
     "end_time": "2020-06-20T16:37:59.182823Z",
     "start_time": "2020-06-20T16:37:59.173619Z"
    }
   },
   "outputs": [
    {
     "data": {
      "text/plain": [
       "BusinessTravel              object\n",
       "DistanceFromHome             int64\n",
       "EnvironmentSatisfaction      int64\n",
       "JobRole                     object\n",
       "JobSatisfaction              int64\n",
       "MaritalStatus               object\n",
       "OverTime                    object\n",
       "TrainingTimesLastYear        int64\n",
       "CommunicationSkill           int64\n",
       "OwnStocks                    int64\n",
       "PropWorkLife               float64\n",
       "PropExpComp                float64\n",
       "dtype: object"
      ]
     },
     "execution_count": 10,
     "metadata": {},
     "output_type": "execute_result"
    }
   ],
   "source": [
    "df_X.dtypes"
   ]
  },
  {
   "cell_type": "code",
   "execution_count": 12,
   "metadata": {
    "ExecuteTime": {
     "end_time": "2020-06-20T16:38:03.853948Z",
     "start_time": "2020-06-20T16:38:03.836932Z"
    }
   },
   "outputs": [],
   "source": [
    "df_X_cat = pd.get_dummies(df_X.iloc[:,cat_cols], drop_first=True)\n",
    "df_X_num = df_X.loc[:, numerical_type]\n",
    "df_X_final = pd.concat((df_X_num, df_X_cat), axis= 1)"
   ]
  },
  {
   "cell_type": "code",
   "execution_count": 13,
   "metadata": {
    "ExecuteTime": {
     "end_time": "2020-06-20T16:38:05.086260Z",
     "start_time": "2020-06-20T16:38:05.079575Z"
    }
   },
   "outputs": [
    {
     "data": {
      "text/plain": [
       "Index(['DistanceFromHome', 'EnvironmentSatisfaction', 'JobSatisfaction',\n",
       "       'TrainingTimesLastYear', 'CommunicationSkill', 'OwnStocks',\n",
       "       'PropWorkLife', 'PropExpComp', 'BusinessTravel_Travel_Frequently',\n",
       "       'BusinessTravel_Travel_Rarely', 'JobRole_Human Resources',\n",
       "       'JobRole_Laboratory Technician', 'JobRole_Manager',\n",
       "       'JobRole_Manufacturing Director', 'JobRole_Research Director',\n",
       "       'JobRole_Research Scientist', 'JobRole_Sales Executive',\n",
       "       'JobRole_Sales Representative', 'MaritalStatus_Married',\n",
       "       'MaritalStatus_Single', 'OverTime_Yes'],\n",
       "      dtype='object')"
      ]
     },
     "execution_count": 13,
     "metadata": {},
     "output_type": "execute_result"
    }
   ],
   "source": [
    "df_X_final.columns"
   ]
  },
  {
   "cell_type": "code",
   "execution_count": 14,
   "metadata": {
    "ExecuteTime": {
     "end_time": "2020-06-20T16:38:06.916046Z",
     "start_time": "2020-06-20T16:38:06.908852Z"
    }
   },
   "outputs": [],
   "source": [
    "final_cols = df_X_final.columns.values"
   ]
  },
  {
   "cell_type": "code",
   "execution_count": 15,
   "metadata": {
    "ExecuteTime": {
     "end_time": "2020-06-20T16:38:07.445492Z",
     "start_time": "2020-06-20T16:38:07.312375Z"
    }
   },
   "outputs": [
    {
     "data": {
      "text/plain": [
       "<matplotlib.axes._subplots.AxesSubplot at 0x11cc2d5d0>"
      ]
     },
     "execution_count": 15,
     "metadata": {},
     "output_type": "execute_result"
    },
    {
     "data": {
      "image/png": "[encoded data removed]",
      "text/plain": [
       "<Figure size 432x288 with 1 Axes>"
      ]
     },
     "metadata": {
      "needs_background": "light"
     },
     "output_type": "display_data"
    }
   ],
   "source": [
    "sns.countplot(df_y.Attrition)"
   ]
  },
  {
   "cell_type": "code",
   "execution_count": 16,
   "metadata": {
    "ExecuteTime": {
     "end_time": "2020-06-20T16:38:08.121416Z",
     "start_time": "2020-06-20T16:38:08.064057Z"
    }
   },
   "outputs": [],
   "source": [
    "from sklearn.model_selection import train_test_split\n",
    "from sklearn.model_selection import StratifiedShuffleSplit\n",
    "from sklearn.preprocessing import StandardScaler\n",
    "#df_X_final = df_X_final.values\n",
    "#df_y = df_y.values\n",
    "X_train,X_test,y_train,y_test = train_test_split(df_X_final, df_y, test_size=0.15, random_state = 0, stratify=df_y)"
   ]
  },
  {
   "cell_type": "code",
   "execution_count": 17,
   "metadata": {
    "ExecuteTime": {
     "end_time": "2020-06-20T16:38:08.983594Z",
     "start_time": "2020-06-20T16:38:08.871072Z"
    }
   },
   "outputs": [
    {
     "data": {
      "text/plain": [
       "<matplotlib.axes._subplots.AxesSubplot at 0x12017bd50>"
      ]
     },
     "execution_count": 17,
     "metadata": {},
     "output_type": "execute_result"
    },
    {
     "data": {
      "image/png": "[encoded data removed]",
      "text/plain": [
       "<Figure size 432x288 with 1 Axes>"
      ]
     },
     "metadata": {
      "needs_background": "light"
     },
     "output_type": "display_data"
    }
   ],
   "source": [
    "sns.countplot(y_train.Attrition)"
   ]
  },
  {
   "cell_type": "code",
   "execution_count": 18,
   "metadata": {
    "ExecuteTime": {
     "end_time": "2020-06-20T16:38:12.285560Z",
     "start_time": "2020-06-20T16:38:12.167857Z"
    }
   },
   "outputs": [
    {
     "data": {
      "text/plain": [
       "<matplotlib.axes._subplots.AxesSubplot at 0x120225290>"
      ]
     },
     "execution_count": 18,
     "metadata": {},
     "output_type": "execute_result"
    },
    {
     "data": {
      "image/png": "[encoded data removed]",
      "text/plain": [
       "<Figure size 432x288 with 1 Axes>"
      ]
     },
     "metadata": {
      "needs_background": "light"
     },
     "output_type": "display_data"
    }
   ],
   "source": [
    "sns.countplot(y_test.Attrition)"
   ]
  },
  {
   "cell_type": "code",
   "execution_count": 19,
   "metadata": {
    "ExecuteTime": {
     "end_time": "2020-06-20T16:38:14.333512Z",
     "start_time": "2020-06-20T16:38:14.329072Z"
    }
   },
   "outputs": [],
   "source": [
    "X_train,X_test,y_train,y_test = X_train.values,X_test.values,y_train.values,y_test.values"
   ]
  },
  {
   "cell_type": "code",
   "execution_count": 20,
   "metadata": {
    "ExecuteTime": {
     "end_time": "2020-06-20T16:38:22.448169Z",
     "start_time": "2020-06-20T16:38:16.211304Z"
    }
   },
   "outputs": [
    {
     "name": "stderr",
     "output_type": "stream",
     "text": [
      "Using TensorFlow backend.\n"
     ]
    }
   ],
   "source": [
    "from imblearn.over_sampling import SMOTE, ADASYN, SVMSMOTE, RandomOverSampler\n",
    "from imblearn.under_sampling import RandomUnderSampler\n",
    "from imblearn.combine import SMOTETomek"
   ]
  },
  {
   "cell_type": "code",
   "execution_count": 21,
   "metadata": {
    "ExecuteTime": {
     "end_time": "2020-06-20T16:38:22.721406Z",
     "start_time": "2020-06-20T16:38:22.694775Z"
    }
   },
   "outputs": [],
   "source": [
    "#sampler1 = SMOTE(sampling_strategy= 0.7)\n",
    "sampler1 = RandomOverSampler(sampling_strategy=0.4)\n",
    "#sampler1 = SVMSMOTE(sampling_strategy= 0.8)\n",
    "#sampler2 = ADASYN()\n",
    "#sampler2 = RandomUnderSampler(sampling_strategy=0.8)\n",
    "\n",
    "#X_train, y_train = oversampler_1.fit_resample(X_train, y_train)\n",
    "X_train, y_train = sampler1.fit_resample(X_train, y_train)\n",
    "\n",
    "sampler = SMOTETomek(sampling_strategy=0.9)\n",
    "X_train, y_train = sampler.fit_resample(X_train, y_train)"
   ]
  },
  {
   "cell_type": "code",
   "execution_count": 22,
   "metadata": {
    "ExecuteTime": {
     "end_time": "2020-06-20T16:38:22.964457Z",
     "start_time": "2020-06-20T16:38:22.959281Z"
    }
   },
   "outputs": [],
   "source": [
    "y_train, y_test = y_train.ravel(), y_test.ravel()"
   ]
  },
  {
   "cell_type": "code",
   "execution_count": 23,
   "metadata": {
    "ExecuteTime": {
     "end_time": "2020-06-20T16:38:23.360720Z",
     "start_time": "2020-06-20T16:38:23.221183Z"
    }
   },
   "outputs": [
    {
     "data": {
      "text/plain": [
       "<matplotlib.axes._subplots.AxesSubplot at 0x13d589a10>"
      ]
     },
     "execution_count": 23,
     "metadata": {},
     "output_type": "execute_result"
    },
    {
     "data": {
      "image/png": "[encoded data removed]",
      "text/plain": [
       "<Figure size 432x288 with 1 Axes>"
      ]
     },
     "metadata": {
      "needs_background": "light"
     },
     "output_type": "display_data"
    }
   ],
   "source": [
    "sns.countplot(y_train)"
   ]
  },
  {
   "cell_type": "code",
   "execution_count": 24,
   "metadata": {
    "ExecuteTime": {
     "end_time": "2020-06-20T16:38:28.822805Z",
     "start_time": "2020-06-20T16:38:28.806520Z"
    }
   },
   "outputs": [],
   "source": [
    "from sklearn.model_selection import RepeatedStratifiedKFold\n",
    "from sklearn.ensemble import RandomForestClassifier\n",
    "from sklearn.ensemble import AdaBoostClassifier\n",
    "from sklearn.tree import DecisionTreeClassifier\n",
    "from sklearn.linear_model import LogisticRegression\n",
    "from sklearn.linear_model import SGDClassifier\n",
    "from sklearn.svm import SVC\n",
    "from sklearn.neural_network import MLPClassifier\n",
    "from sklearn.model_selection import cross_val_score\n",
    "from sklearn import metrics\n",
    "from sklearn.model_selection import GridSearchCV\n",
    "from sklearn.svm import SVC"
   ]
  },
  {
   "cell_type": "markdown",
   "metadata": {},
   "source": [
    "### Building A few Models with CV"
   ]
  },
  {
   "cell_type": "code",
   "execution_count": 25,
   "metadata": {
    "ExecuteTime": {
     "end_time": "2020-06-20T16:38:34.316021Z",
     "start_time": "2020-06-20T16:38:34.310830Z"
    }
   },
   "outputs": [],
   "source": [
    "cv = RepeatedStratifiedKFold(n_splits= 5, n_repeats=3, random_state=1)"
   ]
  },
  {
   "cell_type": "code",
   "execution_count": 27,
   "metadata": {
    "ExecuteTime": {
     "end_time": "2020-06-20T16:47:16.559568Z",
     "start_time": "2020-06-20T16:39:09.625522Z"
    }
   },
   "outputs": [
    {
     "name": "stdout",
     "output_type": "stream",
     "text": [
      "{'max_features': 'auto', 'n_estimators': 300, 'oob_score': False}\n",
      "0.9870158877197295\n"
     ]
    }
   ],
   "source": [
    "gsc = GridSearchCV(\n",
    "        estimator=RandomForestClassifier(),\n",
    "        param_grid={\n",
    "            'n_estimators': [50,70,100,200,300,400,500,1000],\n",
    "            'max_features': ['log2','auto','None',0.4,0.5,0.7,0.8],\n",
    "            'oob_score': [True, False]\n",
    "        },\n",
    "        cv=cv, scoring='roc_auc', verbose=0, n_jobs=-1)\n",
    "\n",
    "grid_result = gsc.fit(X_train, y_train)\n",
    "print(grid_result.best_params_)\n",
    "print(grid_result.best_score_)"
   ]
  },
  {
   "cell_type": "code",
   "execution_count": 28,
   "metadata": {
    "ExecuteTime": {
     "end_time": "2020-06-20T16:48:15.240069Z",
     "start_time": "2020-06-20T16:48:14.965221Z"
    }
   },
   "outputs": [
    {
     "name": "stdout",
     "output_type": "stream",
     "text": [
      "{'criterion': 'gini', 'max_features': 'auto', 'splitter': 'best'}\n",
      "0.8985191124805337\n"
     ]
    }
   ],
   "source": [
    "gsc = GridSearchCV(\n",
    "        estimator=DecisionTreeClassifier(),\n",
    "        param_grid={\n",
    "            'criterion': ['gini','entropy'],\n",
    "            'splitter': ['best','random'],\n",
    "            'max_features': ['log2','auto','None']\n",
    "        },\n",
    "        cv=cv, scoring='roc_auc', verbose=0, n_jobs=-1)\n",
    "\n",
    "grid_result = gsc.fit(X_train, y_train)\n",
    "print(grid_result.best_params_)\n",
    "print(grid_result.best_score_)"
   ]
  },
  {
   "cell_type": "code",
   "execution_count": 29,
   "metadata": {
    "ExecuteTime": {
     "end_time": "2020-06-20T16:48:52.745043Z",
     "start_time": "2020-06-20T16:48:37.543507Z"
    }
   },
   "outputs": [
    {
     "name": "stdout",
     "output_type": "stream",
     "text": [
      "{'learning_rate': 0.9, 'n_estimators': 100}\n",
      "0.9153901510459098\n"
     ]
    }
   ],
   "source": [
    "gsc = GridSearchCV(\n",
    "        estimator=AdaBoostClassifier(),\n",
    "        param_grid={\n",
    "            'n_estimators': [50,60,80,100],\n",
    "            'learning_rate': [0.7,0.8,0.9,1]\n",
    "        },\n",
    "        cv=cv, scoring='roc_auc', verbose=0, n_jobs=-1)\n",
    "\n",
    "grid_result = gsc.fit(X_train, y_train)\n",
    "print(grid_result.best_params_)\n",
    "print(grid_result.best_score_)"
   ]
  },
  {
   "cell_type": "code",
   "execution_count": 32,
   "metadata": {
    "ExecuteTime": {
     "end_time": "2020-06-20T16:50:29.237820Z",
     "start_time": "2020-06-20T16:50:19.449627Z"
    }
   },
   "outputs": [
    {
     "data": {
      "text/plain": [
       "array([0.9906851 , 0.98705201, 0.99620302, 0.96779124, 0.98553037,\n",
       "       0.9883632 , 0.97929414, 0.98524913, 0.99598755, 0.9903169 ,\n",
       "       0.98855441, 0.9845389 , 0.98737981, 0.98313135, 0.99191241])"
      ]
     },
     "execution_count": 32,
     "metadata": {},
     "output_type": "execute_result"
    }
   ],
   "source": [
    "scores = cross_val_score(RandomForestClassifier(n_estimators = 300, max_features='auto', oob_score = True), X_train, y_train, scoring='roc_auc', cv=cv)\n",
    "scores"
   ]
  },
  {
   "cell_type": "code",
   "execution_count": 33,
   "metadata": {
    "ExecuteTime": {
     "end_time": "2020-06-20T16:50:39.128010Z",
     "start_time": "2020-06-20T16:50:39.072352Z"
    }
   },
   "outputs": [
    {
     "data": {
      "text/plain": [
       "array([0.90190669, 0.89182692, 0.87825066, 0.90913309, 0.8740647 ,\n",
       "       0.89491368, 0.87620192, 0.85008741, 0.86616989, 0.88462808,\n",
       "       0.89491368, 0.88914991, 0.91198645, 0.88096408, 0.86003521])"
      ]
     },
     "execution_count": 33,
     "metadata": {},
     "output_type": "execute_result"
    }
   ],
   "source": [
    "scores = cross_val_score(DecisionTreeClassifier(criterion='gini', max_features = 'auto', splitter='best'), X_train, y_train, scoring='roc_auc', cv=cv)\n",
    "scores"
   ]
  },
  {
   "cell_type": "code",
   "execution_count": 34,
   "metadata": {
    "ExecuteTime": {
     "end_time": "2020-06-20T16:50:59.801632Z",
     "start_time": "2020-06-20T16:50:57.080141Z"
    }
   },
   "outputs": [
    {
     "data": {
      "text/plain": [
       "array([0.91335227, 0.90422858, 0.94766171, 0.91019762, 0.89640185,\n",
       "       0.92548077, 0.91794143, 0.9104021 , 0.92924992, 0.90382923,\n",
       "       0.92078234, 0.89521416, 0.92455201, 0.87744295, 0.95411532])"
      ]
     },
     "execution_count": 34,
     "metadata": {},
     "output_type": "execute_result"
    }
   ],
   "source": [
    "scores = cross_val_score(AdaBoostClassifier(n_estimators = 100, learning_rate=0.9), X_train, y_train, scoring='roc_auc', cv=cv)\n",
    "scores"
   ]
  },
  {
   "cell_type": "code",
   "execution_count": 35,
   "metadata": {
    "ExecuteTime": {
     "end_time": "2020-06-20T16:51:10.566376Z",
     "start_time": "2020-06-20T16:51:10.559006Z"
    }
   },
   "outputs": [],
   "source": [
    "def check_model_perf(model, X_train, y_train, X_test, y_test):\n",
    "    model.fit(X_train, y_train)\n",
    "    predictions = model.predict(X_test)\n",
    "    tn, fp, fn, tp = metrics.confusion_matrix(y_test, predictions).ravel()\n",
    "    print(model.__class__)\n",
    "    print('-'*50)\n",
    "    print(\"True Possitives  :\\t{}\\nTrue Negatives   :\\t{}\\nFalse Possitives :\\t{}\\nFalse Negatives  :\\t{}\".format(tp,tn,fp,fn))\n",
    "    auc_score = metrics.roc_auc_score(y_test, predictions)\n",
    "    print(\"AUC Score : {}\".format(auc_score))\n",
    "    fpr, tpr, thresholds = metrics.roc_curve(y_test, predictions)\n",
    "    sns.lineplot(fpr, tpr)\n",
    "    plt.title('ROC Curve')\n",
    "    plt.xlabel('FPR')\n",
    "    plt.ylabel('TPR')\n",
    "    print(\"Accuracy score: {}\".format(metrics.accuracy_score(y_test, predictions)))\n",
    "    print(\"=\"*80)\n",
    "    print(metrics.classification_report(y_test, predictions))\n",
    "    return auc_score"
   ]
  },
  {
   "cell_type": "code",
   "execution_count": 36,
   "metadata": {
    "ExecuteTime": {
     "end_time": "2020-06-20T16:51:12.298284Z",
     "start_time": "2020-06-20T16:51:12.292829Z"
    }
   },
   "outputs": [],
   "source": [
    "scores = dict()"
   ]
  },
  {
   "cell_type": "code",
   "execution_count": 47,
   "metadata": {
    "ExecuteTime": {
     "end_time": "2020-06-20T16:55:07.362455Z",
     "start_time": "2020-06-20T16:55:05.427144Z"
    }
   },
   "outputs": [
    {
     "name": "stdout",
     "output_type": "stream",
     "text": [
      "<class 'sklearn.ensemble._forest.RandomForestClassifier'>\n",
      "--------------------------------------------------\n",
      "True Possitives  :\t8\n",
      "True Negatives   :\t118\n",
      "False Possitives :\t8\n",
      "False Negatives  :\t16\n",
      "AUC Score : 0.6349206349206349\n",
      "Accuracy score: 0.84\n",
      "================================================================================\n",
      "              precision    recall  f1-score   support\n",
      "\n",
      "           0       0.88      0.94      0.91       126\n",
      "           1       0.50      0.33      0.40        24\n",
      "\n",
      "    accuracy                           0.84       150\n",
      "   macro avg       0.69      0.63      0.65       150\n",
      "weighted avg       0.82      0.84      0.83       150\n",
      "\n"
     ]
    },
    {
     "data": {
      "image/png": "[encoded data removed]",
      "text/plain": [
       "<Figure size 432x288 with 1 Axes>"
      ]
     },
     "metadata": {
      "needs_background": "light"
     },
     "output_type": "display_data"
    }
   ],
   "source": [
    "scores['Random Forest'] = check_model_perf(RandomForestClassifier(max_features=0.5, n_estimators = 600, oob_score = True), X_train, y_train, X_test, y_test)"
   ]
  },
  {
   "cell_type": "code",
   "execution_count": 38,
   "metadata": {
    "ExecuteTime": {
     "end_time": "2020-06-20T16:52:26.409784Z",
     "start_time": "2020-06-20T16:52:26.247547Z"
    }
   },
   "outputs": [
    {
     "name": "stdout",
     "output_type": "stream",
     "text": [
      "<class 'sklearn.tree._classes.DecisionTreeClassifier'>\n",
      "--------------------------------------------------\n",
      "True Possitives  :\t7\n",
      "True Negatives   :\t105\n",
      "False Possitives :\t21\n",
      "False Negatives  :\t17\n",
      "AUC Score : 0.5625000000000001\n",
      "Accuracy score: 0.7466666666666667\n",
      "================================================================================\n",
      "              precision    recall  f1-score   support\n",
      "\n",
      "           0       0.86      0.83      0.85       126\n",
      "           1       0.25      0.29      0.27        24\n",
      "\n",
      "    accuracy                           0.75       150\n",
      "   macro avg       0.56      0.56      0.56       150\n",
      "weighted avg       0.76      0.75      0.75       150\n",
      "\n"
     ]
    },
    {
     "data": {
      "image/png": "[encoded data removed]",
      "text/plain": [
       "<Figure size 432x288 with 1 Axes>"
      ]
     },
     "metadata": {
      "needs_background": "light"
     },
     "output_type": "display_data"
    }
   ],
   "source": [
    "scores['Decision Tree'] = check_model_perf(DecisionTreeClassifier(criterion='gini', max_features = 'auto', splitter='best'), X_train, y_train, X_test, y_test)"
   ]
  },
  {
   "cell_type": "code",
   "execution_count": 39,
   "metadata": {
    "ExecuteTime": {
     "end_time": "2020-06-20T16:52:31.076630Z",
     "start_time": "2020-06-20T16:52:30.714583Z"
    }
   },
   "outputs": [
    {
     "name": "stdout",
     "output_type": "stream",
     "text": [
      "<class 'sklearn.ensemble._weight_boosting.AdaBoostClassifier'>\n",
      "--------------------------------------------------\n",
      "True Possitives  :\t15\n",
      "True Negatives   :\t112\n",
      "False Possitives :\t14\n",
      "False Negatives  :\t9\n",
      "AUC Score : 0.7569444444444444\n",
      "Accuracy score: 0.8466666666666667\n",
      "================================================================================\n",
      "              precision    recall  f1-score   support\n",
      "\n",
      "           0       0.93      0.89      0.91       126\n",
      "           1       0.52      0.62      0.57        24\n",
      "\n",
      "    accuracy                           0.85       150\n",
      "   macro avg       0.72      0.76      0.74       150\n",
      "weighted avg       0.86      0.85      0.85       150\n",
      "\n"
     ]
    },
    {
     "data": {
      "image/png": "[encoded data removed]",
      "text/plain": [
       "<Figure size 432x288 with 1 Axes>"
      ]
     },
     "metadata": {
      "needs_background": "light"
     },
     "output_type": "display_data"
    }
   ],
   "source": [
    "scores['AdaBoost'] = check_model_perf(AdaBoostClassifier(n_estimators = 100, learning_rate=0.9), X_train, y_train, X_test, y_test)"
   ]
  },
  {
   "cell_type": "code",
   "execution_count": 40,
   "metadata": {
    "ExecuteTime": {
     "end_time": "2020-06-20T16:52:46.473920Z",
     "start_time": "2020-06-20T16:52:46.463425Z"
    }
   },
   "outputs": [
    {
     "data": {
      "text/html": [
       "<div>\n",
       "<style scoped>\n",
       "    .dataframe tbody tr th:only-of-type {\n",
       "        vertical-align: middle;\n",
       "    }\n",
       "\n",
       "    .dataframe tbody tr th {\n",
       "        vertical-align: top;\n",
       "    }\n",
       "\n",
       "    .dataframe thead th {\n",
       "        text-align: right;\n",
       "    }\n",
       "</style>\n",
       "<table border=\"1\" class=\"dataframe\">\n",
       "  <thead>\n",
       "    <tr style=\"text-align: right;\">\n",
       "      <th></th>\n",
       "      <th>AUC Score</th>\n",
       "    </tr>\n",
       "  </thead>\n",
       "  <tbody>\n",
       "    <tr>\n",
       "      <th>AdaBoost</th>\n",
       "      <td>0.756944</td>\n",
       "    </tr>\n",
       "    <tr>\n",
       "      <th>Random Forest</th>\n",
       "      <td>0.629960</td>\n",
       "    </tr>\n",
       "    <tr>\n",
       "      <th>Decision Tree</th>\n",
       "      <td>0.562500</td>\n",
       "    </tr>\n",
       "  </tbody>\n",
       "</table>\n",
       "</div>"
      ],
      "text/plain": [
       "               AUC Score\n",
       "AdaBoost        0.756944\n",
       "Random Forest   0.629960\n",
       "Decision Tree   0.562500"
      ]
     },
     "execution_count": 40,
     "metadata": {},
     "output_type": "execute_result"
    }
   ],
   "source": [
    "pd.DataFrame.from_dict(scores, orient='index', columns=['AUC Score']).sort_values(by=['AUC Score'], ascending=False)"
   ]
  },
  {
   "cell_type": "markdown",
   "metadata": {},
   "source": [
    "### Models_for_submission"
   ]
  },
  {
   "cell_type": "code",
   "execution_count": 42,
   "metadata": {
    "ExecuteTime": {
     "end_time": "2020-06-20T16:53:14.543262Z",
     "start_time": "2020-06-20T16:53:14.394806Z"
    }
   },
   "outputs": [
    {
     "name": "stdout",
     "output_type": "stream",
     "text": [
      "mkdir: models: File exists\r\n"
     ]
    }
   ],
   "source": [
    "!mkdir models"
   ]
  },
  {
   "cell_type": "markdown",
   "metadata": {},
   "source": [
    "RandomForest"
   ]
  },
  {
   "cell_type": "code",
   "execution_count": 48,
   "metadata": {
    "ExecuteTime": {
     "end_time": "2020-06-20T16:56:02.689275Z",
     "start_time": "2020-06-20T16:56:00.850288Z"
    }
   },
   "outputs": [],
   "source": [
    "model = RandomForestClassifier(max_features=0.6, n_estimators = 600, oob_score = True)\n",
    "model.fit(X_train, y_train)\n",
    "pkl_filename = \"models/RandomForest.pkl\"\n",
    "with open(pkl_filename, 'wb') as file:\n",
    "    pickle.dump(model, file)"
   ]
  },
  {
   "cell_type": "code",
   "execution_count": 49,
   "metadata": {
    "ExecuteTime": {
     "end_time": "2020-06-20T16:56:03.325543Z",
     "start_time": "2020-06-20T16:56:03.314390Z"
    }
   },
   "outputs": [],
   "source": [
    "model = DecisionTreeClassifier(criterion='gini', max_features = 'auto', splitter='best')\n",
    "model.fit(X_train, y_train)\n",
    "pkl_filename = \"models/DecisionTree.pkl\"\n",
    "with open(pkl_filename, 'wb') as file:\n",
    "    pickle.dump(model, file)"
   ]
  },
  {
   "cell_type": "code",
   "execution_count": 50,
   "metadata": {
    "ExecuteTime": {
     "end_time": "2020-06-20T16:56:04.537926Z",
     "start_time": "2020-06-20T16:56:04.334345Z"
    }
   },
   "outputs": [],
   "source": [
    "model = AdaBoostClassifier(n_estimators = 100, learning_rate=0.9)\n",
    "model.fit(X_train, y_train)\n",
    "pkl_filename = \"models/Adaboost.pkl\"\n",
    "with open(pkl_filename, 'wb') as file:\n",
    "    pickle.dump(model, file)"
   ]
  }
 ],
 "metadata": {
  "kernelspec": {
   "display_name": "Python 3",
   "language": "python",
   "name": "python3"
  },
  "language_info": {
   "codemirror_mode": {
    "name": "ipython",
    "version": 3
   },
   "file_extension": ".py",
   "mimetype": "text/x-python",
   "name": "python",
   "nbconvert_exporter": "python",
   "pygments_lexer": "ipython3",
   "version": "3.7.7"
  },
  "varInspector": {
   "cols": {
    "lenName": 16,
    "lenType": 16,
    "lenVar": 40
   },
   "kernels_config": {
    "python": {
     "delete_cmd_postfix": "",
     "delete_cmd_prefix": "del ",
     "library": "var_list.py",
     "varRefreshCmd": "print(var_dic_list())"
    },
    "r": {
     "delete_cmd_postfix": ") ",
     "delete_cmd_prefix": "rm(",
     "library": "var_list.r",
     "varRefreshCmd": "cat(var_dic_list()) "
    }
   },
   "types_to_exclude": [
    "module",
    "function",
    "builtin_function_or_method",
    "instance",
    "_Feature"
   ],
   "window_display": false
  }
 },
 "nbformat": 4,
 "nbformat_minor": 4
}
